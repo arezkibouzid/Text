{
 "cells": [
  {
   "cell_type": "markdown",
   "metadata": {},
   "source": [
    "## Text project"
   ]
  },
  {
   "cell_type": "code",
   "execution_count": 1,
   "metadata": {},
   "outputs": [],
   "source": [
    "#Import libraries\n",
    "import pandas as pd\n",
    "import numpy as np\n",
    "import os\n",
    "import seaborn as sns\n",
    "import matplotlib.pyplot as plt\n",
    "from sklearn.feature_extraction.text import CountVectorizer\n",
    "import nltk \n",
    "import string\n",
    "import re\n",
    "%matplotlib inline\n",
    "pd.set_option('display.max_colwidth', 100)"
   ]
  },
  {
   "cell_type": "code",
   "execution_count": 2,
   "metadata": {},
   "outputs": [],
   "source": [
    "#Load dataset\n",
    "def load_data():\n",
    "    data = pd.read_csv('./data/Tweets.csv')\n",
    "    return data"
   ]
  },
  {
   "cell_type": "code",
   "execution_count": 3,
   "metadata": {},
   "outputs": [
    {
     "data": {
      "text/html": [
       "<div>\n",
       "<style scoped>\n",
       "    .dataframe tbody tr th:only-of-type {\n",
       "        vertical-align: middle;\n",
       "    }\n",
       "\n",
       "    .dataframe tbody tr th {\n",
       "        vertical-align: top;\n",
       "    }\n",
       "\n",
       "    .dataframe thead th {\n",
       "        text-align: right;\n",
       "    }\n",
       "</style>\n",
       "<table border=\"1\" class=\"dataframe\">\n",
       "  <thead>\n",
       "    <tr style=\"text-align: right;\">\n",
       "      <th></th>\n",
       "      <th>tweet_id</th>\n",
       "      <th>airline_sentiment</th>\n",
       "      <th>airline_sentiment_confidence</th>\n",
       "      <th>negativereason</th>\n",
       "      <th>negativereason_confidence</th>\n",
       "      <th>airline</th>\n",
       "      <th>airline_sentiment_gold</th>\n",
       "      <th>name</th>\n",
       "      <th>negativereason_gold</th>\n",
       "      <th>retweet_count</th>\n",
       "      <th>text</th>\n",
       "      <th>tweet_coord</th>\n",
       "      <th>tweet_created</th>\n",
       "      <th>tweet_location</th>\n",
       "      <th>user_timezone</th>\n",
       "    </tr>\n",
       "  </thead>\n",
       "  <tbody>\n",
       "    <tr>\n",
       "      <th>0</th>\n",
       "      <td>570306133677760513</td>\n",
       "      <td>neutral</td>\n",
       "      <td>1.0000</td>\n",
       "      <td>NaN</td>\n",
       "      <td>NaN</td>\n",
       "      <td>Virgin America</td>\n",
       "      <td>NaN</td>\n",
       "      <td>cairdin</td>\n",
       "      <td>NaN</td>\n",
       "      <td>0</td>\n",
       "      <td>@VirginAmerica What @dhepburn said.</td>\n",
       "      <td>NaN</td>\n",
       "      <td>2015-02-24 11:35:52 -0800</td>\n",
       "      <td>NaN</td>\n",
       "      <td>Eastern Time (US &amp; Canada)</td>\n",
       "    </tr>\n",
       "    <tr>\n",
       "      <th>1</th>\n",
       "      <td>570301130888122368</td>\n",
       "      <td>positive</td>\n",
       "      <td>0.3486</td>\n",
       "      <td>NaN</td>\n",
       "      <td>0.0000</td>\n",
       "      <td>Virgin America</td>\n",
       "      <td>NaN</td>\n",
       "      <td>jnardino</td>\n",
       "      <td>NaN</td>\n",
       "      <td>0</td>\n",
       "      <td>@VirginAmerica plus you've added commercials to the experience... tacky.</td>\n",
       "      <td>NaN</td>\n",
       "      <td>2015-02-24 11:15:59 -0800</td>\n",
       "      <td>NaN</td>\n",
       "      <td>Pacific Time (US &amp; Canada)</td>\n",
       "    </tr>\n",
       "    <tr>\n",
       "      <th>2</th>\n",
       "      <td>570301083672813571</td>\n",
       "      <td>neutral</td>\n",
       "      <td>0.6837</td>\n",
       "      <td>NaN</td>\n",
       "      <td>NaN</td>\n",
       "      <td>Virgin America</td>\n",
       "      <td>NaN</td>\n",
       "      <td>yvonnalynn</td>\n",
       "      <td>NaN</td>\n",
       "      <td>0</td>\n",
       "      <td>@VirginAmerica I didn't today... Must mean I need to take another trip!</td>\n",
       "      <td>NaN</td>\n",
       "      <td>2015-02-24 11:15:48 -0800</td>\n",
       "      <td>Lets Play</td>\n",
       "      <td>Central Time (US &amp; Canada)</td>\n",
       "    </tr>\n",
       "    <tr>\n",
       "      <th>3</th>\n",
       "      <td>570301031407624196</td>\n",
       "      <td>negative</td>\n",
       "      <td>1.0000</td>\n",
       "      <td>Bad Flight</td>\n",
       "      <td>0.7033</td>\n",
       "      <td>Virgin America</td>\n",
       "      <td>NaN</td>\n",
       "      <td>jnardino</td>\n",
       "      <td>NaN</td>\n",
       "      <td>0</td>\n",
       "      <td>@VirginAmerica it's really aggressive to blast obnoxious \"entertainment\" in your guests' faces &amp;...</td>\n",
       "      <td>NaN</td>\n",
       "      <td>2015-02-24 11:15:36 -0800</td>\n",
       "      <td>NaN</td>\n",
       "      <td>Pacific Time (US &amp; Canada)</td>\n",
       "    </tr>\n",
       "    <tr>\n",
       "      <th>4</th>\n",
       "      <td>570300817074462722</td>\n",
       "      <td>negative</td>\n",
       "      <td>1.0000</td>\n",
       "      <td>Can't Tell</td>\n",
       "      <td>1.0000</td>\n",
       "      <td>Virgin America</td>\n",
       "      <td>NaN</td>\n",
       "      <td>jnardino</td>\n",
       "      <td>NaN</td>\n",
       "      <td>0</td>\n",
       "      <td>@VirginAmerica and it's a really big bad thing about it</td>\n",
       "      <td>NaN</td>\n",
       "      <td>2015-02-24 11:14:45 -0800</td>\n",
       "      <td>NaN</td>\n",
       "      <td>Pacific Time (US &amp; Canada)</td>\n",
       "    </tr>\n",
       "  </tbody>\n",
       "</table>\n",
       "</div>"
      ],
      "text/plain": [
       "             tweet_id airline_sentiment  airline_sentiment_confidence  \\\n",
       "0  570306133677760513           neutral                        1.0000   \n",
       "1  570301130888122368          positive                        0.3486   \n",
       "2  570301083672813571           neutral                        0.6837   \n",
       "3  570301031407624196          negative                        1.0000   \n",
       "4  570300817074462722          negative                        1.0000   \n",
       "\n",
       "  negativereason  negativereason_confidence         airline  \\\n",
       "0            NaN                        NaN  Virgin America   \n",
       "1            NaN                     0.0000  Virgin America   \n",
       "2            NaN                        NaN  Virgin America   \n",
       "3     Bad Flight                     0.7033  Virgin America   \n",
       "4     Can't Tell                     1.0000  Virgin America   \n",
       "\n",
       "  airline_sentiment_gold        name negativereason_gold  retweet_count  \\\n",
       "0                    NaN     cairdin                 NaN              0   \n",
       "1                    NaN    jnardino                 NaN              0   \n",
       "2                    NaN  yvonnalynn                 NaN              0   \n",
       "3                    NaN    jnardino                 NaN              0   \n",
       "4                    NaN    jnardino                 NaN              0   \n",
       "\n",
       "                                                                                                  text  \\\n",
       "0                                                                  @VirginAmerica What @dhepburn said.   \n",
       "1                             @VirginAmerica plus you've added commercials to the experience... tacky.   \n",
       "2                              @VirginAmerica I didn't today... Must mean I need to take another trip!   \n",
       "3  @VirginAmerica it's really aggressive to blast obnoxious \"entertainment\" in your guests' faces &...   \n",
       "4                                              @VirginAmerica and it's a really big bad thing about it   \n",
       "\n",
       "  tweet_coord              tweet_created tweet_location  \\\n",
       "0         NaN  2015-02-24 11:35:52 -0800            NaN   \n",
       "1         NaN  2015-02-24 11:15:59 -0800            NaN   \n",
       "2         NaN  2015-02-24 11:15:48 -0800      Lets Play   \n",
       "3         NaN  2015-02-24 11:15:36 -0800            NaN   \n",
       "4         NaN  2015-02-24 11:14:45 -0800            NaN   \n",
       "\n",
       "                user_timezone  \n",
       "0  Eastern Time (US & Canada)  \n",
       "1  Pacific Time (US & Canada)  \n",
       "2  Central Time (US & Canada)  \n",
       "3  Pacific Time (US & Canada)  \n",
       "4  Pacific Time (US & Canada)  "
      ]
     },
     "execution_count": 3,
     "metadata": {},
     "output_type": "execute_result"
    }
   ],
   "source": [
    "tweet_df = load_data()\n",
    "tweet_df.head()"
   ]
  },
  {
   "cell_type": "code",
   "execution_count": 4,
   "metadata": {},
   "outputs": [
    {
     "name": "stdout",
     "output_type": "stream",
     "text": [
      "Dataset size: (14640, 15)\n",
      "Columns are: Index(['tweet_id', 'airline_sentiment', 'airline_sentiment_confidence',\n",
      "       'negativereason', 'negativereason_confidence', 'airline',\n",
      "       'airline_sentiment_gold', 'name', 'negativereason_gold',\n",
      "       'retweet_count', 'text', 'tweet_coord', 'tweet_created',\n",
      "       'tweet_location', 'user_timezone'],\n",
      "      dtype='object')\n",
      "<class 'pandas.core.frame.DataFrame'>\n",
      "RangeIndex: 14640 entries, 0 to 14639\n",
      "Data columns (total 15 columns):\n",
      "tweet_id                        14640 non-null int64\n",
      "airline_sentiment               14640 non-null object\n",
      "airline_sentiment_confidence    14640 non-null float64\n",
      "negativereason                  9178 non-null object\n",
      "negativereason_confidence       10522 non-null float64\n",
      "airline                         14640 non-null object\n",
      "airline_sentiment_gold          40 non-null object\n",
      "name                            14640 non-null object\n",
      "negativereason_gold             32 non-null object\n",
      "retweet_count                   14640 non-null int64\n",
      "text                            14640 non-null object\n",
      "tweet_coord                     1019 non-null object\n",
      "tweet_created                   14640 non-null object\n",
      "tweet_location                  9907 non-null object\n",
      "user_timezone                   9820 non-null object\n",
      "dtypes: float64(2), int64(2), object(11)\n",
      "memory usage: 1.7+ MB\n"
     ]
    }
   ],
   "source": [
    "print('Dataset size:',tweet_df.shape)\n",
    "print('Columns are:',tweet_df.columns)\n",
    "tweet_df.info()"
   ]
  },
  {
   "cell_type": "markdown",
   "metadata": {},
   "source": [
    "## Step 1 : take \"text\" column"
   ]
  },
  {
   "cell_type": "code",
   "execution_count": 7,
   "metadata": {},
   "outputs": [
    {
     "data": {
      "text/plain": [
       "0                                                                    @VirginAmerica What @dhepburn said.\n",
       "1                               @VirginAmerica plus you've added commercials to the experience... tacky.\n",
       "2                                @VirginAmerica I didn't today... Must mean I need to take another trip!\n",
       "3    @VirginAmerica it's really aggressive to blast obnoxious \"entertainment\" in your guests' faces &...\n",
       "4                                                @VirginAmerica and it's a really big bad thing about it\n",
       "Name: text, dtype: object"
      ]
     },
     "execution_count": 7,
     "metadata": {},
     "output_type": "execute_result"
    }
   ],
   "source": [
    "tweet_df_minus = tweet_df['text']\n",
    "tweet_df_minus[:5]"
   ]
  },
  {
   "cell_type": "markdown",
   "metadata": {},
   "source": [
    "\n",
    "## Step 2: Data Preprocessing\n",
    "\n",
    "We will perform the following steps: \n",
    "\n",
    "1. **Tokenization** : Split the text into sentences and the sentences into words. Lowercase the words and remove punctuation.\n",
    "2. Words that have fewer than 3 characters are removed.\n",
    "3. All **stopwords** are removed.\n",
    "4. Words are **lemmatized** - words in third person are changed to first person and verbs in past and future tenses are changed into present.\n",
    "5. Words are **stemmed** - words are reduced to their root form.\n",
    "\n"
   ]
  },
  {
   "cell_type": "code",
   "execution_count": 8,
   "metadata": {},
   "outputs": [],
   "source": [
    "import gensim\n",
    "from gensim.utils import simple_preprocess\n",
    "from gensim.parsing.preprocessing import STOPWORDS\n",
    "from nltk.stem import WordNetLemmatizer, SnowballStemmer\n",
    "from nltk.stem.porter import *\n",
    "import numpy as np\n",
    "np.random.seed(400)"
   ]
  },
  {
   "cell_type": "code",
   "execution_count": 9,
   "metadata": {},
   "outputs": [
    {
     "name": "stderr",
     "output_type": "stream",
     "text": [
      "[nltk_data] Downloading package wordnet to\n",
      "[nltk_data]     /home/lbenboudiaf/nltk_data...\n",
      "[nltk_data]   Package wordnet is already up-to-date!\n"
     ]
    },
    {
     "data": {
      "text/plain": [
       "True"
      ]
     },
     "execution_count": 9,
     "metadata": {},
     "output_type": "execute_result"
    }
   ],
   "source": [
    "import nltk\n",
    "nltk.download('wordnet')"
   ]
  },
  {
   "cell_type": "code",
   "execution_count": 10,
   "metadata": {},
   "outputs": [],
   "source": [
    "Words_deleted_length = 3\n",
    "Lemmatized = True\n",
    "Stemmed = False\n",
    "\n",
    "import pandas as pd\n",
    "stemmer = SnowballStemmer(\"english\")\n",
    "\n",
    "'''\n",
    "Write a function to perform the pre processing steps on the entire dataset\n",
    "'''\n",
    "def lemmatize_stemming(text):\n",
    "    if(Lemmatized & Stemmed):\n",
    "        return stemmer.stem(WordNetLemmatizer().lemmatize(text, pos='v'))\n",
    "    if(Stemmed):\n",
    "        return stemmer.stem(text)\n",
    "    if(Lemmatized):\n",
    "        return WordNetLemmatizer().lemmatize(text, pos='v')\n",
    "    return text\n",
    "\n",
    "# Tokenize and lemmatize\n",
    "def preprocess(text):\n",
    "    result=[]\n",
    "    for token in gensim.utils.simple_preprocess(text) :\n",
    "        if token not in gensim.parsing.preprocessing.STOPWORDS and len(token) > Words_deleted_length:\n",
    "            result.append(lemmatize_stemming(token))\n",
    "            \n",
    "    return result"
   ]
  },
  {
   "cell_type": "code",
   "execution_count": 11,
   "metadata": {},
   "outputs": [
    {
     "name": "stdout",
     "output_type": "stream",
     "text": [
      "Size of not pre-processeded data :  14640\n",
      "Size of pre-processeded data :  14640\n",
      "\n",
      "Check data processing effect:\n",
      "@VirginAmerica plus you've added commercials to the experience... tacky.\n",
      "['virginamerica', 'plus', 'add', 'commercials', 'experience', 'tacky']\n"
     ]
    }
   ],
   "source": [
    "'''We create two lists, one for pre-processed data and an other for not pre-processed data'''\n",
    "processed_docs = []\n",
    "nan_processed_docs = []\n",
    "for doc in tweet_df_minus :\n",
    "    nan_processed_docs.append(doc)\n",
    "for doc in tweet_df_minus :\n",
    "    processed_docs.append(preprocess(doc))\n",
    "    \n",
    "\n",
    "'''They should have the same size''' \n",
    "print('Size of not pre-processeded data : ', len(nan_processed_docs))\n",
    "print('Size of pre-processeded data : ', len(processed_docs))\n",
    "print('\\nCheck data processing effect:')\n",
    "print(nan_processed_docs[1])\n",
    "print(processed_docs[1])"
   ]
  },
  {
   "cell_type": "markdown",
   "metadata": {},
   "source": [
    "## Step 3: Bag of words on the dataset\n",
    "\n",
    "Now let's create a dictionary from 'processed_docs' containing the number of times a word appears in the training set. To do that, let's pass processed_docs to gensim.corpora.Dictionary() and call it 'dictionary'.\n"
   ]
  },
  {
   "cell_type": "code",
   "execution_count": 12,
   "metadata": {},
   "outputs": [
    {
     "name": "stdout",
     "output_type": "stream",
     "text": [
      "Dictionary(9775 unique tokens: ['verizonwireless', 'ferry', 'maui', 'crâpe', 'tiredcustomer']...)\n"
     ]
    }
   ],
   "source": [
    "'''\n",
    "Create a dictionary from 'processed_docs' containing the number of times a word appears \n",
    "in the training set using gensim.corpora.Dictionary and call it 'dictionary'\n",
    "'''\n",
    "dictionary = gensim.corpora.Dictionary(processed_docs)\n",
    "print(dictionary)"
   ]
  },
  {
   "cell_type": "code",
   "execution_count": 13,
   "metadata": {},
   "outputs": [
    {
     "name": "stdout",
     "output_type": "stream",
     "text": [
      "Word_id: 1403 Word: verizonwireless\n",
      "Word_id: 4582 Word: ferry\n",
      "Word_id: 2494 Word: maui\n",
      "Word_id: 4655 Word: crâpe\n",
      "Word_id: 3894 Word: tiredcustomer\n",
      "Word_id: 1371 Word: will\n",
      "Word_id: 502 Word: priority\n",
      "Word_id: 791 Word: virginatlantic\n",
      "Word_id: 5766 Word: whoot\n",
      "Word_id: 5145 Word: qxteqzm\n"
     ]
    }
   ],
   "source": [
    "'''\n",
    "Checking dictionary created\n",
    "'''\n",
    "count = 1\n",
    "for k, v in dictionary.iteritems():\n",
    "    print('Word_id:', k ,'Word:',v)\n",
    "    count += 1\n",
    "    if count > 10:\n",
    "        break"
   ]
  },
  {
   "cell_type": "code",
   "execution_count": 14,
   "metadata": {},
   "outputs": [
    {
     "name": "stdout",
     "output_type": "stream",
     "text": [
      "The representation is a tuple : (word_id, word_frequency) for example : \n",
      "\n",
      "[['virginamerica', 'dhepburn', 'say'], ['virginamerica', 'plus', 'add', 'commercials', 'experience', 'tacky']]\n"
     ]
    },
    {
     "data": {
      "text/plain": [
       "[[(0, 1), (1, 1), (2, 1)], [(2, 1), (3, 1), (4, 1), (5, 1), (6, 1), (7, 1)]]"
      ]
     },
     "execution_count": 14,
     "metadata": {},
     "output_type": "execute_result"
    }
   ],
   "source": [
    "'''\n",
    "Create the Bag-of-words model for each document i.e. for each document we create a dictionary reporting how many\n",
    "words and how many times those words appear. Save this to 'bow_corpus'\n",
    "'''\n",
    "bow_corpus = [dictionary.doc2bow(doc) for doc in processed_docs]\n",
    "print('The representation is a tuple : (word_id, word_frequency) for example : \\n')\n",
    "print(processed_docs[:2])\n",
    "bow_corpus[:2]"
   ]
  },
  {
   "cell_type": "code",
   "execution_count": 15,
   "metadata": {},
   "outputs": [
    {
     "name": "stdout",
     "output_type": "stream",
     "text": [
      "Word 2 (\"virginamerica\") appears 1 time.\n",
      "Word 24 (\"seat\") appears 1 time.\n",
      "Word 28 (\"time\") appears 1 time.\n",
      "Word 88 (\"available\") appears 1 time.\n",
      "Word 89 (\"carriers\") appears 1 time.\n",
      "Word 90 (\"fare\") appears 1 time.\n",
      "Word 91 (\"select\") appears 1 time.\n"
     ]
    }
   ],
   "source": [
    "'''\n",
    "Preview BOW for our sample preprocessed document\n",
    "'''\n",
    "document_num = 20\n",
    "bow_doc_x = bow_corpus[document_num]\n",
    "\n",
    "for i in range(len(bow_doc_x)):\n",
    "    print(\"Word {} (\\\"{}\\\") appears {} time.\".format(bow_doc_x[i][0], \n",
    "                                                     dictionary[bow_doc_x[i][0]], \n",
    "                                                     bow_doc_x[i][1]))"
   ]
  },
  {
   "cell_type": "markdown",
   "metadata": {},
   "source": [
    "## Step 4: Running LDA using Bag of Words\n",
    "We are going for 10 topics in the document corpus.\n",
    "\n",
    "We will be running LDA using all CPU cores to parallelize and speed up model training.\n",
    "\n",
    "Some of the parameters we will be tweaking are:\n",
    "\n",
    "1. **num_topics** is the number of requested latent topics to be extracted from the training corpus.\n",
    "2. **id2word** is a mapping from word ids (integers) to words (strings). It is used to determine the vocabulary size, as well as for debugging and topic printing.\n",
    "3. **workers** is the number of extra processes to use for parallelization. Uses all available cores by default.\n",
    "4. **alpha** and **beta** are hyperparameters that affect sparsity of the document-topic (theta) and topic-word (lambda) distributions. We will let these be the default values for now(default value is 1/num_topics)\n",
    "\n",
    " **Alpha** is the per document topic distribution.\n",
    "   - *High alpha* : Every document has a mixture of all topics(documents appear similar to each other).\n",
    "   - *Low alpha* : Every document has a mixture of very few topics\n",
    "\n",
    "  **bEta** is the per topic word distribution.\n",
    "    - *High beta* : Each topic has a mixture of most words(topics appear similar to each other).\n",
    "    - *Low eta* : Each topic has a mixture of few words.\n",
    "\n",
    "5. **passes** is the number of training passes through the corpus. For example, if the training corpus has 50,000 documents, chunksize is 10,000, passes is 2, then online training is done in 10 updates:\n",
    "- documents 0-9,999\n",
    "- documents 10,000-19,999\n",
    "- documents 20,000-29,999\n",
    "- documents 30,000-39,999\n",
    "- documents 40,000-49,999\n",
    "- documents 0-9,999\n",
    "- documents 10,000-19,999\n",
    "- documents 20,000-29,999\n",
    "- documents 30,000-39,999\n",
    "- documents 40,000-49,999\n"
   ]
  },
  {
   "cell_type": "code",
   "execution_count": 18,
   "metadata": {},
   "outputs": [],
   "source": [
    "# LDA multicore \n",
    "'''\n",
    "Train your lda model using gensim.models.LdaMulticore and save it to 'lda_model'\n",
    "'''\n",
    "lda_model =  gensim.models.LdaMulticore(corpus=bow_corpus, \n",
    "                                   num_topics = ,\n",
    "                                   chunksize=100,\n",
    "                                   id2word = dictionary,                                    \n",
    "                                   passes = 10,\n",
    "                                   workers = 2)"
   ]
  },
  {
   "cell_type": "code",
   "execution_count": 19,
   "metadata": {},
   "outputs": [
    {
     "name": "stdout",
     "output_type": "stream",
     "text": [
      "Topic: 0 \n",
      "Words: 0.047*\"seat\" + 0.022*\"good\" + 0.016*\"appreciate\" + 0.015*\"hope\" + 0.013*\"class\" + 0.012*\"like\" + 0.012*\"available\" + 0.011*\"upgrade\" + 0.011*\"busy\" + 0.010*\"unacceptable\"\n",
      "\n",
      "\n",
      "Topic: 1 \n",
      "Words: 0.028*\"people\" + 0.021*\"agents\" + 0.018*\"staff\" + 0.015*\"rude\" + 0.014*\"american\" + 0.012*\"southwestair\" + 0.011*\"tweet\" + 0.011*\"delta\" + 0.011*\"point\" + 0.011*\"money\"\n",
      "\n",
      "\n",
      "Topic: 2 \n",
      "Words: 0.139*\"americanair\" + 0.073*\"flight\" + 0.049*\"usairways\" + 0.022*\"thank\" + 0.021*\"cancel\" + 0.017*\"help\" + 0.014*\"service\" + 0.013*\"hold\" + 0.013*\"wait\" + 0.013*\"hours\"\n",
      "\n",
      "\n",
      "Topic: 3 \n",
      "Words: 0.082*\"jetblue\" + 0.069*\"http\" + 0.035*\"airport\" + 0.020*\"speak\" + 0.018*\"right\" + 0.016*\"care\" + 0.010*\"airways\" + 0.009*\"load\" + 0.008*\"desk\" + 0.008*\"free\"\n",
      "\n",
      "\n",
      "Topic: 4 \n",
      "Words: 0.043*\"plane\" + 0.040*\"tell\" + 0.020*\"issue\" + 0.020*\"travel\" + 0.018*\"look\" + 0.017*\"board\" + 0.014*\"stick\" + 0.012*\"info\" + 0.011*\"land\" + 0.010*\"like\"\n",
      "\n",
      "\n"
     ]
    }
   ],
   "source": [
    "'''\n",
    "For each topic, we will explore the words occuring in that topic and its relative weight\n",
    "'''\n",
    "for idx, topic in lda_model.print_topics(-1):\n",
    "    print(\"Topic: {} \\nWords: {}\".format(idx, topic ))\n",
    "    print(\"\\n\")"
   ]
  },
  {
   "cell_type": "markdown",
   "metadata": {},
   "source": [
    "## Step 5: Testing LDA model"
   ]
  },
  {
   "cell_type": "code",
   "execution_count": 20,
   "metadata": {},
   "outputs": [
    {
     "name": "stdout",
     "output_type": "stream",
     "text": [
      "\n",
      "Coherence Score:  0.3693760436523591\n"
     ]
    }
   ],
   "source": [
    "from gensim.models import CoherenceModel\n",
    "# Compute Coherence Score\n",
    "coherence_model_lda = CoherenceModel(model=lda_model, texts=processed_docs, dictionary=dictionary, coherence='c_v')\n",
    "\n",
    "coherence_lda = coherence_model_lda.get_coherence()\n",
    "print('\\nCoherence Score: ', coherence_lda)"
   ]
  },
  {
   "cell_type": "markdown",
   "metadata": {},
   "source": [
    "Now that we have the baseline coherence score for the default LDA model, let’s perform a series of sensitivity tests to help determine the following model hyperparameters:\n",
    "\n",
    "    Number of Topics (K)\n",
    "    Dirichlet hyperparameter alpha: Document-Topic Density\n",
    "    Dirichlet hyperparameter beta: Word-Topic Density\n",
    "We’ll perform these tests in sequence, one parameter at a time by keeping others constant and run them over the two different validation corpus sets. We’ll use **C_v** as our choice of metric for performance comparison\n",
    "\n",
    "We create function ***compute_coherence_values*** and iterate it over the range of topics, alpha, and beta parameter values"
   ]
  },
  {
   "cell_type": "code",
   "execution_count": 17,
   "metadata": {},
   "outputs": [],
   "source": [
    "# supporting function\n",
    "def compute_coherence_values(corpus, dictionary, k, a, b):\n",
    "    lda_model = gensim.models.LdaMulticore(corpus=bow_corpus,\n",
    "                                           id2word=dictionary,\n",
    "                                           num_topics=10, \n",
    "                                           chunksize=100,\n",
    "                                           passes=10,\n",
    "                                           alpha=a,\n",
    "                                           eta=b,\n",
    "                                           per_word_topics=True)\n",
    "    \n",
    "    coherence_model_lda = CoherenceModel(model=lda_model, texts=processed_docs, dictionary=dictionary, coherence='c_v')\n",
    "    \n",
    "    return coherence_model_lda.get_coherence()"
   ]
  },
  {
   "cell_type": "code",
   "execution_count": 81,
   "metadata": {
    "scrolled": true
   },
   "outputs": [
    {
     "name": "stderr",
     "output_type": "stream",
     "text": [
      "\n",
      "\n",
      "  0%|          | 0/20 [00:00<?, ?it/s]\u001b[A\u001b[A\n",
      "\n",
      "  5%|▌         | 1/20 [00:42<13:18, 42.02s/it]\u001b[A\u001b[A\n",
      "\n",
      "23it [51:04, 133.25s/it]1:25<12:44, 42.48s/it]\u001b[A\u001b[A\n",
      "  0%|          | 0/20 [23:41<?, ?it/s]\n",
      "\n",
      "\n",
      " 15%|█▌        | 3/20 [02:11<12:19, 43.50s/it]\u001b[A\u001b[A\n",
      "\n",
      " 20%|██        | 4/20 [02:52<11:25, 42.82s/it]\u001b[A\u001b[A\n",
      "\n",
      " 25%|██▌       | 5/20 [03:35<10:41, 42.76s/it]\u001b[A\u001b[A\n",
      "\n",
      " 30%|███       | 6/20 [04:14<09:43, 41.69s/it]\u001b[A\u001b[A\n",
      "\n",
      " 35%|███▌      | 7/20 [05:04<09:35, 44.23s/it]\u001b[A\u001b[A\n",
      "\n",
      " 40%|████      | 8/20 [05:49<08:52, 44.38s/it]\u001b[A\u001b[A\n",
      "\n",
      " 45%|████▌     | 9/20 [06:28<07:50, 42.81s/it]\u001b[A\u001b[A\n",
      "\n",
      " 50%|█████     | 10/20 [07:12<07:12, 43.29s/it]\u001b[A\u001b[A\n",
      "\n",
      " 55%|█████▌    | 11/20 [07:59<06:37, 44.16s/it]\u001b[A\u001b[A\n",
      "\n",
      " 60%|██████    | 12/20 [08:45<05:59, 44.96s/it]\u001b[A\u001b[A\n",
      "\n",
      " 65%|██████▌   | 13/20 [09:22<04:56, 42.29s/it]\u001b[A\u001b[A\n",
      "\n",
      " 70%|███████   | 14/20 [10:01<04:08, 41.34s/it]\u001b[A\u001b[A\n",
      "\n",
      " 75%|███████▌  | 15/20 [10:45<03:31, 42.36s/it]\u001b[A\u001b[A\n",
      "\n",
      " 80%|████████  | 16/20 [11:32<02:54, 43.52s/it]\u001b[A\u001b[A\n",
      "\n",
      " 85%|████████▌ | 17/20 [12:25<02:19, 46.60s/it]\u001b[A\u001b[A\n",
      "\n",
      " 90%|█████████ | 18/20 [13:06<01:29, 44.80s/it]\u001b[A\u001b[A\n",
      "\n",
      " 95%|█████████▌| 19/20 [13:34<00:39, 39.89s/it]\u001b[A\u001b[A\n",
      "\n",
      "100%|██████████| 20/20 [14:03<00:00, 36.55s/it]\u001b[A\u001b[A\n",
      "\n",
      "21it [14:33, 34.43s/it]                        \u001b[A\u001b[A\n",
      "\n",
      "22it [15:09, 34.96s/it]\u001b[A\u001b[A\n",
      "\n",
      "23it [15:42, 34.50s/it]\u001b[A\u001b[A\n",
      "\n",
      "24it [16:12, 33.11s/it]\u001b[A\u001b[A\n",
      "\n",
      "25it [16:42, 31.99s/it]\u001b[A\u001b[A\n",
      "\n",
      "26it [17:10, 30.86s/it]\u001b[A\u001b[A\n",
      "\n",
      "27it [17:40, 30.58s/it]\u001b[A\u001b[A\n",
      "\n",
      "28it [18:11, 30.79s/it]\u001b[A\u001b[A\n",
      "\n",
      "29it [18:42, 30.97s/it]\u001b[A\u001b[A\n",
      "\n",
      "30it [19:12, 30.43s/it]\u001b[A\u001b[A\n",
      "\n",
      "31it [19:44, 31.11s/it]\u001b[A\u001b[A\n",
      "\n",
      "32it [20:17, 31.73s/it]\u001b[A\u001b[A\n",
      "\n",
      "33it [20:50, 32.12s/it]\u001b[A\u001b[A\n",
      "\n",
      "34it [21:22, 31.83s/it]\u001b[A\u001b[A\n",
      "\n",
      "35it [21:56, 32.72s/it]\u001b[A\u001b[A\n",
      "\n",
      "36it [22:29, 32.80s/it]\u001b[A\u001b[A\n",
      "\n",
      "37it [23:02, 32.82s/it]\u001b[A\u001b[A\n",
      "\n",
      "38it [23:34, 32.54s/it]\u001b[A\u001b[A\n",
      "\n",
      "39it [24:04, 31.59s/it]\u001b[A\u001b[A\n",
      "\n",
      "40it [24:37, 32.20s/it]\u001b[A\u001b[A\n",
      "\n",
      "41it [25:06, 31.10s/it]\u001b[A\u001b[A\n",
      "\n",
      "42it [25:35, 30.68s/it]\u001b[A\u001b[A\n",
      "\n",
      "43it [26:12, 32.44s/it]\u001b[A\u001b[A\n",
      "\n",
      "44it [26:43, 32.14s/it]\u001b[A\u001b[A\n",
      "\n",
      "45it [27:12, 31.16s/it]\u001b[A\u001b[A\n",
      "\n",
      "46it [27:40, 30.04s/it]\u001b[A\u001b[A\n",
      "\n",
      "47it [28:09, 29.90s/it]\u001b[A\u001b[A\n",
      "\n",
      "48it [28:45, 31.55s/it]\u001b[A\u001b[A\n",
      "\n",
      "49it [29:29, 35.40s/it]\u001b[A\u001b[A\n",
      "\n",
      "50it [30:07, 36.05s/it]\u001b[A\u001b[A\n",
      "\n",
      "51it [30:41, 35.48s/it]\u001b[A\u001b[A\n",
      "\n",
      "52it [31:14, 34.68s/it]\u001b[A\u001b[A\n",
      "\n",
      "53it [31:47, 34.39s/it]\u001b[A\u001b[A\n",
      "\n",
      "54it [32:20, 33.82s/it]\u001b[A\u001b[A\n",
      "\n",
      "55it [32:52, 33.38s/it]\u001b[A\u001b[A\n",
      "\n",
      "56it [33:26, 33.44s/it]\u001b[A\u001b[A\n",
      "\n",
      "57it [34:01, 34.11s/it]\u001b[A\u001b[A\n",
      "\n",
      "58it [34:37, 34.49s/it]\u001b[A\u001b[A\n",
      "\n",
      "59it [35:08, 33.43s/it]\u001b[A\u001b[A\n",
      "\n",
      "60it [35:37, 32.26s/it]\u001b[A\u001b[A\n",
      "\n",
      "61it [36:08, 31.68s/it]\u001b[A\u001b[A\n",
      "\n",
      "62it [36:39, 31.73s/it]\u001b[A\u001b[A\n",
      "\n",
      "63it [37:10, 31.48s/it]\u001b[A\u001b[A\n",
      "\n",
      "64it [37:48, 33.49s/it]\u001b[A\u001b[A\n",
      "\n",
      "65it [38:21, 33.27s/it]\u001b[A\u001b[A\n",
      "\n",
      "66it [38:53, 32.76s/it]\u001b[A\u001b[A\n",
      "\n",
      "67it [39:19, 30.93s/it]\u001b[A\u001b[A\n",
      "\n",
      "68it [39:49, 30.38s/it]\u001b[A\u001b[A\n",
      "\n",
      "69it [40:22, 31.18s/it]\u001b[A\u001b[A\n",
      "\n",
      "70it [40:54, 31.44s/it]\u001b[A\u001b[A\n",
      "\n",
      "71it [41:21, 30.14s/it]\u001b[A\u001b[A\n",
      "\n",
      "72it [41:54, 30.95s/it]\u001b[A\u001b[A\n",
      "\n",
      "73it [42:23, 30.41s/it]\u001b[A\u001b[A\n",
      "\n",
      "74it [43:03, 33.40s/it]\u001b[A\u001b[A\n",
      "\n",
      "75it [43:46, 36.28s/it]\u001b[A\u001b[A\n",
      "\n",
      "76it [44:21, 35.87s/it]\u001b[A\u001b[A\n",
      "\n",
      "77it [44:59, 36.37s/it]\u001b[A\u001b[A\n",
      "\n",
      "78it [45:30, 34.92s/it]\u001b[A\u001b[A\n",
      "\n",
      "79it [46:02, 33.99s/it]\u001b[A\u001b[A\n",
      "\n",
      "80it [46:34, 33.47s/it]\u001b[A\u001b[A\n",
      "\n",
      "81it [47:05, 32.65s/it]\u001b[A\u001b[A\n",
      "\n",
      "82it [47:40, 33.26s/it]\u001b[A\u001b[A\n",
      "\n",
      "83it [48:09, 32.19s/it]\u001b[A\u001b[A\n",
      "\n",
      "84it [48:41, 31.98s/it]\u001b[A\u001b[A\n",
      "\n",
      "85it [49:11, 31.35s/it]\u001b[A\u001b[A\n",
      "\n",
      "86it [49:39, 30.52s/it]\u001b[A\u001b[A\n",
      "\n",
      "87it [50:20, 33.65s/it]\u001b[A\u001b[A\n",
      "\n",
      "88it [50:56, 34.19s/it]\u001b[A\u001b[A\n",
      "\n",
      "89it [51:29, 34.05s/it]\u001b[A\u001b[A\n",
      "\n",
      "90it [52:07, 35.06s/it]\u001b[A\u001b[A\n",
      "\n",
      "91it [52:38, 33.91s/it]\u001b[A\u001b[A\n",
      "\n",
      "92it [53:09, 32.98s/it]\u001b[A\u001b[A\n",
      "\n",
      "93it [53:45, 33.84s/it]\u001b[A\u001b[A\n",
      "\n",
      "94it [54:20, 34.31s/it]\u001b[A\u001b[A\n",
      "\n",
      "95it [54:58, 35.41s/it]\u001b[A\u001b[A\n",
      "\n",
      "96it [55:30, 34.30s/it]\u001b[A\u001b[A\n",
      "\n",
      "97it [55:58, 32.61s/it]\u001b[A\u001b[A\n",
      "\n",
      "98it [56:29, 32.09s/it]\u001b[A\u001b[A\n",
      "\n",
      "99it [57:01, 31.87s/it]\u001b[A\u001b[A\n",
      "\n",
      "100it [57:31, 31.34s/it]\u001b[A\u001b[A\n",
      "\n",
      "101it [58:02, 31.35s/it]\u001b[A\u001b[A\n",
      "\n",
      "102it [58:30, 30.22s/it]\u001b[A\u001b[A\n",
      "\n",
      "103it [58:57, 29.34s/it]\u001b[A\u001b[A\n",
      "\n",
      "104it [59:28, 29.82s/it]\u001b[A\u001b[A\n",
      "\n",
      "105it [1:00:00, 30.51s/it]\u001b[A\u001b[A\n",
      "\n",
      "106it [1:00:30, 30.35s/it]\u001b[A\u001b[A\n",
      "\n",
      "107it [1:01:00, 30.32s/it]\u001b[A\u001b[A\n",
      "\n",
      "108it [1:01:29, 29.71s/it]\u001b[A\u001b[A\n",
      "\n",
      "109it [1:01:55, 28.71s/it]\u001b[A\u001b[A\n",
      "\n",
      "110it [1:02:25, 29.26s/it]\u001b[A\u001b[A\n",
      "\n",
      "111it [1:02:53, 28.75s/it]\u001b[A\u001b[A"
     ]
    },
    {
     "ename": "OSError",
     "evalue": "[Errno 12] Cannot allocate memory",
     "output_type": "error",
     "traceback": [
      "\u001b[0;31m---------------------------------------------------------------------------\u001b[0m",
      "\u001b[0;31mOSError\u001b[0m                                   Traceback (most recent call last)",
      "\u001b[0;32m<ipython-input-81-a5d186629d04>\u001b[0m in \u001b[0;36m<module>\u001b[0;34m\u001b[0m\n\u001b[1;32m     45\u001b[0m                     \u001b[0;31m# get the coherence score for the given parameters\u001b[0m\u001b[0;34m\u001b[0m\u001b[0;34m\u001b[0m\u001b[0m\n\u001b[1;32m     46\u001b[0m                     cv = compute_coherence_values(corpus=corpus_sets[i], dictionary=dictionary, \n\u001b[0;32m---> 47\u001b[0;31m                                                   k=k, a=a, b=b)\n\u001b[0m\u001b[1;32m     48\u001b[0m                     \u001b[0;31m# Save the model results\u001b[0m\u001b[0;34m\u001b[0m\u001b[0;34m\u001b[0m\u001b[0m\n\u001b[1;32m     49\u001b[0m                     \u001b[0mmodel_results\u001b[0m\u001b[0;34m[\u001b[0m\u001b[0;34m'Validation_Set'\u001b[0m\u001b[0;34m]\u001b[0m\u001b[0;34m.\u001b[0m\u001b[0mappend\u001b[0m\u001b[0;34m(\u001b[0m\u001b[0mcorpus_title\u001b[0m\u001b[0;34m[\u001b[0m\u001b[0mi\u001b[0m\u001b[0;34m]\u001b[0m\u001b[0;34m)\u001b[0m\u001b[0;34m\u001b[0m\u001b[0m\n",
      "\u001b[0;32m<ipython-input-42-660c2b392269>\u001b[0m in \u001b[0;36mcompute_coherence_values\u001b[0;34m(corpus, dictionary, k, a, b)\u001b[0m\n\u001b[1;32m     13\u001b[0m     \u001b[0mcoherence_model_lda\u001b[0m \u001b[0;34m=\u001b[0m \u001b[0mCoherenceModel\u001b[0m\u001b[0;34m(\u001b[0m\u001b[0mmodel\u001b[0m\u001b[0;34m=\u001b[0m\u001b[0mlda_model\u001b[0m\u001b[0;34m,\u001b[0m \u001b[0mtexts\u001b[0m\u001b[0;34m=\u001b[0m\u001b[0mprocessed_docs\u001b[0m\u001b[0;34m,\u001b[0m \u001b[0mdictionary\u001b[0m\u001b[0;34m=\u001b[0m\u001b[0mdictionary\u001b[0m\u001b[0;34m,\u001b[0m \u001b[0mcoherence\u001b[0m\u001b[0;34m=\u001b[0m\u001b[0;34m'c_v'\u001b[0m\u001b[0;34m)\u001b[0m\u001b[0;34m\u001b[0m\u001b[0m\n\u001b[1;32m     14\u001b[0m \u001b[0;34m\u001b[0m\u001b[0m\n\u001b[0;32m---> 15\u001b[0;31m     \u001b[0;32mreturn\u001b[0m \u001b[0mcoherence_model_lda\u001b[0m\u001b[0;34m.\u001b[0m\u001b[0mget_coherence\u001b[0m\u001b[0;34m(\u001b[0m\u001b[0;34m)\u001b[0m\u001b[0;34m\u001b[0m\u001b[0m\n\u001b[0m",
      "\u001b[0;32m/usr/local/lib/python3.5/dist-packages/gensim/models/coherencemodel.py\u001b[0m in \u001b[0;36mget_coherence\u001b[0;34m(self)\u001b[0m\n\u001b[1;32m    607\u001b[0m \u001b[0;34m\u001b[0m\u001b[0m\n\u001b[1;32m    608\u001b[0m         \"\"\"\n\u001b[0;32m--> 609\u001b[0;31m         \u001b[0mconfirmed_measures\u001b[0m \u001b[0;34m=\u001b[0m \u001b[0mself\u001b[0m\u001b[0;34m.\u001b[0m\u001b[0mget_coherence_per_topic\u001b[0m\u001b[0;34m(\u001b[0m\u001b[0;34m)\u001b[0m\u001b[0;34m\u001b[0m\u001b[0m\n\u001b[0m\u001b[1;32m    610\u001b[0m         \u001b[0;32mreturn\u001b[0m \u001b[0mself\u001b[0m\u001b[0;34m.\u001b[0m\u001b[0maggregate_measures\u001b[0m\u001b[0;34m(\u001b[0m\u001b[0mconfirmed_measures\u001b[0m\u001b[0;34m)\u001b[0m\u001b[0;34m\u001b[0m\u001b[0m\n\u001b[1;32m    611\u001b[0m \u001b[0;34m\u001b[0m\u001b[0m\n",
      "\u001b[0;32m/usr/local/lib/python3.5/dist-packages/gensim/models/coherencemodel.py\u001b[0m in \u001b[0;36mget_coherence_per_topic\u001b[0;34m(self, segmented_topics, with_std, with_support)\u001b[0m\n\u001b[1;32m    567\u001b[0m             \u001b[0msegmented_topics\u001b[0m \u001b[0;34m=\u001b[0m \u001b[0mmeasure\u001b[0m\u001b[0;34m.\u001b[0m\u001b[0mseg\u001b[0m\u001b[0;34m(\u001b[0m\u001b[0mself\u001b[0m\u001b[0;34m.\u001b[0m\u001b[0mtopics\u001b[0m\u001b[0;34m)\u001b[0m\u001b[0;34m\u001b[0m\u001b[0m\n\u001b[1;32m    568\u001b[0m         \u001b[0;32mif\u001b[0m \u001b[0mself\u001b[0m\u001b[0;34m.\u001b[0m\u001b[0m_accumulator\u001b[0m \u001b[0;32mis\u001b[0m \u001b[0;32mNone\u001b[0m\u001b[0;34m:\u001b[0m\u001b[0;34m\u001b[0m\u001b[0m\n\u001b[0;32m--> 569\u001b[0;31m             \u001b[0mself\u001b[0m\u001b[0;34m.\u001b[0m\u001b[0mestimate_probabilities\u001b[0m\u001b[0;34m(\u001b[0m\u001b[0msegmented_topics\u001b[0m\u001b[0;34m)\u001b[0m\u001b[0;34m\u001b[0m\u001b[0m\n\u001b[0m\u001b[1;32m    570\u001b[0m \u001b[0;34m\u001b[0m\u001b[0m\n\u001b[1;32m    571\u001b[0m         \u001b[0mkwargs\u001b[0m \u001b[0;34m=\u001b[0m \u001b[0mdict\u001b[0m\u001b[0;34m(\u001b[0m\u001b[0mwith_std\u001b[0m\u001b[0;34m=\u001b[0m\u001b[0mwith_std\u001b[0m\u001b[0;34m,\u001b[0m \u001b[0mwith_support\u001b[0m\u001b[0;34m=\u001b[0m\u001b[0mwith_support\u001b[0m\u001b[0;34m)\u001b[0m\u001b[0;34m\u001b[0m\u001b[0m\n",
      "\u001b[0;32m/usr/local/lib/python3.5/dist-packages/gensim/models/coherencemodel.py\u001b[0m in \u001b[0;36mestimate_probabilities\u001b[0;34m(self, segmented_topics)\u001b[0m\n\u001b[1;32m    539\u001b[0m                 \u001b[0mkwargs\u001b[0m\u001b[0;34m[\u001b[0m\u001b[0;34m'model'\u001b[0m\u001b[0;34m]\u001b[0m \u001b[0;34m=\u001b[0m \u001b[0mself\u001b[0m\u001b[0;34m.\u001b[0m\u001b[0mkeyed_vectors\u001b[0m\u001b[0;34m\u001b[0m\u001b[0m\n\u001b[1;32m    540\u001b[0m \u001b[0;34m\u001b[0m\u001b[0m\n\u001b[0;32m--> 541\u001b[0;31m             \u001b[0mself\u001b[0m\u001b[0;34m.\u001b[0m\u001b[0m_accumulator\u001b[0m \u001b[0;34m=\u001b[0m \u001b[0mself\u001b[0m\u001b[0;34m.\u001b[0m\u001b[0mmeasure\u001b[0m\u001b[0;34m.\u001b[0m\u001b[0mprob\u001b[0m\u001b[0;34m(\u001b[0m\u001b[0;34m**\u001b[0m\u001b[0mkwargs\u001b[0m\u001b[0;34m)\u001b[0m\u001b[0;34m\u001b[0m\u001b[0m\n\u001b[0m\u001b[1;32m    542\u001b[0m \u001b[0;34m\u001b[0m\u001b[0m\n\u001b[1;32m    543\u001b[0m         \u001b[0;32mreturn\u001b[0m \u001b[0mself\u001b[0m\u001b[0;34m.\u001b[0m\u001b[0m_accumulator\u001b[0m\u001b[0;34m\u001b[0m\u001b[0m\n",
      "\u001b[0;32m/usr/local/lib/python3.5/dist-packages/gensim/topic_coherence/probability_estimation.py\u001b[0m in \u001b[0;36mp_boolean_sliding_window\u001b[0;34m(texts, segmented_topics, dictionary, window_size, processes)\u001b[0m\n\u001b[1;32m    154\u001b[0m         \u001b[0maccumulator\u001b[0m \u001b[0;34m=\u001b[0m \u001b[0mParallelWordOccurrenceAccumulator\u001b[0m\u001b[0;34m(\u001b[0m\u001b[0mprocesses\u001b[0m\u001b[0;34m,\u001b[0m \u001b[0mtop_ids\u001b[0m\u001b[0;34m,\u001b[0m \u001b[0mdictionary\u001b[0m\u001b[0;34m)\u001b[0m\u001b[0;34m\u001b[0m\u001b[0m\n\u001b[1;32m    155\u001b[0m     \u001b[0mlogger\u001b[0m\u001b[0;34m.\u001b[0m\u001b[0minfo\u001b[0m\u001b[0;34m(\u001b[0m\u001b[0;34m\"using %s to estimate probabilities from sliding windows\"\u001b[0m\u001b[0;34m,\u001b[0m \u001b[0maccumulator\u001b[0m\u001b[0;34m)\u001b[0m\u001b[0;34m\u001b[0m\u001b[0m\n\u001b[0;32m--> 156\u001b[0;31m     \u001b[0;32mreturn\u001b[0m \u001b[0maccumulator\u001b[0m\u001b[0;34m.\u001b[0m\u001b[0maccumulate\u001b[0m\u001b[0;34m(\u001b[0m\u001b[0mtexts\u001b[0m\u001b[0;34m,\u001b[0m \u001b[0mwindow_size\u001b[0m\u001b[0;34m)\u001b[0m\u001b[0;34m\u001b[0m\u001b[0m\n\u001b[0m\u001b[1;32m    157\u001b[0m \u001b[0;34m\u001b[0m\u001b[0m\n\u001b[1;32m    158\u001b[0m \u001b[0;34m\u001b[0m\u001b[0m\n",
      "\u001b[0;32m/usr/local/lib/python3.5/dist-packages/gensim/topic_coherence/text_analysis.py\u001b[0m in \u001b[0;36maccumulate\u001b[0;34m(self, texts, window_size)\u001b[0m\n\u001b[1;32m    442\u001b[0m \u001b[0;34m\u001b[0m\u001b[0m\n\u001b[1;32m    443\u001b[0m     \u001b[0;32mdef\u001b[0m \u001b[0maccumulate\u001b[0m\u001b[0;34m(\u001b[0m\u001b[0mself\u001b[0m\u001b[0;34m,\u001b[0m \u001b[0mtexts\u001b[0m\u001b[0;34m,\u001b[0m \u001b[0mwindow_size\u001b[0m\u001b[0;34m)\u001b[0m\u001b[0;34m:\u001b[0m\u001b[0;34m\u001b[0m\u001b[0m\n\u001b[0;32m--> 444\u001b[0;31m         \u001b[0mworkers\u001b[0m\u001b[0;34m,\u001b[0m \u001b[0minput_q\u001b[0m\u001b[0;34m,\u001b[0m \u001b[0moutput_q\u001b[0m \u001b[0;34m=\u001b[0m \u001b[0mself\u001b[0m\u001b[0;34m.\u001b[0m\u001b[0mstart_workers\u001b[0m\u001b[0;34m(\u001b[0m\u001b[0mwindow_size\u001b[0m\u001b[0;34m)\u001b[0m\u001b[0;34m\u001b[0m\u001b[0m\n\u001b[0m\u001b[1;32m    445\u001b[0m         \u001b[0;32mtry\u001b[0m\u001b[0;34m:\u001b[0m\u001b[0;34m\u001b[0m\u001b[0m\n\u001b[1;32m    446\u001b[0m             \u001b[0mself\u001b[0m\u001b[0;34m.\u001b[0m\u001b[0mqueue_all_texts\u001b[0m\u001b[0;34m(\u001b[0m\u001b[0minput_q\u001b[0m\u001b[0;34m,\u001b[0m \u001b[0mtexts\u001b[0m\u001b[0;34m,\u001b[0m \u001b[0mwindow_size\u001b[0m\u001b[0;34m)\u001b[0m\u001b[0;34m\u001b[0m\u001b[0m\n",
      "\u001b[0;32m/usr/local/lib/python3.5/dist-packages/gensim/topic_coherence/text_analysis.py\u001b[0m in \u001b[0;36mstart_workers\u001b[0;34m(self, window_size)\u001b[0m\n\u001b[1;32m    476\u001b[0m             \u001b[0maccumulator\u001b[0m \u001b[0;34m=\u001b[0m \u001b[0mPatchedWordOccurrenceAccumulator\u001b[0m\u001b[0;34m(\u001b[0m\u001b[0mself\u001b[0m\u001b[0;34m.\u001b[0m\u001b[0mrelevant_ids\u001b[0m\u001b[0;34m,\u001b[0m \u001b[0mself\u001b[0m\u001b[0;34m.\u001b[0m\u001b[0mdictionary\u001b[0m\u001b[0;34m)\u001b[0m\u001b[0;34m\u001b[0m\u001b[0m\n\u001b[1;32m    477\u001b[0m             \u001b[0mworker\u001b[0m \u001b[0;34m=\u001b[0m \u001b[0mAccumulatingWorker\u001b[0m\u001b[0;34m(\u001b[0m\u001b[0minput_q\u001b[0m\u001b[0;34m,\u001b[0m \u001b[0moutput_q\u001b[0m\u001b[0;34m,\u001b[0m \u001b[0maccumulator\u001b[0m\u001b[0;34m,\u001b[0m \u001b[0mwindow_size\u001b[0m\u001b[0;34m)\u001b[0m\u001b[0;34m\u001b[0m\u001b[0m\n\u001b[0;32m--> 478\u001b[0;31m             \u001b[0mworker\u001b[0m\u001b[0;34m.\u001b[0m\u001b[0mstart\u001b[0m\u001b[0;34m(\u001b[0m\u001b[0;34m)\u001b[0m\u001b[0;34m\u001b[0m\u001b[0m\n\u001b[0m\u001b[1;32m    479\u001b[0m             \u001b[0mworkers\u001b[0m\u001b[0;34m.\u001b[0m\u001b[0mappend\u001b[0m\u001b[0;34m(\u001b[0m\u001b[0mworker\u001b[0m\u001b[0;34m)\u001b[0m\u001b[0;34m\u001b[0m\u001b[0m\n\u001b[1;32m    480\u001b[0m \u001b[0;34m\u001b[0m\u001b[0m\n",
      "\u001b[0;32m/usr/lib/python3.5/multiprocessing/process.py\u001b[0m in \u001b[0;36mstart\u001b[0;34m(self)\u001b[0m\n\u001b[1;32m    103\u001b[0m                \u001b[0;34m'daemonic processes are not allowed to have children'\u001b[0m\u001b[0;34m\u001b[0m\u001b[0m\n\u001b[1;32m    104\u001b[0m         \u001b[0m_cleanup\u001b[0m\u001b[0;34m(\u001b[0m\u001b[0;34m)\u001b[0m\u001b[0;34m\u001b[0m\u001b[0m\n\u001b[0;32m--> 105\u001b[0;31m         \u001b[0mself\u001b[0m\u001b[0;34m.\u001b[0m\u001b[0m_popen\u001b[0m \u001b[0;34m=\u001b[0m \u001b[0mself\u001b[0m\u001b[0;34m.\u001b[0m\u001b[0m_Popen\u001b[0m\u001b[0;34m(\u001b[0m\u001b[0mself\u001b[0m\u001b[0;34m)\u001b[0m\u001b[0;34m\u001b[0m\u001b[0m\n\u001b[0m\u001b[1;32m    106\u001b[0m         \u001b[0mself\u001b[0m\u001b[0;34m.\u001b[0m\u001b[0m_sentinel\u001b[0m \u001b[0;34m=\u001b[0m \u001b[0mself\u001b[0m\u001b[0;34m.\u001b[0m\u001b[0m_popen\u001b[0m\u001b[0;34m.\u001b[0m\u001b[0msentinel\u001b[0m\u001b[0;34m\u001b[0m\u001b[0m\n\u001b[1;32m    107\u001b[0m         \u001b[0m_children\u001b[0m\u001b[0;34m.\u001b[0m\u001b[0madd\u001b[0m\u001b[0;34m(\u001b[0m\u001b[0mself\u001b[0m\u001b[0;34m)\u001b[0m\u001b[0;34m\u001b[0m\u001b[0m\n",
      "\u001b[0;32m/usr/lib/python3.5/multiprocessing/context.py\u001b[0m in \u001b[0;36m_Popen\u001b[0;34m(process_obj)\u001b[0m\n\u001b[1;32m    210\u001b[0m     \u001b[0;34m@\u001b[0m\u001b[0mstaticmethod\u001b[0m\u001b[0;34m\u001b[0m\u001b[0m\n\u001b[1;32m    211\u001b[0m     \u001b[0;32mdef\u001b[0m \u001b[0m_Popen\u001b[0m\u001b[0;34m(\u001b[0m\u001b[0mprocess_obj\u001b[0m\u001b[0;34m)\u001b[0m\u001b[0;34m:\u001b[0m\u001b[0;34m\u001b[0m\u001b[0m\n\u001b[0;32m--> 212\u001b[0;31m         \u001b[0;32mreturn\u001b[0m \u001b[0m_default_context\u001b[0m\u001b[0;34m.\u001b[0m\u001b[0mget_context\u001b[0m\u001b[0;34m(\u001b[0m\u001b[0;34m)\u001b[0m\u001b[0;34m.\u001b[0m\u001b[0mProcess\u001b[0m\u001b[0;34m.\u001b[0m\u001b[0m_Popen\u001b[0m\u001b[0;34m(\u001b[0m\u001b[0mprocess_obj\u001b[0m\u001b[0;34m)\u001b[0m\u001b[0;34m\u001b[0m\u001b[0m\n\u001b[0m\u001b[1;32m    213\u001b[0m \u001b[0;34m\u001b[0m\u001b[0m\n\u001b[1;32m    214\u001b[0m \u001b[0;32mclass\u001b[0m \u001b[0mDefaultContext\u001b[0m\u001b[0;34m(\u001b[0m\u001b[0mBaseContext\u001b[0m\u001b[0;34m)\u001b[0m\u001b[0;34m:\u001b[0m\u001b[0;34m\u001b[0m\u001b[0m\n",
      "\u001b[0;32m/usr/lib/python3.5/multiprocessing/context.py\u001b[0m in \u001b[0;36m_Popen\u001b[0;34m(process_obj)\u001b[0m\n\u001b[1;32m    265\u001b[0m         \u001b[0;32mdef\u001b[0m \u001b[0m_Popen\u001b[0m\u001b[0;34m(\u001b[0m\u001b[0mprocess_obj\u001b[0m\u001b[0;34m)\u001b[0m\u001b[0;34m:\u001b[0m\u001b[0;34m\u001b[0m\u001b[0m\n\u001b[1;32m    266\u001b[0m             \u001b[0;32mfrom\u001b[0m \u001b[0;34m.\u001b[0m\u001b[0mpopen_fork\u001b[0m \u001b[0;32mimport\u001b[0m \u001b[0mPopen\u001b[0m\u001b[0;34m\u001b[0m\u001b[0m\n\u001b[0;32m--> 267\u001b[0;31m             \u001b[0;32mreturn\u001b[0m \u001b[0mPopen\u001b[0m\u001b[0;34m(\u001b[0m\u001b[0mprocess_obj\u001b[0m\u001b[0;34m)\u001b[0m\u001b[0;34m\u001b[0m\u001b[0m\n\u001b[0m\u001b[1;32m    268\u001b[0m \u001b[0;34m\u001b[0m\u001b[0m\n\u001b[1;32m    269\u001b[0m     \u001b[0;32mclass\u001b[0m \u001b[0mSpawnProcess\u001b[0m\u001b[0;34m(\u001b[0m\u001b[0mprocess\u001b[0m\u001b[0;34m.\u001b[0m\u001b[0mBaseProcess\u001b[0m\u001b[0;34m)\u001b[0m\u001b[0;34m:\u001b[0m\u001b[0;34m\u001b[0m\u001b[0m\n",
      "\u001b[0;32m/usr/lib/python3.5/multiprocessing/popen_fork.py\u001b[0m in \u001b[0;36m__init__\u001b[0;34m(self, process_obj)\u001b[0m\n\u001b[1;32m     18\u001b[0m         \u001b[0msys\u001b[0m\u001b[0;34m.\u001b[0m\u001b[0mstderr\u001b[0m\u001b[0;34m.\u001b[0m\u001b[0mflush\u001b[0m\u001b[0;34m(\u001b[0m\u001b[0;34m)\u001b[0m\u001b[0;34m\u001b[0m\u001b[0m\n\u001b[1;32m     19\u001b[0m         \u001b[0mself\u001b[0m\u001b[0;34m.\u001b[0m\u001b[0mreturncode\u001b[0m \u001b[0;34m=\u001b[0m \u001b[0;32mNone\u001b[0m\u001b[0;34m\u001b[0m\u001b[0m\n\u001b[0;32m---> 20\u001b[0;31m         \u001b[0mself\u001b[0m\u001b[0;34m.\u001b[0m\u001b[0m_launch\u001b[0m\u001b[0;34m(\u001b[0m\u001b[0mprocess_obj\u001b[0m\u001b[0;34m)\u001b[0m\u001b[0;34m\u001b[0m\u001b[0m\n\u001b[0m\u001b[1;32m     21\u001b[0m \u001b[0;34m\u001b[0m\u001b[0m\n\u001b[1;32m     22\u001b[0m     \u001b[0;32mdef\u001b[0m \u001b[0mduplicate_for_child\u001b[0m\u001b[0;34m(\u001b[0m\u001b[0mself\u001b[0m\u001b[0;34m,\u001b[0m \u001b[0mfd\u001b[0m\u001b[0;34m)\u001b[0m\u001b[0;34m:\u001b[0m\u001b[0;34m\u001b[0m\u001b[0m\n",
      "\u001b[0;32m/usr/lib/python3.5/multiprocessing/popen_fork.py\u001b[0m in \u001b[0;36m_launch\u001b[0;34m(self, process_obj)\u001b[0m\n\u001b[1;32m     65\u001b[0m         \u001b[0mcode\u001b[0m \u001b[0;34m=\u001b[0m \u001b[0;36m1\u001b[0m\u001b[0;34m\u001b[0m\u001b[0m\n\u001b[1;32m     66\u001b[0m         \u001b[0mparent_r\u001b[0m\u001b[0;34m,\u001b[0m \u001b[0mchild_w\u001b[0m \u001b[0;34m=\u001b[0m \u001b[0mos\u001b[0m\u001b[0;34m.\u001b[0m\u001b[0mpipe\u001b[0m\u001b[0;34m(\u001b[0m\u001b[0;34m)\u001b[0m\u001b[0;34m\u001b[0m\u001b[0m\n\u001b[0;32m---> 67\u001b[0;31m         \u001b[0mself\u001b[0m\u001b[0;34m.\u001b[0m\u001b[0mpid\u001b[0m \u001b[0;34m=\u001b[0m \u001b[0mos\u001b[0m\u001b[0;34m.\u001b[0m\u001b[0mfork\u001b[0m\u001b[0;34m(\u001b[0m\u001b[0;34m)\u001b[0m\u001b[0;34m\u001b[0m\u001b[0m\n\u001b[0m\u001b[1;32m     68\u001b[0m         \u001b[0;32mif\u001b[0m \u001b[0mself\u001b[0m\u001b[0;34m.\u001b[0m\u001b[0mpid\u001b[0m \u001b[0;34m==\u001b[0m \u001b[0;36m0\u001b[0m\u001b[0;34m:\u001b[0m\u001b[0;34m\u001b[0m\u001b[0m\n\u001b[1;32m     69\u001b[0m             \u001b[0;32mtry\u001b[0m\u001b[0;34m:\u001b[0m\u001b[0;34m\u001b[0m\u001b[0m\n",
      "\u001b[0;31mOSError\u001b[0m: [Errno 12] Cannot allocate memory"
     ]
    }
   ],
   "source": [
    "import tqdm\n",
    "\n",
    "grid = {} \n",
    "grid['Validation_Set'] = {}\n",
    "\n",
    "# Topics range\n",
    "min_topics = 2\n",
    "max_topics = 11\n",
    "step_size = 1\n",
    "topics_range = range(min_topics, max_topics, step_size)\n",
    "\n",
    "# Alpha parameter\n",
    "alpha = list(np.arange(0.01, 1, 0.3))\n",
    "# Beta parameter\n",
    "beta = list(np.arange(0.01, 1, 0.3))\n",
    "# Validation sets\n",
    "num_of_docs = len(bow_corpus)\n",
    "corpus_sets = [gensim.utils.ClippedCorpus(bow_corpus, num_of_docs*0.75), \n",
    "               bow_corpus]\n",
    "\n",
    "corpus_title = ['75% Corpus']\n",
    "model_results = {'Validation_Set': [],\n",
    "                 'Topics': [],\n",
    "                 'Alpha': [],\n",
    "                 'Beta': [],\n",
    "                 'Coherence': []\n",
    "                }\n",
    "# Can take a long time to run ~ 30mins\n",
    "if 1 == 1:\n",
    "    pbar = tqdm.tqdm(total=20)\n",
    "    # iterate through validation corpuses\n",
    "    for i in range(len(corpus_sets)):\n",
    "        # iterate through number of topics\n",
    "        for k in topics_range:\n",
    "            # iterate through alpha values\n",
    "            for a in alpha:\n",
    "                # iterare through beta values\n",
    "                for b in beta:\n",
    "                    # get the coherence score for the given parameters\n",
    "                    cv = compute_coherence_values(corpus=corpus_sets[i], dictionary=dictionary, \n",
    "                                                  k=k, a=a, b=b)\n",
    "                    # Save the model results\n",
    "                    model_results['Validation_Set'].append(corpus_title[i])\n",
    "                    model_results['Topics'].append(k)\n",
    "                    model_results['Alpha'].append(a)\n",
    "                    model_results['Beta'].append(b)\n",
    "                    model_results['Coherence'].append(cv)\n",
    "                    pbar.update(1)\n",
    "    pbar.close()"
   ]
  },
  {
   "cell_type": "code",
   "execution_count": 179,
   "metadata": {},
   "outputs": [],
   "source": [
    "test_results = pd.read_csv('lda_tests_results.csv')\n",
    "df = pd.DataFrame()\n",
    "\n",
    "null_ = test_results['Validation_Set'] != 'Validation_Set'\n",
    "null_alpha = test_results['Alpha'] != 'Alpha'\n",
    "null_beta = test_results['Beta'] != 'Beta'\n",
    "null_corpus = test_results['Topics'] != 'Topics'\n",
    "null_cv = test_results['Coherence'] != 'Coherence'\n",
    "\n",
    "df['Validation'] = test_results['Validation_Set'][null_] \n",
    "df['topics'] = test_results['Topics'][null_corpus]\n",
    "df['coherence'] = test_results['Coherence'][null_cv]\n",
    "df['alpha'] = test_results['Alpha'][null_alpha]\n",
    "df['beta'] = test_results['Beta'][null_beta]\n",
    "\n",
    "pd.DataFrame(df).to_csv('lda_tests_results2.csv', index=False)"
   ]
  },
  {
   "cell_type": "raw",
   "metadata": {},
   "source": [
    "np.max(df['coherence'])\n",
    "df.loc[714]['alpha'] = '0.31'\n",
    "df.loc[714]['Validation'] = '75% Corpus'"
   ]
  },
  {
   "cell_type": "code",
   "execution_count": 199,
   "metadata": {},
   "outputs": [
    {
     "data": {
      "text/plain": [
       "'0.5266114704724331'"
      ]
     },
     "execution_count": 199,
     "metadata": {},
     "output_type": "execute_result"
    }
   ],
   "source": [
    "np.max(df['coherence'])"
   ]
  },
  {
   "cell_type": "code",
   "execution_count": 200,
   "metadata": {},
   "outputs": [
    {
     "data": {
      "text/html": [
       "<div>\n",
       "<style scoped>\n",
       "    .dataframe tbody tr th:only-of-type {\n",
       "        vertical-align: middle;\n",
       "    }\n",
       "\n",
       "    .dataframe tbody tr th {\n",
       "        vertical-align: top;\n",
       "    }\n",
       "\n",
       "    .dataframe thead th {\n",
       "        text-align: right;\n",
       "    }\n",
       "</style>\n",
       "<table border=\"1\" class=\"dataframe\">\n",
       "  <thead>\n",
       "    <tr style=\"text-align: right;\">\n",
       "      <th></th>\n",
       "      <th>Validation</th>\n",
       "      <th>topics</th>\n",
       "      <th>coherence</th>\n",
       "      <th>alpha</th>\n",
       "      <th>beta</th>\n",
       "    </tr>\n",
       "  </thead>\n",
       "  <tbody>\n",
       "    <tr>\n",
       "      <th>714</th>\n",
       "      <td>75% Corpus</td>\n",
       "      <td>4</td>\n",
       "      <td>0.5266114704724331</td>\n",
       "      <td>0.31</td>\n",
       "      <td>0.61</td>\n",
       "    </tr>\n",
       "  </tbody>\n",
       "</table>\n",
       "</div>"
      ],
      "text/plain": [
       "     Validation topics           coherence alpha  beta\n",
       "714  75% Corpus      4  0.5266114704724331  0.31  0.61"
      ]
     },
     "execution_count": 200,
     "metadata": {},
     "output_type": "execute_result"
    }
   ],
   "source": [
    "df.loc[df['coherence'] == '0.5266114704724331']"
   ]
  },
  {
   "cell_type": "code",
   "execution_count": 177,
   "metadata": {},
   "outputs": [
    {
     "data": {
      "text/plain": [
       "([0, 1, 2, 3, 4, 5, 6, 7, 8, 9, 10, 11, 12, 13, 14, 15, 16, 17, 18, 19],\n",
       " <a list of 20 Text xticklabel objects>)"
      ]
     },
     "execution_count": 177,
     "metadata": {},
     "output_type": "execute_result"
    },
    {
     "data": {
      "image/png": "[encoded data removed]",
      "text/plain": [
       "<Figure size 1080x576 with 1 Axes>"
      ]
     },
     "metadata": {
      "needs_background": "light"
     },
     "output_type": "display_data"
    }
   ],
   "source": [
    "import matplotlib.pyplot as plt\n",
    "fig = plt.figure(figsize=(15,8))\n",
    "ax1 = fig.add_subplot(2,1,1)\n",
    "#ax2 = fig.add_subplot(2,1,2)\n",
    "\n",
    "ax1.plot(df['coherence'][0:20],df.alpha[0:20], c='red')\n",
    "#ax2.plot(df['coherence'][0:30],df.beta[0:30] !='symmetric', c='red')\n",
    "\n",
    "ax1.set_title('Coherence by parameter Alpha')\n",
    "#ax2.set_title('Coherence by parameter Beta')\n",
    "plt.xticks(rotation=45)"
   ]
  },
  {
   "cell_type": "code",
   "execution_count": 192,
   "metadata": {},
   "outputs": [],
   "source": [
    "lda_model = gensim.models.LdaMulticore(corpus=bow_corpus,\n",
    "                                           id2word=dictionary,\n",
    "                                           num_topics=10, \n",
    "                                           random_state=100,\n",
    "                                           chunksize=100,\n",
    "                                           passes=10,\n",
    "                                           alpha=0.31,\n",
    "                                           eta=0.9)"
   ]
  },
  {
   "cell_type": "code",
   "execution_count": 214,
   "metadata": {},
   "outputs": [
    {
     "name": "stdout",
     "output_type": "stream",
     "text": [
      "Topic: 0 \n",
      "Words: 0.025*\"airline\" + 0.020*\"service\" + 0.016*\"worst\" + 0.015*\"customer\" + 0.015*\"experience\" + 0.013*\"customers\" + 0.010*\"airlines\" + 0.007*\"disappoint\" + 0.007*\"money\" + 0.007*\"terrible\"\n",
      "\n",
      "\n",
      "Topic: 1 \n",
      "Words: 0.086*\"americanair\" + 0.039*\"usairways\" + 0.028*\"southwestair\" + 0.025*\"thank\" + 0.018*\"flight\" + 0.016*\"help\" + 0.014*\"hold\" + 0.010*\"time\" + 0.010*\"need\" + 0.009*\"phone\"\n",
      "\n",
      "\n",
      "Topic: 2 \n",
      "Words: 0.017*\"best\" + 0.007*\"vegas\" + 0.007*\"southwest\" + 0.005*\"minute\" + 0.005*\"drink\" + 0.003*\"husband\" + 0.003*\"accept\" + 0.003*\"virginamerica\" + 0.002*\"order\" + 0.002*\"power\"\n",
      "\n",
      "\n",
      "Topic: 3 \n",
      "Words: 0.018*\"hang\" + 0.009*\"airways\" + 0.006*\"possible\" + 0.006*\"life\" + 0.004*\"https\" + 0.004*\"fare\" + 0.003*\"post\" + 0.003*\"run\" + 0.003*\"ready\" + 0.003*\"virginamerica\"\n",
      "\n",
      "\n",
      "Topic: 4 \n",
      "Words: 0.009*\"wasn\" + 0.009*\"instead\" + 0.005*\"carry\" + 0.005*\"upset\" + 0.004*\"reps\" + 0.003*\"super\" + 0.003*\"control\" + 0.003*\"worth\" + 0.002*\"overhead\" + 0.002*\"especially\"\n",
      "\n",
      "\n",
      "Topic: 5 \n",
      "Words: 0.098*\"jetblue\" + 0.055*\"http\" + 0.039*\"service\" + 0.029*\"customer\" + 0.008*\"rude\" + 0.007*\"fleek\" + 0.007*\"fleet\" + 0.007*\"great\" + 0.007*\"tweet\" + 0.006*\"team\"\n",
      "\n",
      "\n",
      "Topic: 6 \n",
      "Words: 0.006*\"word\" + 0.005*\"fuck\" + 0.003*\"safety\" + 0.003*\"checkin\" + 0.003*\"door\" + 0.003*\"flightd\" + 0.003*\"story\" + 0.002*\"domestic\" + 0.002*\"character\" + 0.002*\"relate\"\n",
      "\n",
      "\n",
      "Topic: 7 \n",
      "Words: 0.089*\"flight\" + 0.046*\"unite\" + 0.037*\"usairways\" + 0.027*\"cancel\" + 0.022*\"delay\" + 0.015*\"plane\" + 0.013*\"flightled\" + 0.013*\"gate\" + 0.010*\"wait\" + 0.010*\"late\"\n",
      "\n",
      "\n",
      "Topic: 8 \n",
      "Words: 0.004*\"club\" + 0.004*\"water\" + 0.004*\"freeze\" + 0.003*\"serve\" + 0.002*\"step\" + 0.002*\"admirals\" + 0.001*\"game\" + 0.001*\"create\" + 0.001*\"certainly\" + 0.001*\"star\"\n",
      "\n",
      "\n",
      "Topic: 9 \n",
      "Words: 0.021*\"come\" + 0.006*\"american\" + 0.005*\"mess\" + 0.005*\"waste\" + 0.004*\"quick\" + 0.004*\"friends\" + 0.004*\"apparently\" + 0.003*\"stop\" + 0.003*\"bump\" + 0.003*\"shit\"\n",
      "\n",
      "\n"
     ]
    }
   ],
   "source": [
    "'''\n",
    "For each topic, we will explore the words occuring in that topic and its relative weight\n",
    "'''\n",
    "for idx, topic in lda_model.print_topics(-1):\n",
    "    print(\"Topic: {} \\nWords: {}\".format(idx, topic ))\n",
    "    print(\"\\n\")"
   ]
  },
  {
   "cell_type": "code",
   "execution_count": 201,
   "metadata": {},
   "outputs": [
    {
     "name": "stdout",
     "output_type": "stream",
     "text": [
      "\n",
      "Coherence Score:  0.5399799548190963\n"
     ]
    }
   ],
   "source": [
    "from gensim.models import CoherenceModel\n",
    "# Compute Coherence Score\n",
    "coherence_model_lda = CoherenceModel(model=lda_model, texts=processed_docs, dictionary=dictionary, coherence='c_v')\n",
    "\n",
    "coherence_lda = coherence_model_lda.get_coherence()\n",
    "print('\\nCoherence Score: ', coherence_lda)"
   ]
  },
  {
   "cell_type": "markdown",
   "metadata": {},
   "source": [
    "## Step 6: create T_e_i an input to have $t_{ei}$ after apply Doc2Vec "
   ]
  },
  {
   "cell_type": "code",
   "execution_count": 202,
   "metadata": {},
   "outputs": [
    {
     "data": {
      "text/plain": [
       "10"
      ]
     },
     "execution_count": 202,
     "metadata": {},
     "output_type": "execute_result"
    }
   ],
   "source": [
    "list_topics=lda_model.show_topics(formatted=False)\n",
    "list_topics \n",
    "\n",
    "topic = []\n",
    "T_e_i = []\n",
    "for tup in list_topics:\n",
    "    topic = []\n",
    "    for tup2 in tup[1]:\n",
    "        topic.append(tup2[0])\n",
    "    T_e_i.append(topic) \n",
    "    \n",
    "len(T_e_i)  "
   ]
  },
  {
   "cell_type": "markdown",
   "metadata": {},
   "source": [
    "## Step 7 : Train Doc2Vec on non-pre-processed data \"nan_processed_docs\"\n"
   ]
  },
  {
   "cell_type": "code",
   "execution_count": 203,
   "metadata": {},
   "outputs": [],
   "source": [
    "import smart_open\n",
    "from gensim.models.doc2vec import Doc2Vec, TaggedDocument\n",
    "def read(fname):\n",
    "    for i, line in enumerate(f):\n",
    "        tokens = fname[i]\n",
    "        yield gensim.models.doc2vec.TaggedDocument(tokens, [i])"
   ]
  },
  {
   "cell_type": "code",
   "execution_count": 204,
   "metadata": {},
   "outputs": [],
   "source": [
    "train_nan_processed_docs = [TaggedDocument(doc, [i]) for i, doc in enumerate(nan_processed_docs)]"
   ]
  },
  {
   "cell_type": "code",
   "execution_count": 205,
   "metadata": {},
   "outputs": [],
   "source": [
    "model = gensim.models.doc2vec.Doc2Vec(vector_size=50, min_count=2, epochs=40)\n",
    "model.build_vocab(train_nan_processed_docs)\n",
    "model.train(train_nan_processed_docs, total_examples=len(nan_processed_docs), epochs=model.epochs)"
   ]
  },
  {
   "cell_type": "markdown",
   "metadata": {},
   "source": [
    "## Step 8 : Apply Doc2Vec on each document in your data to form $d_{ei}$"
   ]
  },
  {
   "cell_type": "code",
   "execution_count": 106,
   "metadata": {},
   "outputs": [
    {
     "name": "stdout",
     "output_type": "stream",
     "text": [
      "[['virginamerica', 'dhepburn', 'say'], ['virginamerica', 'plus', 'add', 'commercials', 'experience', 'tacky']]\n"
     ]
    }
   ],
   "source": [
    "Liste_D_e_i = []\n",
    "Liste_of_n_docs = processed_docs\n",
    "for i in range(len(Liste_of_n_docs)):\n",
    "    vector = []\n",
    "    vector = model.infer_vector(Liste_of_n_docs[i])\n",
    "    Liste_D_e_i.append(vector) \n",
    "    \n",
    "print(Liste_of_n_docs[:2])"
   ]
  },
  {
   "cell_type": "code",
   "execution_count": 107,
   "metadata": {},
   "outputs": [
    {
     "name": "stdout",
     "output_type": "stream",
     "text": [
      "[-8.3484715e-03  2.5491118e-03 -4.9658320e-03  9.1646565e-05\n",
      " -4.5432961e-03  1.6012108e-03  3.4770796e-03 -3.5030746e-03\n",
      " -3.9023953e-03  5.2300147e-03 -2.5869261e-03  5.9059183e-03\n",
      "  7.0825457e-03 -4.8601003e-03 -8.1265774e-03  7.3409053e-03\n",
      "  5.6454260e-03  1.4538433e-03 -8.4442869e-03  3.7578019e-04\n",
      " -7.7897520e-03 -9.3185678e-03 -1.3602334e-03 -4.2192000e-03\n",
      " -3.5440652e-03 -7.7914088e-03 -5.6378725e-03  7.4704881e-03\n",
      "  2.4043866e-03  5.0290311e-03 -7.9177115e-03 -8.9799594e-03\n",
      "  3.4924336e-03 -9.7181713e-03  8.2026049e-03 -6.1437925e-03\n",
      "  9.9837277e-03  1.9239952e-03 -5.6772218e-03  5.9479116e-03\n",
      " -2.0969193e-03  1.2104805e-03 -3.5297938e-03 -1.8123818e-03\n",
      " -6.0090171e-03 -5.8354056e-03  6.8798289e-03  5.4194257e-03\n",
      " -3.1482596e-03 -3.8494021e-04]\n",
      "14640\n"
     ]
    }
   ],
   "source": [
    "print(Liste_D_e_i[0])\n",
    "print(len(nan_processed_docs))"
   ]
  },
  {
   "cell_type": "markdown",
   "metadata": {},
   "source": [
    "## Step 9 : Apply Doc2Vec on your topics to form $t_{ei}$"
   ]
  },
  {
   "cell_type": "code",
   "execution_count": 108,
   "metadata": {},
   "outputs": [
    {
     "name": "stdout",
     "output_type": "stream",
     "text": [
      "[array([ 0.00323511,  0.00639995,  0.00033984,  0.00053764, -0.00635769,\n",
      "        0.00756645,  0.00555882, -0.0015786 ,  0.00920544, -0.00857711,\n",
      "        0.00713204,  0.00114298, -0.00775349, -0.0042917 , -0.0088571 ,\n",
      "        0.00939246, -0.0064901 , -0.00764113,  0.00136517,  0.00409927,\n",
      "       -0.00506781, -0.00847016,  0.00950141, -0.00312164, -0.00968135,\n",
      "        0.00767982, -0.00890303,  0.00183604, -0.00020685,  0.00203215,\n",
      "       -0.00625802,  0.0040097 ,  0.00763323,  0.00668266, -0.00725333,\n",
      "        0.00148018, -0.00628047, -0.00285222,  0.0053633 , -0.00320964,\n",
      "        0.00518452, -0.00155359, -0.00831438,  0.0043835 ,  0.00818614,\n",
      "       -0.00109431,  0.00421579,  0.00524854,  0.00514901, -0.00759428],\n",
      "      dtype=float32), array([ 7.2581596e-03,  1.2193052e-03, -4.5431335e-03, -6.5488350e-03,\n",
      "       -4.3439190e-03, -7.0031625e-03, -2.8280995e-03,  5.4405145e-03,\n",
      "        3.5321731e-03, -7.7789729e-03,  1.5433488e-03, -1.4706183e-03,\n",
      "       -4.7349990e-03,  8.8569811e-03,  4.2449939e-03, -9.2050321e-03,\n",
      "        7.4228188e-03, -5.3676679e-03, -9.0399673e-03,  7.7315187e-03,\n",
      "       -5.0552017e-03, -1.3042899e-03, -2.7278196e-03,  9.5086386e-03,\n",
      "       -5.3140838e-03,  3.1305910e-03, -3.8726595e-03, -4.3539735e-03,\n",
      "       -3.2220976e-03, -4.9362639e-03,  4.5176512e-03,  2.3566959e-03,\n",
      "        9.1209253e-03, -9.7577758e-03,  1.7319291e-03, -3.2492550e-03,\n",
      "        1.6771962e-03, -7.9993932e-03, -8.8826362e-03, -1.0950487e-03,\n",
      "        9.5892558e-03,  4.1569415e-03, -4.5682462e-03,  2.4058770e-03,\n",
      "       -7.5981701e-03, -8.6048571e-03, -9.1820331e-03, -7.4196816e-03,\n",
      "        2.1948295e-03,  1.2794748e-05], dtype=float32), array([ 8.9650452e-03,  7.4372548e-03,  6.7847683e-03,  4.6813171e-03,\n",
      "        6.2980922e-03, -8.1650708e-03,  6.6292249e-03,  4.1472348e-03,\n",
      "       -8.1411824e-03,  2.0805057e-03,  7.1906880e-03, -6.2725821e-04,\n",
      "       -3.2455609e-03,  3.9994379e-04,  6.2801857e-03,  2.1083627e-03,\n",
      "        5.6492812e-03,  7.1261176e-03, -4.1303351e-03,  4.7762417e-03,\n",
      "        8.8305082e-03, -4.0346282e-03,  7.6874117e-03,  9.4756804e-04,\n",
      "        4.4304831e-03, -8.3565041e-03, -9.6360417e-03, -1.5050320e-04,\n",
      "       -9.4652222e-03,  1.7448582e-03, -8.5233022e-03,  7.4094380e-03,\n",
      "        3.8766530e-03,  5.9741749e-03, -3.6991173e-03,  2.8109851e-03,\n",
      "       -4.6893279e-03, -6.1010639e-03,  7.8796285e-05, -5.1841955e-03,\n",
      "        6.3296892e-03, -8.1347127e-04,  2.5503237e-03,  7.0807510e-03,\n",
      "       -1.5401257e-03,  9.1771437e-03, -4.7490345e-03,  7.7776029e-03,\n",
      "        6.5486162e-04,  7.1770577e-03], dtype=float32), array([-0.00446757,  0.00983619,  0.00979601, -0.00770788,  0.0062214 ,\n",
      "        0.00258414, -0.00305193,  0.00132943,  0.00623932,  0.00754455,\n",
      "        0.00788622, -0.00249313,  0.00373121,  0.00637516, -0.00489203,\n",
      "       -0.00415505, -0.00573458,  0.00908794, -0.00901581,  0.00480192,\n",
      "        0.00263925, -0.0020411 ,  0.005174  ,  0.00637175, -0.00110933,\n",
      "       -0.00790976,  0.00410112, -0.00334803, -0.0038734 , -0.00231398,\n",
      "       -0.00997291,  0.00633293, -0.00560344, -0.00462755, -0.00579965,\n",
      "       -0.0058323 ,  0.00991218, -0.00651027, -0.00898535,  0.00744964,\n",
      "       -0.004045  ,  0.00822096,  0.00088436,  0.00307837, -0.00960024,\n",
      "        0.00020693, -0.00017267, -0.00081109, -0.00365387, -0.00504184],\n",
      "      dtype=float32), array([-0.00675892,  0.00311556, -0.00798639, -0.00072245, -0.00064647,\n",
      "       -0.00975927, -0.00891115,  0.00216321, -0.00037729, -0.00339362,\n",
      "       -0.00374529, -0.00087331,  0.0097543 , -0.00513487,  0.00736904,\n",
      "        0.00379959,  0.00540931, -0.00296571, -0.003582  ,  0.0084343 ,\n",
      "        0.00417039,  0.00237009,  0.00226036,  0.00489023,  0.0013042 ,\n",
      "        0.00915537, -0.00130454, -0.00639888, -0.00510662, -0.00543236,\n",
      "       -0.00447289,  0.00239923, -0.00166398,  0.00075587,  0.00248937,\n",
      "       -0.00354408,  0.00966876, -0.0031491 , -0.00500683, -0.00656402,\n",
      "       -0.00129137,  0.00979943,  0.00557188,  0.00124524,  0.00549466,\n",
      "        0.00628062, -0.00859838,  0.00249501, -0.00983464, -0.00508063],\n",
      "      dtype=float32), array([ 0.00115719,  0.00418471,  0.00554241, -0.00412332,  0.00500667,\n",
      "       -0.00172014, -0.00035857,  0.00861545,  0.00976896, -0.00995329,\n",
      "       -0.0068212 , -0.00898488, -0.00242288,  0.00698029,  0.00975471,\n",
      "        0.0087968 ,  0.00251389, -0.00961588,  0.00965403,  0.00865361,\n",
      "       -0.00403801,  0.00765509,  0.00828161,  0.00014781,  0.00895381,\n",
      "        0.0013092 , -0.0084479 , -0.00152741,  0.00557823,  0.00819694,\n",
      "        0.00658248, -0.00886894, -0.00758599,  0.00129313, -0.00397054,\n",
      "        0.00338196,  0.00155523, -0.0055448 , -0.00835708, -0.00024048,\n",
      "       -0.00193375, -0.00987763,  0.00167353, -0.00127661,  0.0018531 ,\n",
      "        0.00143842, -0.00536052, -0.00395676, -0.00098347,  0.006878  ],\n",
      "      dtype=float32), array([ 0.00241815, -0.0012334 , -0.00232035, -0.00269957, -0.00625651,\n",
      "       -0.00201569,  0.00765526,  0.00083443,  0.00452045,  0.00309237,\n",
      "       -0.00646542, -0.0084862 ,  0.0029408 ,  0.00821353, -0.00199237,\n",
      "       -0.0090125 , -0.00041981,  0.00774678, -0.002996  ,  0.00588644,\n",
      "        0.0051037 ,  0.00888638,  0.00446457,  0.00984637,  0.00927429,\n",
      "        0.00762933,  0.00534428, -0.00587793, -0.0070415 , -0.00243677,\n",
      "        0.00817423, -0.00150574, -0.00344781, -0.00940909,  0.00402888,\n",
      "        0.00935445,  0.00821315, -0.00735865, -0.00562666,  0.00823485,\n",
      "        0.00743635, -0.0097903 ,  0.00772338,  0.00186691, -0.0048438 ,\n",
      "       -0.00929708,  0.00109232,  0.00713689,  0.00755521, -0.00091322],\n",
      "      dtype=float32), array([-0.00529617, -0.00722862,  0.00564446, -0.00122229, -0.00999307,\n",
      "        0.00783473, -0.00109447, -0.00114384, -0.0015076 ,  0.00799444,\n",
      "        0.0013562 , -0.00213202,  0.00943775, -0.00692827, -0.00329536,\n",
      "        0.00097876, -0.00825197, -0.00802442, -0.00406852, -0.00885706,\n",
      "       -0.0023885 , -0.00638184, -0.00359117, -0.00619426,  0.00638751,\n",
      "        0.00432226,  0.0070269 , -0.00813211,  0.00899343, -0.00111322,\n",
      "        0.00055716,  0.00659152, -0.00924222, -0.00924447, -0.00827792,\n",
      "       -0.00757007, -0.00313699, -0.00791822, -0.00110407, -0.00621936,\n",
      "        0.00663439,  0.00604222,  0.00543771,  0.008905  ,  0.009162  ,\n",
      "        0.0014905 ,  0.00554223,  0.00803768,  0.00185171, -0.00265948],\n",
      "      dtype=float32), array([ 0.00288852,  0.0042426 , -0.00444906,  0.00654609, -0.00826641,\n",
      "        0.00482287,  0.00461203,  0.00113449,  0.00422445, -0.00414938,\n",
      "        0.00872128,  0.00373011, -0.00448805,  0.00096811, -0.00085413,\n",
      "       -0.00463333,  0.00912957,  0.00468779,  0.00132169,  0.00827475,\n",
      "        0.00801975, -0.00173883, -0.00290518, -0.00394446, -0.00726269,\n",
      "       -0.00923325,  0.00353701,  0.00847748, -0.00501942,  0.00538137,\n",
      "       -0.00585421, -0.00809871, -0.00082407,  0.00841145,  0.00272962,\n",
      "        0.00031922,  0.00998887,  0.00859631,  0.00037656,  0.00106349,\n",
      "        0.00410444, -0.00930198, -0.00507795,  0.00198957,  0.00271773,\n",
      "        0.00188799, -0.00235417, -0.00124834, -0.00750316, -0.00797812],\n",
      "      dtype=float32), array([-2.3288887e-03, -1.4990743e-03,  2.0881526e-03,  4.2318837e-03,\n",
      "       -1.1702612e-03,  9.1743711e-03, -9.9642035e-03, -3.8249805e-03,\n",
      "        6.7583988e-03, -5.1941797e-03, -8.5464194e-03, -4.5930119e-03,\n",
      "        7.5396975e-03, -2.2643034e-03,  2.3380115e-03, -1.5792270e-03,\n",
      "       -6.9241105e-03, -2.9436947e-05,  1.7703035e-03, -5.9700054e-03,\n",
      "       -4.6054265e-03, -2.4403571e-03,  2.3362346e-03,  9.5944498e-03,\n",
      "       -1.1310643e-03, -2.2748131e-03,  2.9243133e-03, -4.5790244e-03,\n",
      "       -4.0945779e-03, -6.4540136e-04,  1.0954569e-03, -1.8362713e-03,\n",
      "        1.1437370e-03, -2.1141572e-03,  8.9693973e-03, -5.4496923e-03,\n",
      "        3.2695031e-03,  7.0719318e-03,  7.7629634e-03,  7.7376845e-03,\n",
      "       -7.3067320e-04, -1.5842558e-03, -2.3657090e-03,  6.6780429e-03,\n",
      "       -6.9139316e-03,  9.6403835e-03,  9.9664601e-03,  8.7272022e-03,\n",
      "        6.4034895e-03, -9.6190348e-03], dtype=float32)]\n"
     ]
    }
   ],
   "source": [
    "Liste_T_e_i = []\n",
    "for i in range(len(T_e_i)):\n",
    "    vector = []\n",
    "    vector = model.infer_vector(T_e_i[i])\n",
    "    Liste_T_e_i.append(vector) \n",
    "print(Liste_T_e_i)"
   ]
  },
  {
   "cell_type": "markdown",
   "metadata": {},
   "source": [
    "## Step 9 : Calculate the similarity between every pair $d_{ei}$ and $t_{ei}$"
   ]
  },
  {
   "cell_type": "code",
   "execution_count": 212,
   "metadata": {
    "scrolled": true
   },
   "outputs": [
    {
     "name": "stdout",
     "output_type": "stream",
     "text": [
      "9\n"
     ]
    }
   ],
   "source": [
    "from scipy import spatial\n",
    "similairty = []\n",
    "temp=[]\n",
    "for i in range(len(Liste_D_e_i)):\n",
    "    for j in range(len(Liste_T_e_i)):\n",
    "        temp.append(spatial.distance.cosine(Liste_D_e_i[i], Liste_T_e_i[j]))\n",
    "    similairty.append(temp.index(min(temp)))\n",
    "    temp.clear()"
   ]
  },
  {
   "cell_type": "code",
   "execution_count": 215,
   "metadata": {},
   "outputs": [
    {
     "name": "stdout",
     "output_type": "stream",
     "text": [
      "[8, 5, 0, 0, 9]\n"
     ]
    }
   ],
   "source": [
    "print(similairty[:5])"
   ]
  },
  {
   "cell_type": "markdown",
   "metadata": {},
   "source": [
    "## Step 10 : Graph"
   ]
  },
  {
   "cell_type": "code",
   "execution_count": 206,
   "metadata": {},
   "outputs": [
    {
     "name": "stderr",
     "output_type": "stream",
     "text": [
      "/home/lbenboudiaf/.local/lib/python3.5/site-packages/pyLDAvis/_prepare.py:257: FutureWarning: Sorting because non-concatenation axis is not aligned. A future version\n",
      "of pandas will change to not sort by default.\n",
      "\n",
      "To accept the future behavior, pass 'sort=False'.\n",
      "\n",
      "To retain the current behavior and silence the warning, pass 'sort=True'.\n",
      "\n",
      "  return pd.concat([default_term_info] + list(topic_dfs))\n"
     ]
    },
    {
     "data": {
      "text/html": [
       "\n",
       "<link rel=\"stylesheet\" type=\"text/css\" href=\"https://cdn.rawgit.com/bmabey/pyLDAvis/files/ldavis.v1.0.0.css\">\n",
       "\n",
       "\n",
       "<div id=\"ldavis_el100541398043751725844274645841\"></div>\n",
       "<script type=\"text/javascript\">\n",
       "\n",
       "var ldavis_el100541398043751725844274645841_data = {\"token.table\": {\"Topic\": [1, 2, 3, 4, 6, 1, 2, 3, 4, 6, 1, 2, 3, 10, 1, 2, 3, 10, 1, 2, 3, 4, 1, 2, 3, 4, 1, 2, 3, 10, 1, 2, 3, 4, 1, 2, 3, 4, 5, 1, 2, 3, 4, 10, 1, 2, 3, 4, 1, 2, 3, 4, 7, 1, 2, 3, 4, 5, 6, 7, 8, 1, 2, 3, 4, 1, 2, 3, 4, 7, 1, 2, 3, 1, 2, 3, 4, 1, 2, 3, 9, 1, 2, 3, 1, 2, 3, 4, 7, 1, 2, 3, 4, 6, 7, 1, 2, 3, 4, 5, 1, 2, 3, 4, 8, 1, 2, 3, 10, 1, 2, 3, 5, 1, 2, 3, 9, 1, 2, 3, 4, 8, 1, 2, 3, 4, 7, 1, 2, 3, 4, 1, 2, 3, 4, 5, 1, 2, 3, 4, 1, 2, 3, 4, 1, 2, 3, 9, 1, 2, 3, 1, 2, 3, 4, 6, 1, 2, 3, 4, 1, 2, 3, 8, 1, 2, 3, 10, 1, 2, 3, 4, 6, 1, 2, 3, 4, 1, 2, 3, 4, 1, 2, 3, 4, 1, 2, 3, 4, 1, 2, 3, 7, 10, 1, 2, 3, 4, 7, 1, 2, 3, 4, 5, 1, 2, 3, 4, 1, 2, 3, 4, 1, 2, 3, 4, 1, 2, 3, 4, 8, 1, 2, 3, 5, 7, 1, 2, 3, 4, 10, 1, 2, 3, 4, 1, 2, 3, 4, 9, 1, 2, 3, 4, 1, 2, 3, 4, 10, 1, 2, 3, 4, 5, 1, 2, 3, 4, 9, 1, 2, 3, 6, 1, 2, 3, 4, 1, 2, 3, 4, 6, 8, 9, 1, 2, 3, 4, 6, 1, 2, 3, 10, 1, 2, 3, 4, 8, 1, 2, 3, 5, 8, 1, 2, 3, 4, 5, 7, 9, 1, 2, 3, 4, 7, 1, 2, 3, 4, 6, 1, 2, 3, 4, 1, 2, 3, 4, 1, 2, 3, 4, 1, 2, 3, 6, 1, 2, 3, 4, 5, 1, 2, 3, 1, 2, 3, 4, 8, 1, 2, 3, 4, 9, 1, 2, 3, 6, 1, 2, 3, 4, 1, 2, 3, 4, 6, 1, 2, 3, 4, 7, 1, 2, 3, 4, 10, 1, 2, 3, 4, 5, 1, 2, 3, 4, 10, 1, 2, 3, 4, 1, 2, 3, 4, 1, 2, 3, 4, 6, 9, 1, 2, 3, 4, 6, 1, 2, 3, 4, 1, 2, 3, 4, 1, 2, 3, 5, 9, 1, 2, 3, 8, 1, 2, 3, 8, 1, 2, 3, 4, 1, 2, 3, 1, 2, 3, 4, 7, 1, 2, 3, 10, 1, 2, 3, 4, 1, 2, 3, 4, 7, 1, 2, 3, 4, 9, 1, 2, 3, 4, 9, 1, 2, 3, 4, 6, 1, 2, 3, 1, 2, 3, 7, 1, 2, 3, 4, 1, 2, 3, 4, 8, 1, 2, 3, 4, 1, 2, 3, 4, 8, 1, 2, 3, 7, 1, 2, 3, 8, 1, 2, 3, 4, 5, 1, 2, 3, 4, 1, 2, 3, 4, 1, 2, 3, 5, 1, 2, 3, 4, 9, 1, 2, 3, 1, 2, 3, 5, 1, 2, 3, 4, 8, 1, 2, 3, 4, 6, 1, 2, 3, 4, 10, 1, 2, 3, 1, 2, 3, 1, 2, 3, 4, 1, 2, 3, 4, 9, 1, 2, 3, 4, 1, 2, 3, 4, 1, 2, 3, 4, 6, 1, 2, 3, 4, 8, 1, 2, 3, 10, 1, 2, 3, 5, 1, 2, 3, 4, 1, 2, 3, 7, 1, 2, 3, 4, 9, 1, 2, 3, 10, 1, 2, 3, 4, 9, 1, 2, 3, 4, 10, 1, 2, 3, 4, 1, 2, 3, 4, 5, 1, 2, 3, 4, 5, 1, 2, 3, 7, 1, 2, 3, 4, 1, 2, 3, 9, 1, 2, 3, 4, 1, 2, 3, 4, 1, 2, 3, 4, 5, 1, 2, 3, 4, 1, 2, 3, 4, 1, 2, 3, 4, 1, 2, 3, 4, 1, 2, 3, 4, 1, 2, 3, 4, 5, 8, 1, 2, 3, 4, 5, 10, 1, 2, 3, 4, 1, 2, 3, 4, 1, 2, 3, 4, 1, 2, 3, 4, 1, 2, 3, 4, 5, 1, 2, 3, 4, 6, 1, 2, 3, 4, 1, 2, 3, 4, 5, 6, 1, 2, 3, 5, 1, 2, 3, 4, 1, 2, 3, 4, 8, 1, 2, 3, 4, 1, 2, 3, 4, 7, 1, 2, 3, 4, 5, 1, 2, 3, 4, 7, 1, 2, 3, 1, 2, 3, 4, 1, 2, 3, 4, 1, 2, 3, 4, 5, 1, 2, 3, 4, 1, 2, 3, 4, 1, 2, 3, 10, 1, 2, 3, 4, 1, 2, 3, 4, 5, 7, 1, 2, 3, 4, 5, 1, 2, 3, 4, 5, 1, 2, 3, 4, 5, 1, 2, 3, 4, 8, 1, 2, 3, 4, 9, 1, 2, 3, 4, 1, 2, 3, 4, 1, 2, 3, 4, 5, 1, 2, 3, 10, 1, 2, 3, 4, 1, 2, 3, 4, 10, 1, 2, 3, 4, 8, 1, 2, 3, 4, 5, 1, 2, 3, 4, 9, 1, 2, 3, 10, 1, 2, 3, 4, 1, 2, 3, 4, 1, 2, 3, 4, 1, 2, 3, 4, 7, 1, 2, 3, 4, 1, 2, 3, 4, 1, 2, 3, 4, 6, 1, 2, 3, 4, 1, 2, 3, 6, 1, 2, 3, 4, 1, 2, 3, 8, 1, 2, 3, 9, 1, 2, 3, 4, 1, 2, 3, 4, 5, 1, 2, 3, 5, 1, 2, 3, 4, 5, 1, 2, 3, 4, 1, 2, 3, 4, 6, 1, 2, 3, 6, 1, 2, 3, 4, 1, 2, 3, 6, 1, 2, 3, 6, 1, 2, 3, 4, 8, 1, 2, 3, 4, 5, 1, 2, 3, 4, 6, 8, 1, 2, 3, 9, 1, 2, 3, 9, 1, 2, 3, 4, 5, 1, 2, 3, 10, 1, 2, 3, 7, 1, 2, 3, 4, 9, 1, 2, 3, 4, 1, 2, 3, 8, 1, 2, 3, 4, 1, 2, 3, 4, 6, 1, 2, 3, 4, 1, 2, 3, 4, 1, 2, 3, 7, 1, 2, 3, 4, 1, 2, 3, 7, 1, 2, 3, 4, 1, 2, 3, 4, 5, 1, 2, 3, 4, 5, 1, 2, 3, 6, 1, 2, 3, 4, 8, 1, 2, 3, 4, 10, 1, 2, 3, 4, 7, 1, 2, 3, 4, 7, 1, 2, 3, 4, 1, 2, 3, 4, 5, 1, 2, 3, 4, 9, 1, 2, 3, 4, 5, 1, 2, 3, 4, 5, 1, 2, 3, 4, 6, 1, 2, 3, 9, 1, 2, 3, 4, 1, 2, 3, 4, 8, 1, 2, 3, 10, 1, 2, 3, 4, 6, 1, 2, 3, 4, 8, 1, 2, 3, 4, 5, 1, 2, 3, 4, 6, 1, 2, 3, 4, 1, 2, 3, 4, 5, 1, 2, 3, 4, 7, 1, 2, 3, 4, 1, 2, 3, 4, 5, 1, 2, 3, 6, 1, 2, 3, 4, 5, 9, 1, 2, 3, 4, 5, 1, 2, 3, 4, 1, 2, 3, 4, 1, 2, 3, 4, 8, 1, 2, 3, 5, 1, 2, 3, 9, 1, 2, 3, 4, 7, 1, 2, 3, 4, 1, 2, 3, 5, 8, 1, 2, 3, 4, 1, 2, 3, 9, 1, 2, 3, 7, 1, 2, 3, 4, 6, 10, 1, 2, 3, 4, 1, 2, 3, 4, 7, 1, 2, 3, 4, 1, 2, 3, 7, 8, 1, 2, 3, 4, 7, 1, 2, 3, 4, 7, 1, 2, 3, 4, 10, 1, 2, 3, 4, 8, 1, 2, 3, 4, 1, 2, 3, 4, 8, 10, 1, 2, 3, 4, 5, 1, 2, 3, 4, 5, 6, 10, 1, 2, 3, 4, 1, 2, 3, 4, 6, 1, 2, 3, 4, 5, 1, 2, 3, 4, 6, 1, 2, 3, 4, 5, 6, 1, 2, 3, 4, 1, 2, 3, 4, 6, 1, 2, 3, 8, 1, 2, 3, 8, 9, 1, 2, 3, 4, 5, 8, 1, 2, 3, 10, 1, 2, 3, 4, 10, 1, 2, 3, 4, 6, 7, 1, 2, 3, 4, 7, 1, 2, 3, 4, 1, 2, 3, 4, 9, 1, 2, 3, 1, 2, 3, 6, 1, 2, 3, 8, 1, 2, 3, 4, 7, 1, 2, 3, 4, 6, 1, 2, 3, 4, 8, 1, 2, 3, 4, 1, 2, 3, 4, 7, 1, 2, 3, 4, 7, 8, 1, 2, 3, 10, 1, 2, 3, 4, 1, 2, 3, 4, 1, 2, 3, 4, 1, 2, 3, 4, 1, 2, 3, 4, 1, 2, 3, 4, 5, 1, 2, 3, 4, 1, 2, 3, 4, 1, 2, 3, 4, 1, 2, 3, 4, 5, 1, 2, 3, 4, 1, 2, 3, 10, 1, 2, 3, 4, 5, 1, 2, 3, 4, 1, 2, 3, 4, 1, 2, 3, 4, 1, 2, 3, 4, 7, 9, 1, 2, 3, 4, 1, 2, 3, 4, 5, 1, 2, 3, 4, 8, 1, 2, 3, 4, 5, 6, 10, 1, 2, 3, 6, 1, 2, 3, 4, 9, 1, 2, 3, 1, 2, 3, 4, 5, 6, 7, 9, 1, 2, 3, 4, 5, 1, 2, 3, 4, 5, 1, 2, 3, 4, 1, 2, 3, 1, 2, 3, 4, 1, 2, 3, 9, 1, 2, 3, 4, 8, 1, 2, 3, 4, 7, 1, 2, 3, 4, 1, 2, 3, 10, 1, 2, 3, 4, 1, 2, 3, 8, 1, 2, 3, 8, 1, 2, 3, 4, 9, 1, 2, 3, 4, 1, 2, 3, 4, 1, 2, 3, 4, 1, 2, 3, 4, 8, 1, 2, 3, 4, 1, 2, 3, 4, 5, 1, 2, 3, 8], \"Freq\": [0.06425300240516663, 0.06425300240516663, 0.06425300240516663, 0.32126501202583313, 0.38551801443099976, 0.05164732038974762, 0.05164732038974762, 0.05164732038974762, 0.05164732038974762, 0.7747097611427307, 0.0797705203294754, 0.0797705203294754, 0.0797705203294754, 0.6381641626358032, 0.14554916322231293, 0.14554916322231293, 0.14554916322231293, 0.4366474747657776, 0.004906173795461655, 0.00981234759092331, 0.004906173795461655, 0.9714223742485046, 0.012359840795397758, 0.012359840795397758, 0.012359840795397758, 0.9393479228019714, 0.1366891711950302, 0.1366891711950302, 0.1366891711950302, 0.41006749868392944, 0.42012855410575867, 0.5628907084465027, 0.008157836273312569, 0.004078918136656284, 0.01841762103140354, 0.01841762103140354, 0.01841762103140354, 0.01841762103140354, 0.902463436126709, 0.13773562014102936, 0.13773562014102936, 0.13773562014102936, 0.13773562014102936, 0.41320687532424927, 0.01827186904847622, 0.01827186904847622, 0.9135934710502625, 0.01827186904847622, 0.01777571067214012, 0.01777571067214012, 0.4088413417339325, 0.03555142134428024, 0.4799441695213318, 0.9572528004646301, 0.038711290806531906, 0.0024775227066129446, 0.0009290709858760238, 0.0003096903383266181, 0.0003096903383266181, 0.0003096903383266181, 0.0003096903383266181, 0.9632308483123779, 0.0072972034104168415, 0.0072972034104168415, 0.0072972034104168415, 0.048798009753227234, 0.048798009753227234, 0.048798009753227234, 0.048798009753227234, 0.7807681560516357, 0.06767258048057556, 0.06767258048057556, 0.7443983554840088, 0.9540835022926331, 0.009637206792831421, 0.009637206792831421, 0.009637206792831421, 0.11661964654922485, 0.11661964654922485, 0.11661964654922485, 0.4664785861968994, 0.00960285309702158, 0.9602853059768677, 0.00960285309702158, 0.06978341192007065, 0.06978341192007065, 0.06978341192007065, 0.06978341192007065, 0.628050684928894, 0.12541645765304565, 0.12541645765304565, 0.12541645765304565, 0.12541645765304565, 0.12541645765304565, 0.37624937295913696, 0.014518450014293194, 0.9291808009147644, 0.014518450014293194, 0.014518450014293194, 0.014518450014293194, 0.12572036683559418, 0.12572036683559418, 0.12572036683559418, 0.12572036683559418, 0.3771611154079437, 0.12309978157281876, 0.12309978157281876, 0.12309978157281876, 0.36929935216903687, 0.05226282402873039, 0.10452564805746078, 0.05226282402873039, 0.7316795587539673, 0.08938335627317429, 0.08938335627317429, 0.08938335627317429, 0.6256834864616394, 0.09922526031732559, 0.09922526031732559, 0.09922526031732559, 0.09922526031732559, 0.39690104126930237, 0.927636981010437, 0.026888027787208557, 0.013444013893604279, 0.013444013893604279, 0.013444013893604279, 0.027222981676459312, 0.027222981676459312, 0.027222981676459312, 0.871135413646698, 0.05540193244814873, 0.05540193244814873, 0.05540193244814873, 0.05540193244814873, 0.7202251553535461, 0.13505370914936066, 0.8466829061508179, 0.005194373894482851, 0.005194373894482851, 0.00634806789457798, 0.9712544083595276, 0.00634806789457798, 0.00634806789457798, 0.11339160054922104, 0.11339160054922104, 0.11339160054922104, 0.45356640219688416, 0.0675424337387085, 0.0675424337387085, 0.7429668307304382, 0.012055184692144394, 0.012055184692144394, 0.012055184692144394, 0.012055184692144394, 0.9403044581413269, 0.47596630454063416, 0.24247340857982635, 0.008980496786534786, 0.2514539062976837, 0.1290069967508316, 0.1290069967508316, 0.1290069967508316, 0.3870209753513336, 0.1360803097486496, 0.1360803097486496, 0.1360803097486496, 0.40824094414711, 0.12107167392969131, 0.12107167392969131, 0.12107167392969131, 0.12107167392969131, 0.48428669571876526, 0.26702752709388733, 0.033378440886735916, 0.6008119583129883, 0.033378440886735916, 0.0673896074295044, 0.9164986610412598, 0.004492640495300293, 0.004492640495300293, 0.8649765849113464, 0.12620654702186584, 0.003078208537772298, 0.003078208537772298, 0.015485747717320919, 0.9136590957641602, 0.015485747717320919, 0.015485747717320919, 0.11968917399644852, 0.11968917399644852, 0.11968917399644852, 0.11968917399644852, 0.47875669598579407, 0.04879200458526611, 0.09758400917053223, 0.04879200458526611, 0.04879200458526611, 0.7318800687789917, 0.048259370028972626, 0.048259370028972626, 0.048259370028972626, 0.048259370028972626, 0.772149920463562, 0.9672247767448425, 0.014017750509083271, 0.004672583192586899, 0.004672583192586899, 0.001157390302978456, 0.9953556656837463, 0.001157390302978456, 0.001157390302978456, 0.677314281463623, 0.11779379099607468, 0.12760993838310242, 0.0490807481110096, 0.03715253993868828, 0.03715253993868828, 0.03715253993868828, 0.03715253993868828, 0.8173558115959167, 0.11409978568553925, 0.11409978568553925, 0.11409978568553925, 0.11409978568553925, 0.456399142742157, 0.09988664835691452, 0.09988664835691452, 0.09988664835691452, 0.09988664835691452, 0.4994332492351532, 0.8622799515724182, 0.1254810392856598, 0.003217462683096528, 0.003217462683096528, 0.07263685017824173, 0.07263685017824173, 0.07263685017824173, 0.07263685017824173, 0.653731644153595, 0.015247386880218983, 0.930090606212616, 0.015247386880218983, 0.015247386880218983, 0.08733056485652924, 0.08733056485652924, 0.2619917094707489, 0.08733056485652924, 0.34932225942611694, 0.5991124510765076, 0.3856355845928192, 0.003443174995481968, 0.003443174995481968, 0.003443174995481968, 0.05796065181493759, 0.05796065181493759, 0.05796065181493759, 0.05796065181493759, 0.7534884810447693, 0.10076114535331726, 0.10076114535331726, 0.10076114535331726, 0.5038057565689087, 0.05463798716664314, 0.05463798716664314, 0.05463798716664314, 0.764931857585907, 0.1421922743320465, 0.1421922743320465, 0.1421922743320465, 0.1421922743320465, 0.1421922743320465, 0.1421922743320465, 0.284384548664093, 0.11101645976305008, 0.11101645976305008, 0.11101645976305008, 0.11101645976305008, 0.4440658390522003, 0.039500076323747635, 0.2370004653930664, 0.039500076323747635, 0.6320012211799622, 0.11343932151794434, 0.11343932151794434, 0.11343932151794434, 0.11343932151794434, 0.45375728607177734, 0.08531638979911804, 0.08531638979911804, 0.08531638979911804, 0.08531638979911804, 0.5972147583961487, 0.09206020087003708, 0.09206020087003708, 0.09206020087003708, 0.09206020087003708, 0.09206020087003708, 0.09206020087003708, 0.5523611903190613, 0.010308505035936832, 0.010308505035936832, 0.010308505035936832, 0.010308505035936832, 0.9483824372291565, 0.12194979190826416, 0.12194979190826416, 0.12194979190826416, 0.12194979190826416, 0.3658493757247925, 0.03492412343621254, 0.03492412343621254, 0.03492412343621254, 0.8381789922714233, 0.049907319247722626, 0.049907319247722626, 0.049907319247722626, 0.7486097812652588, 0.039595890790224075, 0.039595890790224075, 0.039595890790224075, 0.8315137028694153, 0.12914001941680908, 0.12914001941680908, 0.12914001941680908, 0.38742005825042725, 0.010093074291944504, 0.9487489461898804, 0.010093074291944504, 0.010093074291944504, 0.010093074291944504, 0.008798439055681229, 0.9678282737731934, 0.008798439055681229, 0.05238837003707886, 0.05238837003707886, 0.05238837003707886, 0.05238837003707886, 0.733437180519104, 0.13280032575130463, 0.13280032575130463, 0.13280032575130463, 0.13280032575130463, 0.3984009623527527, 0.12667717039585114, 0.12667717039585114, 0.12667717039585114, 0.5067086815834045, 0.04495764151215553, 0.08991528302431107, 0.7642799019813538, 0.04495764151215553, 0.08778256177902222, 0.08778256177902222, 0.08778256177902222, 0.08778256177902222, 0.5266953706741333, 0.07055338472127914, 0.07055338472127914, 0.07055338472127914, 0.07055338472127914, 0.7055338025093079, 0.14066116511821747, 0.14066116511821747, 0.14066116511821747, 0.14066116511821747, 0.4219834804534912, 0.04699825495481491, 0.04699825495481491, 0.04699825495481491, 0.04699825495481491, 0.7519720792770386, 0.09729712456464767, 0.09729712456464767, 0.09729712456464767, 0.09729712456464767, 0.48648563027381897, 0.9408966898918152, 0.011474349536001682, 0.011474349536001682, 0.011474349536001682, 0.0055447048507630825, 0.9758680462837219, 0.0055447048507630825, 0.0055447048507630825, 0.2131856232881546, 0.2131856232881546, 0.1065928116440773, 0.1065928116440773, 0.1065928116440773, 0.3197784423828125, 0.13598914444446564, 0.6119511127471924, 0.03399728611111641, 0.03399728611111641, 0.10199185460805893, 0.0022812194656580687, 0.0022812194656580687, 0.7117404937744141, 0.27830877900123596, 0.05324496701359749, 0.008874161168932915, 0.008874161168932915, 0.9140385985374451, 0.10427841544151306, 0.10427841544151306, 0.10427841544151306, 0.10427841544151306, 0.5213921070098877, 0.1398085355758667, 0.1398085355758667, 0.1398085355758667, 0.4194256067276001, 0.14622312784194946, 0.14622312784194946, 0.14622312784194946, 0.4386693835258484, 0.0014514120994135737, 0.9927659034729004, 0.0014514120994135737, 0.0014514120994135737, 0.015416085720062256, 0.9403812289237976, 0.015416085720062256, 0.07902456074953079, 0.07902456074953079, 0.07902456074953079, 0.07902456074953079, 0.6321964859962463, 0.15491053462028503, 0.15491053462028503, 0.15491053462028503, 0.30982106924057007, 0.0158274807035923, 0.0158274807035923, 0.0158274807035923, 0.9179939031600952, 0.10541906207799911, 0.10541906207799911, 0.10541906207799911, 0.10541906207799911, 0.42167624831199646, 0.06889066845178604, 0.06889066845178604, 0.06889066845178604, 0.06889066845178604, 0.6889066696166992, 0.05667436122894287, 0.05667436122894287, 0.05667436122894287, 0.05667436122894287, 0.6800923347473145, 0.03743107244372368, 0.03743107244372368, 0.03743107244372368, 0.03743107244372368, 0.8234835863113403, 0.014426489360630512, 0.9377217888832092, 0.014426489360630512, 0.13330455124378204, 0.13330455124378204, 0.13330455124378204, 0.3999136686325073, 0.9697548747062683, 0.005605519283562899, 0.005605519283562899, 0.005605519283562899, 0.0762479156255722, 0.0762479156255722, 0.0762479156255722, 0.0762479156255722, 0.6099833250045776, 0.07010205835103989, 0.22783169150352478, 0.28040823340415955, 0.3855613172054291, 0.04867161065340042, 0.04867161065340042, 0.04867161065340042, 0.7300741672515869, 0.04867161065340042, 0.10693804919719696, 0.10693804919719696, 0.10693804919719696, 0.42775219678878784, 0.0735996812582016, 0.0735996812582016, 0.0735996812582016, 0.6623971462249756, 0.058124758303165436, 0.058124758303165436, 0.058124758303165436, 0.058124758303165436, 0.6393723487854004, 0.01971566304564476, 0.01971566304564476, 0.01971566304564476, 0.9069205522537231, 0.015655620023608208, 0.015655620023608208, 0.031311240047216415, 0.9236815571784973, 0.053606145083904266, 0.053606145083904266, 0.053606145083904266, 0.7504860758781433, 0.06274379789829254, 0.06274379789829254, 0.627437949180603, 0.06274379789829254, 0.06274379789829254, 0.0571431890130043, 0.0571431890130043, 0.7428614497184753, 0.04101935401558876, 0.04101935401558876, 0.04101935401558876, 0.820387065410614, 0.09756128489971161, 0.09756128489971161, 0.09756128489971161, 0.09756128489971161, 0.5853676795959473, 0.095305897295475, 0.095305897295475, 0.095305897295475, 0.095305897295475, 0.5718353986740112, 0.11913866549730301, 0.11913866549730301, 0.11913866549730301, 0.11913866549730301, 0.47655466198921204, 0.012335449457168579, 0.012335449457168579, 0.949829638004303, 0.012438192963600159, 0.012438192963600159, 0.9453026652336121, 0.1925409585237503, 0.8062834143638611, 0.00029128737514838576, 0.00029128737514838576, 0.06361072510480881, 0.06361072510480881, 0.06361072510480881, 0.06361072510480881, 0.6997179388999939, 0.0023700373712927103, 0.9906756281852722, 0.0023700373712927103, 0.0023700373712927103, 0.007793881930410862, 0.9664413332939148, 0.007793881930410862, 0.007793881930410862, 0.10576510429382324, 0.8687847852706909, 0.007554649841040373, 0.007554649841040373, 0.007554649841040373, 0.03274991363286972, 0.6877481937408447, 0.03274991363286972, 0.03274991363286972, 0.1637495756149292, 0.05170544981956482, 0.10341089963912964, 0.05170544981956482, 0.7238762974739075, 0.05717277526855469, 0.05717277526855469, 0.05717277526855469, 0.7432460784912109, 0.046089816838502884, 0.046089816838502884, 0.7835268974304199, 0.046089816838502884, 0.047537270933389664, 0.047537270933389664, 0.047537270933389664, 0.7605963349342346, 0.04316040500998497, 0.04316040500998497, 0.04316040500998497, 0.04316040500998497, 0.7768872976303101, 0.285260409116745, 0.09508680552244186, 0.09508680552244186, 0.38034722208976746, 0.08253854513168335, 0.08253854513168335, 0.08253854513168335, 0.08253854513168335, 0.6603083610534668, 0.09712578356266022, 0.09712578356266022, 0.09712578356266022, 0.09712578356266022, 0.5827547311782837, 0.0025197286158800125, 0.9877336025238037, 0.0025197286158800125, 0.0025197286158800125, 0.550715446472168, 0.4359830915927887, 0.0032780682668089867, 0.0032780682668089867, 0.0032780682668089867, 0.5041526556015015, 0.1080327183008194, 0.3755423128604889, 0.005144414957612753, 0.005144414957612753, 0.13217346370220184, 0.13217346370220184, 0.13217346370220184, 0.3965204060077667, 0.015228885225951672, 0.928961992263794, 0.015228885225951672, 0.015228885225951672, 0.10898564010858536, 0.10898564010858536, 0.10898564010858536, 0.43594256043434143, 0.9778555631637573, 0.004024096764624119, 0.004024096764624119, 0.004024096764624119, 0.041997067630290985, 0.041997067630290985, 0.041997067630290985, 0.7979443073272705, 0.038404230028390884, 0.009601057507097721, 0.009601057507097721, 0.009601057507097721, 0.9313026070594788, 0.04384229704737663, 0.04384229704737663, 0.04384229704737663, 0.7891613245010376, 0.02504894509911537, 0.4508810043334961, 0.425832062959671, 0.02504894509911537, 0.8816501498222351, 0.11175847053527832, 0.001552200992591679, 0.001552200992591679, 0.05474620684981346, 0.05474620684981346, 0.05474620684981346, 0.7664468884468079, 0.9635183811187744, 0.029315974563360214, 0.001954398350790143, 0.001954398350790143, 0.9237512350082397, 0.02148258686065674, 0.01074129343032837, 0.01074129343032837, 0.01074129343032837, 0.01074129343032837, 0.049799174070358276, 0.1991966962814331, 0.64738929271698, 0.049799174070358276, 0.01659972406923771, 0.01659972406923771, 0.008894608356058598, 0.96061772108078, 0.008894608356058598, 0.008894608356058598, 0.31865400075912476, 0.6720702648162842, 0.002896854653954506, 0.002896854653954506, 0.4651812016963959, 0.527990460395813, 0.001962789800018072, 0.001962789800018072, 0.0016662433044984937, 0.0016662433044984937, 0.9930809736251831, 0.0016662433044984937, 0.04092913866043091, 0.04092913866043091, 0.04092913866043091, 0.04092913866043091, 0.8185827136039734, 0.04975733533501625, 0.04975733533501625, 0.04975733533501625, 0.04975733533501625, 0.7463600039482117, 0.060213737189769745, 0.060213737189769745, 0.7225648760795593, 0.060213737189769745, 0.471166729927063, 0.04711667448282242, 0.04711667448282242, 0.04711667448282242, 0.04711667448282242, 0.32981669902801514, 0.06540410220623016, 0.06540410220623016, 0.06540410220623016, 0.7194451689720154, 0.07107022404670715, 0.07107022404670715, 0.6396320462226868, 0.07107022404670715, 0.022753899917006493, 0.022753899917006493, 0.022753899917006493, 0.022753899917006493, 0.8874021172523499, 0.06885824352502823, 0.06885824352502823, 0.6885824203491211, 0.06885824352502823, 0.11720342189073563, 0.05860171094536781, 0.05860171094536781, 0.05860171094536781, 0.644618809223175, 0.1742502599954605, 0.0015627825632691383, 0.8212422728538513, 0.0007813912816345692, 0.0007813912816345692, 0.03192335367202759, 0.03192335367202759, 0.03192335367202759, 0.41500356793403625, 0.41500356793403625, 0.07612432539463043, 0.07612432539463043, 0.6851189732551575, 0.9769770503044128, 0.007318180054426193, 0.0036590900272130966, 0.0036590900272130966, 0.02324558049440384, 0.02324558049440384, 0.02324558049440384, 0.8833320736885071, 0.06865700334310532, 0.06865700334310532, 0.06865700334310532, 0.06865700334310532, 0.6865699887275696, 0.007984892465174198, 0.9661719799041748, 0.007984892465174198, 0.007984892465174198, 0.0031857986468821764, 0.9844117760658264, 0.0031857986468821764, 0.0031857986468821764, 0.1477733850479126, 0.1477733850479126, 0.1477733850479126, 0.4433201551437378, 0.20021678507328033, 0.7857564091682434, 0.003777675097808242, 0.003777675097808242, 0.09678047895431519, 0.09678047895431519, 0.09678047895431519, 0.09678047895431519, 0.09678047895431519, 0.5806828737258911, 0.0604097917675972, 0.0604097917675972, 0.6645076870918274, 0.0604097917675972, 0.0604097917675972, 0.028340710327029228, 0.028340710327029228, 0.028340710327029228, 0.028340710327029228, 0.8502212762832642, 0.9205141663551331, 0.04050262272357941, 0.02577439695596695, 0.003682056674733758, 0.003682056674733758, 0.07395798712968826, 0.07395798712968826, 0.07395798712968826, 0.07395798712968826, 0.5916638970375061, 0.08612111210823059, 0.08612111210823059, 0.08612111210823059, 0.08612111210823059, 0.6028477549552917, 0.9530104398727417, 0.01958240568637848, 0.00652746856212616, 0.00652746856212616, 0.9625874161720276, 0.011597438715398312, 0.005798719357699156, 0.005798719357699156, 0.7320168018341064, 0.006654698401689529, 0.23291443288326263, 0.006654698401689529, 0.006654698401689529, 0.13616779446601868, 0.13616779446601868, 0.13616779446601868, 0.40850338339805603, 0.12776373326778412, 0.03194093331694603, 0.03194093331694603, 0.734641432762146, 0.1330786645412445, 0.1330786645412445, 0.1330786645412445, 0.1330786645412445, 0.3992359936237335, 0.29804903268814087, 0.6828032732009888, 0.00541907362639904, 0.00541907362639904, 0.00541907362639904, 0.07683099806308746, 0.07683099806308746, 0.07683099806308746, 0.07683099806308746, 0.6146479845046997, 0.09578019380569458, 0.09578019380569458, 0.09578019380569458, 0.09578019380569458, 0.4789009690284729, 0.13329236209392548, 0.13329236209392548, 0.13329236209392548, 0.3998771011829376, 0.01909404993057251, 0.9165144562721252, 0.01909404993057251, 0.01909404993057251, 0.0340350940823555, 0.0340350940823555, 0.0340350940823555, 0.8508772850036621, 0.04360174760222435, 0.04360174760222435, 0.04360174760222435, 0.7848314642906189, 0.03661791607737541, 0.03661791607737541, 0.03661791607737541, 0.03661791607737541, 0.8055941462516785, 0.9458048343658447, 0.018015330657362938, 0.009007665328681469, 0.009007665328681469, 0.027364911511540413, 0.9395286440849304, 0.009121637791395187, 0.009121637791395187, 0.03487462177872658, 0.06974924355745316, 0.03487462177872658, 0.03487462177872658, 0.8021162748336792, 0.034306153655052185, 0.950280487537384, 0.0034306154120713472, 0.0034306154120713472, 0.10749569535255432, 0.10749569535255432, 0.10749569535255432, 0.5374784469604492, 0.04856131970882416, 0.01618710719048977, 0.01618710719048977, 0.8902909159660339, 0.08999903500080109, 0.08999903500080109, 0.08999903500080109, 0.5399942398071289, 0.1351242959499359, 0.1351242959499359, 0.1351242959499359, 0.4053729176521301, 0.7681000232696533, 0.2237602174282074, 0.0021515407133847475, 0.0021515407133847475, 0.05588611215353012, 0.05588611215353012, 0.05588611215353012, 0.05588611215353012, 0.7265194058418274, 0.08755385875701904, 0.08755385875701904, 0.08755385875701904, 0.6128770112991333, 0.05271441116929054, 0.05271441116929054, 0.05271441116929054, 0.05271441116929054, 0.7380017638206482, 0.9765003323554993, 0.00581250200048089, 0.00581250200048089, 0.00581250200048089, 0.4977755546569824, 0.3097270131111145, 0.15486350655555725, 0.011061678640544415, 0.011061678640544415, 0.07948651164770126, 0.07948651164770126, 0.07948651164770126, 0.6358920931816101, 0.9668514132499695, 0.006906081456691027, 0.006906081456691027, 0.006906081456691027, 0.06541740149259567, 0.06541740149259567, 0.06541740149259567, 0.7195913791656494, 0.1330031007528305, 0.1330031007528305, 0.1330031007528305, 0.3990092873573303, 0.0727793425321579, 0.0727793425321579, 0.0727793425321579, 0.0727793425321579, 0.6550140976905823, 0.05776961147785187, 0.05776961147785187, 0.05776961147785187, 0.05776961147785187, 0.7510049343109131, 0.11921339482069016, 0.11921339482069016, 0.11921339482069016, 0.11921339482069016, 0.4768535792827606, 0.11921339482069016, 0.10714087635278702, 0.10714087635278702, 0.10714087635278702, 0.42856350541114807, 0.16174335777759552, 0.16174335777759552, 0.16174335777759552, 0.32348671555519104, 0.10713186860084534, 0.6887048482894897, 0.1760023534297943, 0.007652276195585728, 0.007652276195585728, 0.1272101253271103, 0.1272101253271103, 0.1272101253271103, 0.3816303610801697, 0.10566455870866776, 0.10566455870866776, 0.10566455870866776, 0.5283228158950806, 0.1459529995918274, 0.1459529995918274, 0.1459529995918274, 0.1459529995918274, 0.2919059991836548, 0.9866921305656433, 0.002989975968375802, 0.002989975968375802, 0.002989975968375802, 0.06078758463263512, 0.06078758463263512, 0.6686634421348572, 0.06078758463263512, 0.0868249163031578, 0.0173649825155735, 0.8508841395378113, 0.0173649825155735, 0.08950109034776688, 0.08950109034776688, 0.08950109034776688, 0.08950109034776688, 0.5370065569877625, 0.02067720517516136, 0.8891198635101318, 0.05169301480054855, 0.01033860258758068, 0.00216294196434319, 0.9906274080276489, 0.00216294196434319, 0.00216294196434319, 0.08966696262359619, 0.08966696262359619, 0.08966696262359619, 0.5380017757415771, 0.9352348446846008, 0.011990190483629704, 0.011990190483629704, 0.011990190483629704, 0.10937391966581345, 0.10937391966581345, 0.10937391966581345, 0.5468696355819702, 0.015966666862368584, 0.35126665234565735, 0.5907666683197021, 0.015966666862368584, 0.02728673256933689, 0.02728673256933689, 0.02728673256933689, 0.02728673256933689, 0.8458887338638306, 0.043402381241321564, 0.043402381241321564, 0.043402381241321564, 0.043402381241321564, 0.781242847442627, 0.07082241773605347, 0.07082241773605347, 0.07082241773605347, 0.7082241773605347, 0.05439065396785736, 0.05439065396785736, 0.05439065396785736, 0.7614691853523254, 0.05439065396785736, 0.1404844969511032, 0.1404844969511032, 0.1404844969511032, 0.1404844969511032, 0.42145347595214844, 0.04087841510772705, 0.04087841510772705, 0.04087841510772705, 0.04087841510772705, 0.817568302154541, 0.0836423709988594, 0.0836423709988594, 0.3345694839954376, 0.0836423709988594, 0.3345694839954376, 0.03857313096523285, 0.03857313096523285, 0.810035765171051, 0.03857313096523285, 0.04549305513501167, 0.04549305513501167, 0.04549305513501167, 0.04549305513501167, 0.7733819484710693, 0.12446220219135284, 0.12446220219135284, 0.12446220219135284, 0.12446220219135284, 0.4978488087654114, 0.25422340631484985, 0.023111216723918915, 0.023111216723918915, 0.647114098072052, 0.023111216723918915, 0.9274210333824158, 0.01344088464975357, 0.01344088464975357, 0.01344088464975357, 0.01344088464975357, 0.12400497496128082, 0.12400497496128082, 0.12400497496128082, 0.12400497496128082, 0.3720149099826813, 0.07591196894645691, 0.07591196894645691, 0.07591196894645691, 0.6832076907157898, 0.073977991938591, 0.0369889959692955, 0.7767688632011414, 0.0369889959692955, 0.10075752437114716, 0.10075752437114716, 0.10075752437114716, 0.10075752437114716, 0.503787636756897, 0.14640022814273834, 0.14640022814273834, 0.14640022814273834, 0.4392006993293762, 0.2100793421268463, 0.0700264424085617, 0.0700264424085617, 0.0700264424085617, 0.49018511176109314, 0.04335295036435127, 0.04335295036435127, 0.04335295036435127, 0.04335295036435127, 0.7803531289100647, 0.05847661569714546, 0.05847661569714546, 0.05847661569714546, 0.05847661569714546, 0.7017194032669067, 0.10313791036605835, 0.10313791036605835, 0.10313791036605835, 0.10313791036605835, 0.5156895518302917, 0.96027672290802, 0.008651141077280045, 0.008651141077280045, 0.008651141077280045, 0.9279012084007263, 0.01496614795178175, 0.01496614795178175, 0.01496614795178175, 0.01496614795178175, 0.08435681462287903, 0.08435681462287903, 0.08435681462287903, 0.08435681462287903, 0.5904976725578308, 0.9357379674911499, 0.007035623770207167, 0.007035623770207167, 0.03517812117934227, 0.07847902178764343, 0.07847902178764343, 0.07847902178764343, 0.07847902178764343, 0.6278321743011475, 0.12667717039585114, 0.12667717039585114, 0.12667717039585114, 0.5067086815834045, 0.9109243750572205, 0.037955183535814285, 0.0151820732280612, 0.0075910366140306, 0.0075910366140306, 0.0075910366140306, 0.06186828017234802, 0.06186828017234802, 0.06186828017234802, 0.06186828017234802, 0.6805510520935059, 0.010667004622519016, 0.021334009245038033, 0.9386963844299316, 0.010667004622519016, 0.03510825335979462, 0.07021650671958923, 0.03510825335979462, 0.807489812374115, 0.08265979588031769, 0.08265979588031769, 0.08265979588031769, 0.08265979588031769, 0.578618586063385, 0.04540809988975525, 0.04540809988975525, 0.04540809988975525, 0.7719376683235168, 0.05580440163612366, 0.05580440163612366, 0.05580440163612366, 0.7254572510719299, 0.06576617062091827, 0.13153234124183655, 0.06576617062091827, 0.06576617062091827, 0.591895580291748, 0.6654664874076843, 0.31794512271881104, 0.003697036299854517, 0.003697036299854517, 0.09312859922647476, 0.09312859922647476, 0.09312859922647476, 0.09312859922647476, 0.4656430184841156, 0.531939685344696, 0.45551159977912903, 0.0030571247916668653, 0.0030571247916668653, 0.13052938878536224, 0.13052938878536224, 0.13052938878536224, 0.3915881812572479, 0.20532068610191345, 0.10266034305095673, 0.10266034305095673, 0.4106413722038269, 0.05576048791408539, 0.05576048791408539, 0.05576048791408539, 0.05576048791408539, 0.05576048791408539, 0.7248863577842712, 0.0017241418827325106, 0.003448283765465021, 0.7189671993255615, 0.2724144160747528, 0.1394197791814804, 0.1394197791814804, 0.1394197791814804, 0.1394197791814804, 0.41825932264328003, 0.02953183837234974, 0.02953183837234974, 0.8564233183860779, 0.02953183837234974, 0.13674375414848328, 0.13674375414848328, 0.13674375414848328, 0.13674375414848328, 0.41023126244544983, 0.05126901715993881, 0.05126901715993881, 0.05126901715993881, 0.05126901715993881, 0.769035279750824, 0.12641476094722748, 0.12641476094722748, 0.12641476094722748, 0.12641476094722748, 0.37924429774284363, 0.1403207629919052, 0.1403207629919052, 0.1403207629919052, 0.1403207629919052, 0.2806415259838104, 0.10088476538658142, 0.10088476538658142, 0.10088476538658142, 0.10088476538658142, 0.5044238567352295, 0.006080043502151966, 0.972806990146637, 0.006080043502151966, 0.006080043502151966, 0.09437371790409088, 0.09437371790409088, 0.09437371790409088, 0.09437371790409088, 0.18874743580818176, 0.3774948716163635, 0.054046764969825745, 0.054046764969825745, 0.054046764969825745, 0.054046764969825745, 0.7566547393798828, 0.05281003937125206, 0.05281003937125206, 0.7393405437469482, 0.05281003937125206, 0.05281003937125206, 0.05281003937125206, 0.05281003937125206, 0.015192145481705666, 0.926720917224884, 0.015192145481705666, 0.015192145481705666, 0.08402792364358902, 0.08402792364358902, 0.08402792364358902, 0.08402792364358902, 0.5881955027580261, 0.06610777229070663, 0.06610777229070663, 0.06610777229070663, 0.06610777229070663, 0.6610777378082275, 0.028683653101325035, 0.028683653101325035, 0.028683653101325035, 0.028683653101325035, 0.8605095744132996, 0.9936015605926514, 0.0009837639518082142, 0.0009837639518082142, 0.0009837639518082142, 0.0009837639518082142, 0.0009837639518082142, 0.9627473950386047, 0.008595959283411503, 0.008595959283411503, 0.008595959283411503, 0.07951747626066208, 0.07951747626066208, 0.07951747626066208, 0.07951747626066208, 0.6361398100852966, 0.11651313304901123, 0.11651313304901123, 0.11651313304901123, 0.3495393991470337, 0.10680312663316727, 0.10680312663316727, 0.10680312663316727, 0.10680312663316727, 0.5340156555175781, 0.014676325023174286, 0.8732413649559021, 0.08071979135274887, 0.014676325023174286, 0.007338162511587143, 0.007338162511587143, 0.11388585716485977, 0.11388585716485977, 0.11388585716485977, 0.4555434286594391, 0.06367722153663635, 0.2547088861465454, 0.06367722153663635, 0.06367722153663635, 0.5094177722930908, 0.0908651128411293, 0.0908651128411293, 0.0908651128411293, 0.0908651128411293, 0.0908651128411293, 0.5451906323432922, 0.49543097615242004, 0.21018284559249878, 0.030026119202375412, 0.015013059601187706, 0.22519589960575104, 0.039432935416698456, 0.039432935416698456, 0.039432935416698456, 0.7886586785316467, 0.06621013581752777, 0.06621013581752777, 0.06621013581752777, 0.06621013581752777, 0.6621013283729553, 0.06451475620269775, 0.06451475620269775, 0.774177074432373, 0.13373830914497375, 0.13373830914497375, 0.13373830914497375, 0.40121495723724365, 0.10057926177978516, 0.10057926177978516, 0.10057926177978516, 0.6034755706787109, 0.07966244220733643, 0.23898732662200928, 0.07966244220733643, 0.15932488441467285, 0.3186497688293457, 0.06217328831553459, 0.3419530689716339, 0.49738630652427673, 0.031086644157767296, 0.031086644157767296, 0.05195574834942818, 0.05195574834942818, 0.05195574834942818, 0.05195574834942818, 0.7793362140655518, 0.011103719472885132, 0.9105049967765808, 0.011103719472885132, 0.04441487789154053, 0.05189260467886925, 0.05189260467886925, 0.05189260467886925, 0.7264964580535889, 0.05189260467886925, 0.38763847947120667, 0.06460641324520111, 0.06460641324520111, 0.06460641324520111, 0.25842565298080444, 0.06460641324520111, 0.14346843957901, 0.14346843957901, 0.14346843957901, 0.4304053485393524, 0.9501693844795227, 0.009897598065435886, 0.009897598065435886, 0.009897598065435886, 0.016288574784994125, 0.9284487366676331, 0.016288574784994125, 0.016288574784994125, 0.013566317968070507, 0.013566317968070507, 0.9360759258270264, 0.013566317968070507, 0.5079395174980164, 0.47956302762031555, 0.002837651176378131, 0.002837651176378131, 0.017618214711546898, 0.017618214711546898, 0.017618214711546898, 0.9161472320556641, 0.08361276239156723, 0.08361276239156723, 0.08361276239156723, 0.08361276239156723, 0.5852892994880676, 0.8901860117912292, 0.10328124463558197, 0.00295089278370142, 0.000983630889095366, 0.9705917835235596, 0.011884797364473343, 0.003961598966270685, 0.003961598966270685, 0.5914503931999207, 0.4024469554424286, 0.001629339880309999, 0.001629339880309999, 0.53542560338974, 0.4514372646808624, 0.003499513491988182, 0.003499513491988182, 0.003499513491988182, 0.008033042773604393, 0.9559321403503418, 0.008033042773604393, 0.008033042773604393, 0.15875308215618134, 0.15875308215618134, 0.15875308215618134, 0.31750616431236267, 0.8866565227508545, 0.0876913070678711, 0.004871739074587822, 0.004871739074587822, 0.004871739074587822, 0.019924530759453773, 0.019924530759453773, 0.019924530759453773, 0.9165284037590027, 0.977971076965332, 0.012186556123197079, 0.0030466390307992697, 0.0030466390307992697, 0.013036916963756084, 0.013036916963756084, 0.9386579990386963, 0.013036916963756084, 0.27614861726760864, 0.06903715431690216, 0.06903715431690216, 0.06903715431690216, 0.20711146295070648, 0.27614861726760864, 0.0074113416485488415, 0.9742545485496521, 0.0006737583316862583, 0.0161701999604702, 0.040420930832624435, 0.9296814203262329, 0.010105232708156109, 0.010105232708156109, 0.010105232708156109, 0.03973282873630524, 0.03973282873630524, 0.03973282873630524, 0.03973282873630524, 0.7946565747261047, 0.5492773056030273, 0.4471406042575836, 0.00038983486592769623, 0.001559339463710785, 0.00038983486592769623, 0.00038983486592769623, 0.00038983486592769623, 0.027917584404349327, 0.027917584404349327, 0.027917584404349327, 0.8654451370239258, 0.09324528276920319, 0.09324528276920319, 0.09324528276920319, 0.09324528276920319, 0.5594716668128967, 0.057871829718351364, 0.057871829718351364, 0.7523338198661804, 0.5664379000663757, 0.02427591010928154, 0.07282773405313492, 0.07282773405313492, 0.13756349682807922, 0.09710364043712616, 0.008091970346868038, 0.008091970346868038, 0.07655803114175797, 0.07655803114175797, 0.07655803114175797, 0.07655803114175797, 0.6124642491340637, 0.025008181110024452, 0.9253026843070984, 0.012504090555012226, 0.012504090555012226, 0.012504090555012226, 0.39109063148498535, 0.6013940572738647, 0.0018447671318426728, 0.0018447671318426728, 0.044664166867733, 0.044664166867733, 0.8039550185203552, 0.9558444023132324, 0.028113070875406265, 0.004685511812567711, 0.004685511812567711, 0.11287008970975876, 0.11287008970975876, 0.11287008970975876, 0.45148035883903503, 0.02169257029891014, 0.02169257029891014, 0.02169257029891014, 0.02169257029891014, 0.8893954157829285, 0.039885006844997406, 0.039885006844997406, 0.039885006844997406, 0.039885006844997406, 0.7977001070976257, 0.03222522884607315, 0.03222522884607315, 0.03222522884607315, 0.8378559350967407, 0.05206098407506943, 0.05206098407506943, 0.05206098407506943, 0.7288537621498108, 0.9589895009994507, 0.01020201575011015, 0.01020201575011015, 0.01020201575011015, 0.10575292259454727, 0.21150584518909454, 0.10575292259454727, 0.4230116903781891, 0.09443710744380951, 0.09443710744380951, 0.09443710744380951, 0.5666226148605347, 0.03640110045671463, 0.03640110045671463, 0.03640110045671463, 0.03640110045671463, 0.8372253179550171, 0.9803507924079895, 0.003741796826943755, 0.003741796826943755, 0.003741796826943755, 0.03069048374891281, 0.03069048374891281, 0.03069048374891281, 0.8593335747718811, 0.00750074302777648, 0.00750074302777648, 0.00750074302777648, 0.9675958156585693, 0.06269656866788864, 0.06269656866788864, 0.06269656866788864, 0.06269656866788864, 0.6896622180938721, 0.03206906467676163, 0.03206906467676163, 0.03206906467676163, 0.8337956666946411, 0.2264229655265808, 0.0188685804605484, 0.0188685804605484, 0.6981374621391296, 0.0188685804605484, 0.11939084529876709, 0.11939084529876709, 0.11939084529876709, 0.47756338119506836], \"Term\": [\"absolute\", \"absolute\", \"absolute\", \"absolute\", \"absolute\", \"accept\", \"accept\", \"accept\", \"accept\", \"accept\", \"admirals\", \"admirals\", \"admirals\", \"admirals\", \"ahhhh\", \"ahhhh\", \"ahhhh\", \"ahhhh\", \"airline\", \"airline\", \"airline\", \"airline\", \"airlines\", \"airlines\", \"airlines\", \"airlines\", \"airplanes\", \"airplanes\", \"airplanes\", \"airplanes\", \"airport\", \"airport\", \"airport\", \"airport\", \"airways\", \"airways\", \"airways\", \"airways\", \"airways\", \"alliance\", \"alliance\", \"alliance\", \"alliance\", \"alliance\", \"amaze\", \"amaze\", \"amaze\", \"amaze\", \"american\", \"american\", \"american\", \"american\", \"american\", \"americanair\", \"americanair\", \"americanair\", \"americanair\", \"americanair\", \"americanair\", \"americanair\", \"americanair\", \"answer\", \"answer\", \"answer\", \"answer\", \"apparently\", \"apparently\", \"apparently\", \"apparently\", \"apparently\", \"appease\", \"appease\", \"appease\", \"appreciate\", \"appreciate\", \"appreciate\", \"appreciate\", \"approach\", \"approach\", \"approach\", \"approach\", \"arrive\", \"arrive\", \"arrive\", \"assist\", \"assist\", \"assist\", \"assist\", \"assist\", \"assult\", \"assult\", \"assult\", \"assult\", \"assult\", \"assult\", \"attendant\", \"attendant\", \"attendant\", \"attendant\", \"attendant\", \"attention\", \"attention\", \"attention\", \"attention\", \"attention\", \"august\", \"august\", \"august\", \"august\", \"austin\", \"austin\", \"austin\", \"austin\", \"avgeek\", \"avgeek\", \"avgeek\", \"avgeek\", \"aware\", \"aware\", \"aware\", \"aware\", \"aware\", \"awesome\", \"awesome\", \"awesome\", \"awesome\", \"awesome\", \"awful\", \"awful\", \"awful\", \"awful\", \"baby\", \"baby\", \"baby\", \"baby\", \"baby\", \"bag\", \"bag\", \"bag\", \"bag\", \"baggage\", \"baggage\", \"baggage\", \"baggage\", \"balance\", \"balance\", \"balance\", \"balance\", \"battle\", \"battle\", \"battle\", \"best\", \"best\", \"best\", \"best\", \"best\", \"better\", \"better\", \"better\", \"better\", \"blah\", \"blah\", \"blah\", \"blah\", \"bloody\", \"bloody\", \"bloody\", \"bloody\", \"blow\", \"blow\", \"blow\", \"blow\", \"blow\", \"blue\", \"blue\", \"blue\", \"blue\", \"board\", \"board\", \"board\", \"board\", \"book\", \"book\", \"book\", \"book\", \"boston\", \"boston\", \"boston\", \"boston\", \"bottle\", \"bottle\", \"bottle\", \"bottle\", \"bottle\", \"bump\", \"bump\", \"bump\", \"bump\", \"bump\", \"cabin\", \"cabin\", \"cabin\", \"cabin\", \"cabin\", \"call\", \"call\", \"call\", \"call\", \"cancel\", \"cancel\", \"cancel\", \"cancel\", \"care\", \"care\", \"care\", \"care\", \"carry\", \"carry\", \"carry\", \"carry\", \"carry\", \"central\", \"central\", \"central\", \"central\", \"central\", \"certainly\", \"certainly\", \"certainly\", \"certainly\", \"certainly\", \"change\", \"change\", \"change\", \"change\", \"character\", \"character\", \"character\", \"character\", \"character\", \"charlotte\", \"charlotte\", \"charlotte\", \"charlotte\", \"cheap\", \"cheap\", \"cheap\", \"cheap\", \"cheap\", \"check\", \"check\", \"check\", \"check\", \"check\", \"checkin\", \"checkin\", \"checkin\", \"checkin\", \"checkin\", \"cheer\", \"cheer\", \"cheer\", \"cheer\", \"child\", \"child\", \"child\", \"child\", \"citizen\", \"citizen\", \"citizen\", \"citizen\", \"citizen\", \"citizen\", \"citizen\", \"click\", \"click\", \"click\", \"click\", \"click\", \"club\", \"club\", \"club\", \"club\", \"coast\", \"coast\", \"coast\", \"coast\", \"coast\", \"coat\", \"coat\", \"coat\", \"coat\", \"coat\", \"coffee\", \"coffee\", \"coffee\", \"coffee\", \"coffee\", \"coffee\", \"coffee\", \"come\", \"come\", \"come\", \"come\", \"come\", \"comfortable\", \"comfortable\", \"comfortable\", \"comfortable\", \"comfortable\", \"complaint\", \"complaint\", \"complaint\", \"complaint\", \"complaints\", \"complaints\", \"complaints\", \"complaints\", \"complete\", \"complete\", \"complete\", \"complete\", \"complimentary\", \"complimentary\", \"complimentary\", \"complimentary\", \"connect\", \"connect\", \"connect\", \"connect\", \"connect\", \"connection\", \"connection\", \"connection\", \"control\", \"control\", \"control\", \"control\", \"control\", \"copy\", \"copy\", \"copy\", \"copy\", \"copy\", \"costa\", \"costa\", \"costa\", \"costa\", \"country\", \"country\", \"country\", \"country\", \"couple\", \"couple\", \"couple\", \"couple\", \"couple\", \"course\", \"course\", \"course\", \"course\", \"course\", \"crackers\", \"crackers\", \"crackers\", \"crackers\", \"crackers\", \"crazy\", \"crazy\", \"crazy\", \"crazy\", \"crazy\", \"create\", \"create\", \"create\", \"create\", \"create\", \"credit\", \"credit\", \"credit\", \"credit\", \"crew\", \"crew\", \"crew\", \"crew\", \"crowd\", \"crowd\", \"crowd\", \"crowd\", \"crowd\", \"crowd\", \"currently\", \"currently\", \"currently\", \"currently\", \"currently\", \"customer\", \"customer\", \"customer\", \"customer\", \"customers\", \"customers\", \"customers\", \"customers\", \"daily\", \"daily\", \"daily\", \"daily\", \"daily\", \"dance\", \"dance\", \"dance\", \"dance\", \"dang\", \"dang\", \"dang\", \"dang\", \"delay\", \"delay\", \"delay\", \"delay\", \"departure\", \"departure\", \"departure\", \"deserve\", \"deserve\", \"deserve\", \"deserve\", \"deserve\", \"din\", \"din\", \"din\", \"din\", \"disappoint\", \"disappoint\", \"disappoint\", \"disappoint\", \"disappointment\", \"disappointment\", \"disappointment\", \"disappointment\", \"disappointment\", \"domestic\", \"domestic\", \"domestic\", \"domestic\", \"domestic\", \"door\", \"door\", \"door\", \"door\", \"door\", \"drink\", \"drink\", \"drink\", \"drink\", \"drink\", \"earlier\", \"earlier\", \"earlier\", \"eastern\", \"eastern\", \"eastern\", \"eastern\", \"email\", \"email\", \"email\", \"email\", \"embarrass\", \"embarrass\", \"embarrass\", \"embarrass\", \"embarrass\", \"employees\", \"employees\", \"employees\", \"employees\", \"enjoy\", \"enjoy\", \"enjoy\", \"enjoy\", \"enjoy\", \"errors\", \"errors\", \"errors\", \"errors\", \"especially\", \"especially\", \"especially\", \"especially\", \"excellent\", \"excellent\", \"excellent\", \"excellent\", \"excellent\", \"expect\", \"expect\", \"expect\", \"expect\", \"experience\", \"experience\", \"experience\", \"experience\", \"expire\", \"expire\", \"expire\", \"expire\", \"fall\", \"fall\", \"fall\", \"fall\", \"fall\", \"fantastic\", \"fantastic\", \"fantastic\", \"fare\", \"fare\", \"fare\", \"fare\", \"fast\", \"fast\", \"fast\", \"fast\", \"fast\", \"feet\", \"feet\", \"feet\", \"feet\", \"feet\", \"fire\", \"fire\", \"fire\", \"fire\", \"fire\", \"fleek\", \"fleek\", \"fleek\", \"fleet\", \"fleet\", \"fleet\", \"flight\", \"flight\", \"flight\", \"flight\", \"flightd\", \"flightd\", \"flightd\", \"flightd\", \"flightd\", \"flightled\", \"flightled\", \"flightled\", \"flightled\", \"flightr\", \"flightr\", \"flightr\", \"flightr\", \"follow\", \"follow\", \"follow\", \"follow\", \"follow\", \"force\", \"force\", \"force\", \"force\", \"force\", \"freeze\", \"freeze\", \"freeze\", \"freeze\", \"friday\", \"friday\", \"friday\", \"friday\", \"friendly\", \"friendly\", \"friendly\", \"friendly\", \"friends\", \"friends\", \"friends\", \"friends\", \"fuck\", \"fuck\", \"fuck\", \"fuck\", \"fuck\", \"fund\", \"fund\", \"fund\", \"fund\", \"funny\", \"funny\", \"funny\", \"funny\", \"funny\", \"game\", \"game\", \"game\", \"game\", \"game\", \"gate\", \"gate\", \"gate\", \"gate\", \"go\", \"go\", \"go\", \"go\", \"go\", \"great\", \"great\", \"great\", \"great\", \"great\", \"greet\", \"greet\", \"greet\", \"greet\", \"grind\", \"grind\", \"grind\", \"grind\", \"gross\", \"gross\", \"gross\", \"gross\", \"guy\", \"guy\", \"guy\", \"guy\", \"hand\", \"hand\", \"hand\", \"hand\", \"hang\", \"hang\", \"hang\", \"hang\", \"hang\", \"hate\", \"hate\", \"hate\", \"hate\", \"head\", \"head\", \"head\", \"head\", \"help\", \"help\", \"help\", \"help\", \"hire\", \"hire\", \"hire\", \"hire\", \"hold\", \"hold\", \"hold\", \"hold\", \"hope\", \"hope\", \"hope\", \"hope\", \"hope\", \"hope\", \"horrible\", \"horrible\", \"horrible\", \"horrible\", \"horrible\", \"horrible\", \"hotel\", \"hotel\", \"hotel\", \"hotel\", \"hour\", \"hour\", \"hour\", \"hour\", \"hours\", \"hours\", \"hours\", \"hours\", \"http\", \"http\", \"http\", \"http\", \"https\", \"https\", \"https\", \"https\", \"https\", \"husband\", \"husband\", \"husband\", \"husband\", \"husband\", \"ignore\", \"ignore\", \"ignore\", \"ignore\", \"imaginedragons\", \"imaginedragons\", \"imaginedragons\", \"imaginedragons\", \"imaginedragons\", \"imaginedragons\", \"include\", \"include\", \"include\", \"include\", \"inflight\", \"inflight\", \"inflight\", \"inflight\", \"instead\", \"instead\", \"instead\", \"instead\", \"instead\", \"insult\", \"insult\", \"insult\", \"insult\", \"itinerary\", \"itinerary\", \"itinerary\", \"itinerary\", \"itinerary\", \"jetblue\", \"jetblue\", \"jetblue\", \"jetblue\", \"jetblue\", \"joke\", \"joke\", \"joke\", \"joke\", \"joke\", \"journal\", \"journal\", \"journal\", \"know\", \"know\", \"know\", \"know\", \"lack\", \"lack\", \"lack\", \"lack\", \"lady\", \"lady\", \"lady\", \"lady\", \"lady\", \"land\", \"land\", \"land\", \"land\", \"late\", \"late\", \"late\", \"late\", \"lauren\", \"lauren\", \"lauren\", \"lauren\", \"leave\", \"leave\", \"leave\", \"leave\", \"legroom\", \"legroom\", \"legroom\", \"legroom\", \"legroom\", \"legroom\", \"level\", \"level\", \"level\", \"level\", \"level\", \"life\", \"life\", \"life\", \"life\", \"life\", \"like\", \"like\", \"like\", \"like\", \"like\", \"likely\", \"likely\", \"likely\", \"likely\", \"likely\", \"limit\", \"limit\", \"limit\", \"limit\", \"limit\", \"line\", \"line\", \"line\", \"line\", \"look\", \"look\", \"look\", \"look\", \"love\", \"love\", \"love\", \"love\", \"love\", \"love_dragonss\", \"love_dragonss\", \"love_dragonss\", \"love_dragonss\", \"loyal\", \"loyal\", \"loyal\", \"loyal\", \"luckily\", \"luckily\", \"luckily\", \"luckily\", \"luckily\", \"luggage\", \"luggage\", \"luggage\", \"luggage\", \"luggage\", \"main\", \"main\", \"main\", \"main\", \"main\", \"manager\", \"manager\", \"manager\", \"manager\", \"manager\", \"mary\", \"mary\", \"mary\", \"mary\", \"mechanical\", \"mechanical\", \"mechanical\", \"mechanical\", \"media\", \"media\", \"media\", \"media\", \"mention\", \"mention\", \"mention\", \"mention\", \"mess\", \"mess\", \"mess\", \"mess\", \"mess\", \"miles\", \"miles\", \"miles\", \"miles\", \"mins\", \"mins\", \"mins\", \"mins\", \"minute\", \"minute\", \"minute\", \"minute\", \"minute\", \"miss\", \"miss\", \"miss\", \"miss\", \"moment\", \"moment\", \"moment\", \"moment\", \"money\", \"money\", \"money\", \"money\", \"music\", \"music\", \"music\", \"music\", \"national\", \"national\", \"national\", \"national\", \"need\", \"need\", \"need\", \"need\", \"news\", \"news\", \"news\", \"news\", \"news\", \"nonstop\", \"nonstop\", \"nonstop\", \"nonstop\", \"note\", \"note\", \"note\", \"note\", \"note\", \"number\", \"number\", \"number\", \"number\", \"offer\", \"offer\", \"offer\", \"offer\", \"offer\", \"ones\", \"ones\", \"ones\", \"ones\", \"online\", \"online\", \"online\", \"online\", \"order\", \"order\", \"order\", \"order\", \"outlets\", \"outlets\", \"outlets\", \"outlets\", \"overhead\", \"overhead\", \"overhead\", \"overhead\", \"overhead\", \"page\", \"page\", \"page\", \"page\", \"page\", \"pair\", \"pair\", \"pair\", \"pair\", \"pair\", \"pair\", \"palm\", \"palm\", \"palm\", \"palm\", \"partnership\", \"partnership\", \"partnership\", \"partnership\", \"passengers\", \"passengers\", \"passengers\", \"passengers\", \"passengers\", \"peanuts\", \"peanuts\", \"peanuts\", \"peanuts\", \"perfect\", \"perfect\", \"perfect\", \"perfect\", \"performance\", \"performance\", \"performance\", \"performance\", \"performance\", \"phone\", \"phone\", \"phone\", \"phone\", \"photo\", \"photo\", \"photo\", \"photo\", \"pick\", \"pick\", \"pick\", \"pick\", \"picture\", \"picture\", \"picture\", \"picture\", \"picture\", \"pilot\", \"pilot\", \"pilot\", \"pilot\", \"plane\", \"plane\", \"plane\", \"plane\", \"plat\", \"plat\", \"plat\", \"plat\", \"point\", \"point\", \"point\", \"point\", \"police\", \"police\", \"police\", \"police\", \"poor\", \"poor\", \"poor\", \"poor\", \"possible\", \"possible\", \"possible\", \"possible\", \"possible\", \"post\", \"post\", \"post\", \"post\", \"post\", \"power\", \"power\", \"power\", \"power\", \"program\", \"program\", \"program\", \"program\", \"program\", \"progress\", \"progress\", \"progress\", \"progress\", \"progress\", \"quick\", \"quick\", \"quick\", \"quick\", \"quick\", \"raise\", \"raise\", \"raise\", \"raise\", \"raise\", \"read\", \"read\", \"read\", \"read\", \"ready\", \"ready\", \"ready\", \"ready\", \"ready\", \"reagan\", \"reagan\", \"reagan\", \"reagan\", \"reagan\", \"real\", \"real\", \"real\", \"real\", \"real\", \"receive\", \"receive\", \"receive\", \"receive\", \"receive\", \"recommend\", \"recommend\", \"recommend\", \"recommend\", \"recommend\", \"relate\", \"relate\", \"relate\", \"relate\", \"relations\", \"relations\", \"relations\", \"relations\", \"replace\", \"replace\", \"replace\", \"replace\", \"replace\", \"represent\", \"represent\", \"represent\", \"represent\", \"representative\", \"representative\", \"representative\", \"representative\", \"representative\", \"reps\", \"reps\", \"reps\", \"reps\", \"reps\", \"require\", \"require\", \"require\", \"require\", \"require\", \"reroute\", \"reroute\", \"reroute\", \"reroute\", \"reroute\", \"reservation\", \"reservation\", \"reservation\", \"reservation\", \"reservations\", \"reservations\", \"reservations\", \"reservations\", \"reservations\", \"reserve\", \"reserve\", \"reserve\", \"reserve\", \"reserve\", \"response\", \"response\", \"response\", \"response\", \"result\", \"result\", \"result\", \"result\", \"result\", \"rica\", \"rica\", \"rica\", \"rica\", \"right\", \"right\", \"right\", \"right\", \"right\", \"right\", \"route\", \"route\", \"route\", \"route\", \"route\", \"rude\", \"rude\", \"rude\", \"rude\", \"ruin\", \"ruin\", \"ruin\", \"ruin\", \"rule\", \"rule\", \"rule\", \"rule\", \"rule\", \"run\", \"run\", \"run\", \"run\", \"safety\", \"safety\", \"safety\", \"safety\", \"saturday\", \"saturday\", \"saturday\", \"saturday\", \"saturday\", \"say\", \"say\", \"say\", \"say\", \"school\", \"school\", \"school\", \"school\", \"school\", \"seat\", \"seat\", \"seat\", \"seat\", \"seek\", \"seek\", \"seek\", \"seek\", \"separate\", \"separate\", \"separate\", \"separate\", \"serve\", \"serve\", \"serve\", \"serve\", \"serve\", \"serve\", \"service\", \"service\", \"service\", \"service\", \"sexual\", \"sexual\", \"sexual\", \"sexual\", \"sexual\", \"share\", \"share\", \"share\", \"share\", \"shirt\", \"shirt\", \"shirt\", \"shirt\", \"shirt\", \"shit\", \"shit\", \"shit\", \"shit\", \"shit\", \"sight\", \"sight\", \"sight\", \"sight\", \"sight\", \"silence\", \"silence\", \"silence\", \"silence\", \"silence\", \"simple\", \"simple\", \"simple\", \"simple\", \"simple\", \"sit\", \"sit\", \"sit\", \"sit\", \"size\", \"size\", \"size\", \"size\", \"size\", \"size\", \"small\", \"small\", \"small\", \"small\", \"small\", \"snack\", \"snack\", \"snack\", \"snack\", \"snack\", \"snack\", \"snack\", \"snow\", \"snow\", \"snow\", \"snow\", \"solution\", \"solution\", \"solution\", \"solution\", \"solution\", \"south\", \"south\", \"south\", \"south\", \"south\", \"southwest\", \"southwest\", \"southwest\", \"southwest\", \"southwest\", \"southwestair\", \"southwestair\", \"southwestair\", \"southwestair\", \"southwestair\", \"southwestair\", \"speak\", \"speak\", \"speak\", \"speak\", \"special\", \"special\", \"special\", \"special\", \"special\", \"spot\", \"spot\", \"spot\", \"spot\", \"spring\", \"spring\", \"spring\", \"spring\", \"spring\", \"staff\", \"staff\", \"staff\", \"staff\", \"staff\", \"staff\", \"star\", \"star\", \"star\", \"star\", \"step\", \"step\", \"step\", \"step\", \"step\", \"stewardess\", \"stewardess\", \"stewardess\", \"stewardess\", \"stewardess\", \"stewardess\", \"stop\", \"stop\", \"stop\", \"stop\", \"stop\", \"storm\", \"storm\", \"storm\", \"storm\", \"story\", \"story\", \"story\", \"story\", \"story\", \"street\", \"street\", \"street\", \"student\", \"student\", \"student\", \"student\", \"suit\", \"suit\", \"suit\", \"suit\", \"suitcase\", \"suitcase\", \"suitcase\", \"suitcase\", \"suitcase\", \"sunday\", \"sunday\", \"sunday\", \"sunday\", \"sunday\", \"super\", \"super\", \"super\", \"super\", \"super\", \"suppose\", \"suppose\", \"suppose\", \"suppose\", \"surprise\", \"surprise\", \"surprise\", \"surprise\", \"surprise\", \"systems\", \"systems\", \"systems\", \"systems\", \"systems\", \"systems\", \"table\", \"table\", \"table\", \"table\", \"talk\", \"talk\", \"talk\", \"talk\", \"tarmac\", \"tarmac\", \"tarmac\", \"tarmac\", \"team\", \"team\", \"team\", \"team\", \"tell\", \"tell\", \"tell\", \"tell\", \"terrible\", \"terrible\", \"terrible\", \"terrible\", \"texas\", \"texas\", \"texas\", \"texas\", \"texas\", \"thank\", \"thank\", \"thank\", \"thank\", \"ticket\", \"ticket\", \"ticket\", \"ticket\", \"time\", \"time\", \"time\", \"time\", \"today\", \"today\", \"today\", \"today\", \"today\", \"tonight\", \"tonight\", \"tonight\", \"tonight\", \"top\", \"top\", \"top\", \"top\", \"travel\", \"travel\", \"travel\", \"travel\", \"travel\", \"treat\", \"treat\", \"treat\", \"treat\", \"try\", \"try\", \"try\", \"try\", \"tweet\", \"tweet\", \"tweet\", \"tweet\", \"understaffing\", \"understaffing\", \"understaffing\", \"understaffing\", \"understaffing\", \"understaffing\", \"unite\", \"unite\", \"unite\", \"unite\", \"upgrade\", \"upgrade\", \"upgrade\", \"upgrade\", \"upgrade\", \"upset\", \"upset\", \"upset\", \"upset\", \"upset\", \"usairways\", \"usairways\", \"usairways\", \"usairways\", \"usairways\", \"usairways\", \"usairways\", \"vegas\", \"vegas\", \"vegas\", \"vegas\", \"video\", \"video\", \"video\", \"video\", \"video\", \"view\", \"view\", \"view\", \"virginamerica\", \"virginamerica\", \"virginamerica\", \"virginamerica\", \"virginamerica\", \"virginamerica\", \"virginamerica\", \"virginamerica\", \"visit\", \"visit\", \"visit\", \"visit\", \"visit\", \"voucher\", \"voucher\", \"voucher\", \"voucher\", \"voucher\", \"wait\", \"wait\", \"wait\", \"wait\", \"wall\", \"wall\", \"wall\", \"want\", \"want\", \"want\", \"want\", \"washington\", \"washington\", \"washington\", \"washington\", \"wasn\", \"wasn\", \"wasn\", \"wasn\", \"wasn\", \"waste\", \"waste\", \"waste\", \"waste\", \"waste\", \"watch\", \"watch\", \"watch\", \"watch\", \"water\", \"water\", \"water\", \"water\", \"website\", \"website\", \"website\", \"website\", \"weight\", \"weight\", \"weight\", \"weight\", \"wheel\", \"wheel\", \"wheel\", \"wheel\", \"word\", \"word\", \"word\", \"word\", \"word\", \"work\", \"work\", \"work\", \"work\", \"world\", \"world\", \"world\", \"world\", \"worst\", \"worst\", \"worst\", \"worst\", \"worth\", \"worth\", \"worth\", \"worth\", \"worth\", \"yeah\", \"yeah\", \"yeah\", \"yeah\", \"year\", \"year\", \"year\", \"year\", \"year\", \"zone\", \"zone\", \"zone\", \"zone\"]}, \"R\": 30, \"tinfo\": {\"Freq\": [3229.0, 3433.0, 1279.0, 1484.0, 600.0, 2565.0, 579.0, 1016.0, 864.0, 688.0, 438.0, 1016.0, 203.0, 462.0, 421.0, 396.0, 511.0, 644.0, 133.0, 313.0, 97.0, 104.0, 127.0, 334.0, 328.0, 112.0, 291.0, 82.0, 542.0, 613.0, 1010.4354248046875, 329.7221374511719, 243.37913513183594, 261.7326354980469, 267.43682861328125, 320.9298095703125, 167.57994079589844, 245.25704956054688, 173.25857543945312, 140.4911651611328, 206.9374542236328, 132.46556091308594, 166.41693115234375, 492.6822204589844, 111.19081115722656, 111.57970428466797, 3090.723876953125, 99.13802337646484, 203.88711547851562, 93.53781127929688, 145.94766235351562, 95.94359588623047, 105.21585083007812, 82.46113586425781, 78.2138900756836, 69.44799041748047, 132.57940673828125, 86.4724349975586, 61.95891189575195, 68.54933166503906, 250.24594116210938, 905.13720703125, 568.185791015625, 280.5836486816406, 182.234130859375, 267.9348449707031, 356.533447265625, 120.00514221191406, 1409.312255859375, 362.9820251464844, 180.01141357421875, 660.7352905273438, 236.747802734375, 174.3564910888672, 211.95530700683594, 179.04701232910156, 173.5477294921875, 223.0787353515625, 167.65142822265625, 859.5406494140625, 684.32470703125, 417.6698913574219, 457.57781982421875, 392.4399719238281, 309.4200439453125, 160.2513427734375, 1445.939697265625, 175.53729248046875, 152.6567840576172, 123.8370361328125, 120.78275299072266, 109.56421661376953, 108.11263275146484, 99.75735473632812, 118.64735412597656, 277.3525695800781, 94.21841430664062, 103.15050506591797, 61.451324462890625, 57.36402130126953, 64.6812973022461, 60.509925842285156, 64.20785522460938, 74.40870666503906, 60.77536392211914, 91.56084442138672, 48.27754592895508, 60.610450744628906, 59.36553955078125, 204.2967071533203, 2768.462646484375, 81.7822494506836, 162.82669067382812, 118.56310272216797, 114.66877746582031, 207.72860717773438, 85.94287109375, 1147.4307861328125, 231.852783203125, 326.3172912597656, 269.06756591796875, 246.73887634277344, 169.26316833496094, 125.50825500488281, 137.72630310058594, 148.87979125976562, 133.43780517578125, 128.73037719726562, 124.70606994628906, 595.5333862304688, 77.07156372070312, 76.40128326416016, 71.78057098388672, 87.66722869873047, 68.8645248413086, 49.92147445678711, 29.174901962280273, 48.865474700927734, 1050.66259765625, 21.157337188720703, 18.262592315673828, 21.357114791870117, 16.615964889526367, 12.969188690185547, 16.551868438720703, 11.501530647277832, 10.855510711669922, 10.807833671569824, 12.682699203491211, 416.9940185546875, 13.542914390563965, 312.0928955078125, 11.806899070739746, 11.345794677734375, 9.031330108642578, 9.944727897644043, 11.262701988220215, 39.434322357177734, 9.199204444885254, 10.356125831604004, 36.61729049682617, 18.298053741455078, 73.0461196899414, 23.446685791015625, 16.446062088012695, 35.037418365478516, 17.37771224975586, 23.093013763427734, 15.964503288269043, 13.874788284301758, 13.323175430297852, 197.68711853027344, 128.87326049804688, 76.08085632324219, 58.393470764160156, 118.00569152832031, 52.202003479003906, 102.86443328857422, 45.79611587524414, 45.846405029296875, 55.285247802734375, 37.8410758972168, 32.043827056884766, 27.74320411682129, 24.868955612182617, 26.219688415527344, 23.728580474853516, 25.659767150878906, 20.548969268798828, 20.099842071533203, 22.564376831054688, 18.82277488708496, 18.023239135742188, 17.640085220336914, 15.359201431274414, 13.82062816619873, 14.272026062011719, 23.186826705932617, 13.520196914672852, 15.204928398132324, 13.57271957397461, 36.73936462402344, 27.572486877441406, 157.68441772460938, 121.7489013671875, 28.344453811645508, 21.891340255737305, 24.112606048583984, 96.57437896728516, 49.268550872802734, 31.471202850341797, 29.975553512573242, 20.07915496826172, 19.84739112854004, 18.051687240600586, 17.194015502929688, 17.002721786499023, 15.861493110656738, 15.989375114440918, 14.005630493164062, 13.313888549804688, 13.412785530090332, 13.735471725463867, 14.052377700805664, 12.704997062683105, 12.506771087646484, 11.490434646606445, 13.515433311462402, 10.760095596313477, 11.801234245300293, 10.289168357849121, 9.642084121704102, 11.015780448913574, 8.10628604888916, 6.972366809844971, 7.605722427368164, 7.708885669708252, 6.961770534515381, 17.002229690551758, 78.30084991455078, 31.264205932617188, 30.180030822753906, 22.03101348876953, 23.06792449951172, 14.518741607666016, 14.83142375946045, 10.522649765014648, 9.536413192749023, 8.118756294250488, 7.835825443267822, 6.4825310707092285, 5.79013204574585, 6.529458999633789, 6.145878314971924, 7.394830226898193, 5.136453628540039, 4.693088054656982, 4.324981212615967, 4.643064975738525, 3.5919809341430664, 3.5919809341430664, 3.701608896255493, 3.271118402481079, 3.5230438709259033, 3.1890180110931396, 3.2586498260498047, 3.2854979038238525, 6.205775737762451, 2.9099714756011963, 7.268238067626953, 12.002213478088379, 3.4436564445495605, 92.18340301513672, 22.183963775634766, 19.60855484008789, 20.08572006225586, 16.08937644958496, 15.593430519104004, 14.672308921813965, 15.028912544250488, 9.648983001708984, 11.208507537841797, 9.297307968139648, 8.099286079406738, 9.295574188232422, 6.463266372680664, 6.3144707679748535, 6.784480094909668, 5.542934417724609, 4.849010944366455, 4.6092143058776855, 26.904193878173828, 4.4582600593566895, 3.934574604034424, 4.161864757537842, 3.2349328994750977, 13.324295997619629, 4.110113143920898, 3.1304757595062256, 3.216346025466919, 3.0618128776550293, 2.704812526702881, 4.41318416595459, 15.309162139892578, 3.968770742416382, 4.335398197174072, 40.844932556152344, 38.753719329833984, 22.323537826538086, 20.238109588623047, 17.608850479125977, 14.580698013305664, 14.169262886047363, 11.09296989440918, 9.108999252319336, 8.787369728088379, 8.322665214538574, 8.42377758026123, 7.253184795379639, 7.4785614013671875, 6.094366073608398, 5.661208629608154, 5.619136810302734, 5.9269914627075195, 5.447585105895996, 5.024754524230957, 4.822249412536621, 4.256049633026123, 3.8880858421325684, 4.344475269317627, 3.228654146194458, 3.2995054721832275, 3.891526222229004, 3.49591064453125, 2.9630823135375977, 2.5039451122283936, 2.5665597915649414, 5.2580952644348145, 22.575708389282227, 18.445039749145508, 13.370417594909668, 12.543633460998535, 11.197043418884277, 12.217238426208496, 10.415918350219727, 9.74714183807373, 8.64259147644043, 8.997282981872559, 7.535951614379883, 6.869349002838135, 6.773377895355225, 6.089038372039795, 5.727734088897705, 5.051880359649658, 4.80888032913208, 4.466580390930176, 5.077231407165527, 4.110023021697998, 4.19215726852417, 4.300744533538818, 3.6327097415924072, 4.105015277862549, 3.1260430812835693, 3.0389530658721924, 2.6615214347839355, 2.3672728538513184, 2.1712918281555176, 1.868357539176941, 2.7975242137908936, 3.5458106994628906, 14.271684646606445, 13.16276741027832, 14.059286117553711, 8.147955894470215, 15.814454078674316, 5.92466926574707, 5.276093482971191, 8.20423412322998, 5.3673810958862305, 4.335403919219971, 3.805136203765869, 3.6480679512023926, 3.2597415447235107, 3.2323224544525146, 3.3713419437408447, 3.1255617141723633, 3.076326608657837, 4.27396821975708, 2.893324851989746, 2.732914924621582, 3.1263349056243896, 2.7164053916931152, 2.5674731731414795, 2.6430280208587646, 2.7637948989868164, 2.680149793624878, 3.918328285217285, 2.5041658878326416, 2.311354637145996, 2.1812891960144043, 3.933852195739746, 2.4393599033355713], \"Term\": [\"americanair\", \"flight\", \"jetblue\", \"unite\", \"http\", \"usairways\", \"service\", \"southwestair\", \"cancel\", \"delay\", \"customer\", \"thank\", \"airline\", \"plane\", \"flightled\", \"gate\", \"hold\", \"help\", \"worst\", \"late\", \"come\", \"hang\", \"experience\", \"phone\", \"try\", \"customers\", \"miss\", \"best\", \"wait\", \"time\", \"southwestair\", \"phone\", \"guy\", \"work\", \"know\", \"try\", \"number\", \"ticket\", \"email\", \"online\", \"call\", \"answer\", \"look\", \"hold\", \"reservation\", \"speak\", \"americanair\", \"appreciate\", \"want\", \"website\", \"line\", \"talk\", \"miles\", \"credit\", \"point\", \"receive\", \"response\", \"hope\", \"reservations\", \"awesome\", \"like\", \"thank\", \"help\", \"book\", \"travel\", \"change\", \"need\", \"right\", \"usairways\", \"time\", \"say\", \"flight\", \"hours\", \"check\", \"wait\", \"tell\", \"seat\", \"jetblue\", \"go\", \"cancel\", \"delay\", \"flightled\", \"plane\", \"gate\", \"late\", \"sit\", \"unite\", \"crew\", \"baggage\", \"flightr\", \"land\", \"connection\", \"hotel\", \"arrive\", \"tonight\", \"miss\", \"connect\", \"mins\", \"grind\", \"tarmac\", \"earlier\", \"departure\", \"attendant\", \"voucher\", \"charlotte\", \"upgrade\", \"mechanical\", \"snow\", \"boston\", \"board\", \"flight\", \"suppose\", \"bag\", \"staff\", \"follow\", \"leave\", \"pilot\", \"usairways\", \"hour\", \"wait\", \"hours\", \"time\", \"tell\", \"luggage\", \"airport\", \"seat\", \"go\", \"today\", \"americanair\", \"http\", \"fleek\", \"fleet\", \"tweet\", \"rude\", \"team\", \"amaze\", \"share\", \"pick\", \"jetblue\", \"read\", \"wall\", \"relations\", \"friendly\", \"view\", \"country\", \"street\", \"battle\", \"appease\", \"fantastic\", \"service\", \"snack\", \"customer\", \"ignore\", \"photo\", \"journal\", \"insult\", \"level\", \"horrible\", \"inflight\", \"fall\", \"poor\", \"blue\", \"great\", \"american\", \"sunday\", \"love\", \"head\", \"passengers\", \"employees\", \"offer\", \"care\", \"airline\", \"worst\", \"airlines\", \"disappoint\", \"experience\", \"terrible\", \"customers\", \"treat\", \"expect\", \"money\", \"lack\", \"awful\", \"world\", \"media\", \"watch\", \"complaint\", \"yeah\", \"complete\", \"storm\", \"ruin\", \"hand\", \"hate\", \"mention\", \"complaints\", \"child\", \"surprise\", \"loyal\", \"hire\", \"enjoy\", \"program\", \"year\", \"real\", \"service\", \"customer\", \"better\", \"employees\", \"unite\", \"hang\", \"airways\", \"possible\", \"life\", \"https\", \"fare\", \"post\", \"run\", \"ready\", \"cabin\", \"crazy\", \"expire\", \"news\", \"baby\", \"small\", \"note\", \"page\", \"friday\", \"route\", \"austin\", \"include\", \"require\", \"south\", \"lady\", \"excellent\", \"visit\", \"nonstop\", \"result\", \"main\", \"texas\", \"virginamerica\", \"best\", \"vegas\", \"southwest\", \"drink\", \"minute\", \"accept\", \"husband\", \"order\", \"power\", \"special\", \"ones\", \"picture\", \"feet\", \"solution\", \"couple\", \"representative\", \"cheer\", \"moment\", \"click\", \"reroute\", \"rica\", \"costa\", \"blow\", \"outlets\", \"pair\", \"complimentary\", \"recommend\", \"comfortable\", \"absolute\", \"student\", \"imaginedragons\", \"virginamerica\", \"currently\", \"come\", \"mess\", \"quick\", \"waste\", \"friends\", \"apparently\", \"shit\", \"bump\", \"course\", \"itinerary\", \"assist\", \"deserve\", \"saturday\", \"plat\", \"stewardess\", \"reserve\", \"legroom\", \"perfect\", \"police\", \"american\", \"errors\", \"central\", \"disappointment\", \"eastern\", \"joke\", \"separate\", \"greet\", \"sight\", \"assult\", \"sexual\", \"suitcase\", \"stop\", \"raise\", \"systems\", \"wasn\", \"instead\", \"carry\", \"upset\", \"reps\", \"super\", \"control\", \"worth\", \"overhead\", \"especially\", \"embarrass\", \"likely\", \"coat\", \"rule\", \"wheel\", \"suit\", \"fast\", \"music\", \"school\", \"replace\", \"simple\", \"coast\", \"zone\", \"aware\", \"blah\", \"attention\", \"weight\", \"spot\", \"shirt\", \"dang\", \"dance\", \"force\", \"word\", \"fuck\", \"safety\", \"checkin\", \"flightd\", \"door\", \"story\", \"domestic\", \"relate\", \"character\", \"funny\", \"avgeek\", \"limit\", \"video\", \"coffee\", \"daily\", \"spring\", \"washington\", \"manager\", \"approach\", \"balance\", \"palm\", \"reagan\", \"gross\", \"national\", \"seek\", \"copy\", \"performance\", \"citizen\", \"partnership\", \"crowd\", \"understaffing\", \"water\", \"serve\", \"freeze\", \"admirals\", \"club\", \"game\", \"certainly\", \"step\", \"create\", \"star\", \"fire\", \"bottle\", \"luckily\", \"mary\", \"peanuts\", \"love_dragonss\", \"bloody\", \"size\", \"alliance\", \"ahhhh\", \"august\", \"crackers\", \"lauren\", \"table\", \"airplanes\", \"progress\", \"fund\", \"represent\", \"din\", \"top\", \"cheap\", \"silence\"], \"Category\": [\"Default\", \"Default\", \"Default\", \"Default\", \"Default\", \"Default\", \"Default\", \"Default\", \"Default\", \"Default\", \"Default\", \"Default\", \"Default\", \"Default\", \"Default\", \"Default\", \"Default\", \"Default\", \"Default\", \"Default\", \"Default\", \"Default\", \"Default\", \"Default\", \"Default\", \"Default\", \"Default\", \"Default\", \"Default\", \"Default\", \"Topic1\", \"Topic1\", \"Topic1\", \"Topic1\", \"Topic1\", \"Topic1\", \"Topic1\", \"Topic1\", \"Topic1\", \"Topic1\", \"Topic1\", \"Topic1\", \"Topic1\", \"Topic1\", \"Topic1\", \"Topic1\", \"Topic1\", \"Topic1\", \"Topic1\", \"Topic1\", \"Topic1\", \"Topic1\", \"Topic1\", \"Topic1\", \"Topic1\", \"Topic1\", \"Topic1\", \"Topic1\", \"Topic1\", \"Topic1\", \"Topic1\", \"Topic1\", \"Topic1\", \"Topic1\", \"Topic1\", \"Topic1\", \"Topic1\", \"Topic1\", \"Topic1\", \"Topic1\", \"Topic1\", \"Topic1\", \"Topic1\", \"Topic1\", \"Topic1\", \"Topic1\", \"Topic1\", \"Topic1\", \"Topic1\", \"Topic2\", \"Topic2\", \"Topic2\", \"Topic2\", \"Topic2\", \"Topic2\", \"Topic2\", \"Topic2\", \"Topic2\", \"Topic2\", \"Topic2\", \"Topic2\", \"Topic2\", \"Topic2\", \"Topic2\", \"Topic2\", \"Topic2\", \"Topic2\", \"Topic2\", \"Topic2\", \"Topic2\", \"Topic2\", \"Topic2\", \"Topic2\", \"Topic2\", \"Topic2\", \"Topic2\", \"Topic2\", \"Topic2\", \"Topic2\", \"Topic2\", \"Topic2\", \"Topic2\", \"Topic2\", \"Topic2\", \"Topic2\", \"Topic2\", \"Topic2\", \"Topic2\", \"Topic2\", \"Topic2\", \"Topic2\", \"Topic2\", \"Topic2\", \"Topic2\", \"Topic2\", \"Topic2\", \"Topic2\", \"Topic2\", \"Topic2\", \"Topic3\", \"Topic3\", \"Topic3\", \"Topic3\", \"Topic3\", \"Topic3\", \"Topic3\", \"Topic3\", \"Topic3\", \"Topic3\", \"Topic3\", \"Topic3\", \"Topic3\", \"Topic3\", \"Topic3\", \"Topic3\", \"Topic3\", \"Topic3\", \"Topic3\", \"Topic3\", \"Topic3\", \"Topic3\", \"Topic3\", \"Topic3\", \"Topic3\", \"Topic3\", \"Topic3\", \"Topic3\", \"Topic3\", \"Topic3\", \"Topic3\", \"Topic3\", \"Topic3\", \"Topic3\", \"Topic3\", \"Topic3\", \"Topic3\", \"Topic3\", \"Topic3\", \"Topic3\", \"Topic3\", \"Topic3\", \"Topic4\", \"Topic4\", \"Topic4\", \"Topic4\", \"Topic4\", \"Topic4\", \"Topic4\", \"Topic4\", \"Topic4\", \"Topic4\", \"Topic4\", \"Topic4\", \"Topic4\", \"Topic4\", \"Topic4\", \"Topic4\", \"Topic4\", \"Topic4\", \"Topic4\", \"Topic4\", \"Topic4\", \"Topic4\", \"Topic4\", \"Topic4\", \"Topic4\", \"Topic4\", \"Topic4\", \"Topic4\", \"Topic4\", \"Topic4\", \"Topic4\", \"Topic4\", \"Topic4\", \"Topic4\", \"Topic4\", \"Topic4\", \"Topic4\", \"Topic5\", \"Topic5\", \"Topic5\", \"Topic5\", \"Topic5\", \"Topic5\", \"Topic5\", \"Topic5\", \"Topic5\", \"Topic5\", \"Topic5\", \"Topic5\", \"Topic5\", \"Topic5\", \"Topic5\", \"Topic5\", \"Topic5\", \"Topic5\", \"Topic5\", \"Topic5\", \"Topic5\", \"Topic5\", \"Topic5\", \"Topic5\", \"Topic5\", \"Topic5\", \"Topic5\", \"Topic5\", \"Topic5\", \"Topic5\", \"Topic5\", \"Topic6\", \"Topic6\", \"Topic6\", \"Topic6\", \"Topic6\", \"Topic6\", \"Topic6\", \"Topic6\", \"Topic6\", \"Topic6\", \"Topic6\", \"Topic6\", \"Topic6\", \"Topic6\", \"Topic6\", \"Topic6\", \"Topic6\", \"Topic6\", \"Topic6\", \"Topic6\", \"Topic6\", \"Topic6\", \"Topic6\", \"Topic6\", \"Topic6\", \"Topic6\", \"Topic6\", \"Topic6\", \"Topic6\", \"Topic6\", \"Topic6\", \"Topic6\", \"Topic6\", \"Topic7\", \"Topic7\", \"Topic7\", \"Topic7\", \"Topic7\", \"Topic7\", \"Topic7\", \"Topic7\", \"Topic7\", \"Topic7\", \"Topic7\", \"Topic7\", \"Topic7\", \"Topic7\", \"Topic7\", \"Topic7\", \"Topic7\", \"Topic7\", \"Topic7\", \"Topic7\", \"Topic7\", \"Topic7\", \"Topic7\", \"Topic7\", \"Topic7\", \"Topic7\", \"Topic7\", \"Topic7\", \"Topic7\", \"Topic7\", \"Topic7\", \"Topic7\", \"Topic7\", \"Topic7\", \"Topic8\", \"Topic8\", \"Topic8\", \"Topic8\", \"Topic8\", \"Topic8\", \"Topic8\", \"Topic8\", \"Topic8\", \"Topic8\", \"Topic8\", \"Topic8\", \"Topic8\", \"Topic8\", \"Topic8\", \"Topic8\", \"Topic8\", \"Topic8\", \"Topic8\", \"Topic8\", \"Topic8\", \"Topic8\", \"Topic8\", \"Topic8\", \"Topic8\", \"Topic8\", \"Topic8\", \"Topic8\", \"Topic8\", \"Topic8\", \"Topic8\", \"Topic8\", \"Topic9\", \"Topic9\", \"Topic9\", \"Topic9\", \"Topic9\", \"Topic9\", \"Topic9\", \"Topic9\", \"Topic9\", \"Topic9\", \"Topic9\", \"Topic9\", \"Topic9\", \"Topic9\", \"Topic9\", \"Topic9\", \"Topic9\", \"Topic9\", \"Topic9\", \"Topic9\", \"Topic9\", \"Topic9\", \"Topic9\", \"Topic9\", \"Topic9\", \"Topic9\", \"Topic9\", \"Topic9\", \"Topic9\", \"Topic9\", \"Topic9\", \"Topic9\", \"Topic10\", \"Topic10\", \"Topic10\", \"Topic10\", \"Topic10\", \"Topic10\", \"Topic10\", \"Topic10\", \"Topic10\", \"Topic10\", \"Topic10\", \"Topic10\", \"Topic10\", \"Topic10\", \"Topic10\", \"Topic10\", \"Topic10\", \"Topic10\", \"Topic10\", \"Topic10\", \"Topic10\", \"Topic10\", \"Topic10\", \"Topic10\", \"Topic10\", \"Topic10\", \"Topic10\", \"Topic10\", \"Topic10\", \"Topic10\", \"Topic10\", \"Topic10\"], \"logprob\": [30.0, 29.0, 28.0, 27.0, 26.0, 25.0, 24.0, 23.0, 22.0, 21.0, 20.0, 19.0, 18.0, 17.0, 16.0, 15.0, 14.0, 13.0, 12.0, 11.0, 10.0, 9.0, 8.0, 7.0, 6.0, 5.0, 4.0, 3.0, 2.0, 1.0, -3.572700023651123, -4.692599773406982, -4.996200084686279, -4.923500061035156, -4.9019999504089355, -4.719600200653076, -5.3694000244140625, -4.988500118255615, -5.336100101470947, -5.5457000732421875, -5.158400058746338, -5.604499816894531, -5.376299858093262, -4.290999889373779, -5.779600143432617, -5.776100158691406, -2.454699993133545, -5.8942999839782715, -5.173299789428711, -5.952499866485596, -5.507599830627441, -5.92710018157959, -5.834799766540527, -6.078499794006348, -6.131400108337402, -6.25029993057251, -5.603700160980225, -6.031000137329102, -6.3643999099731445, -6.263299942016602, -4.968400001525879, -3.682800054550171, -4.148399829864502, -4.854000091552734, -5.285600185394287, -4.900100231170654, -4.6143999099731445, -5.7032999992370605, -3.240000009536743, -4.596499919891357, -5.297800064086914, -3.997499942779541, -5.023799896240234, -5.329699993133545, -5.134500026702881, -5.303199768066406, -5.334400177001953, -5.0833001136779785, -5.36899995803833, -3.594099998474121, -3.8220999240875244, -4.315899848937988, -4.224599838256836, -4.378200054168701, -4.615799903869629, -5.273799896240234, -3.0739998817443848, -5.182700157165527, -5.322400093078613, -5.531599998474121, -5.556600093841553, -5.6539998054504395, -5.667399883270264, -5.747799873352051, -5.574399948120117, -4.725299835205078, -5.804900169372559, -5.714399814605713, -6.2322998046875, -6.30109977722168, -6.181099891662598, -6.247700214385986, -6.188399791717529, -6.040999889373779, -6.2434000968933105, -5.833499908447266, -6.473599910736084, -6.246099948883057, -6.2667999267578125, -5.031000137329102, -2.424499988555908, -5.946499824523926, -5.257900238037109, -5.575099945068359, -5.608500003814697, -5.0142998695373535, -5.896900177001953, -3.305299997329712, -4.904399871826172, -4.562699794769287, -4.7555999755859375, -4.842199802398682, -5.219099998474121, -5.518199920654297, -5.425300121307373, -5.347400188446045, -5.456900119781494, -5.492800235748291, -5.524600028991699, -2.8929998874664307, -4.937699794769287, -4.946400165557861, -5.008800029754639, -4.808899879455566, -5.050300121307373, -5.372000217437744, -5.90910005569458, -5.3933000564575195, -2.325200080871582, -6.230400085449219, -6.377600193023682, -6.2210001945495605, -6.472099781036377, -6.719799995422363, -6.475900173187256, -6.839900016784668, -6.89769983291626, -6.902100086212158, -6.742199897766113, -3.249300003051758, -6.676599979400635, -3.539099931716919, -6.813700199127197, -6.853600025177002, -7.081699848175049, -6.985400199890137, -6.860899925231934, -5.607800006866455, -7.063300132751465, -6.944799900054932, -5.6819000244140625, -6.3755998611450195, -4.991300106048584, -6.127699851989746, -6.4822998046875, -5.72599983215332, -6.427199840545654, -6.142899990081787, -6.51200008392334, -6.652299880981445, -6.69290018081665, -3.700500011444092, -4.128300189971924, -4.655399799346924, -4.920000076293945, -4.216400146484375, -5.0320000648498535, -4.353700160980225, -5.163000106811523, -5.161900043487549, -4.974599838256836, -5.353799819946289, -5.520100116729736, -5.6641998291015625, -5.773499965667725, -5.720600128173828, -5.820499897003174, -5.742199897766113, -5.964300155639648, -5.986400127410889, -5.870800018310547, -6.05210018157959, -6.0954999923706055, -6.117000102996826, -6.25540018081665, -6.361000061035156, -6.32889986038208, -5.843599796295166, -6.382999897003174, -6.265500068664551, -6.3790998458862305, -5.383299827575684, -5.670300006866455, -3.9265999794006348, -4.185200214385986, -5.6427001953125, -5.901100158691406, -5.8043999671936035, -3.9911000728607178, -4.664100170135498, -5.112400054931641, -5.160999774932861, -5.561699867248535, -5.573400020599365, -5.6682000160217285, -5.716899871826172, -5.728099822998047, -5.797500133514404, -5.7895002365112305, -5.921999931335449, -5.972599983215332, -5.965199947357178, -5.941400051116943, -5.918600082397461, -6.019400119781494, -6.035200119018555, -6.119900226593018, -5.957600116729736, -6.1855998039245605, -6.093200206756592, -6.230299949645996, -6.295300006866455, -6.162099838256836, -6.468800067901611, -6.619500160217285, -6.53249979019165, -6.519100189208984, -6.620999813079834, -5.728099822998047, -4.052499771118164, -4.970600128173828, -5.005899906158447, -5.3206000328063965, -5.274600028991699, -5.737599849700928, -5.716300010681152, -6.059500217437744, -6.1579999923706055, -6.318900108337402, -6.354400157928467, -6.544000148773193, -6.656899929046631, -6.536799907684326, -6.597300052642822, -6.412300109863281, -6.776700019836426, -6.867000102996826, -6.948699951171875, -6.877699851989746, -7.134399890899658, -7.134399890899658, -7.104300022125244, -7.22790002822876, -7.153800010681152, -7.253399848937988, -7.231800079345703, -7.223599910736084, -6.587600231170654, -7.344900131225586, -6.429599761962891, -5.927999973297119, -7.176499843597412, -3.8677000999450684, -5.292099952697754, -5.415500164031982, -5.391499996185303, -5.61329984664917, -5.644599914550781, -5.70550012588501, -5.68149995803833, -6.124599933624268, -5.974800109863281, -6.161799907684326, -6.299699783325195, -6.161900043487549, -6.525300025939941, -6.548600196838379, -6.476799964904785, -6.678999900817871, -6.812699794769287, -6.863399982452393, -5.0991997718811035, -6.896699905395508, -7.021699905395508, -6.9654998779296875, -7.21750020980835, -5.8018999099731445, -6.978000164031982, -7.25029993057251, -7.223199844360352, -7.272500038146973, -7.396399974822998, -6.906899929046631, -5.663000106811523, -7.013000011444092, -6.924699783325195, -4.6641998291015625, -4.716800212860107, -5.268400192260742, -5.366399765014648, -5.5055999755859375, -5.694300174713135, -5.722899913787842, -5.967700004577637, -6.16480016708374, -6.200699806213379, -6.255000114440918, -6.243000030517578, -6.392600059509277, -6.361999988555908, -6.5665998458862305, -6.640399932861328, -6.647799968719482, -6.5945000648498535, -6.678800106048584, -6.7596001625061035, -6.80079984664917, -6.9257001876831055, -7.01609992980957, -6.905099868774414, -7.201900005340576, -7.180200099945068, -7.015200138092041, -7.122399806976318, -7.287799835205078, -7.456099987030029, -7.431399822235107, -6.714200019836426, -5.190899848937988, -5.392899990081787, -5.714700222015381, -5.778500080108643, -5.892099857330322, -5.804900169372559, -5.964399814605713, -6.030799865722656, -6.151000022888184, -6.110799789428711, -6.288000106811523, -6.38070011138916, -6.394700050354004, -6.501200199127197, -6.562399864196777, -6.688000202178955, -6.737299919128418, -6.811100006103516, -6.683000087738037, -6.8942999839782715, -6.874499797821045, -6.848899841308594, -7.0177001953125, -6.895500183105469, -7.168000221252441, -7.196199893951416, -7.328800201416016, -7.446000099182129, -7.532400131225586, -7.682700157165527, -7.2789998054504395, -7.041999816894531, -5.631100177764893, -5.711999893188477, -5.646100044250488, -6.1915998458862305, -5.52839994430542, -6.510200023651123, -6.626200199127197, -6.184700012207031, -6.609000205993652, -6.8225998878479, -6.953000068664551, -6.995200157165527, -7.107699871063232, -7.116199970245361, -7.074100017547607, -7.149799823760986, -7.165599822998047, -6.8368000984191895, -7.2270002365112305, -7.283999919891357, -7.149499893188477, -7.29010009765625, -7.346399784088135, -7.317399978637695, -7.272799968719482, -7.303500175476074, -6.923699855804443, -7.371399879455566, -7.451499938964844, -7.509500026702881, -6.9197001457214355, -7.397600173950195], \"Total\": [3229.0, 3433.0, 1279.0, 1484.0, 600.0, 2565.0, 579.0, 1016.0, 864.0, 688.0, 438.0, 1016.0, 203.0, 462.0, 421.0, 396.0, 511.0, 644.0, 133.0, 313.0, 97.0, 104.0, 127.0, 334.0, 328.0, 112.0, 291.0, 82.0, 542.0, 613.0, 1016.5040283203125, 334.4508361816406, 248.50296020507812, 267.25128173828125, 273.2919921875, 328.2305603027344, 172.04295349121094, 252.42332458496094, 178.39559936523438, 144.79991149902344, 214.01437377929688, 137.03880310058594, 172.45187377929688, 511.6664123535156, 115.59168243408203, 116.33373260498047, 3229.031982421875, 103.7645034790039, 213.42385864257812, 98.01984405517578, 153.19874572753906, 101.03461456298828, 111.01656341552734, 87.15090942382812, 83.4015121459961, 74.39986419677734, 142.13380432128906, 93.0986557006836, 66.81745910644531, 74.3825454711914, 271.58734130859375, 1016.6414794921875, 644.2464599609375, 324.8642883300781, 205.2655029296875, 310.8039245605469, 464.7832336425781, 131.73431396484375, 2565.188720703125, 613.7454833984375, 270.4869384765625, 3433.035888671875, 509.4788818359375, 290.42962646484375, 542.0738525390625, 352.4041442871094, 327.104736328125, 1279.7685546875, 305.0577087402344, 864.0127563476562, 688.9841918945312, 421.93426513671875, 462.333251953125, 396.8681335449219, 313.8930358886719, 164.47250366210938, 1484.211669921875, 180.3522491455078, 157.5282440185547, 128.30577087402344, 125.23650360107422, 113.65652465820312, 112.42765808105469, 104.1357192993164, 124.48582458496094, 291.4928894042969, 99.07784271240234, 109.62944030761719, 65.66468811035156, 61.39272689819336, 69.31693267822266, 64.8673095703125, 68.87787628173828, 79.97383117675781, 65.58500671386719, 98.95863342285156, 52.37233352661133, 65.823486328125, 64.57550811767578, 222.58624267578125, 3433.035888671875, 90.0599136352539, 192.5159912109375, 136.27389526367188, 132.36880493164062, 264.71307373046875, 96.72486877441406, 2565.188720703125, 345.2019958496094, 542.0738525390625, 509.4788818359375, 613.7454833984375, 352.4041442871094, 184.53338623046875, 245.16305541992188, 327.104736328125, 305.0577087402344, 285.7539978027344, 3229.031982421875, 600.1524658203125, 81.06716918945312, 80.39752960205078, 76.70525360107422, 93.74703216552734, 73.71196746826172, 54.728939056396484, 33.861759185791016, 57.587158203125, 1279.7685546875, 25.924781799316406, 22.389312744140625, 27.03506851196289, 21.696765899658203, 17.279563903808594, 22.243160247802734, 15.500329971313477, 14.805506706237793, 14.777033805847168, 17.49989891052246, 579.9986572265625, 18.935792922973633, 438.3620300292969, 16.607505798339844, 16.450727462768555, 13.136404991149902, 14.522589683532715, 16.553607940673828, 60.24196243286133, 14.070590019226074, 15.937830924987793, 62.6304817199707, 29.959457397460938, 194.38555908203125, 56.25654220581055, 32.168155670166016, 150.269775390625, 39.92184066772461, 130.68006896972656, 57.05966567993164, 90.40219116210938, 101.87294006347656, 203.8248291015625, 133.32012939453125, 80.90718841552734, 63.18124771118164, 127.7496566772461, 56.759437561035156, 112.68670654296875, 50.189388275146484, 50.721092224121094, 61.77756118774414, 43.01892852783203, 36.73366928100586, 32.58338928222656, 29.381439208984375, 31.031587600708008, 28.633502960205078, 31.18269920349121, 25.255146026611328, 25.359512329101562, 28.48333168029785, 23.811185836791992, 22.809024810791016, 22.934860229492188, 20.037141799926758, 18.302284240722656, 19.27056884765625, 31.307790756225586, 18.26610565185547, 20.54585838317871, 18.38551139831543, 52.9981575012207, 43.2690315246582, 579.9986572265625, 438.3620300292969, 111.3524169921875, 57.05966567993164, 1484.211669921875, 104.15518951416016, 54.29582977294922, 36.64784622192383, 35.28493118286133, 24.432472229003906, 24.37873649597168, 23.040210723876953, 22.022502899169922, 21.98137664794922, 20.721364974975586, 21.277385711669922, 18.654577255249023, 17.89353370666504, 18.049911499023438, 18.50249481201172, 18.970144271850586, 17.310138702392578, 17.490842819213867, 16.163372039794922, 19.13405990600586, 15.289560317993164, 17.100852966308594, 15.126813888549805, 14.565156936645508, 17.20437240600586, 13.061986923217773, 11.421541213989258, 12.74225902557373, 13.015580177307129, 11.9598970413208, 123.57929992675781, 82.95185852050781, 35.81971740722656, 34.86306381225586, 26.71577262878418, 28.67414665222168, 19.362089157104492, 20.0975399017334, 15.286453247070312, 14.11982250213623, 12.575852394104004, 12.580750465393066, 11.17304801940918, 10.49252986907959, 11.900805473327637, 11.391783714294434, 14.280319213867188, 9.924460411071777, 9.302698135375977, 9.007673263549805, 9.695755958557129, 7.894082546234131, 7.894082546234131, 8.259570121765137, 7.518621921539307, 8.38831901550293, 7.743533134460449, 8.064192771911621, 8.200096130371094, 15.563475608825684, 7.477288722991943, 21.223909378051758, 123.57929992675781, 29.414113998413086, 97.00727844238281, 27.309036254882812, 24.462787628173828, 25.072078704833984, 21.03612518310547, 20.492639541625977, 19.50495719909668, 20.495161056518555, 14.173665046691895, 17.064348220825195, 14.330053329467773, 12.65429401397705, 15.205385208129883, 11.152379989624023, 11.005324363708496, 11.85440731048584, 10.332662582397461, 9.463911056518555, 9.14294719696045, 56.25654220581055, 9.351208686828613, 8.76425838470459, 9.485950469970703, 7.501619338989258, 31.325031280517578, 9.740859985351562, 7.565814971923828, 7.910468578338623, 7.973435401916504, 7.17258358001709, 12.552967071533203, 66.60867309570312, 11.955662727355957, 15.478339195251465, 46.098731994628906, 43.948509216308594, 26.916061401367188, 25.16810417175293, 23.06648063659668, 19.247148513793945, 19.088205337524414, 15.949836730957031, 13.74016284942627, 13.587015151977539, 13.1151123046875, 13.521190643310547, 11.721076965332031, 12.097779273986816, 10.589057922363281, 9.942407608032227, 10.249967575073242, 11.11122989654541, 10.737839698791504, 9.924817085266113, 9.912299156188965, 8.815285682678223, 8.37585163116455, 10.078079223632812, 7.7515177726745605, 7.954160690307617, 9.456003189086914, 8.582723617553711, 7.312948226928711, 6.838863372802734, 7.152638912200928, 30.53443145751953, 27.471696853637695, 23.169384002685547, 17.91973304748535, 17.253084182739258, 15.720620155334473, 17.644662857055664, 15.10342788696289, 14.515753746032715, 13.1731538772583, 13.76711654663086, 12.115551948547363, 11.187765121459961, 11.611555099487305, 10.724403381347656, 10.862457275390625, 9.589712142944336, 9.363021850585938, 8.859743118286133, 10.440571784973145, 8.574884414672852, 8.818995475769043, 9.333505630493164, 8.034567832946777, 9.175520896911621, 7.400593280792236, 7.661109924316406, 7.530102252960205, 6.851520538330078, 7.032731056213379, 6.182634353637695, 9.381495475769043, 14.484953880310059, 19.208242416381836, 17.93384552001953, 19.340320587158203, 12.535959243774414, 25.31640625, 10.295927047729492, 10.011347770690918, 15.704203605651855, 10.277795791625977, 8.780721664428711, 8.393580436706543, 8.354974746704102, 7.514352798461914, 7.502305030822754, 7.86100959777832, 7.3438801765441895, 7.348601341247559, 10.596170425415039, 7.2602858543396, 6.87053108215332, 8.123491287231445, 7.109282970428467, 6.767118453979492, 6.9701738357543945, 7.315868854522705, 7.118223190307617, 10.516706466674805, 6.83059024810791, 6.455338954925537, 6.299090385437012, 11.45074462890625, 7.126528739929199], \"loglift\": [30.0, 29.0, 28.0, 27.0, 26.0, 25.0, 24.0, 23.0, 22.0, 21.0, 20.0, 19.0, 18.0, 17.0, 16.0, 15.0, 14.0, 13.0, 12.0, 11.0, 10.0, 9.0, 8.0, 7.0, 6.0, 5.0, 4.0, 3.0, 2.0, 1.0, 1.1339999437332153, 1.1258000135421753, 1.1191999912261963, 1.1190999746322632, 1.118399977684021, 1.1174999475479126, 1.113700032234192, 1.111199975013733, 1.11080002784729, 1.1097999811172485, 1.1064000129699707, 1.1060999631881714, 1.1044000387191772, 1.1022000312805176, 1.101199984550476, 1.0982999801635742, 1.0961999893188477, 1.0944000482559204, 1.0943000316619873, 1.0931999683380127, 1.0915000438690186, 1.0882999897003174, 1.086300015449524, 1.0846999883651733, 1.0757999420166016, 1.0710999965667725, 1.0703999996185303, 1.0662000179290771, 1.0644999742507935, 1.0583000183105469, 1.0582000017166138, 1.023800015449524, 1.0144000053405762, 0.9934999942779541, 1.0210000276565552, 0.991599977016449, 0.8748999834060669, 1.0468000173568726, 0.541100025177002, 0.614799976348877, 0.7328000068664551, -0.5077999830245972, 0.3736000061035156, 0.6297000050544739, 0.20100000500679016, 0.4629000127315521, 0.5062000155448914, -0.6068999767303467, 0.5414000153541565, 1.2750999927520752, 1.2734999656677246, 1.2700999975204468, 1.2699999809265137, 1.2690999507904053, 1.2660000324249268, 1.2542999982833862, 1.2541999816894531, 1.2532000541687012, 1.248900055885315, 1.2448999881744385, 1.2440999746322632, 1.2436000108718872, 1.2411999702453613, 1.2374000549316406, 1.232300043106079, 1.2305999994277954, 1.2300000190734863, 1.2194000482559204, 1.2139999866485596, 1.212399959564209, 1.2110999822616577, 1.210800051689148, 1.2101000547409058, 1.2081999778747559, 1.2041000127792358, 1.2026000022888184, 1.1988999843597412, 1.1978000402450562, 1.1962000131607056, 1.194599986076355, 1.0651999711990356, 1.183899998664856, 1.1128000020980835, 1.1411000490188599, 1.1368000507354736, 1.0378999710083008, 1.1620999574661255, 0.4758000075817108, 0.8823000192642212, 0.7728000283241272, 0.6419000029563904, 0.36910000443458557, 0.546999990940094, 0.8948000073432922, 0.7037000060081482, 0.49320000410079956, 0.45339998602867126, 0.4828999936580658, -1.9737000465393066, 2.3406999111175537, 2.2978999614715576, 2.297499895095825, 2.282099962234497, 2.281399965286255, 2.280400037765503, 2.256500005722046, 2.19950008392334, 2.1842000484466553, 2.15120005607605, 2.14520001411438, 2.144700050354004, 2.1126999855041504, 2.0815999507904053, 2.061500072479248, 2.0529000759124756, 2.050100088119507, 2.038100004196167, 2.035599946975708, 2.0264999866485596, 2.0185000896453857, 2.013200044631958, 2.008699893951416, 2.0072999000549316, 1.9768999814987183, 1.9737000465393066, 1.9697999954223633, 1.9632999897003174, 1.9247000217437744, 1.9234999418258667, 1.9172999858856201, 1.8116999864578247, 1.8553999662399292, 1.3696999549865723, 1.4731999635696411, 1.6775000095367432, 0.8924000263214111, 1.516700029373169, 0.6151999831199646, 1.0746999979019165, 0.4742000102996826, 0.3142000138759613, 2.613100051879883, 2.609800100326538, 2.582200050354004, 2.5648999214172363, 2.5643999576568604, 2.559999942779541, 2.552500009536743, 2.5520999431610107, 2.5427000522613525, 2.5327000617980957, 2.515500068664551, 2.5071001052856445, 2.4828999042510986, 2.4769999980926514, 2.4751999378204346, 2.4558000564575195, 2.4488000869750977, 2.4375, 2.41129994392395, 2.4107000827789307, 2.408600091934204, 2.4082000255584717, 2.381200075149536, 2.3777999877929688, 2.362799882888794, 2.343400001525879, 2.343400001525879, 2.3427999019622803, 2.3427000045776367, 2.3401999473571777, 2.2772998809814453, 2.1930999755859375, 1.3413000106811523, 1.3625999689102173, 1.2754000425338745, 1.6857000589370728, -1.476199984550476, 2.9939000606536865, 2.9723000526428223, 2.917099952697754, 2.906399965286255, 2.873199939727783, 2.863800048828125, 2.8254001140594482, 2.821899890899658, 2.8125998973846436, 2.8022000789642334, 2.7836999893188477, 2.7827999591827393, 2.7737998962402344, 2.7725000381469727, 2.7715001106262207, 2.7692999839782715, 2.7600998878479004, 2.7339999675750732, 2.7281999588012695, 2.7218000888824463, 2.718100070953369, 2.698499917984009, 2.684000015258789, 2.656899929046631, 2.6236000061035156, 2.592400074005127, 2.575900077819824, 2.5534000396728516, 2.5457000732421875, 2.5283000469207764, 1.0858999490737915, 3.160099983215332, 3.0817999839782715, 3.073499917984009, 3.0250000953674316, 3.000200033187866, 2.9298999309539795, 2.9138998985290527, 2.8443000316619873, 2.8252999782562256, 2.7802000045776367, 2.74429988861084, 2.6733999252319336, 2.623300075531006, 2.617500066757202, 2.6006999015808105, 2.5597000122070312, 2.5590999126434326, 2.533600091934204, 2.484100103378296, 2.4814999103546143, 2.4303998947143555, 2.4303998947143555, 2.4151999950408936, 2.385499954223633, 2.3503000736236572, 2.3306000232696533, 2.3117001056671143, 2.303100109100342, 2.29830002784729, 2.2739999294281006, 2.146199941635132, 0.8859999775886536, 1.0728000402450562, 3.1884000301361084, 3.0315001010894775, 3.018199920654297, 3.0176000595092773, 2.971299886703491, 2.966200113296509, 2.954699993133545, 2.9291999340057373, 2.85479998588562, 2.8190999031066895, 2.8066999912261963, 2.7932000160217285, 2.747299909591675, 2.6939001083374023, 2.683799982070923, 2.681299924850464, 2.6166000366210938, 2.57069993019104, 2.5543999671936035, 2.501699924468994, 2.4986000061035156, 2.438499927520752, 2.4154999256134033, 2.3982999324798584, 2.384500026702881, 2.376499891281128, 2.3568999767303467, 2.339400053024292, 2.2822999954223633, 2.2641000747680664, 2.194000005722046, 1.7690000534057617, 2.1366000175476074, 1.9666999578475952, 3.1357998847961426, 3.13100004196167, 3.0697999000549316, 3.038800001144409, 2.9869000911712646, 2.9791998863220215, 2.9588000774383545, 2.893699884414673, 2.8457999229431152, 2.821000099182129, 2.8020999431610107, 2.783600091934204, 2.776900053024292, 2.775899887084961, 2.704400062561035, 2.693700075149536, 2.6556999683380127, 2.6284000873565674, 2.578200101852417, 2.576200008392334, 2.53629994392395, 2.528700113296509, 2.4893999099731445, 2.4154000282287598, 2.38100004196167, 2.3768999576568604, 2.36899995803833, 2.3587000370025635, 2.3533999919891357, 2.2520999908447266, 2.2318999767303467, 1.4977999925613403, 3.126800060272217, 3.095099925994873, 3.0302999019622803, 3.004300117492676, 2.983799934387207, 2.9554998874664307, 2.9514999389648438, 2.9249000549316406, 2.901599884033203, 2.8977999687194824, 2.848299980163574, 2.835400104522705, 2.78410005569458, 2.7571001052856445, 2.6830999851226807, 2.6821999549865723, 2.6568000316619873, 2.638200044631958, 2.6022000312805176, 2.5876998901367188, 2.579400062561035, 2.54830002784729, 2.529400110244751, 2.5188000202178955, 2.4612998962402344, 2.3984999656677246, 2.283099889755249, 2.2604000568389893, 2.147900104522705, 2.1263999938964844, 2.113100051879883, 1.9157999753952026, 3.0443999767303467, 3.0322000980377197, 3.022599935531616, 2.910599946975708, 2.871000051498413, 2.7888998985290527, 2.7009999752044678, 2.692199945449829, 2.691800117492676, 2.635699987411499, 2.5504000186920166, 2.5127999782562256, 2.5062999725341797, 2.499500036239624, 2.4948999881744385, 2.4872000217437744, 2.4707000255584717, 2.433500051498413, 2.4214999675750732, 2.419600009918213, 2.3866000175476074, 2.3794000148773193, 2.372299909591675, 2.371799945831299, 2.368000030517578, 2.3647000789642334, 2.3541998863220215, 2.3380000591278076, 2.3143999576568604, 2.2809998989105225, 2.2730000019073486, 2.269399881362915]}, \"lambda.step\": 0.01, \"topic.order\": [2, 8, 6, 1, 4, 3, 10, 5, 7, 9], \"plot.opts\": {\"xlab\": \"PC1\", \"ylab\": \"PC2\"}, \"mdsDat\": {\"x\": [0.2680574341151551, 0.2247034175129377, -0.06266522826596256, -0.0627510521110127, -0.0642039153784862, -0.061374415683920526, -0.062215236158643286, -0.06091931893841295, -0.059311979304097345, -0.05931970578755724], \"topics\": [1, 2, 3, 4, 5, 6, 7, 8, 9, 10], \"Freq\": [31.981611251831055, 27.795242309570312, 9.551859855651855, 7.109799385070801, 4.644786357879639, 4.0044074058532715, 3.9188530445098877, 3.8509953022003174, 3.604003429412842, 3.538440465927124], \"cluster\": [1, 1, 1, 1, 1, 1, 1, 1, 1, 1], \"y\": [-0.11725571745310201, 0.13468236699447148, -0.06170104501669071, -0.0006123062710766155, 0.005097952640219577, 0.006432992806463898, 0.00740088049094288, 0.00944363269878511, 0.008368399538537259, 0.008142843571449314]}};\n",
       "\n",
       "function LDAvis_load_lib(url, callback){\n",
       "  var s = document.createElement('script');\n",
       "  s.src = url;\n",
       "  s.async = true;\n",
       "  s.onreadystatechange = s.onload = callback;\n",
       "  s.onerror = function(){console.warn(\"failed to load library \" + url);};\n",
       "  document.getElementsByTagName(\"head\")[0].appendChild(s);\n",
       "}\n",
       "\n",
       "if(typeof(LDAvis) !== \"undefined\"){\n",
       "   // already loaded: just create the visualization\n",
       "   !function(LDAvis){\n",
       "       new LDAvis(\"#\" + \"ldavis_el100541398043751725844274645841\", ldavis_el100541398043751725844274645841_data);\n",
       "   }(LDAvis);\n",
       "}else if(typeof define === \"function\" && define.amd){\n",
       "   // require.js is available: use it to load d3/LDAvis\n",
       "   require.config({paths: {d3: \"https://cdnjs.cloudflare.com/ajax/libs/d3/3.5.5/d3.min\"}});\n",
       "   require([\"d3\"], function(d3){\n",
       "      window.d3 = d3;\n",
       "      LDAvis_load_lib(\"https://cdn.rawgit.com/bmabey/pyLDAvis/files/ldavis.v1.0.0.js\", function(){\n",
       "        new LDAvis(\"#\" + \"ldavis_el100541398043751725844274645841\", ldavis_el100541398043751725844274645841_data);\n",
       "      });\n",
       "    });\n",
       "}else{\n",
       "    // require.js not available: dynamically load d3 & LDAvis\n",
       "    LDAvis_load_lib(\"https://cdnjs.cloudflare.com/ajax/libs/d3/3.5.5/d3.min.js\", function(){\n",
       "         LDAvis_load_lib(\"https://cdn.rawgit.com/bmabey/pyLDAvis/files/ldavis.v1.0.0.js\", function(){\n",
       "                 new LDAvis(\"#\" + \"ldavis_el100541398043751725844274645841\", ldavis_el100541398043751725844274645841_data);\n",
       "            })\n",
       "         });\n",
       "}\n",
       "</script>"
      ],
      "text/plain": [
       "PreparedData(topic_coordinates=            Freq  cluster  topics         x         y\n",
       "topic                                                \n",
       "1      31.981611        1       1  0.268057 -0.117256\n",
       "7      27.795242        1       2  0.224703  0.134682\n",
       "5       9.551860        1       3 -0.062665 -0.061701\n",
       "0       7.109799        1       4 -0.062751 -0.000612\n",
       "3       4.644786        1       5 -0.064204  0.005098\n",
       "2       4.004407        1       6 -0.061374  0.006433\n",
       "9       3.918853        1       7 -0.062215  0.007401\n",
       "4       3.850995        1       8 -0.060919  0.009444\n",
       "6       3.604003        1       9 -0.059312  0.008368\n",
       "8       3.538440        1      10 -0.059320  0.008143, topic_info=     Category         Freq           Term        Total  loglift  logprob\n",
       "3956  Default  3229.000000    americanair  3229.000000  30.0000  30.0000\n",
       "2887  Default  3433.000000         flight  3433.000000  29.0000  29.0000\n",
       "6284  Default  1279.000000        jetblue  1279.000000  28.0000  28.0000\n",
       "3461  Default  1484.000000          unite  1484.000000  27.0000  27.0000\n",
       "4396  Default   600.000000           http   600.000000  26.0000  26.0000\n",
       "8001  Default  2565.000000      usairways  2565.000000  25.0000  25.0000\n",
       "1811  Default   579.000000        service   579.000000  24.0000  24.0000\n",
       "9224  Default  1016.000000   southwestair  1016.000000  23.0000  23.0000\n",
       "7345  Default   864.000000         cancel   864.000000  22.0000  22.0000\n",
       "5839  Default   688.000000          delay   688.000000  21.0000  21.0000\n",
       "1025  Default   438.000000       customer   438.000000  20.0000  20.0000\n",
       "9442  Default  1016.000000          thank  1016.000000  19.0000  19.0000\n",
       "4871  Default   203.000000        airline   203.000000  18.0000  18.0000\n",
       "3286  Default   462.000000          plane   462.000000  17.0000  17.0000\n",
       "6025  Default   421.000000      flightled   421.000000  16.0000  16.0000\n",
       "8600  Default   396.000000           gate   396.000000  15.0000  15.0000\n",
       "353   Default   511.000000           hold   511.000000  14.0000  14.0000\n",
       "6074  Default   644.000000           help   644.000000  13.0000  13.0000\n",
       "3556  Default   133.000000          worst   133.000000  12.0000  12.0000\n",
       "5508  Default   313.000000           late   313.000000  11.0000  11.0000\n",
       "1307  Default    97.000000           come    97.000000  10.0000  10.0000\n",
       "4068  Default   104.000000           hang   104.000000   9.0000   9.0000\n",
       "2076  Default   127.000000     experience   127.000000   8.0000   8.0000\n",
       "318   Default   334.000000          phone   334.000000   7.0000   7.0000\n",
       "7507  Default   328.000000            try   328.000000   6.0000   6.0000\n",
       "9280  Default   112.000000      customers   112.000000   5.0000   5.0000\n",
       "5463  Default   291.000000           miss   291.000000   4.0000   4.0000\n",
       "2064  Default    82.000000           best    82.000000   3.0000   3.0000\n",
       "6485  Default   542.000000           wait   542.000000   2.0000   2.0000\n",
       "1411  Default   613.000000           time   613.000000   1.0000   1.0000\n",
       "...       ...          ...            ...          ...      ...      ...\n",
       "3348  Topic10    14.059286         freeze    19.340321   3.0226  -5.6461\n",
       "8681  Topic10     8.147956       admirals    12.535959   2.9106  -6.1916\n",
       "6341  Topic10    15.814454           club    25.316406   2.8710  -5.5284\n",
       "869   Topic10     5.924669           game    10.295927   2.7889  -6.5102\n",
       "2679  Topic10     5.276093      certainly    10.011348   2.7010  -6.6262\n",
       "9006  Topic10     8.204234           step    15.704204   2.6922  -6.1847\n",
       "7481  Topic10     5.367381         create    10.277796   2.6918  -6.6090\n",
       "3332  Topic10     4.335404           star     8.780722   2.6357  -6.8226\n",
       "6184  Topic10     3.805136           fire     8.393580   2.5504  -6.9530\n",
       "3227  Topic10     3.648068         bottle     8.354975   2.5128  -6.9952\n",
       "5478  Topic10     3.259742        luckily     7.514353   2.5063  -7.1077\n",
       "9372  Topic10     3.232322           mary     7.502305   2.4995  -7.1162\n",
       "1432  Topic10     3.371342        peanuts     7.861010   2.4949  -7.0741\n",
       "8977  Topic10     3.125562  love_dragonss     7.343880   2.4872  -7.1498\n",
       "8411  Topic10     3.076327         bloody     7.348601   2.4707  -7.1656\n",
       "8204  Topic10     4.273968           size    10.596170   2.4335  -6.8368\n",
       "2356  Topic10     2.893325       alliance     7.260286   2.4215  -7.2270\n",
       "840   Topic10     2.732915          ahhhh     6.870531   2.4196  -7.2840\n",
       "6313  Topic10     3.126335         august     8.123491   2.3866  -7.1495\n",
       "7533  Topic10     2.716405       crackers     7.109283   2.3794  -7.2901\n",
       "1268  Topic10     2.567473         lauren     6.767118   2.3723  -7.3464\n",
       "1727  Topic10     2.643028          table     6.970174   2.3718  -7.3174\n",
       "3019  Topic10     2.763795      airplanes     7.315869   2.3680  -7.2728\n",
       "6436  Topic10     2.680150       progress     7.118223   2.3647  -7.3035\n",
       "3623  Topic10     3.918328           fund    10.516706   2.3542  -6.9237\n",
       "8707  Topic10     2.504166      represent     6.830590   2.3380  -7.3714\n",
       "7051  Topic10     2.311355            din     6.455339   2.3144  -7.4515\n",
       "1463  Topic10     2.181289            top     6.299090   2.2810  -7.5095\n",
       "4969  Topic10     3.933852          cheap    11.450745   2.2730  -6.9197\n",
       "2852  Topic10     2.439360        silence     7.126529   2.2694  -7.3976\n",
       "\n",
       "[402 rows x 6 columns], token_table=      Topic      Freq       Term\n",
       "term                            \n",
       "7390      1  0.064253   absolute\n",
       "7390      2  0.064253   absolute\n",
       "7390      3  0.064253   absolute\n",
       "7390      4  0.321265   absolute\n",
       "7390      6  0.385518   absolute\n",
       "7879      1  0.051647     accept\n",
       "7879      2  0.051647     accept\n",
       "7879      3  0.051647     accept\n",
       "7879      4  0.051647     accept\n",
       "7879      6  0.774710     accept\n",
       "8681      1  0.079771   admirals\n",
       "8681      2  0.079771   admirals\n",
       "8681      3  0.079771   admirals\n",
       "8681     10  0.638164   admirals\n",
       "840       1  0.145549      ahhhh\n",
       "840       2  0.145549      ahhhh\n",
       "840       3  0.145549      ahhhh\n",
       "840      10  0.436647      ahhhh\n",
       "4871      1  0.004906    airline\n",
       "4871      2  0.009812    airline\n",
       "4871      3  0.004906    airline\n",
       "4871      4  0.971422    airline\n",
       "3551      1  0.012360   airlines\n",
       "3551      2  0.012360   airlines\n",
       "3551      3  0.012360   airlines\n",
       "3551      4  0.939348   airlines\n",
       "3019      1  0.136689  airplanes\n",
       "3019      2  0.136689  airplanes\n",
       "3019      3  0.136689  airplanes\n",
       "3019     10  0.410067  airplanes\n",
       "...     ...       ...        ...\n",
       "873       1  0.980351       work\n",
       "873       2  0.003742       work\n",
       "873       3  0.003742       work\n",
       "873       4  0.003742       work\n",
       "672       1  0.030690      world\n",
       "672       2  0.030690      world\n",
       "672       3  0.030690      world\n",
       "672       4  0.859334      world\n",
       "3556      1  0.007501      worst\n",
       "3556      2  0.007501      worst\n",
       "3556      3  0.007501      worst\n",
       "3556      4  0.967596      worst\n",
       "4298      1  0.062697      worth\n",
       "4298      2  0.062697      worth\n",
       "4298      3  0.062697      worth\n",
       "4298      4  0.062697      worth\n",
       "4298      8  0.689662      worth\n",
       "6497      1  0.032069       yeah\n",
       "6497      2  0.032069       yeah\n",
       "6497      3  0.032069       yeah\n",
       "6497      4  0.833796       yeah\n",
       "1536      1  0.226423       year\n",
       "1536      2  0.018869       year\n",
       "1536      3  0.018869       year\n",
       "1536      4  0.698137       year\n",
       "1536      5  0.018869       year\n",
       "8495      1  0.119391       zone\n",
       "8495      2  0.119391       zone\n",
       "8495      3  0.119391       zone\n",
       "8495      8  0.477563       zone\n",
       "\n",
       "[1603 rows x 3 columns], R=30, lambda_step=0.01, plot_opts={'xlab': 'PC1', 'ylab': 'PC2'}, topic_order=[2, 8, 6, 1, 4, 3, 10, 5, 7, 9])"
      ]
     },
     "execution_count": 206,
     "metadata": {},
     "output_type": "execute_result"
    }
   ],
   "source": [
    "import pyLDAvis.gensim\n",
    "import pickle \n",
    "import pyLDAvis\n",
    "\n",
    "# Visualize the topics\n",
    "pyLDAvis.enable_notebook()\n",
    "LDAvis_prepared = pyLDAvis.gensim.prepare(lda_model, bow_corpus, dictionary)\n",
    "LDAvis_prepared"
   ]
  }
 ],
 "metadata": {
  "kernelspec": {
   "display_name": "Python 3",
   "language": "python",
   "name": "python3"
  },
  "language_info": {
   "codemirror_mode": {
    "name": "ipython",
    "version": 3
   },
   "file_extension": ".py",
   "mimetype": "text/x-python",
   "name": "python",
   "nbconvert_exporter": "python",
   "pygments_lexer": "ipython3",
   "version": "3.5.2"
  }
 },
 "nbformat": 4,
 "nbformat_minor": 4
}
