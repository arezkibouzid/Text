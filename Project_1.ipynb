{
 "cells": [
  {
   "cell_type": "markdown",
   "metadata": {},
   "source": [
    "## Text project"
   ]
  },
  {
   "cell_type": "code",
   "execution_count": 1,
   "metadata": {},
   "outputs": [],
   "source": [
    "#Import libraries\n",
    "import pandas as pd\n",
    "import numpy as np\n",
    "import os\n",
    "import seaborn as sns\n",
    "import matplotlib.pyplot as plt\n",
    "from sklearn.feature_extraction.text import CountVectorizer\n",
    "import nltk \n",
    "import string\n",
    "import re\n",
    "%matplotlib inline\n",
    "pd.set_option('display.max_colwidth', 100)"
   ]
  },
  {
   "cell_type": "code",
   "execution_count": 2,
   "metadata": {},
   "outputs": [],
   "source": [
    "#Load dataset\n",
    "def load_data():\n",
    "    data = pd.read_csv('./data/Tweets.csv')\n",
    "    return data"
   ]
  },
  {
   "cell_type": "code",
   "execution_count": 3,
   "metadata": {},
   "outputs": [
    {
     "data": {
      "text/html": [
       "<div>\n",
       "<style scoped>\n",
       "    .dataframe tbody tr th:only-of-type {\n",
       "        vertical-align: middle;\n",
       "    }\n",
       "\n",
       "    .dataframe tbody tr th {\n",
       "        vertical-align: top;\n",
       "    }\n",
       "\n",
       "    .dataframe thead th {\n",
       "        text-align: right;\n",
       "    }\n",
       "</style>\n",
       "<table border=\"1\" class=\"dataframe\">\n",
       "  <thead>\n",
       "    <tr style=\"text-align: right;\">\n",
       "      <th></th>\n",
       "      <th>tweet_id</th>\n",
       "      <th>airline_sentiment</th>\n",
       "      <th>airline_sentiment_confidence</th>\n",
       "      <th>negativereason</th>\n",
       "      <th>negativereason_confidence</th>\n",
       "      <th>airline</th>\n",
       "      <th>airline_sentiment_gold</th>\n",
       "      <th>name</th>\n",
       "      <th>negativereason_gold</th>\n",
       "      <th>retweet_count</th>\n",
       "      <th>text</th>\n",
       "      <th>tweet_coord</th>\n",
       "      <th>tweet_created</th>\n",
       "      <th>tweet_location</th>\n",
       "      <th>user_timezone</th>\n",
       "    </tr>\n",
       "  </thead>\n",
       "  <tbody>\n",
       "    <tr>\n",
       "      <th>0</th>\n",
       "      <td>570306133677760513</td>\n",
       "      <td>neutral</td>\n",
       "      <td>1.0000</td>\n",
       "      <td>NaN</td>\n",
       "      <td>NaN</td>\n",
       "      <td>Virgin America</td>\n",
       "      <td>NaN</td>\n",
       "      <td>cairdin</td>\n",
       "      <td>NaN</td>\n",
       "      <td>0</td>\n",
       "      <td>@VirginAmerica What @dhepburn said.</td>\n",
       "      <td>NaN</td>\n",
       "      <td>2015-02-24 11:35:52 -0800</td>\n",
       "      <td>NaN</td>\n",
       "      <td>Eastern Time (US &amp; Canada)</td>\n",
       "    </tr>\n",
       "    <tr>\n",
       "      <th>1</th>\n",
       "      <td>570301130888122368</td>\n",
       "      <td>positive</td>\n",
       "      <td>0.3486</td>\n",
       "      <td>NaN</td>\n",
       "      <td>0.0000</td>\n",
       "      <td>Virgin America</td>\n",
       "      <td>NaN</td>\n",
       "      <td>jnardino</td>\n",
       "      <td>NaN</td>\n",
       "      <td>0</td>\n",
       "      <td>@VirginAmerica plus you've added commercials to the experience... tacky.</td>\n",
       "      <td>NaN</td>\n",
       "      <td>2015-02-24 11:15:59 -0800</td>\n",
       "      <td>NaN</td>\n",
       "      <td>Pacific Time (US &amp; Canada)</td>\n",
       "    </tr>\n",
       "    <tr>\n",
       "      <th>2</th>\n",
       "      <td>570301083672813571</td>\n",
       "      <td>neutral</td>\n",
       "      <td>0.6837</td>\n",
       "      <td>NaN</td>\n",
       "      <td>NaN</td>\n",
       "      <td>Virgin America</td>\n",
       "      <td>NaN</td>\n",
       "      <td>yvonnalynn</td>\n",
       "      <td>NaN</td>\n",
       "      <td>0</td>\n",
       "      <td>@VirginAmerica I didn't today... Must mean I need to take another trip!</td>\n",
       "      <td>NaN</td>\n",
       "      <td>2015-02-24 11:15:48 -0800</td>\n",
       "      <td>Lets Play</td>\n",
       "      <td>Central Time (US &amp; Canada)</td>\n",
       "    </tr>\n",
       "    <tr>\n",
       "      <th>3</th>\n",
       "      <td>570301031407624196</td>\n",
       "      <td>negative</td>\n",
       "      <td>1.0000</td>\n",
       "      <td>Bad Flight</td>\n",
       "      <td>0.7033</td>\n",
       "      <td>Virgin America</td>\n",
       "      <td>NaN</td>\n",
       "      <td>jnardino</td>\n",
       "      <td>NaN</td>\n",
       "      <td>0</td>\n",
       "      <td>@VirginAmerica it's really aggressive to blast obnoxious \"entertainment\" in your guests' faces &amp;...</td>\n",
       "      <td>NaN</td>\n",
       "      <td>2015-02-24 11:15:36 -0800</td>\n",
       "      <td>NaN</td>\n",
       "      <td>Pacific Time (US &amp; Canada)</td>\n",
       "    </tr>\n",
       "    <tr>\n",
       "      <th>4</th>\n",
       "      <td>570300817074462722</td>\n",
       "      <td>negative</td>\n",
       "      <td>1.0000</td>\n",
       "      <td>Can't Tell</td>\n",
       "      <td>1.0000</td>\n",
       "      <td>Virgin America</td>\n",
       "      <td>NaN</td>\n",
       "      <td>jnardino</td>\n",
       "      <td>NaN</td>\n",
       "      <td>0</td>\n",
       "      <td>@VirginAmerica and it's a really big bad thing about it</td>\n",
       "      <td>NaN</td>\n",
       "      <td>2015-02-24 11:14:45 -0800</td>\n",
       "      <td>NaN</td>\n",
       "      <td>Pacific Time (US &amp; Canada)</td>\n",
       "    </tr>\n",
       "  </tbody>\n",
       "</table>\n",
       "</div>"
      ],
      "text/plain": [
       "             tweet_id airline_sentiment  airline_sentiment_confidence  \\\n",
       "0  570306133677760513           neutral                        1.0000   \n",
       "1  570301130888122368          positive                        0.3486   \n",
       "2  570301083672813571           neutral                        0.6837   \n",
       "3  570301031407624196          negative                        1.0000   \n",
       "4  570300817074462722          negative                        1.0000   \n",
       "\n",
       "  negativereason  negativereason_confidence         airline  \\\n",
       "0            NaN                        NaN  Virgin America   \n",
       "1            NaN                     0.0000  Virgin America   \n",
       "2            NaN                        NaN  Virgin America   \n",
       "3     Bad Flight                     0.7033  Virgin America   \n",
       "4     Can't Tell                     1.0000  Virgin America   \n",
       "\n",
       "  airline_sentiment_gold        name negativereason_gold  retweet_count  \\\n",
       "0                    NaN     cairdin                 NaN              0   \n",
       "1                    NaN    jnardino                 NaN              0   \n",
       "2                    NaN  yvonnalynn                 NaN              0   \n",
       "3                    NaN    jnardino                 NaN              0   \n",
       "4                    NaN    jnardino                 NaN              0   \n",
       "\n",
       "                                                                                                  text  \\\n",
       "0                                                                  @VirginAmerica What @dhepburn said.   \n",
       "1                             @VirginAmerica plus you've added commercials to the experience... tacky.   \n",
       "2                              @VirginAmerica I didn't today... Must mean I need to take another trip!   \n",
       "3  @VirginAmerica it's really aggressive to blast obnoxious \"entertainment\" in your guests' faces &...   \n",
       "4                                              @VirginAmerica and it's a really big bad thing about it   \n",
       "\n",
       "  tweet_coord              tweet_created tweet_location  \\\n",
       "0         NaN  2015-02-24 11:35:52 -0800            NaN   \n",
       "1         NaN  2015-02-24 11:15:59 -0800            NaN   \n",
       "2         NaN  2015-02-24 11:15:48 -0800      Lets Play   \n",
       "3         NaN  2015-02-24 11:15:36 -0800            NaN   \n",
       "4         NaN  2015-02-24 11:14:45 -0800            NaN   \n",
       "\n",
       "                user_timezone  \n",
       "0  Eastern Time (US & Canada)  \n",
       "1  Pacific Time (US & Canada)  \n",
       "2  Central Time (US & Canada)  \n",
       "3  Pacific Time (US & Canada)  \n",
       "4  Pacific Time (US & Canada)  "
      ]
     },
     "execution_count": 3,
     "metadata": {},
     "output_type": "execute_result"
    }
   ],
   "source": [
    "tweet_df = load_data()\n",
    "tweet_df.head()"
   ]
  },
  {
   "cell_type": "code",
   "execution_count": 4,
   "metadata": {},
   "outputs": [
    {
     "name": "stdout",
     "output_type": "stream",
     "text": [
      "Dataset size: (14640, 15)\n",
      "Columns are: Index(['tweet_id', 'airline_sentiment', 'airline_sentiment_confidence',\n",
      "       'negativereason', 'negativereason_confidence', 'airline',\n",
      "       'airline_sentiment_gold', 'name', 'negativereason_gold',\n",
      "       'retweet_count', 'text', 'tweet_coord', 'tweet_created',\n",
      "       'tweet_location', 'user_timezone'],\n",
      "      dtype='object')\n",
      "<class 'pandas.core.frame.DataFrame'>\n",
      "RangeIndex: 14640 entries, 0 to 14639\n",
      "Data columns (total 15 columns):\n",
      "tweet_id                        14640 non-null int64\n",
      "airline_sentiment               14640 non-null object\n",
      "airline_sentiment_confidence    14640 non-null float64\n",
      "negativereason                  9178 non-null object\n",
      "negativereason_confidence       10522 non-null float64\n",
      "airline                         14640 non-null object\n",
      "airline_sentiment_gold          40 non-null object\n",
      "name                            14640 non-null object\n",
      "negativereason_gold             32 non-null object\n",
      "retweet_count                   14640 non-null int64\n",
      "text                            14640 non-null object\n",
      "tweet_coord                     1019 non-null object\n",
      "tweet_created                   14640 non-null object\n",
      "tweet_location                  9907 non-null object\n",
      "user_timezone                   9820 non-null object\n",
      "dtypes: float64(2), int64(2), object(11)\n",
      "memory usage: 1.7+ MB\n"
     ]
    }
   ],
   "source": [
    "print('Dataset size:',tweet_df.shape)\n",
    "print('Columns are:',tweet_df.columns)\n",
    "tweet_df.info()"
   ]
  },
  {
   "cell_type": "markdown",
   "metadata": {},
   "source": [
    "## Step 1 : take \"text\" column"
   ]
  },
  {
   "cell_type": "code",
   "execution_count": 7,
   "metadata": {},
   "outputs": [
    {
     "data": {
      "text/plain": [
       "0                                                                    @VirginAmerica What @dhepburn said.\n",
       "1                               @VirginAmerica plus you've added commercials to the experience... tacky.\n",
       "2                                @VirginAmerica I didn't today... Must mean I need to take another trip!\n",
       "3    @VirginAmerica it's really aggressive to blast obnoxious \"entertainment\" in your guests' faces &...\n",
       "4                                                @VirginAmerica and it's a really big bad thing about it\n",
       "Name: text, dtype: object"
      ]
     },
     "execution_count": 7,
     "metadata": {},
     "output_type": "execute_result"
    }
   ],
   "source": [
    "tweet_df_minus = tweet_df['text']\n",
    "tweet_df_minus[:5]"
   ]
  },
  {
   "cell_type": "markdown",
   "metadata": {},
   "source": [
    "\n",
    "## Step 2: Data Preprocessing\n",
    "\n",
    "We will perform the following steps: \n",
    "\n",
    "1. **Tokenization** : Split the text into sentences and the sentences into words. Lowercase the words and remove punctuation.\n",
    "2. Words that have fewer than 3 characters are removed.\n",
    "3. All **stopwords** are removed.\n",
    "4. Words are **lemmatized** - words in third person are changed to first person and verbs in past and future tenses are changed into present.\n",
    "5. Words are **stemmed** - words are reduced to their root form.\n",
    "\n"
   ]
  },
  {
   "cell_type": "code",
   "execution_count": 8,
   "metadata": {},
   "outputs": [],
   "source": [
    "import gensim\n",
    "from gensim.utils import simple_preprocess\n",
    "from gensim.parsing.preprocessing import STOPWORDS\n",
    "from nltk.stem import WordNetLemmatizer, SnowballStemmer\n",
    "from nltk.stem.porter import *\n",
    "import numpy as np\n",
    "np.random.seed(400)"
   ]
  },
  {
   "cell_type": "code",
   "execution_count": 9,
   "metadata": {},
   "outputs": [
    {
     "name": "stderr",
     "output_type": "stream",
     "text": [
      "[nltk_data] Downloading package wordnet to\n",
      "[nltk_data]     /home/lbenboudiaf/nltk_data...\n",
      "[nltk_data]   Package wordnet is already up-to-date!\n"
     ]
    },
    {
     "data": {
      "text/plain": [
       "True"
      ]
     },
     "execution_count": 9,
     "metadata": {},
     "output_type": "execute_result"
    }
   ],
   "source": [
    "import nltk\n",
    "nltk.download('wordnet')"
   ]
  },
  {
   "cell_type": "code",
   "execution_count": 10,
   "metadata": {},
   "outputs": [],
   "source": [
    "Words_deleted_length = 3\n",
    "Lemmatized = True\n",
    "Stemmed = False\n",
    "\n",
    "import pandas as pd\n",
    "stemmer = SnowballStemmer(\"english\")\n",
    "\n",
    "'''\n",
    "Write a function to perform the pre processing steps on the entire dataset\n",
    "'''\n",
    "def lemmatize_stemming(text):\n",
    "    if(Lemmatized & Stemmed):\n",
    "        return stemmer.stem(WordNetLemmatizer().lemmatize(text, pos='v'))\n",
    "    if(Stemmed):\n",
    "        return stemmer.stem(text)\n",
    "    if(Lemmatized):\n",
    "        return WordNetLemmatizer().lemmatize(text, pos='v')\n",
    "    return text\n",
    "\n",
    "# Tokenize and lemmatize\n",
    "def preprocess(text):\n",
    "    result=[]\n",
    "    for token in gensim.utils.simple_preprocess(text) :\n",
    "        if token not in gensim.parsing.preprocessing.STOPWORDS and len(token) > Words_deleted_length:\n",
    "            result.append(lemmatize_stemming(token))\n",
    "            \n",
    "    return result"
   ]
  },
  {
   "cell_type": "code",
   "execution_count": 11,
   "metadata": {},
   "outputs": [
    {
     "name": "stdout",
     "output_type": "stream",
     "text": [
      "Size of not pre-processeded data :  14640\n",
      "Size of pre-processeded data :  14640\n",
      "\n",
      "Check data processing effect:\n",
      "@VirginAmerica plus you've added commercials to the experience... tacky.\n",
      "['virginamerica', 'plus', 'add', 'commercials', 'experience', 'tacky']\n"
     ]
    }
   ],
   "source": [
    "'''We create two lists, one for pre-processed data and an other for not pre-processed data'''\n",
    "processed_docs = []\n",
    "nan_processed_docs = []\n",
    "for doc in tweet_df_minus :\n",
    "    nan_processed_docs.append(doc)\n",
    "for doc in tweet_df_minus :\n",
    "    processed_docs.append(preprocess(doc))\n",
    "    \n",
    "\n",
    "'''They should have the same size''' \n",
    "print('Size of not pre-processeded data : ', len(nan_processed_docs))\n",
    "print('Size of pre-processeded data : ', len(processed_docs))\n",
    "print('\\nCheck data processing effect:')\n",
    "print(nan_processed_docs[1])\n",
    "print(processed_docs[1])"
   ]
  },
  {
   "cell_type": "markdown",
   "metadata": {},
   "source": [
    "## Step 3: Bag of words on the dataset\n",
    "\n",
    "Now let's create a dictionary from 'processed_docs' containing the number of times a word appears in the training set. To do that, let's pass processed_docs to gensim.corpora.Dictionary() and call it 'dictionary'.\n"
   ]
  },
  {
   "cell_type": "code",
   "execution_count": 12,
   "metadata": {},
   "outputs": [
    {
     "name": "stdout",
     "output_type": "stream",
     "text": [
      "Dictionary(9775 unique tokens: ['verizonwireless', 'ferry', 'maui', 'crâpe', 'tiredcustomer']...)\n"
     ]
    }
   ],
   "source": [
    "'''\n",
    "Create a dictionary from 'processed_docs' containing the number of times a word appears \n",
    "in the training set using gensim.corpora.Dictionary and call it 'dictionary'\n",
    "'''\n",
    "dictionary = gensim.corpora.Dictionary(processed_docs)\n",
    "print(dictionary)"
   ]
  },
  {
   "cell_type": "code",
   "execution_count": 13,
   "metadata": {},
   "outputs": [
    {
     "name": "stdout",
     "output_type": "stream",
     "text": [
      "Word_id: 1403 Word: verizonwireless\n",
      "Word_id: 4582 Word: ferry\n",
      "Word_id: 2494 Word: maui\n",
      "Word_id: 4655 Word: crâpe\n",
      "Word_id: 3894 Word: tiredcustomer\n",
      "Word_id: 1371 Word: will\n",
      "Word_id: 502 Word: priority\n",
      "Word_id: 791 Word: virginatlantic\n",
      "Word_id: 5766 Word: whoot\n",
      "Word_id: 5145 Word: qxteqzm\n"
     ]
    }
   ],
   "source": [
    "'''\n",
    "Checking dictionary created\n",
    "'''\n",
    "count = 1\n",
    "for k, v in dictionary.iteritems():\n",
    "    print('Word_id:', k ,'Word:',v)\n",
    "    count += 1\n",
    "    if count > 10:\n",
    "        break"
   ]
  },
  {
   "cell_type": "code",
   "execution_count": 14,
   "metadata": {},
   "outputs": [
    {
     "name": "stdout",
     "output_type": "stream",
     "text": [
      "The representation is a tuple : (word_id, word_frequency) for example : \n",
      "\n",
      "[['virginamerica', 'dhepburn', 'say'], ['virginamerica', 'plus', 'add', 'commercials', 'experience', 'tacky']]\n"
     ]
    },
    {
     "data": {
      "text/plain": [
       "[[(0, 1), (1, 1), (2, 1)], [(2, 1), (3, 1), (4, 1), (5, 1), (6, 1), (7, 1)]]"
      ]
     },
     "execution_count": 14,
     "metadata": {},
     "output_type": "execute_result"
    }
   ],
   "source": [
    "'''\n",
    "Create the Bag-of-words model for each document i.e. for each document we create a dictionary reporting how many\n",
    "words and how many times those words appear. Save this to 'bow_corpus'\n",
    "'''\n",
    "bow_corpus = [dictionary.doc2bow(doc) for doc in processed_docs]\n",
    "print('The representation is a tuple : (word_id, word_frequency) for example : \\n')\n",
    "print(processed_docs[:2])\n",
    "bow_corpus[:2]"
   ]
  },
  {
   "cell_type": "code",
   "execution_count": 15,
   "metadata": {},
   "outputs": [
    {
     "name": "stdout",
     "output_type": "stream",
     "text": [
      "Word 2 (\"virginamerica\") appears 1 time.\n",
      "Word 24 (\"seat\") appears 1 time.\n",
      "Word 28 (\"time\") appears 1 time.\n",
      "Word 88 (\"available\") appears 1 time.\n",
      "Word 89 (\"carriers\") appears 1 time.\n",
      "Word 90 (\"fare\") appears 1 time.\n",
      "Word 91 (\"select\") appears 1 time.\n"
     ]
    }
   ],
   "source": [
    "'''\n",
    "Preview BOW for our sample preprocessed document\n",
    "'''\n",
    "document_num = 20\n",
    "bow_doc_x = bow_corpus[document_num]\n",
    "\n",
    "for i in range(len(bow_doc_x)):\n",
    "    print(\"Word {} (\\\"{}\\\") appears {} time.\".format(bow_doc_x[i][0], \n",
    "                                                     dictionary[bow_doc_x[i][0]], \n",
    "                                                     bow_doc_x[i][1]))"
   ]
  },
  {
   "cell_type": "markdown",
   "metadata": {},
   "source": [
    "## Step 4: Running LDA using Bag of Words\n",
    "We are going for 10 topics in the document corpus.\n",
    "\n",
    "We will be running LDA using all CPU cores to parallelize and speed up model training.\n",
    "\n",
    "Some of the parameters we will be tweaking are:\n",
    "\n",
    "1. **num_topics** is the number of requested latent topics to be extracted from the training corpus.\n",
    "2. **id2word** is a mapping from word ids (integers) to words (strings). It is used to determine the vocabulary size, as well as for debugging and topic printing.\n",
    "3. **workers** is the number of extra processes to use for parallelization. Uses all available cores by default.\n",
    "4. **alpha** and **beta** are hyperparameters that affect sparsity of the document-topic (theta) and topic-word (lambda) distributions. We will let these be the default values for now(default value is 1/num_topics)\n",
    "\n",
    " **Alpha** is the per document topic distribution.\n",
    "   - *High alpha* : Every document has a mixture of all topics(documents appear similar to each other).\n",
    "   - *Low alpha* : Every document has a mixture of very few topics\n",
    "\n",
    "  **bEta** is the per topic word distribution.\n",
    "    - *High beta* : Each topic has a mixture of most words(topics appear similar to each other).\n",
    "    - *Low eta* : Each topic has a mixture of few words.\n",
    "\n",
    "5. **passes** is the number of training passes through the corpus. For example, if the training corpus has 50,000 documents, chunksize is 10,000, passes is 2, then online training is done in 10 updates:\n",
    "- documents 0-9,999\n",
    "- documents 10,000-19,999\n",
    "- documents 20,000-29,999\n",
    "- documents 30,000-39,999\n",
    "- documents 40,000-49,999\n",
    "- documents 0-9,999\n",
    "- documents 10,000-19,999\n",
    "- documents 20,000-29,999\n",
    "- documents 30,000-39,999\n",
    "- documents 40,000-49,999\n"
   ]
  },
  {
   "cell_type": "code",
   "execution_count": 18,
   "metadata": {},
   "outputs": [],
   "source": [
    "# LDA multicore \n",
    "'''\n",
    "Train your lda model using gensim.models.LdaMulticore and save it to 'lda_model'\n",
    "'''\n",
    "lda_model =  gensim.models.LdaMulticore(corpus=bow_corpus, \n",
    "                                   num_topics = 5,\n",
    "                                   chunksize=100,\n",
    "                                   id2word = dictionary,                                    \n",
    "                                   passes = 10,\n",
    "                                   workers = 2)"
   ]
  },
  {
   "cell_type": "code",
   "execution_count": 19,
   "metadata": {},
   "outputs": [
    {
     "name": "stdout",
     "output_type": "stream",
     "text": [
      "Topic: 0 \n",
      "Words: 0.047*\"seat\" + 0.022*\"good\" + 0.016*\"appreciate\" + 0.015*\"hope\" + 0.013*\"class\" + 0.012*\"like\" + 0.012*\"available\" + 0.011*\"upgrade\" + 0.011*\"busy\" + 0.010*\"unacceptable\"\n",
      "\n",
      "\n",
      "Topic: 1 \n",
      "Words: 0.028*\"people\" + 0.021*\"agents\" + 0.018*\"staff\" + 0.015*\"rude\" + 0.014*\"american\" + 0.012*\"southwestair\" + 0.011*\"tweet\" + 0.011*\"delta\" + 0.011*\"point\" + 0.011*\"money\"\n",
      "\n",
      "\n",
      "Topic: 2 \n",
      "Words: 0.139*\"americanair\" + 0.073*\"flight\" + 0.049*\"usairways\" + 0.022*\"thank\" + 0.021*\"cancel\" + 0.017*\"help\" + 0.014*\"service\" + 0.013*\"hold\" + 0.013*\"wait\" + 0.013*\"hours\"\n",
      "\n",
      "\n",
      "Topic: 3 \n",
      "Words: 0.082*\"jetblue\" + 0.069*\"http\" + 0.035*\"airport\" + 0.020*\"speak\" + 0.018*\"right\" + 0.016*\"care\" + 0.010*\"airways\" + 0.009*\"load\" + 0.008*\"desk\" + 0.008*\"free\"\n",
      "\n",
      "\n",
      "Topic: 4 \n",
      "Words: 0.043*\"plane\" + 0.040*\"tell\" + 0.020*\"issue\" + 0.020*\"travel\" + 0.018*\"look\" + 0.017*\"board\" + 0.014*\"stick\" + 0.012*\"info\" + 0.011*\"land\" + 0.010*\"like\"\n",
      "\n",
      "\n"
     ]
    }
   ],
   "source": [
    "'''\n",
    "For each topic, we will explore the words occuring in that topic and its relative weight\n",
    "'''\n",
    "for idx, topic in lda_model.print_topics(-1):\n",
    "    print(\"Topic: {} \\nWords: {}\".format(idx, topic ))\n",
    "    print(\"\\n\")"
   ]
  },
  {
   "cell_type": "markdown",
   "metadata": {},
   "source": [
    "## Step 5: Testing LDA model"
   ]
  },
  {
   "cell_type": "code",
   "execution_count": 20,
   "metadata": {},
   "outputs": [
    {
     "name": "stdout",
     "output_type": "stream",
     "text": [
      "\n",
      "Coherence Score:  0.3693760436523591\n"
     ]
    }
   ],
   "source": [
    "from gensim.models import CoherenceModel\n",
    "# Compute Coherence Score\n",
    "coherence_model_lda = CoherenceModel(model=lda_model, texts=processed_docs, dictionary=dictionary, coherence='c_v')\n",
    "\n",
    "coherence_lda = coherence_model_lda.get_coherence()\n",
    "print('\\nCoherence Score: ', coherence_lda)"
   ]
  },
  {
   "cell_type": "markdown",
   "metadata": {},
   "source": [
    "Now that we have the baseline coherence score for the default LDA model, let’s perform a series of sensitivity tests to help determine the following model hyperparameters:\n",
    "\n",
    "    Number of Topics (K)\n",
    "    Dirichlet hyperparameter alpha: Document-Topic Density\n",
    "    Dirichlet hyperparameter beta: Word-Topic Density\n",
    "We’ll perform these tests in sequence, one parameter at a time by keeping others constant and run them over the two different validation corpus sets. We’ll use **C_v** as our choice of metric for performance comparison\n",
    "\n",
    "We create function ***compute_coherence_values*** and iterate it over the range of topics, alpha, and beta parameter values"
   ]
  },
  {
   "cell_type": "code",
   "execution_count": 17,
   "metadata": {},
   "outputs": [],
   "source": [
    "# supporting function\n",
    "def compute_coherence_values(corpus, dictionary, k, a, b):\n",
    "    lda_model = gensim.models.LdaMulticore(corpus=bow_corpus,\n",
    "                                           id2word=dictionary,\n",
    "                                           num_topics=10, \n",
    "                                           chunksize=100,\n",
    "                                           passes=10,\n",
    "                                           alpha=a,\n",
    "                                           eta=b,\n",
    "                                           per_word_topics=True)\n",
    "    \n",
    "    coherence_model_lda = CoherenceModel(model=lda_model, texts=processed_docs, dictionary=dictionary, coherence='c_v')\n",
    "    \n",
    "    return coherence_model_lda.get_coherence()"
   ]
  },
  {
   "cell_type": "code",
   "execution_count": 81,
   "metadata": {
    "scrolled": true
   },
   "outputs": [
    {
     "name": "stderr",
     "output_type": "stream",
     "text": [
      "\n",
      "\n",
      "  0%|          | 0/20 [00:00<?, ?it/s]\u001b[A\u001b[A\n",
      "\n",
      "  5%|▌         | 1/20 [00:42<13:18, 42.02s/it]\u001b[A\u001b[A\n",
      "\n",
      "23it [51:04, 133.25s/it]1:25<12:44, 42.48s/it]\u001b[A\u001b[A\n",
      "  0%|          | 0/20 [23:41<?, ?it/s]\n",
      "\n",
      "\n",
      " 15%|█▌        | 3/20 [02:11<12:19, 43.50s/it]\u001b[A\u001b[A\n",
      "\n",
      " 20%|██        | 4/20 [02:52<11:25, 42.82s/it]\u001b[A\u001b[A\n",
      "\n",
      " 25%|██▌       | 5/20 [03:35<10:41, 42.76s/it]\u001b[A\u001b[A\n",
      "\n",
      " 30%|███       | 6/20 [04:14<09:43, 41.69s/it]\u001b[A\u001b[A\n",
      "\n",
      " 35%|███▌      | 7/20 [05:04<09:35, 44.23s/it]\u001b[A\u001b[A\n",
      "\n",
      " 40%|████      | 8/20 [05:49<08:52, 44.38s/it]\u001b[A\u001b[A\n",
      "\n",
      " 45%|████▌     | 9/20 [06:28<07:50, 42.81s/it]\u001b[A\u001b[A\n",
      "\n",
      " 50%|█████     | 10/20 [07:12<07:12, 43.29s/it]\u001b[A\u001b[A\n",
      "\n",
      " 55%|█████▌    | 11/20 [07:59<06:37, 44.16s/it]\u001b[A\u001b[A\n",
      "\n",
      " 60%|██████    | 12/20 [08:45<05:59, 44.96s/it]\u001b[A\u001b[A\n",
      "\n",
      " 65%|██████▌   | 13/20 [09:22<04:56, 42.29s/it]\u001b[A\u001b[A\n",
      "\n",
      " 70%|███████   | 14/20 [10:01<04:08, 41.34s/it]\u001b[A\u001b[A\n",
      "\n",
      " 75%|███████▌  | 15/20 [10:45<03:31, 42.36s/it]\u001b[A\u001b[A\n",
      "\n",
      " 80%|████████  | 16/20 [11:32<02:54, 43.52s/it]\u001b[A\u001b[A\n",
      "\n",
      " 85%|████████▌ | 17/20 [12:25<02:19, 46.60s/it]\u001b[A\u001b[A\n",
      "\n",
      " 90%|█████████ | 18/20 [13:06<01:29, 44.80s/it]\u001b[A\u001b[A\n",
      "\n",
      " 95%|█████████▌| 19/20 [13:34<00:39, 39.89s/it]\u001b[A\u001b[A\n",
      "\n",
      "100%|██████████| 20/20 [14:03<00:00, 36.55s/it]\u001b[A\u001b[A\n",
      "\n",
      "21it [14:33, 34.43s/it]                        \u001b[A\u001b[A\n",
      "\n",
      "22it [15:09, 34.96s/it]\u001b[A\u001b[A\n",
      "\n",
      "23it [15:42, 34.50s/it]\u001b[A\u001b[A\n",
      "\n",
      "24it [16:12, 33.11s/it]\u001b[A\u001b[A\n",
      "\n",
      "25it [16:42, 31.99s/it]\u001b[A\u001b[A\n",
      "\n",
      "26it [17:10, 30.86s/it]\u001b[A\u001b[A\n",
      "\n",
      "27it [17:40, 30.58s/it]\u001b[A\u001b[A\n",
      "\n",
      "28it [18:11, 30.79s/it]\u001b[A\u001b[A\n",
      "\n",
      "29it [18:42, 30.97s/it]\u001b[A\u001b[A\n",
      "\n",
      "30it [19:12, 30.43s/it]\u001b[A\u001b[A\n",
      "\n",
      "31it [19:44, 31.11s/it]\u001b[A\u001b[A\n",
      "\n",
      "32it [20:17, 31.73s/it]\u001b[A\u001b[A\n",
      "\n",
      "33it [20:50, 32.12s/it]\u001b[A\u001b[A\n",
      "\n",
      "34it [21:22, 31.83s/it]\u001b[A\u001b[A\n",
      "\n",
      "35it [21:56, 32.72s/it]\u001b[A\u001b[A\n",
      "\n",
      "36it [22:29, 32.80s/it]\u001b[A\u001b[A\n",
      "\n",
      "37it [23:02, 32.82s/it]\u001b[A\u001b[A\n",
      "\n",
      "38it [23:34, 32.54s/it]\u001b[A\u001b[A\n",
      "\n",
      "39it [24:04, 31.59s/it]\u001b[A\u001b[A\n",
      "\n",
      "40it [24:37, 32.20s/it]\u001b[A\u001b[A\n",
      "\n",
      "41it [25:06, 31.10s/it]\u001b[A\u001b[A\n",
      "\n",
      "42it [25:35, 30.68s/it]\u001b[A\u001b[A\n",
      "\n",
      "43it [26:12, 32.44s/it]\u001b[A\u001b[A\n",
      "\n",
      "44it [26:43, 32.14s/it]\u001b[A\u001b[A\n",
      "\n",
      "45it [27:12, 31.16s/it]\u001b[A\u001b[A\n",
      "\n",
      "46it [27:40, 30.04s/it]\u001b[A\u001b[A\n",
      "\n",
      "47it [28:09, 29.90s/it]\u001b[A\u001b[A\n",
      "\n",
      "48it [28:45, 31.55s/it]\u001b[A\u001b[A\n",
      "\n",
      "49it [29:29, 35.40s/it]\u001b[A\u001b[A\n",
      "\n",
      "50it [30:07, 36.05s/it]\u001b[A\u001b[A\n",
      "\n",
      "51it [30:41, 35.48s/it]\u001b[A\u001b[A\n",
      "\n",
      "52it [31:14, 34.68s/it]\u001b[A\u001b[A\n",
      "\n",
      "53it [31:47, 34.39s/it]\u001b[A\u001b[A\n",
      "\n",
      "54it [32:20, 33.82s/it]\u001b[A\u001b[A\n",
      "\n",
      "55it [32:52, 33.38s/it]\u001b[A\u001b[A\n",
      "\n",
      "56it [33:26, 33.44s/it]\u001b[A\u001b[A\n",
      "\n",
      "57it [34:01, 34.11s/it]\u001b[A\u001b[A\n",
      "\n",
      "58it [34:37, 34.49s/it]\u001b[A\u001b[A\n",
      "\n",
      "59it [35:08, 33.43s/it]\u001b[A\u001b[A\n",
      "\n",
      "60it [35:37, 32.26s/it]\u001b[A\u001b[A\n",
      "\n",
      "61it [36:08, 31.68s/it]\u001b[A\u001b[A\n",
      "\n",
      "62it [36:39, 31.73s/it]\u001b[A\u001b[A\n",
      "\n",
      "63it [37:10, 31.48s/it]\u001b[A\u001b[A\n",
      "\n",
      "64it [37:48, 33.49s/it]\u001b[A\u001b[A\n",
      "\n",
      "65it [38:21, 33.27s/it]\u001b[A\u001b[A\n",
      "\n",
      "66it [38:53, 32.76s/it]\u001b[A\u001b[A\n",
      "\n",
      "67it [39:19, 30.93s/it]\u001b[A\u001b[A\n",
      "\n",
      "68it [39:49, 30.38s/it]\u001b[A\u001b[A\n",
      "\n",
      "69it [40:22, 31.18s/it]\u001b[A\u001b[A\n",
      "\n",
      "70it [40:54, 31.44s/it]\u001b[A\u001b[A\n",
      "\n",
      "71it [41:21, 30.14s/it]\u001b[A\u001b[A\n",
      "\n",
      "72it [41:54, 30.95s/it]\u001b[A\u001b[A\n",
      "\n",
      "73it [42:23, 30.41s/it]\u001b[A\u001b[A\n",
      "\n",
      "74it [43:03, 33.40s/it]\u001b[A\u001b[A\n",
      "\n",
      "75it [43:46, 36.28s/it]\u001b[A\u001b[A\n",
      "\n",
      "76it [44:21, 35.87s/it]\u001b[A\u001b[A\n",
      "\n",
      "77it [44:59, 36.37s/it]\u001b[A\u001b[A\n",
      "\n",
      "78it [45:30, 34.92s/it]\u001b[A\u001b[A\n",
      "\n",
      "79it [46:02, 33.99s/it]\u001b[A\u001b[A\n",
      "\n",
      "80it [46:34, 33.47s/it]\u001b[A\u001b[A\n",
      "\n",
      "81it [47:05, 32.65s/it]\u001b[A\u001b[A\n",
      "\n",
      "82it [47:40, 33.26s/it]\u001b[A\u001b[A\n",
      "\n",
      "83it [48:09, 32.19s/it]\u001b[A\u001b[A\n",
      "\n",
      "84it [48:41, 31.98s/it]\u001b[A\u001b[A\n",
      "\n",
      "85it [49:11, 31.35s/it]\u001b[A\u001b[A\n",
      "\n",
      "86it [49:39, 30.52s/it]\u001b[A\u001b[A\n",
      "\n",
      "87it [50:20, 33.65s/it]\u001b[A\u001b[A\n",
      "\n",
      "88it [50:56, 34.19s/it]\u001b[A\u001b[A\n",
      "\n",
      "89it [51:29, 34.05s/it]\u001b[A\u001b[A\n",
      "\n",
      "90it [52:07, 35.06s/it]\u001b[A\u001b[A\n",
      "\n",
      "91it [52:38, 33.91s/it]\u001b[A\u001b[A\n",
      "\n",
      "92it [53:09, 32.98s/it]\u001b[A\u001b[A\n",
      "\n",
      "93it [53:45, 33.84s/it]\u001b[A\u001b[A\n",
      "\n",
      "94it [54:20, 34.31s/it]\u001b[A\u001b[A\n",
      "\n",
      "95it [54:58, 35.41s/it]\u001b[A\u001b[A\n",
      "\n",
      "96it [55:30, 34.30s/it]\u001b[A\u001b[A\n",
      "\n",
      "97it [55:58, 32.61s/it]\u001b[A\u001b[A\n",
      "\n",
      "98it [56:29, 32.09s/it]\u001b[A\u001b[A\n",
      "\n",
      "99it [57:01, 31.87s/it]\u001b[A\u001b[A\n",
      "\n",
      "100it [57:31, 31.34s/it]\u001b[A\u001b[A\n",
      "\n",
      "101it [58:02, 31.35s/it]\u001b[A\u001b[A\n",
      "\n",
      "102it [58:30, 30.22s/it]\u001b[A\u001b[A\n",
      "\n",
      "103it [58:57, 29.34s/it]\u001b[A\u001b[A\n",
      "\n",
      "104it [59:28, 29.82s/it]\u001b[A\u001b[A\n",
      "\n",
      "105it [1:00:00, 30.51s/it]\u001b[A\u001b[A\n",
      "\n",
      "106it [1:00:30, 30.35s/it]\u001b[A\u001b[A\n",
      "\n",
      "107it [1:01:00, 30.32s/it]\u001b[A\u001b[A\n",
      "\n",
      "108it [1:01:29, 29.71s/it]\u001b[A\u001b[A\n",
      "\n",
      "109it [1:01:55, 28.71s/it]\u001b[A\u001b[A\n",
      "\n",
      "110it [1:02:25, 29.26s/it]\u001b[A\u001b[A\n",
      "\n",
      "111it [1:02:53, 28.75s/it]\u001b[A\u001b[A"
     ]
    },
    {
     "ename": "OSError",
     "evalue": "[Errno 12] Cannot allocate memory",
     "output_type": "error",
     "traceback": [
      "\u001b[0;31m---------------------------------------------------------------------------\u001b[0m",
      "\u001b[0;31mOSError\u001b[0m                                   Traceback (most recent call last)",
      "\u001b[0;32m<ipython-input-81-a5d186629d04>\u001b[0m in \u001b[0;36m<module>\u001b[0;34m\u001b[0m\n\u001b[1;32m     45\u001b[0m                     \u001b[0;31m# get the coherence score for the given parameters\u001b[0m\u001b[0;34m\u001b[0m\u001b[0;34m\u001b[0m\u001b[0m\n\u001b[1;32m     46\u001b[0m                     cv = compute_coherence_values(corpus=corpus_sets[i], dictionary=dictionary, \n\u001b[0;32m---> 47\u001b[0;31m                                                   k=k, a=a, b=b)\n\u001b[0m\u001b[1;32m     48\u001b[0m                     \u001b[0;31m# Save the model results\u001b[0m\u001b[0;34m\u001b[0m\u001b[0;34m\u001b[0m\u001b[0m\n\u001b[1;32m     49\u001b[0m                     \u001b[0mmodel_results\u001b[0m\u001b[0;34m[\u001b[0m\u001b[0;34m'Validation_Set'\u001b[0m\u001b[0;34m]\u001b[0m\u001b[0;34m.\u001b[0m\u001b[0mappend\u001b[0m\u001b[0;34m(\u001b[0m\u001b[0mcorpus_title\u001b[0m\u001b[0;34m[\u001b[0m\u001b[0mi\u001b[0m\u001b[0;34m]\u001b[0m\u001b[0;34m)\u001b[0m\u001b[0;34m\u001b[0m\u001b[0m\n",
      "\u001b[0;32m<ipython-input-42-660c2b392269>\u001b[0m in \u001b[0;36mcompute_coherence_values\u001b[0;34m(corpus, dictionary, k, a, b)\u001b[0m\n\u001b[1;32m     13\u001b[0m     \u001b[0mcoherence_model_lda\u001b[0m \u001b[0;34m=\u001b[0m \u001b[0mCoherenceModel\u001b[0m\u001b[0;34m(\u001b[0m\u001b[0mmodel\u001b[0m\u001b[0;34m=\u001b[0m\u001b[0mlda_model\u001b[0m\u001b[0;34m,\u001b[0m \u001b[0mtexts\u001b[0m\u001b[0;34m=\u001b[0m\u001b[0mprocessed_docs\u001b[0m\u001b[0;34m,\u001b[0m \u001b[0mdictionary\u001b[0m\u001b[0;34m=\u001b[0m\u001b[0mdictionary\u001b[0m\u001b[0;34m,\u001b[0m \u001b[0mcoherence\u001b[0m\u001b[0;34m=\u001b[0m\u001b[0;34m'c_v'\u001b[0m\u001b[0;34m)\u001b[0m\u001b[0;34m\u001b[0m\u001b[0m\n\u001b[1;32m     14\u001b[0m \u001b[0;34m\u001b[0m\u001b[0m\n\u001b[0;32m---> 15\u001b[0;31m     \u001b[0;32mreturn\u001b[0m \u001b[0mcoherence_model_lda\u001b[0m\u001b[0;34m.\u001b[0m\u001b[0mget_coherence\u001b[0m\u001b[0;34m(\u001b[0m\u001b[0;34m)\u001b[0m\u001b[0;34m\u001b[0m\u001b[0m\n\u001b[0m",
      "\u001b[0;32m/usr/local/lib/python3.5/dist-packages/gensim/models/coherencemodel.py\u001b[0m in \u001b[0;36mget_coherence\u001b[0;34m(self)\u001b[0m\n\u001b[1;32m    607\u001b[0m \u001b[0;34m\u001b[0m\u001b[0m\n\u001b[1;32m    608\u001b[0m         \"\"\"\n\u001b[0;32m--> 609\u001b[0;31m         \u001b[0mconfirmed_measures\u001b[0m \u001b[0;34m=\u001b[0m \u001b[0mself\u001b[0m\u001b[0;34m.\u001b[0m\u001b[0mget_coherence_per_topic\u001b[0m\u001b[0;34m(\u001b[0m\u001b[0;34m)\u001b[0m\u001b[0;34m\u001b[0m\u001b[0m\n\u001b[0m\u001b[1;32m    610\u001b[0m         \u001b[0;32mreturn\u001b[0m \u001b[0mself\u001b[0m\u001b[0;34m.\u001b[0m\u001b[0maggregate_measures\u001b[0m\u001b[0;34m(\u001b[0m\u001b[0mconfirmed_measures\u001b[0m\u001b[0;34m)\u001b[0m\u001b[0;34m\u001b[0m\u001b[0m\n\u001b[1;32m    611\u001b[0m \u001b[0;34m\u001b[0m\u001b[0m\n",
      "\u001b[0;32m/usr/local/lib/python3.5/dist-packages/gensim/models/coherencemodel.py\u001b[0m in \u001b[0;36mget_coherence_per_topic\u001b[0;34m(self, segmented_topics, with_std, with_support)\u001b[0m\n\u001b[1;32m    567\u001b[0m             \u001b[0msegmented_topics\u001b[0m \u001b[0;34m=\u001b[0m \u001b[0mmeasure\u001b[0m\u001b[0;34m.\u001b[0m\u001b[0mseg\u001b[0m\u001b[0;34m(\u001b[0m\u001b[0mself\u001b[0m\u001b[0;34m.\u001b[0m\u001b[0mtopics\u001b[0m\u001b[0;34m)\u001b[0m\u001b[0;34m\u001b[0m\u001b[0m\n\u001b[1;32m    568\u001b[0m         \u001b[0;32mif\u001b[0m \u001b[0mself\u001b[0m\u001b[0;34m.\u001b[0m\u001b[0m_accumulator\u001b[0m \u001b[0;32mis\u001b[0m \u001b[0;32mNone\u001b[0m\u001b[0;34m:\u001b[0m\u001b[0;34m\u001b[0m\u001b[0m\n\u001b[0;32m--> 569\u001b[0;31m             \u001b[0mself\u001b[0m\u001b[0;34m.\u001b[0m\u001b[0mestimate_probabilities\u001b[0m\u001b[0;34m(\u001b[0m\u001b[0msegmented_topics\u001b[0m\u001b[0;34m)\u001b[0m\u001b[0;34m\u001b[0m\u001b[0m\n\u001b[0m\u001b[1;32m    570\u001b[0m \u001b[0;34m\u001b[0m\u001b[0m\n\u001b[1;32m    571\u001b[0m         \u001b[0mkwargs\u001b[0m \u001b[0;34m=\u001b[0m \u001b[0mdict\u001b[0m\u001b[0;34m(\u001b[0m\u001b[0mwith_std\u001b[0m\u001b[0;34m=\u001b[0m\u001b[0mwith_std\u001b[0m\u001b[0;34m,\u001b[0m \u001b[0mwith_support\u001b[0m\u001b[0;34m=\u001b[0m\u001b[0mwith_support\u001b[0m\u001b[0;34m)\u001b[0m\u001b[0;34m\u001b[0m\u001b[0m\n",
      "\u001b[0;32m/usr/local/lib/python3.5/dist-packages/gensim/models/coherencemodel.py\u001b[0m in \u001b[0;36mestimate_probabilities\u001b[0;34m(self, segmented_topics)\u001b[0m\n\u001b[1;32m    539\u001b[0m                 \u001b[0mkwargs\u001b[0m\u001b[0;34m[\u001b[0m\u001b[0;34m'model'\u001b[0m\u001b[0;34m]\u001b[0m \u001b[0;34m=\u001b[0m \u001b[0mself\u001b[0m\u001b[0;34m.\u001b[0m\u001b[0mkeyed_vectors\u001b[0m\u001b[0;34m\u001b[0m\u001b[0m\n\u001b[1;32m    540\u001b[0m \u001b[0;34m\u001b[0m\u001b[0m\n\u001b[0;32m--> 541\u001b[0;31m             \u001b[0mself\u001b[0m\u001b[0;34m.\u001b[0m\u001b[0m_accumulator\u001b[0m \u001b[0;34m=\u001b[0m \u001b[0mself\u001b[0m\u001b[0;34m.\u001b[0m\u001b[0mmeasure\u001b[0m\u001b[0;34m.\u001b[0m\u001b[0mprob\u001b[0m\u001b[0;34m(\u001b[0m\u001b[0;34m**\u001b[0m\u001b[0mkwargs\u001b[0m\u001b[0;34m)\u001b[0m\u001b[0;34m\u001b[0m\u001b[0m\n\u001b[0m\u001b[1;32m    542\u001b[0m \u001b[0;34m\u001b[0m\u001b[0m\n\u001b[1;32m    543\u001b[0m         \u001b[0;32mreturn\u001b[0m \u001b[0mself\u001b[0m\u001b[0;34m.\u001b[0m\u001b[0m_accumulator\u001b[0m\u001b[0;34m\u001b[0m\u001b[0m\n",
      "\u001b[0;32m/usr/local/lib/python3.5/dist-packages/gensim/topic_coherence/probability_estimation.py\u001b[0m in \u001b[0;36mp_boolean_sliding_window\u001b[0;34m(texts, segmented_topics, dictionary, window_size, processes)\u001b[0m\n\u001b[1;32m    154\u001b[0m         \u001b[0maccumulator\u001b[0m \u001b[0;34m=\u001b[0m \u001b[0mParallelWordOccurrenceAccumulator\u001b[0m\u001b[0;34m(\u001b[0m\u001b[0mprocesses\u001b[0m\u001b[0;34m,\u001b[0m \u001b[0mtop_ids\u001b[0m\u001b[0;34m,\u001b[0m \u001b[0mdictionary\u001b[0m\u001b[0;34m)\u001b[0m\u001b[0;34m\u001b[0m\u001b[0m\n\u001b[1;32m    155\u001b[0m     \u001b[0mlogger\u001b[0m\u001b[0;34m.\u001b[0m\u001b[0minfo\u001b[0m\u001b[0;34m(\u001b[0m\u001b[0;34m\"using %s to estimate probabilities from sliding windows\"\u001b[0m\u001b[0;34m,\u001b[0m \u001b[0maccumulator\u001b[0m\u001b[0;34m)\u001b[0m\u001b[0;34m\u001b[0m\u001b[0m\n\u001b[0;32m--> 156\u001b[0;31m     \u001b[0;32mreturn\u001b[0m \u001b[0maccumulator\u001b[0m\u001b[0;34m.\u001b[0m\u001b[0maccumulate\u001b[0m\u001b[0;34m(\u001b[0m\u001b[0mtexts\u001b[0m\u001b[0;34m,\u001b[0m \u001b[0mwindow_size\u001b[0m\u001b[0;34m)\u001b[0m\u001b[0;34m\u001b[0m\u001b[0m\n\u001b[0m\u001b[1;32m    157\u001b[0m \u001b[0;34m\u001b[0m\u001b[0m\n\u001b[1;32m    158\u001b[0m \u001b[0;34m\u001b[0m\u001b[0m\n",
      "\u001b[0;32m/usr/local/lib/python3.5/dist-packages/gensim/topic_coherence/text_analysis.py\u001b[0m in \u001b[0;36maccumulate\u001b[0;34m(self, texts, window_size)\u001b[0m\n\u001b[1;32m    442\u001b[0m \u001b[0;34m\u001b[0m\u001b[0m\n\u001b[1;32m    443\u001b[0m     \u001b[0;32mdef\u001b[0m \u001b[0maccumulate\u001b[0m\u001b[0;34m(\u001b[0m\u001b[0mself\u001b[0m\u001b[0;34m,\u001b[0m \u001b[0mtexts\u001b[0m\u001b[0;34m,\u001b[0m \u001b[0mwindow_size\u001b[0m\u001b[0;34m)\u001b[0m\u001b[0;34m:\u001b[0m\u001b[0;34m\u001b[0m\u001b[0m\n\u001b[0;32m--> 444\u001b[0;31m         \u001b[0mworkers\u001b[0m\u001b[0;34m,\u001b[0m \u001b[0minput_q\u001b[0m\u001b[0;34m,\u001b[0m \u001b[0moutput_q\u001b[0m \u001b[0;34m=\u001b[0m \u001b[0mself\u001b[0m\u001b[0;34m.\u001b[0m\u001b[0mstart_workers\u001b[0m\u001b[0;34m(\u001b[0m\u001b[0mwindow_size\u001b[0m\u001b[0;34m)\u001b[0m\u001b[0;34m\u001b[0m\u001b[0m\n\u001b[0m\u001b[1;32m    445\u001b[0m         \u001b[0;32mtry\u001b[0m\u001b[0;34m:\u001b[0m\u001b[0;34m\u001b[0m\u001b[0m\n\u001b[1;32m    446\u001b[0m             \u001b[0mself\u001b[0m\u001b[0;34m.\u001b[0m\u001b[0mqueue_all_texts\u001b[0m\u001b[0;34m(\u001b[0m\u001b[0minput_q\u001b[0m\u001b[0;34m,\u001b[0m \u001b[0mtexts\u001b[0m\u001b[0;34m,\u001b[0m \u001b[0mwindow_size\u001b[0m\u001b[0;34m)\u001b[0m\u001b[0;34m\u001b[0m\u001b[0m\n",
      "\u001b[0;32m/usr/local/lib/python3.5/dist-packages/gensim/topic_coherence/text_analysis.py\u001b[0m in \u001b[0;36mstart_workers\u001b[0;34m(self, window_size)\u001b[0m\n\u001b[1;32m    476\u001b[0m             \u001b[0maccumulator\u001b[0m \u001b[0;34m=\u001b[0m \u001b[0mPatchedWordOccurrenceAccumulator\u001b[0m\u001b[0;34m(\u001b[0m\u001b[0mself\u001b[0m\u001b[0;34m.\u001b[0m\u001b[0mrelevant_ids\u001b[0m\u001b[0;34m,\u001b[0m \u001b[0mself\u001b[0m\u001b[0;34m.\u001b[0m\u001b[0mdictionary\u001b[0m\u001b[0;34m)\u001b[0m\u001b[0;34m\u001b[0m\u001b[0m\n\u001b[1;32m    477\u001b[0m             \u001b[0mworker\u001b[0m \u001b[0;34m=\u001b[0m \u001b[0mAccumulatingWorker\u001b[0m\u001b[0;34m(\u001b[0m\u001b[0minput_q\u001b[0m\u001b[0;34m,\u001b[0m \u001b[0moutput_q\u001b[0m\u001b[0;34m,\u001b[0m \u001b[0maccumulator\u001b[0m\u001b[0;34m,\u001b[0m \u001b[0mwindow_size\u001b[0m\u001b[0;34m)\u001b[0m\u001b[0;34m\u001b[0m\u001b[0m\n\u001b[0;32m--> 478\u001b[0;31m             \u001b[0mworker\u001b[0m\u001b[0;34m.\u001b[0m\u001b[0mstart\u001b[0m\u001b[0;34m(\u001b[0m\u001b[0;34m)\u001b[0m\u001b[0;34m\u001b[0m\u001b[0m\n\u001b[0m\u001b[1;32m    479\u001b[0m             \u001b[0mworkers\u001b[0m\u001b[0;34m.\u001b[0m\u001b[0mappend\u001b[0m\u001b[0;34m(\u001b[0m\u001b[0mworker\u001b[0m\u001b[0;34m)\u001b[0m\u001b[0;34m\u001b[0m\u001b[0m\n\u001b[1;32m    480\u001b[0m \u001b[0;34m\u001b[0m\u001b[0m\n",
      "\u001b[0;32m/usr/lib/python3.5/multiprocessing/process.py\u001b[0m in \u001b[0;36mstart\u001b[0;34m(self)\u001b[0m\n\u001b[1;32m    103\u001b[0m                \u001b[0;34m'daemonic processes are not allowed to have children'\u001b[0m\u001b[0;34m\u001b[0m\u001b[0m\n\u001b[1;32m    104\u001b[0m         \u001b[0m_cleanup\u001b[0m\u001b[0;34m(\u001b[0m\u001b[0;34m)\u001b[0m\u001b[0;34m\u001b[0m\u001b[0m\n\u001b[0;32m--> 105\u001b[0;31m         \u001b[0mself\u001b[0m\u001b[0;34m.\u001b[0m\u001b[0m_popen\u001b[0m \u001b[0;34m=\u001b[0m \u001b[0mself\u001b[0m\u001b[0;34m.\u001b[0m\u001b[0m_Popen\u001b[0m\u001b[0;34m(\u001b[0m\u001b[0mself\u001b[0m\u001b[0;34m)\u001b[0m\u001b[0;34m\u001b[0m\u001b[0m\n\u001b[0m\u001b[1;32m    106\u001b[0m         \u001b[0mself\u001b[0m\u001b[0;34m.\u001b[0m\u001b[0m_sentinel\u001b[0m \u001b[0;34m=\u001b[0m \u001b[0mself\u001b[0m\u001b[0;34m.\u001b[0m\u001b[0m_popen\u001b[0m\u001b[0;34m.\u001b[0m\u001b[0msentinel\u001b[0m\u001b[0;34m\u001b[0m\u001b[0m\n\u001b[1;32m    107\u001b[0m         \u001b[0m_children\u001b[0m\u001b[0;34m.\u001b[0m\u001b[0madd\u001b[0m\u001b[0;34m(\u001b[0m\u001b[0mself\u001b[0m\u001b[0;34m)\u001b[0m\u001b[0;34m\u001b[0m\u001b[0m\n",
      "\u001b[0;32m/usr/lib/python3.5/multiprocessing/context.py\u001b[0m in \u001b[0;36m_Popen\u001b[0;34m(process_obj)\u001b[0m\n\u001b[1;32m    210\u001b[0m     \u001b[0;34m@\u001b[0m\u001b[0mstaticmethod\u001b[0m\u001b[0;34m\u001b[0m\u001b[0m\n\u001b[1;32m    211\u001b[0m     \u001b[0;32mdef\u001b[0m \u001b[0m_Popen\u001b[0m\u001b[0;34m(\u001b[0m\u001b[0mprocess_obj\u001b[0m\u001b[0;34m)\u001b[0m\u001b[0;34m:\u001b[0m\u001b[0;34m\u001b[0m\u001b[0m\n\u001b[0;32m--> 212\u001b[0;31m         \u001b[0;32mreturn\u001b[0m \u001b[0m_default_context\u001b[0m\u001b[0;34m.\u001b[0m\u001b[0mget_context\u001b[0m\u001b[0;34m(\u001b[0m\u001b[0;34m)\u001b[0m\u001b[0;34m.\u001b[0m\u001b[0mProcess\u001b[0m\u001b[0;34m.\u001b[0m\u001b[0m_Popen\u001b[0m\u001b[0;34m(\u001b[0m\u001b[0mprocess_obj\u001b[0m\u001b[0;34m)\u001b[0m\u001b[0;34m\u001b[0m\u001b[0m\n\u001b[0m\u001b[1;32m    213\u001b[0m \u001b[0;34m\u001b[0m\u001b[0m\n\u001b[1;32m    214\u001b[0m \u001b[0;32mclass\u001b[0m \u001b[0mDefaultContext\u001b[0m\u001b[0;34m(\u001b[0m\u001b[0mBaseContext\u001b[0m\u001b[0;34m)\u001b[0m\u001b[0;34m:\u001b[0m\u001b[0;34m\u001b[0m\u001b[0m\n",
      "\u001b[0;32m/usr/lib/python3.5/multiprocessing/context.py\u001b[0m in \u001b[0;36m_Popen\u001b[0;34m(process_obj)\u001b[0m\n\u001b[1;32m    265\u001b[0m         \u001b[0;32mdef\u001b[0m \u001b[0m_Popen\u001b[0m\u001b[0;34m(\u001b[0m\u001b[0mprocess_obj\u001b[0m\u001b[0;34m)\u001b[0m\u001b[0;34m:\u001b[0m\u001b[0;34m\u001b[0m\u001b[0m\n\u001b[1;32m    266\u001b[0m             \u001b[0;32mfrom\u001b[0m \u001b[0;34m.\u001b[0m\u001b[0mpopen_fork\u001b[0m \u001b[0;32mimport\u001b[0m \u001b[0mPopen\u001b[0m\u001b[0;34m\u001b[0m\u001b[0m\n\u001b[0;32m--> 267\u001b[0;31m             \u001b[0;32mreturn\u001b[0m \u001b[0mPopen\u001b[0m\u001b[0;34m(\u001b[0m\u001b[0mprocess_obj\u001b[0m\u001b[0;34m)\u001b[0m\u001b[0;34m\u001b[0m\u001b[0m\n\u001b[0m\u001b[1;32m    268\u001b[0m \u001b[0;34m\u001b[0m\u001b[0m\n\u001b[1;32m    269\u001b[0m     \u001b[0;32mclass\u001b[0m \u001b[0mSpawnProcess\u001b[0m\u001b[0;34m(\u001b[0m\u001b[0mprocess\u001b[0m\u001b[0;34m.\u001b[0m\u001b[0mBaseProcess\u001b[0m\u001b[0;34m)\u001b[0m\u001b[0;34m:\u001b[0m\u001b[0;34m\u001b[0m\u001b[0m\n",
      "\u001b[0;32m/usr/lib/python3.5/multiprocessing/popen_fork.py\u001b[0m in \u001b[0;36m__init__\u001b[0;34m(self, process_obj)\u001b[0m\n\u001b[1;32m     18\u001b[0m         \u001b[0msys\u001b[0m\u001b[0;34m.\u001b[0m\u001b[0mstderr\u001b[0m\u001b[0;34m.\u001b[0m\u001b[0mflush\u001b[0m\u001b[0;34m(\u001b[0m\u001b[0;34m)\u001b[0m\u001b[0;34m\u001b[0m\u001b[0m\n\u001b[1;32m     19\u001b[0m         \u001b[0mself\u001b[0m\u001b[0;34m.\u001b[0m\u001b[0mreturncode\u001b[0m \u001b[0;34m=\u001b[0m \u001b[0;32mNone\u001b[0m\u001b[0;34m\u001b[0m\u001b[0m\n\u001b[0;32m---> 20\u001b[0;31m         \u001b[0mself\u001b[0m\u001b[0;34m.\u001b[0m\u001b[0m_launch\u001b[0m\u001b[0;34m(\u001b[0m\u001b[0mprocess_obj\u001b[0m\u001b[0;34m)\u001b[0m\u001b[0;34m\u001b[0m\u001b[0m\n\u001b[0m\u001b[1;32m     21\u001b[0m \u001b[0;34m\u001b[0m\u001b[0m\n\u001b[1;32m     22\u001b[0m     \u001b[0;32mdef\u001b[0m \u001b[0mduplicate_for_child\u001b[0m\u001b[0;34m(\u001b[0m\u001b[0mself\u001b[0m\u001b[0;34m,\u001b[0m \u001b[0mfd\u001b[0m\u001b[0;34m)\u001b[0m\u001b[0;34m:\u001b[0m\u001b[0;34m\u001b[0m\u001b[0m\n",
      "\u001b[0;32m/usr/lib/python3.5/multiprocessing/popen_fork.py\u001b[0m in \u001b[0;36m_launch\u001b[0;34m(self, process_obj)\u001b[0m\n\u001b[1;32m     65\u001b[0m         \u001b[0mcode\u001b[0m \u001b[0;34m=\u001b[0m \u001b[0;36m1\u001b[0m\u001b[0;34m\u001b[0m\u001b[0m\n\u001b[1;32m     66\u001b[0m         \u001b[0mparent_r\u001b[0m\u001b[0;34m,\u001b[0m \u001b[0mchild_w\u001b[0m \u001b[0;34m=\u001b[0m \u001b[0mos\u001b[0m\u001b[0;34m.\u001b[0m\u001b[0mpipe\u001b[0m\u001b[0;34m(\u001b[0m\u001b[0;34m)\u001b[0m\u001b[0;34m\u001b[0m\u001b[0m\n\u001b[0;32m---> 67\u001b[0;31m         \u001b[0mself\u001b[0m\u001b[0;34m.\u001b[0m\u001b[0mpid\u001b[0m \u001b[0;34m=\u001b[0m \u001b[0mos\u001b[0m\u001b[0;34m.\u001b[0m\u001b[0mfork\u001b[0m\u001b[0;34m(\u001b[0m\u001b[0;34m)\u001b[0m\u001b[0;34m\u001b[0m\u001b[0m\n\u001b[0m\u001b[1;32m     68\u001b[0m         \u001b[0;32mif\u001b[0m \u001b[0mself\u001b[0m\u001b[0;34m.\u001b[0m\u001b[0mpid\u001b[0m \u001b[0;34m==\u001b[0m \u001b[0;36m0\u001b[0m\u001b[0;34m:\u001b[0m\u001b[0;34m\u001b[0m\u001b[0m\n\u001b[1;32m     69\u001b[0m             \u001b[0;32mtry\u001b[0m\u001b[0;34m:\u001b[0m\u001b[0;34m\u001b[0m\u001b[0m\n",
      "\u001b[0;31mOSError\u001b[0m: [Errno 12] Cannot allocate memory"
     ]
    }
   ],
   "source": [
    "import tqdm\n",
    "\n",
    "grid = {} \n",
    "grid['Validation_Set'] = {}\n",
    "\n",
    "# Topics range\n",
    "min_topics = 2\n",
    "max_topics = 11\n",
    "step_size = 1\n",
    "topics_range = range(min_topics, max_topics, step_size)\n",
    "\n",
    "# Alpha parameter\n",
    "alpha = list(np.arange(0.01, 1, 0.3))\n",
    "# Beta parameter\n",
    "beta = list(np.arange(0.01, 1, 0.3))\n",
    "# Validation sets\n",
    "num_of_docs = len(bow_corpus)\n",
    "corpus_sets = [gensim.utils.ClippedCorpus(bow_corpus, num_of_docs*0.75), \n",
    "               bow_corpus]\n",
    "\n",
    "corpus_title = ['75% Corpus']\n",
    "model_results = {'Validation_Set': [],\n",
    "                 'Topics': [],\n",
    "                 'Alpha': [],\n",
    "                 'Beta': [],\n",
    "                 'Coherence': []\n",
    "                }\n",
    "# Can take a long time to run ~ 30mins\n",
    "if 1 == 1:\n",
    "    pbar = tqdm.tqdm(total=20)\n",
    "    # iterate through validation corpuses\n",
    "    for i in range(len(corpus_sets)):\n",
    "        # iterate through number of topics\n",
    "        for k in topics_range:\n",
    "            # iterate through alpha values\n",
    "            for a in alpha:\n",
    "                # iterare through beta values\n",
    "                for b in beta:\n",
    "                    # get the coherence score for the given parameters\n",
    "                    cv = compute_coherence_values(corpus=corpus_sets[i], dictionary=dictionary, \n",
    "                                                  k=k, a=a, b=b)\n",
    "                    # Save the model results\n",
    "                    model_results['Validation_Set'].append(corpus_title[i])\n",
    "                    model_results['Topics'].append(k)\n",
    "                    model_results['Alpha'].append(a)\n",
    "                    model_results['Beta'].append(b)\n",
    "                    model_results['Coherence'].append(cv)\n",
    "                    pbar.update(1)\n",
    "    pbar.close()"
   ]
  },
  {
   "cell_type": "code",
   "execution_count": 159,
   "metadata": {},
   "outputs": [],
   "source": [
    "test_results = pd.read_csv('lda_tests_results.csv')\n",
    "df = pd.DataFrame()\n",
    "\n",
    "null_ = test_results['Validation_Set'] != 'Validation_Set'\n",
    "null_alpha = test_results['Alpha'] != 'Alpha'\n",
    "null_beta = test_results['Beta'] != 'Beta'\n",
    "null_corpus = test_results['Topics'] != 'Topics'\n",
    "null_cv = test_results['Coherence'] != 'Coherence'\n",
    "\n",
    "df['Validation'] = test_results['Validation_Set'][null_] \n",
    "df['topics'] = test_results['Topics'][null_corpus]\n",
    "df['coherence'] = test_results['Coherence'][null_cv]\n",
    "df['alpha'] = test_results['Alpha'][null_alpha]\n",
    "df['beta'] = test_results['Beta'][null_beta]\n",
    "\n",
    "pd.DataFrame(df).to_csv('lda_tests_results2.csv', index=False)"
   ]
  },
  {
   "cell_type": "code",
   "execution_count": 171,
   "metadata": {},
   "outputs": [
    {
     "data": {
      "text/plain": [
       "(array([-0.2,  0. ,  0.2,  0.4,  0.6,  0.8,  1. ,  1.2]),\n",
       " <a list of 8 Text yticklabel objects>)"
      ]
     },
     "execution_count": 171,
     "metadata": {},
     "output_type": "execute_result"
    },
    {
     "data": {
      "image/png": "[encoded data removed]",
      "text/plain": [
       "<Figure size 1080x576 with 2 Axes>"
      ]
     },
     "metadata": {
      "needs_background": "light"
     },
     "output_type": "display_data"
    }
   ],
   "source": [
    "import matplotlib.pyplot as plt\n",
    "fig = plt.figure(figsize=(15,8))\n",
    "ax1 = fig.add_subplot(2,1,1)\n",
    "ax2 = fig.add_subplot(2,1,2)\n",
    "\n",
    "ax1.plot(df.alpha[0:20], df['coherence'][0:20])\n",
    "ax2.plot(df['coherence'][0:30],df.beta[0:30] !='symmetric', c='red')\n",
    "\n",
    "ax1.set_title('Coherence by parameter Alpha')\n",
    "ax2.set_title('Coherence by parameter Beta')\n",
    "plt.xticks(rotation=45)\n",
    "plt.yticks(rotation=45)"
   ]
  },
  {
   "cell_type": "code",
   "execution_count": 115,
   "metadata": {},
   "outputs": [],
   "source": [
    "lda_model = gensim.models.LdaMulticore(corpus=bow_corpus,\n",
    "                                           id2word=dictionary,\n",
    "                                           num_topics=10, \n",
    "                                           random_state=100,\n",
    "                                           chunksize=100,\n",
    "                                           passes=10,\n",
    "                                           alpha=0.31,\n",
    "                                           eta=0.9)"
   ]
  },
  {
   "cell_type": "code",
   "execution_count": 116,
   "metadata": {},
   "outputs": [
    {
     "name": "stdout",
     "output_type": "stream",
     "text": [
      "\n",
      "Coherence Score:  0.5232575698740991\n"
     ]
    }
   ],
   "source": [
    "from gensim.models import CoherenceModel\n",
    "# Compute Coherence Score\n",
    "coherence_model_lda = CoherenceModel(model=lda_model, texts=processed_docs, dictionary=dictionary, coherence='c_v')\n",
    "\n",
    "coherence_lda = coherence_model_lda.get_coherence()\n",
    "print('\\nCoherence Score: ', coherence_lda)"
   ]
  },
  {
   "cell_type": "markdown",
   "metadata": {},
   "source": [
    "## Step 6: create T_e_i an input to have $t_{ei}$ after apply Doc2Vec "
   ]
  },
  {
   "cell_type": "code",
   "execution_count": 102,
   "metadata": {},
   "outputs": [
    {
     "data": {
      "text/plain": [
       "10"
      ]
     },
     "execution_count": 102,
     "metadata": {},
     "output_type": "execute_result"
    }
   ],
   "source": [
    "list_topics=lda_model.show_topics(formatted=False)\n",
    "list_topics \n",
    "\n",
    "topic = []\n",
    "T_e_i = []\n",
    "for tup in list_topics:\n",
    "    topic = []\n",
    "    for tup2 in tup[1]:\n",
    "        topic.append(tup2[0])\n",
    "    T_e_i.append(topic) \n",
    "    \n",
    "len(T_e_i)  "
   ]
  },
  {
   "cell_type": "markdown",
   "metadata": {},
   "source": [
    "## Step 7 : Train Doc2Vec on non-pre-processed data \"nan_processed_docs\"\n"
   ]
  },
  {
   "cell_type": "code",
   "execution_count": 103,
   "metadata": {},
   "outputs": [],
   "source": [
    "import smart_open\n",
    "from gensim.models.doc2vec import Doc2Vec, TaggedDocument\n",
    "def read(fname):\n",
    "    for i, line in enumerate(f):\n",
    "        tokens = fname[i]\n",
    "        yield gensim.models.doc2vec.TaggedDocument(tokens, [i])"
   ]
  },
  {
   "cell_type": "code",
   "execution_count": 104,
   "metadata": {},
   "outputs": [],
   "source": [
    "train_nan_processed_docs = [TaggedDocument(doc, [i]) for i, doc in enumerate(nan_processed_docs)]"
   ]
  },
  {
   "cell_type": "code",
   "execution_count": 105,
   "metadata": {},
   "outputs": [],
   "source": [
    "model = gensim.models.doc2vec.Doc2Vec(vector_size=50, min_count=2, epochs=40)\n",
    "model.build_vocab(train_nan_processed_docs)\n",
    "model.train(train_nan_processed_docs, total_examples=len(nan_processed_docs), epochs=model.epochs)"
   ]
  },
  {
   "cell_type": "markdown",
   "metadata": {},
   "source": [
    "## Step 8 : Apply Doc2Vec on each document in your data to form $d_{ei}$"
   ]
  },
  {
   "cell_type": "code",
   "execution_count": 106,
   "metadata": {},
   "outputs": [
    {
     "name": "stdout",
     "output_type": "stream",
     "text": [
      "[['virginamerica', 'dhepburn', 'say'], ['virginamerica', 'plus', 'add', 'commercials', 'experience', 'tacky']]\n"
     ]
    }
   ],
   "source": [
    "Liste_D_e_i = []\n",
    "Liste_of_n_docs = processed_docs\n",
    "for i in range(len(Liste_of_n_docs)):\n",
    "    vector = []\n",
    "    vector = model.infer_vector(Liste_of_n_docs[i])\n",
    "    Liste_D_e_i.append(vector) \n",
    "    \n",
    "print(Liste_of_n_docs[:2])"
   ]
  },
  {
   "cell_type": "code",
   "execution_count": 107,
   "metadata": {},
   "outputs": [
    {
     "name": "stdout",
     "output_type": "stream",
     "text": [
      "[-8.3484715e-03  2.5491118e-03 -4.9658320e-03  9.1646565e-05\n",
      " -4.5432961e-03  1.6012108e-03  3.4770796e-03 -3.5030746e-03\n",
      " -3.9023953e-03  5.2300147e-03 -2.5869261e-03  5.9059183e-03\n",
      "  7.0825457e-03 -4.8601003e-03 -8.1265774e-03  7.3409053e-03\n",
      "  5.6454260e-03  1.4538433e-03 -8.4442869e-03  3.7578019e-04\n",
      " -7.7897520e-03 -9.3185678e-03 -1.3602334e-03 -4.2192000e-03\n",
      " -3.5440652e-03 -7.7914088e-03 -5.6378725e-03  7.4704881e-03\n",
      "  2.4043866e-03  5.0290311e-03 -7.9177115e-03 -8.9799594e-03\n",
      "  3.4924336e-03 -9.7181713e-03  8.2026049e-03 -6.1437925e-03\n",
      "  9.9837277e-03  1.9239952e-03 -5.6772218e-03  5.9479116e-03\n",
      " -2.0969193e-03  1.2104805e-03 -3.5297938e-03 -1.8123818e-03\n",
      " -6.0090171e-03 -5.8354056e-03  6.8798289e-03  5.4194257e-03\n",
      " -3.1482596e-03 -3.8494021e-04]\n",
      "14640\n"
     ]
    }
   ],
   "source": [
    "print(Liste_D_e_i[0])\n",
    "print(len(nan_processed_docs))"
   ]
  },
  {
   "cell_type": "markdown",
   "metadata": {},
   "source": [
    "## Step 9 : Apply Doc2Vec on your topics to form $t_{ei}$"
   ]
  },
  {
   "cell_type": "code",
   "execution_count": 108,
   "metadata": {},
   "outputs": [
    {
     "name": "stdout",
     "output_type": "stream",
     "text": [
      "[array([ 0.00323511,  0.00639995,  0.00033984,  0.00053764, -0.00635769,\n",
      "        0.00756645,  0.00555882, -0.0015786 ,  0.00920544, -0.00857711,\n",
      "        0.00713204,  0.00114298, -0.00775349, -0.0042917 , -0.0088571 ,\n",
      "        0.00939246, -0.0064901 , -0.00764113,  0.00136517,  0.00409927,\n",
      "       -0.00506781, -0.00847016,  0.00950141, -0.00312164, -0.00968135,\n",
      "        0.00767982, -0.00890303,  0.00183604, -0.00020685,  0.00203215,\n",
      "       -0.00625802,  0.0040097 ,  0.00763323,  0.00668266, -0.00725333,\n",
      "        0.00148018, -0.00628047, -0.00285222,  0.0053633 , -0.00320964,\n",
      "        0.00518452, -0.00155359, -0.00831438,  0.0043835 ,  0.00818614,\n",
      "       -0.00109431,  0.00421579,  0.00524854,  0.00514901, -0.00759428],\n",
      "      dtype=float32), array([ 7.2581596e-03,  1.2193052e-03, -4.5431335e-03, -6.5488350e-03,\n",
      "       -4.3439190e-03, -7.0031625e-03, -2.8280995e-03,  5.4405145e-03,\n",
      "        3.5321731e-03, -7.7789729e-03,  1.5433488e-03, -1.4706183e-03,\n",
      "       -4.7349990e-03,  8.8569811e-03,  4.2449939e-03, -9.2050321e-03,\n",
      "        7.4228188e-03, -5.3676679e-03, -9.0399673e-03,  7.7315187e-03,\n",
      "       -5.0552017e-03, -1.3042899e-03, -2.7278196e-03,  9.5086386e-03,\n",
      "       -5.3140838e-03,  3.1305910e-03, -3.8726595e-03, -4.3539735e-03,\n",
      "       -3.2220976e-03, -4.9362639e-03,  4.5176512e-03,  2.3566959e-03,\n",
      "        9.1209253e-03, -9.7577758e-03,  1.7319291e-03, -3.2492550e-03,\n",
      "        1.6771962e-03, -7.9993932e-03, -8.8826362e-03, -1.0950487e-03,\n",
      "        9.5892558e-03,  4.1569415e-03, -4.5682462e-03,  2.4058770e-03,\n",
      "       -7.5981701e-03, -8.6048571e-03, -9.1820331e-03, -7.4196816e-03,\n",
      "        2.1948295e-03,  1.2794748e-05], dtype=float32), array([ 8.9650452e-03,  7.4372548e-03,  6.7847683e-03,  4.6813171e-03,\n",
      "        6.2980922e-03, -8.1650708e-03,  6.6292249e-03,  4.1472348e-03,\n",
      "       -8.1411824e-03,  2.0805057e-03,  7.1906880e-03, -6.2725821e-04,\n",
      "       -3.2455609e-03,  3.9994379e-04,  6.2801857e-03,  2.1083627e-03,\n",
      "        5.6492812e-03,  7.1261176e-03, -4.1303351e-03,  4.7762417e-03,\n",
      "        8.8305082e-03, -4.0346282e-03,  7.6874117e-03,  9.4756804e-04,\n",
      "        4.4304831e-03, -8.3565041e-03, -9.6360417e-03, -1.5050320e-04,\n",
      "       -9.4652222e-03,  1.7448582e-03, -8.5233022e-03,  7.4094380e-03,\n",
      "        3.8766530e-03,  5.9741749e-03, -3.6991173e-03,  2.8109851e-03,\n",
      "       -4.6893279e-03, -6.1010639e-03,  7.8796285e-05, -5.1841955e-03,\n",
      "        6.3296892e-03, -8.1347127e-04,  2.5503237e-03,  7.0807510e-03,\n",
      "       -1.5401257e-03,  9.1771437e-03, -4.7490345e-03,  7.7776029e-03,\n",
      "        6.5486162e-04,  7.1770577e-03], dtype=float32), array([-0.00446757,  0.00983619,  0.00979601, -0.00770788,  0.0062214 ,\n",
      "        0.00258414, -0.00305193,  0.00132943,  0.00623932,  0.00754455,\n",
      "        0.00788622, -0.00249313,  0.00373121,  0.00637516, -0.00489203,\n",
      "       -0.00415505, -0.00573458,  0.00908794, -0.00901581,  0.00480192,\n",
      "        0.00263925, -0.0020411 ,  0.005174  ,  0.00637175, -0.00110933,\n",
      "       -0.00790976,  0.00410112, -0.00334803, -0.0038734 , -0.00231398,\n",
      "       -0.00997291,  0.00633293, -0.00560344, -0.00462755, -0.00579965,\n",
      "       -0.0058323 ,  0.00991218, -0.00651027, -0.00898535,  0.00744964,\n",
      "       -0.004045  ,  0.00822096,  0.00088436,  0.00307837, -0.00960024,\n",
      "        0.00020693, -0.00017267, -0.00081109, -0.00365387, -0.00504184],\n",
      "      dtype=float32), array([-0.00675892,  0.00311556, -0.00798639, -0.00072245, -0.00064647,\n",
      "       -0.00975927, -0.00891115,  0.00216321, -0.00037729, -0.00339362,\n",
      "       -0.00374529, -0.00087331,  0.0097543 , -0.00513487,  0.00736904,\n",
      "        0.00379959,  0.00540931, -0.00296571, -0.003582  ,  0.0084343 ,\n",
      "        0.00417039,  0.00237009,  0.00226036,  0.00489023,  0.0013042 ,\n",
      "        0.00915537, -0.00130454, -0.00639888, -0.00510662, -0.00543236,\n",
      "       -0.00447289,  0.00239923, -0.00166398,  0.00075587,  0.00248937,\n",
      "       -0.00354408,  0.00966876, -0.0031491 , -0.00500683, -0.00656402,\n",
      "       -0.00129137,  0.00979943,  0.00557188,  0.00124524,  0.00549466,\n",
      "        0.00628062, -0.00859838,  0.00249501, -0.00983464, -0.00508063],\n",
      "      dtype=float32), array([ 0.00115719,  0.00418471,  0.00554241, -0.00412332,  0.00500667,\n",
      "       -0.00172014, -0.00035857,  0.00861545,  0.00976896, -0.00995329,\n",
      "       -0.0068212 , -0.00898488, -0.00242288,  0.00698029,  0.00975471,\n",
      "        0.0087968 ,  0.00251389, -0.00961588,  0.00965403,  0.00865361,\n",
      "       -0.00403801,  0.00765509,  0.00828161,  0.00014781,  0.00895381,\n",
      "        0.0013092 , -0.0084479 , -0.00152741,  0.00557823,  0.00819694,\n",
      "        0.00658248, -0.00886894, -0.00758599,  0.00129313, -0.00397054,\n",
      "        0.00338196,  0.00155523, -0.0055448 , -0.00835708, -0.00024048,\n",
      "       -0.00193375, -0.00987763,  0.00167353, -0.00127661,  0.0018531 ,\n",
      "        0.00143842, -0.00536052, -0.00395676, -0.00098347,  0.006878  ],\n",
      "      dtype=float32), array([ 0.00241815, -0.0012334 , -0.00232035, -0.00269957, -0.00625651,\n",
      "       -0.00201569,  0.00765526,  0.00083443,  0.00452045,  0.00309237,\n",
      "       -0.00646542, -0.0084862 ,  0.0029408 ,  0.00821353, -0.00199237,\n",
      "       -0.0090125 , -0.00041981,  0.00774678, -0.002996  ,  0.00588644,\n",
      "        0.0051037 ,  0.00888638,  0.00446457,  0.00984637,  0.00927429,\n",
      "        0.00762933,  0.00534428, -0.00587793, -0.0070415 , -0.00243677,\n",
      "        0.00817423, -0.00150574, -0.00344781, -0.00940909,  0.00402888,\n",
      "        0.00935445,  0.00821315, -0.00735865, -0.00562666,  0.00823485,\n",
      "        0.00743635, -0.0097903 ,  0.00772338,  0.00186691, -0.0048438 ,\n",
      "       -0.00929708,  0.00109232,  0.00713689,  0.00755521, -0.00091322],\n",
      "      dtype=float32), array([-0.00529617, -0.00722862,  0.00564446, -0.00122229, -0.00999307,\n",
      "        0.00783473, -0.00109447, -0.00114384, -0.0015076 ,  0.00799444,\n",
      "        0.0013562 , -0.00213202,  0.00943775, -0.00692827, -0.00329536,\n",
      "        0.00097876, -0.00825197, -0.00802442, -0.00406852, -0.00885706,\n",
      "       -0.0023885 , -0.00638184, -0.00359117, -0.00619426,  0.00638751,\n",
      "        0.00432226,  0.0070269 , -0.00813211,  0.00899343, -0.00111322,\n",
      "        0.00055716,  0.00659152, -0.00924222, -0.00924447, -0.00827792,\n",
      "       -0.00757007, -0.00313699, -0.00791822, -0.00110407, -0.00621936,\n",
      "        0.00663439,  0.00604222,  0.00543771,  0.008905  ,  0.009162  ,\n",
      "        0.0014905 ,  0.00554223,  0.00803768,  0.00185171, -0.00265948],\n",
      "      dtype=float32), array([ 0.00288852,  0.0042426 , -0.00444906,  0.00654609, -0.00826641,\n",
      "        0.00482287,  0.00461203,  0.00113449,  0.00422445, -0.00414938,\n",
      "        0.00872128,  0.00373011, -0.00448805,  0.00096811, -0.00085413,\n",
      "       -0.00463333,  0.00912957,  0.00468779,  0.00132169,  0.00827475,\n",
      "        0.00801975, -0.00173883, -0.00290518, -0.00394446, -0.00726269,\n",
      "       -0.00923325,  0.00353701,  0.00847748, -0.00501942,  0.00538137,\n",
      "       -0.00585421, -0.00809871, -0.00082407,  0.00841145,  0.00272962,\n",
      "        0.00031922,  0.00998887,  0.00859631,  0.00037656,  0.00106349,\n",
      "        0.00410444, -0.00930198, -0.00507795,  0.00198957,  0.00271773,\n",
      "        0.00188799, -0.00235417, -0.00124834, -0.00750316, -0.00797812],\n",
      "      dtype=float32), array([-2.3288887e-03, -1.4990743e-03,  2.0881526e-03,  4.2318837e-03,\n",
      "       -1.1702612e-03,  9.1743711e-03, -9.9642035e-03, -3.8249805e-03,\n",
      "        6.7583988e-03, -5.1941797e-03, -8.5464194e-03, -4.5930119e-03,\n",
      "        7.5396975e-03, -2.2643034e-03,  2.3380115e-03, -1.5792270e-03,\n",
      "       -6.9241105e-03, -2.9436947e-05,  1.7703035e-03, -5.9700054e-03,\n",
      "       -4.6054265e-03, -2.4403571e-03,  2.3362346e-03,  9.5944498e-03,\n",
      "       -1.1310643e-03, -2.2748131e-03,  2.9243133e-03, -4.5790244e-03,\n",
      "       -4.0945779e-03, -6.4540136e-04,  1.0954569e-03, -1.8362713e-03,\n",
      "        1.1437370e-03, -2.1141572e-03,  8.9693973e-03, -5.4496923e-03,\n",
      "        3.2695031e-03,  7.0719318e-03,  7.7629634e-03,  7.7376845e-03,\n",
      "       -7.3067320e-04, -1.5842558e-03, -2.3657090e-03,  6.6780429e-03,\n",
      "       -6.9139316e-03,  9.6403835e-03,  9.9664601e-03,  8.7272022e-03,\n",
      "        6.4034895e-03, -9.6190348e-03], dtype=float32)]\n"
     ]
    }
   ],
   "source": [
    "Liste_T_e_i = []\n",
    "for i in range(len(T_e_i)):\n",
    "    vector = []\n",
    "    vector = model.infer_vector(T_e_i[i])\n",
    "    Liste_T_e_i.append(vector) \n",
    "print(Liste_T_e_i)"
   ]
  },
  {
   "cell_type": "markdown",
   "metadata": {},
   "source": [
    "## Step 9 : Calculate the similarity between every pair $d_{ei}$ and $t_{ei}$\n",
    "    Dont run this code bcz Liste_D_e_i length != Liste_T_e_i"
   ]
  },
  {
   "cell_type": "code",
   "execution_count": 111,
   "metadata": {
    "scrolled": true
   },
   "outputs": [
    {
     "name": "stdout",
     "output_type": "stream",
     "text": [
      "0.834734320640564\n"
     ]
    }
   ],
   "source": [
    "from scipy import spatial\n",
    "similairty = []\n",
    "for i in range(len(Liste_T_e_i)):\n",
    "    for j in range(len(Liste_D_e_i[i])):\n",
    "        similairty.append(spatial.distance.cosine(Liste_D_e_i[i], Liste_T_e_i[i]))\n",
    "print(np.min(similairty))"
   ]
  },
  {
   "cell_type": "markdown",
   "metadata": {},
   "source": [
    "## Step 10 : Graph"
   ]
  },
  {
   "cell_type": "code",
   "execution_count": 112,
   "metadata": {},
   "outputs": [
    {
     "ename": "KeyboardInterrupt",
     "evalue": "",
     "output_type": "error",
     "traceback": [
      "\u001b[0;31m---------------------------------------------------------------------------\u001b[0m",
      "\u001b[0;31mKeyboardInterrupt\u001b[0m                         Traceback (most recent call last)",
      "\u001b[0;32m<ipython-input-112-dc51f2df4a6d>\u001b[0m in \u001b[0;36m<module>\u001b[0;34m\u001b[0m\n\u001b[1;32m      5\u001b[0m \u001b[0;31m# Visualize the topics\u001b[0m\u001b[0;34m\u001b[0m\u001b[0;34m\u001b[0m\u001b[0m\n\u001b[1;32m      6\u001b[0m \u001b[0mpyLDAvis\u001b[0m\u001b[0;34m.\u001b[0m\u001b[0menable_notebook\u001b[0m\u001b[0;34m(\u001b[0m\u001b[0;34m)\u001b[0m\u001b[0;34m\u001b[0m\u001b[0m\n\u001b[0;32m----> 7\u001b[0;31m \u001b[0mLDAvis_prepared\u001b[0m \u001b[0;34m=\u001b[0m \u001b[0mpyLDAvis\u001b[0m\u001b[0;34m.\u001b[0m\u001b[0mgensim\u001b[0m\u001b[0;34m.\u001b[0m\u001b[0mprepare\u001b[0m\u001b[0;34m(\u001b[0m\u001b[0mlda_model\u001b[0m\u001b[0;34m,\u001b[0m \u001b[0mbow_corpus\u001b[0m\u001b[0;34m,\u001b[0m \u001b[0mdictionary\u001b[0m\u001b[0;34m)\u001b[0m\u001b[0;34m\u001b[0m\u001b[0m\n\u001b[0m\u001b[1;32m      8\u001b[0m \u001b[0mLDAvis_prepared\u001b[0m\u001b[0;34m\u001b[0m\u001b[0m\n",
      "\u001b[0;32m~/.local/lib/python3.5/site-packages/pyLDAvis/gensim.py\u001b[0m in \u001b[0;36mprepare\u001b[0;34m(topic_model, corpus, dictionary, doc_topic_dist, **kwargs)\u001b[0m\n\u001b[1;32m    117\u001b[0m     \"\"\"\n\u001b[1;32m    118\u001b[0m     \u001b[0mopts\u001b[0m \u001b[0;34m=\u001b[0m \u001b[0mfp\u001b[0m\u001b[0;34m.\u001b[0m\u001b[0mmerge\u001b[0m\u001b[0;34m(\u001b[0m\u001b[0m_extract_data\u001b[0m\u001b[0;34m(\u001b[0m\u001b[0mtopic_model\u001b[0m\u001b[0;34m,\u001b[0m \u001b[0mcorpus\u001b[0m\u001b[0;34m,\u001b[0m \u001b[0mdictionary\u001b[0m\u001b[0;34m,\u001b[0m \u001b[0mdoc_topic_dist\u001b[0m\u001b[0;34m)\u001b[0m\u001b[0;34m,\u001b[0m \u001b[0mkwargs\u001b[0m\u001b[0;34m)\u001b[0m\u001b[0;34m\u001b[0m\u001b[0m\n\u001b[0;32m--> 119\u001b[0;31m     \u001b[0;32mreturn\u001b[0m \u001b[0mvis_prepare\u001b[0m\u001b[0;34m(\u001b[0m\u001b[0;34m**\u001b[0m\u001b[0mopts\u001b[0m\u001b[0;34m)\u001b[0m\u001b[0;34m\u001b[0m\u001b[0m\n\u001b[0m",
      "\u001b[0;32m~/.local/lib/python3.5/site-packages/pyLDAvis/_prepare.py\u001b[0m in \u001b[0;36mprepare\u001b[0;34m(topic_term_dists, doc_topic_dists, doc_lengths, vocab, term_frequency, R, lambda_step, mds, n_jobs, plot_opts, sort_topics)\u001b[0m\n\u001b[1;32m    396\u001b[0m    \u001b[0mterm_frequency\u001b[0m \u001b[0;34m=\u001b[0m \u001b[0mnp\u001b[0m\u001b[0;34m.\u001b[0m\u001b[0msum\u001b[0m\u001b[0;34m(\u001b[0m\u001b[0mterm_topic_freq\u001b[0m\u001b[0;34m,\u001b[0m \u001b[0maxis\u001b[0m\u001b[0;34m=\u001b[0m\u001b[0;36m0\u001b[0m\u001b[0;34m)\u001b[0m\u001b[0;34m\u001b[0m\u001b[0m\n\u001b[1;32m    397\u001b[0m \u001b[0;34m\u001b[0m\u001b[0m\n\u001b[0;32m--> 398\u001b[0;31m    \u001b[0mtopic_info\u001b[0m         \u001b[0;34m=\u001b[0m \u001b[0m_topic_info\u001b[0m\u001b[0;34m(\u001b[0m\u001b[0mtopic_term_dists\u001b[0m\u001b[0;34m,\u001b[0m \u001b[0mtopic_proportion\u001b[0m\u001b[0;34m,\u001b[0m \u001b[0mterm_frequency\u001b[0m\u001b[0;34m,\u001b[0m \u001b[0mterm_topic_freq\u001b[0m\u001b[0;34m,\u001b[0m \u001b[0mvocab\u001b[0m\u001b[0;34m,\u001b[0m \u001b[0mlambda_step\u001b[0m\u001b[0;34m,\u001b[0m \u001b[0mR\u001b[0m\u001b[0;34m,\u001b[0m \u001b[0mn_jobs\u001b[0m\u001b[0;34m)\u001b[0m\u001b[0;34m\u001b[0m\u001b[0m\n\u001b[0m\u001b[1;32m    399\u001b[0m    \u001b[0mtoken_table\u001b[0m        \u001b[0;34m=\u001b[0m \u001b[0m_token_table\u001b[0m\u001b[0;34m(\u001b[0m\u001b[0mtopic_info\u001b[0m\u001b[0;34m,\u001b[0m \u001b[0mterm_topic_freq\u001b[0m\u001b[0;34m,\u001b[0m \u001b[0mvocab\u001b[0m\u001b[0;34m,\u001b[0m \u001b[0mterm_frequency\u001b[0m\u001b[0;34m)\u001b[0m\u001b[0;34m\u001b[0m\u001b[0m\n\u001b[1;32m    400\u001b[0m    \u001b[0mtopic_coordinates\u001b[0m \u001b[0;34m=\u001b[0m \u001b[0m_topic_coordinates\u001b[0m\u001b[0;34m(\u001b[0m\u001b[0mmds\u001b[0m\u001b[0;34m,\u001b[0m \u001b[0mtopic_term_dists\u001b[0m\u001b[0;34m,\u001b[0m \u001b[0mtopic_proportion\u001b[0m\u001b[0;34m)\u001b[0m\u001b[0;34m\u001b[0m\u001b[0m\n",
      "\u001b[0;32m~/.local/lib/python3.5/site-packages/pyLDAvis/_prepare.py\u001b[0m in \u001b[0;36m_topic_info\u001b[0;34m(topic_term_dists, topic_proportion, term_frequency, term_topic_freq, vocab, lambda_step, R, n_jobs)\u001b[0m\n\u001b[1;32m    253\u001b[0m \u001b[0;34m\u001b[0m\u001b[0m\n\u001b[1;32m    254\u001b[0m    top_terms = pd.concat(Parallel(n_jobs=n_jobs)(delayed(_find_relevance_chunks)(log_ttd, log_lift, R, ls) \\\n\u001b[0;32m--> 255\u001b[0;31m                                                  for ls in _job_chunks(lambda_seq, n_jobs)))\n\u001b[0m\u001b[1;32m    256\u001b[0m    \u001b[0mtopic_dfs\u001b[0m \u001b[0;34m=\u001b[0m \u001b[0mmap\u001b[0m\u001b[0;34m(\u001b[0m\u001b[0mtopic_top_term_df\u001b[0m\u001b[0;34m,\u001b[0m \u001b[0menumerate\u001b[0m\u001b[0;34m(\u001b[0m\u001b[0mtop_terms\u001b[0m\u001b[0;34m.\u001b[0m\u001b[0mT\u001b[0m\u001b[0;34m.\u001b[0m\u001b[0miterrows\u001b[0m\u001b[0;34m(\u001b[0m\u001b[0;34m)\u001b[0m\u001b[0;34m,\u001b[0m \u001b[0;36m1\u001b[0m\u001b[0;34m)\u001b[0m\u001b[0;34m)\u001b[0m\u001b[0;34m\u001b[0m\u001b[0m\n\u001b[1;32m    257\u001b[0m    \u001b[0;32mreturn\u001b[0m \u001b[0mpd\u001b[0m\u001b[0;34m.\u001b[0m\u001b[0mconcat\u001b[0m\u001b[0;34m(\u001b[0m\u001b[0;34m[\u001b[0m\u001b[0mdefault_term_info\u001b[0m\u001b[0;34m]\u001b[0m \u001b[0;34m+\u001b[0m \u001b[0mlist\u001b[0m\u001b[0;34m(\u001b[0m\u001b[0mtopic_dfs\u001b[0m\u001b[0;34m)\u001b[0m\u001b[0;34m)\u001b[0m\u001b[0;34m\u001b[0m\u001b[0m\n",
      "\u001b[0;32m/usr/local/lib/python3.5/dist-packages/joblib/parallel.py\u001b[0m in \u001b[0;36m__call__\u001b[0;34m(self, iterable)\u001b[0m\n\u001b[1;32m   1015\u001b[0m \u001b[0;34m\u001b[0m\u001b[0m\n\u001b[1;32m   1016\u001b[0m             \u001b[0;32mwith\u001b[0m \u001b[0mself\u001b[0m\u001b[0;34m.\u001b[0m\u001b[0m_backend\u001b[0m\u001b[0;34m.\u001b[0m\u001b[0mretrieval_context\u001b[0m\u001b[0;34m(\u001b[0m\u001b[0;34m)\u001b[0m\u001b[0;34m:\u001b[0m\u001b[0;34m\u001b[0m\u001b[0m\n\u001b[0;32m-> 1017\u001b[0;31m                 \u001b[0mself\u001b[0m\u001b[0;34m.\u001b[0m\u001b[0mretrieve\u001b[0m\u001b[0;34m(\u001b[0m\u001b[0;34m)\u001b[0m\u001b[0;34m\u001b[0m\u001b[0m\n\u001b[0m\u001b[1;32m   1018\u001b[0m             \u001b[0;31m# Make sure that we get a last message telling us we are done\u001b[0m\u001b[0;34m\u001b[0m\u001b[0;34m\u001b[0m\u001b[0m\n\u001b[1;32m   1019\u001b[0m             \u001b[0melapsed_time\u001b[0m \u001b[0;34m=\u001b[0m \u001b[0mtime\u001b[0m\u001b[0;34m.\u001b[0m\u001b[0mtime\u001b[0m\u001b[0;34m(\u001b[0m\u001b[0;34m)\u001b[0m \u001b[0;34m-\u001b[0m \u001b[0mself\u001b[0m\u001b[0;34m.\u001b[0m\u001b[0m_start_time\u001b[0m\u001b[0;34m\u001b[0m\u001b[0m\n",
      "\u001b[0;32m/usr/local/lib/python3.5/dist-packages/joblib/parallel.py\u001b[0m in \u001b[0;36mretrieve\u001b[0;34m(self)\u001b[0m\n\u001b[1;32m    907\u001b[0m             \u001b[0;32mtry\u001b[0m\u001b[0;34m:\u001b[0m\u001b[0;34m\u001b[0m\u001b[0m\n\u001b[1;32m    908\u001b[0m                 \u001b[0;32mif\u001b[0m \u001b[0mgetattr\u001b[0m\u001b[0;34m(\u001b[0m\u001b[0mself\u001b[0m\u001b[0;34m.\u001b[0m\u001b[0m_backend\u001b[0m\u001b[0;34m,\u001b[0m \u001b[0;34m'supports_timeout'\u001b[0m\u001b[0;34m,\u001b[0m \u001b[0;32mFalse\u001b[0m\u001b[0;34m)\u001b[0m\u001b[0;34m:\u001b[0m\u001b[0;34m\u001b[0m\u001b[0m\n\u001b[0;32m--> 909\u001b[0;31m                     \u001b[0mself\u001b[0m\u001b[0;34m.\u001b[0m\u001b[0m_output\u001b[0m\u001b[0;34m.\u001b[0m\u001b[0mextend\u001b[0m\u001b[0;34m(\u001b[0m\u001b[0mjob\u001b[0m\u001b[0;34m.\u001b[0m\u001b[0mget\u001b[0m\u001b[0;34m(\u001b[0m\u001b[0mtimeout\u001b[0m\u001b[0;34m=\u001b[0m\u001b[0mself\u001b[0m\u001b[0;34m.\u001b[0m\u001b[0mtimeout\u001b[0m\u001b[0;34m)\u001b[0m\u001b[0;34m)\u001b[0m\u001b[0;34m\u001b[0m\u001b[0m\n\u001b[0m\u001b[1;32m    910\u001b[0m                 \u001b[0;32melse\u001b[0m\u001b[0;34m:\u001b[0m\u001b[0;34m\u001b[0m\u001b[0m\n\u001b[1;32m    911\u001b[0m                     \u001b[0mself\u001b[0m\u001b[0;34m.\u001b[0m\u001b[0m_output\u001b[0m\u001b[0;34m.\u001b[0m\u001b[0mextend\u001b[0m\u001b[0;34m(\u001b[0m\u001b[0mjob\u001b[0m\u001b[0;34m.\u001b[0m\u001b[0mget\u001b[0m\u001b[0;34m(\u001b[0m\u001b[0;34m)\u001b[0m\u001b[0;34m)\u001b[0m\u001b[0;34m\u001b[0m\u001b[0m\n",
      "\u001b[0;32m/usr/local/lib/python3.5/dist-packages/joblib/_parallel_backends.py\u001b[0m in \u001b[0;36mwrap_future_result\u001b[0;34m(future, timeout)\u001b[0m\n\u001b[1;32m    560\u001b[0m         AsyncResults.get from multiprocessing.\"\"\"\n\u001b[1;32m    561\u001b[0m         \u001b[0;32mtry\u001b[0m\u001b[0;34m:\u001b[0m\u001b[0;34m\u001b[0m\u001b[0m\n\u001b[0;32m--> 562\u001b[0;31m             \u001b[0;32mreturn\u001b[0m \u001b[0mfuture\u001b[0m\u001b[0;34m.\u001b[0m\u001b[0mresult\u001b[0m\u001b[0;34m(\u001b[0m\u001b[0mtimeout\u001b[0m\u001b[0;34m=\u001b[0m\u001b[0mtimeout\u001b[0m\u001b[0;34m)\u001b[0m\u001b[0;34m\u001b[0m\u001b[0m\n\u001b[0m\u001b[1;32m    563\u001b[0m         \u001b[0;32mexcept\u001b[0m \u001b[0mLokyTimeoutError\u001b[0m\u001b[0;34m:\u001b[0m\u001b[0;34m\u001b[0m\u001b[0m\n\u001b[1;32m    564\u001b[0m             \u001b[0;32mraise\u001b[0m \u001b[0mTimeoutError\u001b[0m\u001b[0;34m(\u001b[0m\u001b[0;34m)\u001b[0m\u001b[0;34m\u001b[0m\u001b[0m\n",
      "\u001b[0;32m/usr/lib/python3.5/concurrent/futures/_base.py\u001b[0m in \u001b[0;36mresult\u001b[0;34m(self, timeout)\u001b[0m\n\u001b[1;32m    398\u001b[0m                 \u001b[0;32mreturn\u001b[0m \u001b[0mself\u001b[0m\u001b[0;34m.\u001b[0m\u001b[0m__get_result\u001b[0m\u001b[0;34m(\u001b[0m\u001b[0;34m)\u001b[0m\u001b[0;34m\u001b[0m\u001b[0m\n\u001b[1;32m    399\u001b[0m \u001b[0;34m\u001b[0m\u001b[0m\n\u001b[0;32m--> 400\u001b[0;31m             \u001b[0mself\u001b[0m\u001b[0;34m.\u001b[0m\u001b[0m_condition\u001b[0m\u001b[0;34m.\u001b[0m\u001b[0mwait\u001b[0m\u001b[0;34m(\u001b[0m\u001b[0mtimeout\u001b[0m\u001b[0;34m)\u001b[0m\u001b[0;34m\u001b[0m\u001b[0m\n\u001b[0m\u001b[1;32m    401\u001b[0m \u001b[0;34m\u001b[0m\u001b[0m\n\u001b[1;32m    402\u001b[0m             \u001b[0;32mif\u001b[0m \u001b[0mself\u001b[0m\u001b[0;34m.\u001b[0m\u001b[0m_state\u001b[0m \u001b[0;32min\u001b[0m \u001b[0;34m[\u001b[0m\u001b[0mCANCELLED\u001b[0m\u001b[0;34m,\u001b[0m \u001b[0mCANCELLED_AND_NOTIFIED\u001b[0m\u001b[0;34m]\u001b[0m\u001b[0;34m:\u001b[0m\u001b[0;34m\u001b[0m\u001b[0m\n",
      "\u001b[0;32m/usr/lib/python3.5/threading.py\u001b[0m in \u001b[0;36mwait\u001b[0;34m(self, timeout)\u001b[0m\n\u001b[1;32m    291\u001b[0m         \u001b[0;32mtry\u001b[0m\u001b[0;34m:\u001b[0m    \u001b[0;31m# restore state no matter what (e.g., KeyboardInterrupt)\u001b[0m\u001b[0;34m\u001b[0m\u001b[0m\n\u001b[1;32m    292\u001b[0m             \u001b[0;32mif\u001b[0m \u001b[0mtimeout\u001b[0m \u001b[0;32mis\u001b[0m \u001b[0;32mNone\u001b[0m\u001b[0;34m:\u001b[0m\u001b[0;34m\u001b[0m\u001b[0m\n\u001b[0;32m--> 293\u001b[0;31m                 \u001b[0mwaiter\u001b[0m\u001b[0;34m.\u001b[0m\u001b[0macquire\u001b[0m\u001b[0;34m(\u001b[0m\u001b[0;34m)\u001b[0m\u001b[0;34m\u001b[0m\u001b[0m\n\u001b[0m\u001b[1;32m    294\u001b[0m                 \u001b[0mgotit\u001b[0m \u001b[0;34m=\u001b[0m \u001b[0;32mTrue\u001b[0m\u001b[0;34m\u001b[0m\u001b[0m\n\u001b[1;32m    295\u001b[0m             \u001b[0;32melse\u001b[0m\u001b[0;34m:\u001b[0m\u001b[0;34m\u001b[0m\u001b[0m\n",
      "\u001b[0;31mKeyboardInterrupt\u001b[0m: "
     ]
    }
   ],
   "source": [
    "import pyLDAvis.gensim\n",
    "import pickle \n",
    "import pyLDAvis\n",
    "\n",
    "# Visualize the topics\n",
    "pyLDAvis.enable_notebook()\n",
    "LDAvis_prepared = pyLDAvis.gensim.prepare(lda_model, bow_corpus, dictionary)\n",
    "LDAvis_prepared"
   ]
  }
 ],
 "metadata": {
  "kernelspec": {
   "display_name": "Python 3",
   "language": "python",
   "name": "python3"
  },
  "language_info": {
   "codemirror_mode": {
    "name": "ipython",
    "version": 3
   },
   "file_extension": ".py",
   "mimetype": "text/x-python",
   "name": "python",
   "nbconvert_exporter": "python",
   "pygments_lexer": "ipython3",
   "version": "3.5.2"
  }
 },
 "nbformat": 4,
 "nbformat_minor": 4
}
