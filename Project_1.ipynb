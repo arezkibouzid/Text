{
 "cells": [
  {
   "cell_type": "markdown",
   "metadata": {},
   "source": [
    "## Text project"
   ]
  },
  {
   "cell_type": "code",
   "execution_count": 1,
   "metadata": {},
   "outputs": [],
   "source": [
    "#Import libraries\n",
    "import pandas as pd\n",
    "import numpy as np\n",
    "import os\n",
    "import seaborn as sns\n",
    "import matplotlib.pyplot as plt\n",
    "from sklearn.feature_extraction.text import CountVectorizer\n",
    "import nltk \n",
    "import string\n",
    "import re\n",
    "%matplotlib inline\n",
    "pd.set_option('display.max_colwidth', 100)"
   ]
  },
  {
   "cell_type": "code",
   "execution_count": 2,
   "metadata": {},
   "outputs": [],
   "source": [
    "#Load dataset\n",
    "def load_data():\n",
    "    data = pd.read_csv('./data/Tweets.csv')\n",
    "    return data"
   ]
  },
  {
   "cell_type": "code",
   "execution_count": 3,
   "metadata": {},
   "outputs": [
    {
     "data": {
      "text/html": [
       "<div>\n",
       "<style scoped>\n",
       "    .dataframe tbody tr th:only-of-type {\n",
       "        vertical-align: middle;\n",
       "    }\n",
       "\n",
       "    .dataframe tbody tr th {\n",
       "        vertical-align: top;\n",
       "    }\n",
       "\n",
       "    .dataframe thead th {\n",
       "        text-align: right;\n",
       "    }\n",
       "</style>\n",
       "<table border=\"1\" class=\"dataframe\">\n",
       "  <thead>\n",
       "    <tr style=\"text-align: right;\">\n",
       "      <th></th>\n",
       "      <th>tweet_id</th>\n",
       "      <th>airline_sentiment</th>\n",
       "      <th>airline_sentiment_confidence</th>\n",
       "      <th>negativereason</th>\n",
       "      <th>negativereason_confidence</th>\n",
       "      <th>airline</th>\n",
       "      <th>airline_sentiment_gold</th>\n",
       "      <th>name</th>\n",
       "      <th>negativereason_gold</th>\n",
       "      <th>retweet_count</th>\n",
       "      <th>text</th>\n",
       "      <th>tweet_coord</th>\n",
       "      <th>tweet_created</th>\n",
       "      <th>tweet_location</th>\n",
       "      <th>user_timezone</th>\n",
       "    </tr>\n",
       "  </thead>\n",
       "  <tbody>\n",
       "    <tr>\n",
       "      <th>0</th>\n",
       "      <td>570306133677760513</td>\n",
       "      <td>neutral</td>\n",
       "      <td>1.0000</td>\n",
       "      <td>NaN</td>\n",
       "      <td>NaN</td>\n",
       "      <td>Virgin America</td>\n",
       "      <td>NaN</td>\n",
       "      <td>cairdin</td>\n",
       "      <td>NaN</td>\n",
       "      <td>0</td>\n",
       "      <td>@VirginAmerica What @dhepburn said.</td>\n",
       "      <td>NaN</td>\n",
       "      <td>2015-02-24 11:35:52 -0800</td>\n",
       "      <td>NaN</td>\n",
       "      <td>Eastern Time (US &amp; Canada)</td>\n",
       "    </tr>\n",
       "    <tr>\n",
       "      <th>1</th>\n",
       "      <td>570301130888122368</td>\n",
       "      <td>positive</td>\n",
       "      <td>0.3486</td>\n",
       "      <td>NaN</td>\n",
       "      <td>0.0000</td>\n",
       "      <td>Virgin America</td>\n",
       "      <td>NaN</td>\n",
       "      <td>jnardino</td>\n",
       "      <td>NaN</td>\n",
       "      <td>0</td>\n",
       "      <td>@VirginAmerica plus you've added commercials to the experience... tacky.</td>\n",
       "      <td>NaN</td>\n",
       "      <td>2015-02-24 11:15:59 -0800</td>\n",
       "      <td>NaN</td>\n",
       "      <td>Pacific Time (US &amp; Canada)</td>\n",
       "    </tr>\n",
       "    <tr>\n",
       "      <th>2</th>\n",
       "      <td>570301083672813571</td>\n",
       "      <td>neutral</td>\n",
       "      <td>0.6837</td>\n",
       "      <td>NaN</td>\n",
       "      <td>NaN</td>\n",
       "      <td>Virgin America</td>\n",
       "      <td>NaN</td>\n",
       "      <td>yvonnalynn</td>\n",
       "      <td>NaN</td>\n",
       "      <td>0</td>\n",
       "      <td>@VirginAmerica I didn't today... Must mean I need to take another trip!</td>\n",
       "      <td>NaN</td>\n",
       "      <td>2015-02-24 11:15:48 -0800</td>\n",
       "      <td>Lets Play</td>\n",
       "      <td>Central Time (US &amp; Canada)</td>\n",
       "    </tr>\n",
       "    <tr>\n",
       "      <th>3</th>\n",
       "      <td>570301031407624196</td>\n",
       "      <td>negative</td>\n",
       "      <td>1.0000</td>\n",
       "      <td>Bad Flight</td>\n",
       "      <td>0.7033</td>\n",
       "      <td>Virgin America</td>\n",
       "      <td>NaN</td>\n",
       "      <td>jnardino</td>\n",
       "      <td>NaN</td>\n",
       "      <td>0</td>\n",
       "      <td>@VirginAmerica it's really aggressive to blast obnoxious \"entertainment\" in your guests' faces &amp;...</td>\n",
       "      <td>NaN</td>\n",
       "      <td>2015-02-24 11:15:36 -0800</td>\n",
       "      <td>NaN</td>\n",
       "      <td>Pacific Time (US &amp; Canada)</td>\n",
       "    </tr>\n",
       "    <tr>\n",
       "      <th>4</th>\n",
       "      <td>570300817074462722</td>\n",
       "      <td>negative</td>\n",
       "      <td>1.0000</td>\n",
       "      <td>Can't Tell</td>\n",
       "      <td>1.0000</td>\n",
       "      <td>Virgin America</td>\n",
       "      <td>NaN</td>\n",
       "      <td>jnardino</td>\n",
       "      <td>NaN</td>\n",
       "      <td>0</td>\n",
       "      <td>@VirginAmerica and it's a really big bad thing about it</td>\n",
       "      <td>NaN</td>\n",
       "      <td>2015-02-24 11:14:45 -0800</td>\n",
       "      <td>NaN</td>\n",
       "      <td>Pacific Time (US &amp; Canada)</td>\n",
       "    </tr>\n",
       "  </tbody>\n",
       "</table>\n",
       "</div>"
      ],
      "text/plain": [
       "             tweet_id airline_sentiment  airline_sentiment_confidence  \\\n",
       "0  570306133677760513           neutral                        1.0000   \n",
       "1  570301130888122368          positive                        0.3486   \n",
       "2  570301083672813571           neutral                        0.6837   \n",
       "3  570301031407624196          negative                        1.0000   \n",
       "4  570300817074462722          negative                        1.0000   \n",
       "\n",
       "  negativereason  negativereason_confidence         airline  \\\n",
       "0            NaN                        NaN  Virgin America   \n",
       "1            NaN                     0.0000  Virgin America   \n",
       "2            NaN                        NaN  Virgin America   \n",
       "3     Bad Flight                     0.7033  Virgin America   \n",
       "4     Can't Tell                     1.0000  Virgin America   \n",
       "\n",
       "  airline_sentiment_gold        name negativereason_gold  retweet_count  \\\n",
       "0                    NaN     cairdin                 NaN              0   \n",
       "1                    NaN    jnardino                 NaN              0   \n",
       "2                    NaN  yvonnalynn                 NaN              0   \n",
       "3                    NaN    jnardino                 NaN              0   \n",
       "4                    NaN    jnardino                 NaN              0   \n",
       "\n",
       "                                                                                                  text  \\\n",
       "0                                                                  @VirginAmerica What @dhepburn said.   \n",
       "1                             @VirginAmerica plus you've added commercials to the experience... tacky.   \n",
       "2                              @VirginAmerica I didn't today... Must mean I need to take another trip!   \n",
       "3  @VirginAmerica it's really aggressive to blast obnoxious \"entertainment\" in your guests' faces &...   \n",
       "4                                              @VirginAmerica and it's a really big bad thing about it   \n",
       "\n",
       "  tweet_coord              tweet_created tweet_location  \\\n",
       "0         NaN  2015-02-24 11:35:52 -0800            NaN   \n",
       "1         NaN  2015-02-24 11:15:59 -0800            NaN   \n",
       "2         NaN  2015-02-24 11:15:48 -0800      Lets Play   \n",
       "3         NaN  2015-02-24 11:15:36 -0800            NaN   \n",
       "4         NaN  2015-02-24 11:14:45 -0800            NaN   \n",
       "\n",
       "                user_timezone  \n",
       "0  Eastern Time (US & Canada)  \n",
       "1  Pacific Time (US & Canada)  \n",
       "2  Central Time (US & Canada)  \n",
       "3  Pacific Time (US & Canada)  \n",
       "4  Pacific Time (US & Canada)  "
      ]
     },
     "execution_count": 3,
     "metadata": {},
     "output_type": "execute_result"
    }
   ],
   "source": [
    "tweet_df = load_data()\n",
    "tweet_df.head()"
   ]
  },
  {
   "cell_type": "code",
   "execution_count": 4,
   "metadata": {},
   "outputs": [
    {
     "name": "stdout",
     "output_type": "stream",
     "text": [
      "Dataset size: (14640, 15)\n",
      "Columns are: Index(['tweet_id', 'airline_sentiment', 'airline_sentiment_confidence',\n",
      "       'negativereason', 'negativereason_confidence', 'airline',\n",
      "       'airline_sentiment_gold', 'name', 'negativereason_gold',\n",
      "       'retweet_count', 'text', 'tweet_coord', 'tweet_created',\n",
      "       'tweet_location', 'user_timezone'],\n",
      "      dtype='object')\n",
      "<class 'pandas.core.frame.DataFrame'>\n",
      "RangeIndex: 14640 entries, 0 to 14639\n",
      "Data columns (total 15 columns):\n",
      "tweet_id                        14640 non-null int64\n",
      "airline_sentiment               14640 non-null object\n",
      "airline_sentiment_confidence    14640 non-null float64\n",
      "negativereason                  9178 non-null object\n",
      "negativereason_confidence       10522 non-null float64\n",
      "airline                         14640 non-null object\n",
      "airline_sentiment_gold          40 non-null object\n",
      "name                            14640 non-null object\n",
      "negativereason_gold             32 non-null object\n",
      "retweet_count                   14640 non-null int64\n",
      "text                            14640 non-null object\n",
      "tweet_coord                     1019 non-null object\n",
      "tweet_created                   14640 non-null object\n",
      "tweet_location                  9907 non-null object\n",
      "user_timezone                   9820 non-null object\n",
      "dtypes: float64(2), int64(2), object(11)\n",
      "memory usage: 1.7+ MB\n"
     ]
    }
   ],
   "source": [
    "print('Dataset size:',tweet_df.shape)\n",
    "print('Columns are:',tweet_df.columns)\n",
    "tweet_df.info()"
   ]
  },
  {
   "cell_type": "markdown",
   "metadata": {},
   "source": [
    "## Step 1 : take \"text\" column"
   ]
  },
  {
   "cell_type": "code",
   "execution_count": 7,
   "metadata": {},
   "outputs": [
    {
     "data": {
      "text/plain": [
       "0                                                                    @VirginAmerica What @dhepburn said.\n",
       "1                               @VirginAmerica plus you've added commercials to the experience... tacky.\n",
       "2                                @VirginAmerica I didn't today... Must mean I need to take another trip!\n",
       "3    @VirginAmerica it's really aggressive to blast obnoxious \"entertainment\" in your guests' faces &...\n",
       "4                                                @VirginAmerica and it's a really big bad thing about it\n",
       "Name: text, dtype: object"
      ]
     },
     "execution_count": 7,
     "metadata": {},
     "output_type": "execute_result"
    }
   ],
   "source": [
    "tweet_df_minus = tweet_df['text']\n",
    "tweet_df_minus[:5]"
   ]
  },
  {
   "cell_type": "markdown",
   "metadata": {},
   "source": [
    "\n",
    "## Step 2: Data Preprocessing\n",
    "\n",
    "We will perform the following steps: \n",
    "\n",
    "1. **Tokenization** : Split the text into sentences and the sentences into words. Lowercase the words and remove punctuation.\n",
    "2. Words that have fewer than 3 characters are removed.\n",
    "3. All **stopwords** are removed.\n",
    "4. Words are **lemmatized** - words in third person are changed to first person and verbs in past and future tenses are changed into present.\n",
    "5. Words are **stemmed** - words are reduced to their root form.\n",
    "\n"
   ]
  },
  {
   "cell_type": "code",
   "execution_count": 8,
   "metadata": {},
   "outputs": [],
   "source": [
    "import gensim\n",
    "from gensim.utils import simple_preprocess\n",
    "from gensim.parsing.preprocessing import STOPWORDS\n",
    "from nltk.stem import WordNetLemmatizer, SnowballStemmer\n",
    "from nltk.stem.porter import *\n",
    "import numpy as np\n",
    "np.random.seed(400)"
   ]
  },
  {
   "cell_type": "code",
   "execution_count": 9,
   "metadata": {},
   "outputs": [
    {
     "name": "stderr",
     "output_type": "stream",
     "text": [
      "[nltk_data] Downloading package wordnet to\n",
      "[nltk_data]     /home/lbenboudiaf/nltk_data...\n",
      "[nltk_data]   Package wordnet is already up-to-date!\n"
     ]
    },
    {
     "data": {
      "text/plain": [
       "True"
      ]
     },
     "execution_count": 9,
     "metadata": {},
     "output_type": "execute_result"
    }
   ],
   "source": [
    "import nltk\n",
    "nltk.download('wordnet')"
   ]
  },
  {
   "cell_type": "code",
   "execution_count": 10,
   "metadata": {},
   "outputs": [],
   "source": [
    "Words_deleted_length = 3\n",
    "Lemmatized = True\n",
    "Stemmed = False\n",
    "\n",
    "import pandas as pd\n",
    "stemmer = SnowballStemmer(\"english\")\n",
    "\n",
    "'''\n",
    "Write a function to perform the pre processing steps on the entire dataset\n",
    "'''\n",
    "def lemmatize_stemming(text):\n",
    "    if(Lemmatized & Stemmed):\n",
    "        return stemmer.stem(WordNetLemmatizer().lemmatize(text, pos='v'))\n",
    "    if(Stemmed):\n",
    "        return stemmer.stem(text)\n",
    "    if(Lemmatized):\n",
    "        return WordNetLemmatizer().lemmatize(text, pos='v')\n",
    "    return text\n",
    "\n",
    "# Tokenize and lemmatize\n",
    "def preprocess(text):\n",
    "    result=[]\n",
    "    for token in gensim.utils.simple_preprocess(text) :\n",
    "        if token not in gensim.parsing.preprocessing.STOPWORDS and len(token) > Words_deleted_length:\n",
    "            result.append(lemmatize_stemming(token))\n",
    "            \n",
    "    return result"
   ]
  },
  {
   "cell_type": "code",
   "execution_count": 11,
   "metadata": {},
   "outputs": [
    {
     "name": "stdout",
     "output_type": "stream",
     "text": [
      "Size of not pre-processeded data :  14640\n",
      "Size of pre-processeded data :  14640\n",
      "\n",
      "Check data processing effect:\n",
      "@VirginAmerica plus you've added commercials to the experience... tacky.\n",
      "['virginamerica', 'plus', 'add', 'commercials', 'experience', 'tacky']\n"
     ]
    }
   ],
   "source": [
    "'''We create two lists, one for pre-processed data and an other for not pre-processed data'''\n",
    "processed_docs = []\n",
    "nan_processed_docs = []\n",
    "for doc in tweet_df_minus :\n",
    "    nan_processed_docs.append(doc)\n",
    "for doc in tweet_df_minus :\n",
    "    processed_docs.append(preprocess(doc))\n",
    "    \n",
    "\n",
    "'''They should have the same size''' \n",
    "print('Size of not pre-processeded data : ', len(nan_processed_docs))\n",
    "print('Size of pre-processeded data : ', len(processed_docs))\n",
    "print('\\nCheck data processing effect:')\n",
    "print(nan_processed_docs[1])\n",
    "print(processed_docs[1])"
   ]
  },
  {
   "cell_type": "markdown",
   "metadata": {},
   "source": [
    "## Step 3: Bag of words on the dataset\n",
    "\n",
    "Now let's create a dictionary from 'processed_docs' containing the number of times a word appears in the training set. To do that, let's pass processed_docs to gensim.corpora.Dictionary() and call it 'dictionary'.\n"
   ]
  },
  {
   "cell_type": "code",
   "execution_count": 12,
   "metadata": {},
   "outputs": [
    {
     "name": "stdout",
     "output_type": "stream",
     "text": [
      "Dictionary(9775 unique tokens: ['verizonwireless', 'ferry', 'maui', 'crâpe', 'tiredcustomer']...)\n"
     ]
    }
   ],
   "source": [
    "'''\n",
    "Create a dictionary from 'processed_docs' containing the number of times a word appears \n",
    "in the training set using gensim.corpora.Dictionary and call it 'dictionary'\n",
    "'''\n",
    "dictionary = gensim.corpora.Dictionary(processed_docs)\n",
    "print(dictionary)"
   ]
  },
  {
   "cell_type": "code",
   "execution_count": 13,
   "metadata": {},
   "outputs": [
    {
     "name": "stdout",
     "output_type": "stream",
     "text": [
      "Word_id: 1403 Word: verizonwireless\n",
      "Word_id: 4582 Word: ferry\n",
      "Word_id: 2494 Word: maui\n",
      "Word_id: 4655 Word: crâpe\n",
      "Word_id: 3894 Word: tiredcustomer\n",
      "Word_id: 1371 Word: will\n",
      "Word_id: 502 Word: priority\n",
      "Word_id: 791 Word: virginatlantic\n",
      "Word_id: 5766 Word: whoot\n",
      "Word_id: 5145 Word: qxteqzm\n"
     ]
    }
   ],
   "source": [
    "'''\n",
    "Checking dictionary created\n",
    "'''\n",
    "count = 1\n",
    "for k, v in dictionary.iteritems():\n",
    "    print('Word_id:', k ,'Word:',v)\n",
    "    count += 1\n",
    "    if count > 10:\n",
    "        break"
   ]
  },
  {
   "cell_type": "code",
   "execution_count": 14,
   "metadata": {},
   "outputs": [
    {
     "name": "stdout",
     "output_type": "stream",
     "text": [
      "The representation is a tuple : (word_id, word_frequency) for example : \n",
      "\n",
      "[['virginamerica', 'dhepburn', 'say'], ['virginamerica', 'plus', 'add', 'commercials', 'experience', 'tacky']]\n"
     ]
    },
    {
     "data": {
      "text/plain": [
       "[[(0, 1), (1, 1), (2, 1)], [(2, 1), (3, 1), (4, 1), (5, 1), (6, 1), (7, 1)]]"
      ]
     },
     "execution_count": 14,
     "metadata": {},
     "output_type": "execute_result"
    }
   ],
   "source": [
    "'''\n",
    "Create the Bag-of-words model for each document i.e. for each document we create a dictionary reporting how many\n",
    "words and how many times those words appear. Save this to 'bow_corpus'\n",
    "'''\n",
    "bow_corpus = [dictionary.doc2bow(doc) for doc in processed_docs]\n",
    "print('The representation is a tuple : (word_id, word_frequency) for example : \\n')\n",
    "print(processed_docs[:2])\n",
    "bow_corpus[:2]"
   ]
  },
  {
   "cell_type": "code",
   "execution_count": 15,
   "metadata": {},
   "outputs": [
    {
     "name": "stdout",
     "output_type": "stream",
     "text": [
      "Word 2 (\"virginamerica\") appears 1 time.\n",
      "Word 24 (\"seat\") appears 1 time.\n",
      "Word 28 (\"time\") appears 1 time.\n",
      "Word 88 (\"available\") appears 1 time.\n",
      "Word 89 (\"carriers\") appears 1 time.\n",
      "Word 90 (\"fare\") appears 1 time.\n",
      "Word 91 (\"select\") appears 1 time.\n"
     ]
    }
   ],
   "source": [
    "'''\n",
    "Preview BOW for our sample preprocessed document\n",
    "'''\n",
    "document_num = 20\n",
    "bow_doc_x = bow_corpus[document_num]\n",
    "\n",
    "for i in range(len(bow_doc_x)):\n",
    "    print(\"Word {} (\\\"{}\\\") appears {} time.\".format(bow_doc_x[i][0], \n",
    "                                                     dictionary[bow_doc_x[i][0]], \n",
    "                                                     bow_doc_x[i][1]))"
   ]
  },
  {
   "cell_type": "markdown",
   "metadata": {},
   "source": [
    "## Step 4: Running LDA using Bag of Words\n",
    "We are going for 10 topics in the document corpus.\n",
    "\n",
    "We will be running LDA using all CPU cores to parallelize and speed up model training.\n",
    "\n",
    "Some of the parameters we will be tweaking are:\n",
    "\n",
    "1. **num_topics** is the number of requested latent topics to be extracted from the training corpus.\n",
    "2. **id2word** is a mapping from word ids (integers) to words (strings). It is used to determine the vocabulary size, as well as for debugging and topic printing.\n",
    "3. **workers** is the number of extra processes to use for parallelization. Uses all available cores by default.\n",
    "4. **alpha** and **beta** are hyperparameters that affect sparsity of the document-topic (theta) and topic-word (lambda) distributions. We will let these be the default values for now(default value is 1/num_topics)\n",
    "\n",
    " **Alpha** is the per document topic distribution.\n",
    "   - *High alpha* : Every document has a mixture of all topics(documents appear similar to each other).\n",
    "   - *Low alpha* : Every document has a mixture of very few topics\n",
    "\n",
    "  **bEta** is the per topic word distribution.\n",
    "    - *High beta* : Each topic has a mixture of most words(topics appear similar to each other).\n",
    "    - *Low eta* : Each topic has a mixture of few words.\n",
    "\n",
    "5. **passes** is the number of training passes through the corpus. For example, if the training corpus has 50,000 documents, chunksize is 10,000, passes is 2, then online training is done in 10 updates:\n",
    "- documents 0-9,999\n",
    "- documents 10,000-19,999\n",
    "- documents 20,000-29,999\n",
    "- documents 30,000-39,999\n",
    "- documents 40,000-49,999\n",
    "- documents 0-9,999\n",
    "- documents 10,000-19,999\n",
    "- documents 20,000-29,999\n",
    "- documents 30,000-39,999\n",
    "- documents 40,000-49,999\n"
   ]
  },
  {
   "cell_type": "code",
   "execution_count": 309,
   "metadata": {},
   "outputs": [],
   "source": [
    "# LDA multicore \n",
    "'''\n",
    "Train your lda model using gensim.models.LdaMulticore and save it to 'lda_model'\n",
    "'''\n",
    "lda_model =  gensim.models.LdaMulticore(corpus=bow_corpus, \n",
    "                                   num_topics = 2,\n",
    "                                   chunksize=100,\n",
    "                                   id2word = dictionary,                                    \n",
    "                                   passes = 10,\n",
    "                                   workers = 2)"
   ]
  },
  {
   "cell_type": "code",
   "execution_count": 19,
   "metadata": {},
   "outputs": [
    {
     "name": "stdout",
     "output_type": "stream",
     "text": [
      "Topic: 0 \n",
      "Words: 0.047*\"seat\" + 0.022*\"good\" + 0.016*\"appreciate\" + 0.015*\"hope\" + 0.013*\"class\" + 0.012*\"like\" + 0.012*\"available\" + 0.011*\"upgrade\" + 0.011*\"busy\" + 0.010*\"unacceptable\"\n",
      "\n",
      "\n",
      "Topic: 1 \n",
      "Words: 0.028*\"people\" + 0.021*\"agents\" + 0.018*\"staff\" + 0.015*\"rude\" + 0.014*\"american\" + 0.012*\"southwestair\" + 0.011*\"tweet\" + 0.011*\"delta\" + 0.011*\"point\" + 0.011*\"money\"\n",
      "\n",
      "\n",
      "Topic: 2 \n",
      "Words: 0.139*\"americanair\" + 0.073*\"flight\" + 0.049*\"usairways\" + 0.022*\"thank\" + 0.021*\"cancel\" + 0.017*\"help\" + 0.014*\"service\" + 0.013*\"hold\" + 0.013*\"wait\" + 0.013*\"hours\"\n",
      "\n",
      "\n",
      "Topic: 3 \n",
      "Words: 0.082*\"jetblue\" + 0.069*\"http\" + 0.035*\"airport\" + 0.020*\"speak\" + 0.018*\"right\" + 0.016*\"care\" + 0.010*\"airways\" + 0.009*\"load\" + 0.008*\"desk\" + 0.008*\"free\"\n",
      "\n",
      "\n",
      "Topic: 4 \n",
      "Words: 0.043*\"plane\" + 0.040*\"tell\" + 0.020*\"issue\" + 0.020*\"travel\" + 0.018*\"look\" + 0.017*\"board\" + 0.014*\"stick\" + 0.012*\"info\" + 0.011*\"land\" + 0.010*\"like\"\n",
      "\n",
      "\n"
     ]
    }
   ],
   "source": [
    "'''\n",
    "For each topic, we will explore the words occuring in that topic and its relative weight\n",
    "'''\n",
    "for idx, topic in lda_model.print_topics(-1):\n",
    "    print(\"Topic: {} \\nWords: {}\".format(idx, topic ))\n",
    "    print(\"\\n\")"
   ]
  },
  {
   "cell_type": "markdown",
   "metadata": {},
   "source": [
    "## Step 5: Testing LDA model"
   ]
  },
  {
   "cell_type": "code",
   "execution_count": 310,
   "metadata": {},
   "outputs": [
    {
     "name": "stdout",
     "output_type": "stream",
     "text": [
      "\n",
      "Coherence Score:  0.25787951912715895\n"
     ]
    }
   ],
   "source": [
    "from gensim.models import CoherenceModel\n",
    "# Compute Coherence Score\n",
    "coherence_model_lda = CoherenceModel(model=lda_model, texts=processed_docs, dictionary=dictionary, coherence='c_v')\n",
    "\n",
    "coherence_lda = coherence_model_lda.get_coherence()\n",
    "print('\\nCoherence Score: ', coherence_lda)"
   ]
  },
  {
   "cell_type": "markdown",
   "metadata": {},
   "source": [
    "Now that we have the baseline coherence score for the default LDA model, let’s perform a series of sensitivity tests to help determine the following model hyperparameters:\n",
    "\n",
    "    Number of Topics (K)\n",
    "    Dirichlet hyperparameter alpha: Document-Topic Density\n",
    "    Dirichlet hyperparameter beta: Word-Topic Density\n",
    "We’ll perform these tests in sequence, one parameter at a time by keeping others constant and run them over the two different validation corpus sets. We’ll use **C_v** as our choice of metric for performance comparison\n",
    "\n",
    "We create function ***compute_coherence_values*** and iterate it over the range of topics, alpha, and beta parameter values"
   ]
  },
  {
   "cell_type": "code",
   "execution_count": 17,
   "metadata": {},
   "outputs": [],
   "source": [
    "# supporting function\n",
    "def compute_coherence_values(corpus, dictionary, k, a, b):\n",
    "    lda_model = gensim.models.LdaMulticore(corpus=bow_corpus,\n",
    "                                           id2word=dictionary,\n",
    "                                           num_topics=10, \n",
    "                                           chunksize=100,\n",
    "                                           passes=10,\n",
    "                                           alpha=a,\n",
    "                                           eta=b,\n",
    "                                           per_word_topics=True)\n",
    "    \n",
    "    coherence_model_lda = CoherenceModel(model=lda_model, texts=processed_docs, dictionary=dictionary, coherence='c_v')\n",
    "    \n",
    "    return coherence_model_lda.get_coherence()"
   ]
  },
  {
   "cell_type": "code",
   "execution_count": 81,
   "metadata": {
    "scrolled": true
   },
   "outputs": [
    {
     "name": "stderr",
     "output_type": "stream",
     "text": [
      "\n",
      "\n",
      "  0%|          | 0/20 [00:00<?, ?it/s]\u001b[A\u001b[A\n",
      "\n",
      "  5%|▌         | 1/20 [00:42<13:18, 42.02s/it]\u001b[A\u001b[A\n",
      "\n",
      "23it [51:04, 133.25s/it]1:25<12:44, 42.48s/it]\u001b[A\u001b[A\n",
      "  0%|          | 0/20 [23:41<?, ?it/s]\n",
      "\n",
      "\n",
      " 15%|█▌        | 3/20 [02:11<12:19, 43.50s/it]\u001b[A\u001b[A\n",
      "\n",
      " 20%|██        | 4/20 [02:52<11:25, 42.82s/it]\u001b[A\u001b[A\n",
      "\n",
      " 25%|██▌       | 5/20 [03:35<10:41, 42.76s/it]\u001b[A\u001b[A\n",
      "\n",
      " 30%|███       | 6/20 [04:14<09:43, 41.69s/it]\u001b[A\u001b[A\n",
      "\n",
      " 35%|███▌      | 7/20 [05:04<09:35, 44.23s/it]\u001b[A\u001b[A\n",
      "\n",
      " 40%|████      | 8/20 [05:49<08:52, 44.38s/it]\u001b[A\u001b[A\n",
      "\n",
      " 45%|████▌     | 9/20 [06:28<07:50, 42.81s/it]\u001b[A\u001b[A\n",
      "\n",
      " 50%|█████     | 10/20 [07:12<07:12, 43.29s/it]\u001b[A\u001b[A\n",
      "\n",
      " 55%|█████▌    | 11/20 [07:59<06:37, 44.16s/it]\u001b[A\u001b[A\n",
      "\n",
      " 60%|██████    | 12/20 [08:45<05:59, 44.96s/it]\u001b[A\u001b[A\n",
      "\n",
      " 65%|██████▌   | 13/20 [09:22<04:56, 42.29s/it]\u001b[A\u001b[A\n",
      "\n",
      " 70%|███████   | 14/20 [10:01<04:08, 41.34s/it]\u001b[A\u001b[A\n",
      "\n",
      " 75%|███████▌  | 15/20 [10:45<03:31, 42.36s/it]\u001b[A\u001b[A\n",
      "\n",
      " 80%|████████  | 16/20 [11:32<02:54, 43.52s/it]\u001b[A\u001b[A\n",
      "\n",
      " 85%|████████▌ | 17/20 [12:25<02:19, 46.60s/it]\u001b[A\u001b[A\n",
      "\n",
      " 90%|█████████ | 18/20 [13:06<01:29, 44.80s/it]\u001b[A\u001b[A\n",
      "\n",
      " 95%|█████████▌| 19/20 [13:34<00:39, 39.89s/it]\u001b[A\u001b[A\n",
      "\n",
      "100%|██████████| 20/20 [14:03<00:00, 36.55s/it]\u001b[A\u001b[A\n",
      "\n",
      "21it [14:33, 34.43s/it]                        \u001b[A\u001b[A\n",
      "\n",
      "22it [15:09, 34.96s/it]\u001b[A\u001b[A\n",
      "\n",
      "23it [15:42, 34.50s/it]\u001b[A\u001b[A\n",
      "\n",
      "24it [16:12, 33.11s/it]\u001b[A\u001b[A\n",
      "\n",
      "25it [16:42, 31.99s/it]\u001b[A\u001b[A\n",
      "\n",
      "26it [17:10, 30.86s/it]\u001b[A\u001b[A\n",
      "\n",
      "27it [17:40, 30.58s/it]\u001b[A\u001b[A\n",
      "\n",
      "28it [18:11, 30.79s/it]\u001b[A\u001b[A\n",
      "\n",
      "29it [18:42, 30.97s/it]\u001b[A\u001b[A\n",
      "\n",
      "30it [19:12, 30.43s/it]\u001b[A\u001b[A\n",
      "\n",
      "31it [19:44, 31.11s/it]\u001b[A\u001b[A\n",
      "\n",
      "32it [20:17, 31.73s/it]\u001b[A\u001b[A\n",
      "\n",
      "33it [20:50, 32.12s/it]\u001b[A\u001b[A\n",
      "\n",
      "34it [21:22, 31.83s/it]\u001b[A\u001b[A\n",
      "\n",
      "35it [21:56, 32.72s/it]\u001b[A\u001b[A\n",
      "\n",
      "36it [22:29, 32.80s/it]\u001b[A\u001b[A\n",
      "\n",
      "37it [23:02, 32.82s/it]\u001b[A\u001b[A\n",
      "\n",
      "38it [23:34, 32.54s/it]\u001b[A\u001b[A\n",
      "\n",
      "39it [24:04, 31.59s/it]\u001b[A\u001b[A\n",
      "\n",
      "40it [24:37, 32.20s/it]\u001b[A\u001b[A\n",
      "\n",
      "41it [25:06, 31.10s/it]\u001b[A\u001b[A\n",
      "\n",
      "42it [25:35, 30.68s/it]\u001b[A\u001b[A\n",
      "\n",
      "43it [26:12, 32.44s/it]\u001b[A\u001b[A\n",
      "\n",
      "44it [26:43, 32.14s/it]\u001b[A\u001b[A\n",
      "\n",
      "45it [27:12, 31.16s/it]\u001b[A\u001b[A\n",
      "\n",
      "46it [27:40, 30.04s/it]\u001b[A\u001b[A\n",
      "\n",
      "47it [28:09, 29.90s/it]\u001b[A\u001b[A\n",
      "\n",
      "48it [28:45, 31.55s/it]\u001b[A\u001b[A\n",
      "\n",
      "49it [29:29, 35.40s/it]\u001b[A\u001b[A\n",
      "\n",
      "50it [30:07, 36.05s/it]\u001b[A\u001b[A\n",
      "\n",
      "51it [30:41, 35.48s/it]\u001b[A\u001b[A\n",
      "\n",
      "52it [31:14, 34.68s/it]\u001b[A\u001b[A\n",
      "\n",
      "53it [31:47, 34.39s/it]\u001b[A\u001b[A\n",
      "\n",
      "54it [32:20, 33.82s/it]\u001b[A\u001b[A\n",
      "\n",
      "55it [32:52, 33.38s/it]\u001b[A\u001b[A\n",
      "\n",
      "56it [33:26, 33.44s/it]\u001b[A\u001b[A\n",
      "\n",
      "57it [34:01, 34.11s/it]\u001b[A\u001b[A\n",
      "\n",
      "58it [34:37, 34.49s/it]\u001b[A\u001b[A\n",
      "\n",
      "59it [35:08, 33.43s/it]\u001b[A\u001b[A\n",
      "\n",
      "60it [35:37, 32.26s/it]\u001b[A\u001b[A\n",
      "\n",
      "61it [36:08, 31.68s/it]\u001b[A\u001b[A\n",
      "\n",
      "62it [36:39, 31.73s/it]\u001b[A\u001b[A\n",
      "\n",
      "63it [37:10, 31.48s/it]\u001b[A\u001b[A\n",
      "\n",
      "64it [37:48, 33.49s/it]\u001b[A\u001b[A\n",
      "\n",
      "65it [38:21, 33.27s/it]\u001b[A\u001b[A\n",
      "\n",
      "66it [38:53, 32.76s/it]\u001b[A\u001b[A\n",
      "\n",
      "67it [39:19, 30.93s/it]\u001b[A\u001b[A\n",
      "\n",
      "68it [39:49, 30.38s/it]\u001b[A\u001b[A\n",
      "\n",
      "69it [40:22, 31.18s/it]\u001b[A\u001b[A\n",
      "\n",
      "70it [40:54, 31.44s/it]\u001b[A\u001b[A\n",
      "\n",
      "71it [41:21, 30.14s/it]\u001b[A\u001b[A\n",
      "\n",
      "72it [41:54, 30.95s/it]\u001b[A\u001b[A\n",
      "\n",
      "73it [42:23, 30.41s/it]\u001b[A\u001b[A\n",
      "\n",
      "74it [43:03, 33.40s/it]\u001b[A\u001b[A\n",
      "\n",
      "75it [43:46, 36.28s/it]\u001b[A\u001b[A\n",
      "\n",
      "76it [44:21, 35.87s/it]\u001b[A\u001b[A\n",
      "\n",
      "77it [44:59, 36.37s/it]\u001b[A\u001b[A\n",
      "\n",
      "78it [45:30, 34.92s/it]\u001b[A\u001b[A\n",
      "\n",
      "79it [46:02, 33.99s/it]\u001b[A\u001b[A\n",
      "\n",
      "80it [46:34, 33.47s/it]\u001b[A\u001b[A\n",
      "\n",
      "81it [47:05, 32.65s/it]\u001b[A\u001b[A\n",
      "\n",
      "82it [47:40, 33.26s/it]\u001b[A\u001b[A\n",
      "\n",
      "83it [48:09, 32.19s/it]\u001b[A\u001b[A\n",
      "\n",
      "84it [48:41, 31.98s/it]\u001b[A\u001b[A\n",
      "\n",
      "85it [49:11, 31.35s/it]\u001b[A\u001b[A\n",
      "\n",
      "86it [49:39, 30.52s/it]\u001b[A\u001b[A\n",
      "\n",
      "87it [50:20, 33.65s/it]\u001b[A\u001b[A\n",
      "\n",
      "88it [50:56, 34.19s/it]\u001b[A\u001b[A\n",
      "\n",
      "89it [51:29, 34.05s/it]\u001b[A\u001b[A\n",
      "\n",
      "90it [52:07, 35.06s/it]\u001b[A\u001b[A\n",
      "\n",
      "91it [52:38, 33.91s/it]\u001b[A\u001b[A\n",
      "\n",
      "92it [53:09, 32.98s/it]\u001b[A\u001b[A\n",
      "\n",
      "93it [53:45, 33.84s/it]\u001b[A\u001b[A\n",
      "\n",
      "94it [54:20, 34.31s/it]\u001b[A\u001b[A\n",
      "\n",
      "95it [54:58, 35.41s/it]\u001b[A\u001b[A\n",
      "\n",
      "96it [55:30, 34.30s/it]\u001b[A\u001b[A\n",
      "\n",
      "97it [55:58, 32.61s/it]\u001b[A\u001b[A\n",
      "\n",
      "98it [56:29, 32.09s/it]\u001b[A\u001b[A\n",
      "\n",
      "99it [57:01, 31.87s/it]\u001b[A\u001b[A\n",
      "\n",
      "100it [57:31, 31.34s/it]\u001b[A\u001b[A\n",
      "\n",
      "101it [58:02, 31.35s/it]\u001b[A\u001b[A\n",
      "\n",
      "102it [58:30, 30.22s/it]\u001b[A\u001b[A\n",
      "\n",
      "103it [58:57, 29.34s/it]\u001b[A\u001b[A\n",
      "\n",
      "104it [59:28, 29.82s/it]\u001b[A\u001b[A\n",
      "\n",
      "105it [1:00:00, 30.51s/it]\u001b[A\u001b[A\n",
      "\n",
      "106it [1:00:30, 30.35s/it]\u001b[A\u001b[A\n",
      "\n",
      "107it [1:01:00, 30.32s/it]\u001b[A\u001b[A\n",
      "\n",
      "108it [1:01:29, 29.71s/it]\u001b[A\u001b[A\n",
      "\n",
      "109it [1:01:55, 28.71s/it]\u001b[A\u001b[A\n",
      "\n",
      "110it [1:02:25, 29.26s/it]\u001b[A\u001b[A\n",
      "\n",
      "111it [1:02:53, 28.75s/it]\u001b[A\u001b[A"
     ]
    },
    {
     "ename": "OSError",
     "evalue": "[Errno 12] Cannot allocate memory",
     "output_type": "error",
     "traceback": [
      "\u001b[0;31m---------------------------------------------------------------------------\u001b[0m",
      "\u001b[0;31mOSError\u001b[0m                                   Traceback (most recent call last)",
      "\u001b[0;32m<ipython-input-81-a5d186629d04>\u001b[0m in \u001b[0;36m<module>\u001b[0;34m\u001b[0m\n\u001b[1;32m     45\u001b[0m                     \u001b[0;31m# get the coherence score for the given parameters\u001b[0m\u001b[0;34m\u001b[0m\u001b[0;34m\u001b[0m\u001b[0m\n\u001b[1;32m     46\u001b[0m                     cv = compute_coherence_values(corpus=corpus_sets[i], dictionary=dictionary, \n\u001b[0;32m---> 47\u001b[0;31m                                                   k=k, a=a, b=b)\n\u001b[0m\u001b[1;32m     48\u001b[0m                     \u001b[0;31m# Save the model results\u001b[0m\u001b[0;34m\u001b[0m\u001b[0;34m\u001b[0m\u001b[0m\n\u001b[1;32m     49\u001b[0m                     \u001b[0mmodel_results\u001b[0m\u001b[0;34m[\u001b[0m\u001b[0;34m'Validation_Set'\u001b[0m\u001b[0;34m]\u001b[0m\u001b[0;34m.\u001b[0m\u001b[0mappend\u001b[0m\u001b[0;34m(\u001b[0m\u001b[0mcorpus_title\u001b[0m\u001b[0;34m[\u001b[0m\u001b[0mi\u001b[0m\u001b[0;34m]\u001b[0m\u001b[0;34m)\u001b[0m\u001b[0;34m\u001b[0m\u001b[0m\n",
      "\u001b[0;32m<ipython-input-42-660c2b392269>\u001b[0m in \u001b[0;36mcompute_coherence_values\u001b[0;34m(corpus, dictionary, k, a, b)\u001b[0m\n\u001b[1;32m     13\u001b[0m     \u001b[0mcoherence_model_lda\u001b[0m \u001b[0;34m=\u001b[0m \u001b[0mCoherenceModel\u001b[0m\u001b[0;34m(\u001b[0m\u001b[0mmodel\u001b[0m\u001b[0;34m=\u001b[0m\u001b[0mlda_model\u001b[0m\u001b[0;34m,\u001b[0m \u001b[0mtexts\u001b[0m\u001b[0;34m=\u001b[0m\u001b[0mprocessed_docs\u001b[0m\u001b[0;34m,\u001b[0m \u001b[0mdictionary\u001b[0m\u001b[0;34m=\u001b[0m\u001b[0mdictionary\u001b[0m\u001b[0;34m,\u001b[0m \u001b[0mcoherence\u001b[0m\u001b[0;34m=\u001b[0m\u001b[0;34m'c_v'\u001b[0m\u001b[0;34m)\u001b[0m\u001b[0;34m\u001b[0m\u001b[0m\n\u001b[1;32m     14\u001b[0m \u001b[0;34m\u001b[0m\u001b[0m\n\u001b[0;32m---> 15\u001b[0;31m     \u001b[0;32mreturn\u001b[0m \u001b[0mcoherence_model_lda\u001b[0m\u001b[0;34m.\u001b[0m\u001b[0mget_coherence\u001b[0m\u001b[0;34m(\u001b[0m\u001b[0;34m)\u001b[0m\u001b[0;34m\u001b[0m\u001b[0m\n\u001b[0m",
      "\u001b[0;32m/usr/local/lib/python3.5/dist-packages/gensim/models/coherencemodel.py\u001b[0m in \u001b[0;36mget_coherence\u001b[0;34m(self)\u001b[0m\n\u001b[1;32m    607\u001b[0m \u001b[0;34m\u001b[0m\u001b[0m\n\u001b[1;32m    608\u001b[0m         \"\"\"\n\u001b[0;32m--> 609\u001b[0;31m         \u001b[0mconfirmed_measures\u001b[0m \u001b[0;34m=\u001b[0m \u001b[0mself\u001b[0m\u001b[0;34m.\u001b[0m\u001b[0mget_coherence_per_topic\u001b[0m\u001b[0;34m(\u001b[0m\u001b[0;34m)\u001b[0m\u001b[0;34m\u001b[0m\u001b[0m\n\u001b[0m\u001b[1;32m    610\u001b[0m         \u001b[0;32mreturn\u001b[0m \u001b[0mself\u001b[0m\u001b[0;34m.\u001b[0m\u001b[0maggregate_measures\u001b[0m\u001b[0;34m(\u001b[0m\u001b[0mconfirmed_measures\u001b[0m\u001b[0;34m)\u001b[0m\u001b[0;34m\u001b[0m\u001b[0m\n\u001b[1;32m    611\u001b[0m \u001b[0;34m\u001b[0m\u001b[0m\n",
      "\u001b[0;32m/usr/local/lib/python3.5/dist-packages/gensim/models/coherencemodel.py\u001b[0m in \u001b[0;36mget_coherence_per_topic\u001b[0;34m(self, segmented_topics, with_std, with_support)\u001b[0m\n\u001b[1;32m    567\u001b[0m             \u001b[0msegmented_topics\u001b[0m \u001b[0;34m=\u001b[0m \u001b[0mmeasure\u001b[0m\u001b[0;34m.\u001b[0m\u001b[0mseg\u001b[0m\u001b[0;34m(\u001b[0m\u001b[0mself\u001b[0m\u001b[0;34m.\u001b[0m\u001b[0mtopics\u001b[0m\u001b[0;34m)\u001b[0m\u001b[0;34m\u001b[0m\u001b[0m\n\u001b[1;32m    568\u001b[0m         \u001b[0;32mif\u001b[0m \u001b[0mself\u001b[0m\u001b[0;34m.\u001b[0m\u001b[0m_accumulator\u001b[0m \u001b[0;32mis\u001b[0m \u001b[0;32mNone\u001b[0m\u001b[0;34m:\u001b[0m\u001b[0;34m\u001b[0m\u001b[0m\n\u001b[0;32m--> 569\u001b[0;31m             \u001b[0mself\u001b[0m\u001b[0;34m.\u001b[0m\u001b[0mestimate_probabilities\u001b[0m\u001b[0;34m(\u001b[0m\u001b[0msegmented_topics\u001b[0m\u001b[0;34m)\u001b[0m\u001b[0;34m\u001b[0m\u001b[0m\n\u001b[0m\u001b[1;32m    570\u001b[0m \u001b[0;34m\u001b[0m\u001b[0m\n\u001b[1;32m    571\u001b[0m         \u001b[0mkwargs\u001b[0m \u001b[0;34m=\u001b[0m \u001b[0mdict\u001b[0m\u001b[0;34m(\u001b[0m\u001b[0mwith_std\u001b[0m\u001b[0;34m=\u001b[0m\u001b[0mwith_std\u001b[0m\u001b[0;34m,\u001b[0m \u001b[0mwith_support\u001b[0m\u001b[0;34m=\u001b[0m\u001b[0mwith_support\u001b[0m\u001b[0;34m)\u001b[0m\u001b[0;34m\u001b[0m\u001b[0m\n",
      "\u001b[0;32m/usr/local/lib/python3.5/dist-packages/gensim/models/coherencemodel.py\u001b[0m in \u001b[0;36mestimate_probabilities\u001b[0;34m(self, segmented_topics)\u001b[0m\n\u001b[1;32m    539\u001b[0m                 \u001b[0mkwargs\u001b[0m\u001b[0;34m[\u001b[0m\u001b[0;34m'model'\u001b[0m\u001b[0;34m]\u001b[0m \u001b[0;34m=\u001b[0m \u001b[0mself\u001b[0m\u001b[0;34m.\u001b[0m\u001b[0mkeyed_vectors\u001b[0m\u001b[0;34m\u001b[0m\u001b[0m\n\u001b[1;32m    540\u001b[0m \u001b[0;34m\u001b[0m\u001b[0m\n\u001b[0;32m--> 541\u001b[0;31m             \u001b[0mself\u001b[0m\u001b[0;34m.\u001b[0m\u001b[0m_accumulator\u001b[0m \u001b[0;34m=\u001b[0m \u001b[0mself\u001b[0m\u001b[0;34m.\u001b[0m\u001b[0mmeasure\u001b[0m\u001b[0;34m.\u001b[0m\u001b[0mprob\u001b[0m\u001b[0;34m(\u001b[0m\u001b[0;34m**\u001b[0m\u001b[0mkwargs\u001b[0m\u001b[0;34m)\u001b[0m\u001b[0;34m\u001b[0m\u001b[0m\n\u001b[0m\u001b[1;32m    542\u001b[0m \u001b[0;34m\u001b[0m\u001b[0m\n\u001b[1;32m    543\u001b[0m         \u001b[0;32mreturn\u001b[0m \u001b[0mself\u001b[0m\u001b[0;34m.\u001b[0m\u001b[0m_accumulator\u001b[0m\u001b[0;34m\u001b[0m\u001b[0m\n",
      "\u001b[0;32m/usr/local/lib/python3.5/dist-packages/gensim/topic_coherence/probability_estimation.py\u001b[0m in \u001b[0;36mp_boolean_sliding_window\u001b[0;34m(texts, segmented_topics, dictionary, window_size, processes)\u001b[0m\n\u001b[1;32m    154\u001b[0m         \u001b[0maccumulator\u001b[0m \u001b[0;34m=\u001b[0m \u001b[0mParallelWordOccurrenceAccumulator\u001b[0m\u001b[0;34m(\u001b[0m\u001b[0mprocesses\u001b[0m\u001b[0;34m,\u001b[0m \u001b[0mtop_ids\u001b[0m\u001b[0;34m,\u001b[0m \u001b[0mdictionary\u001b[0m\u001b[0;34m)\u001b[0m\u001b[0;34m\u001b[0m\u001b[0m\n\u001b[1;32m    155\u001b[0m     \u001b[0mlogger\u001b[0m\u001b[0;34m.\u001b[0m\u001b[0minfo\u001b[0m\u001b[0;34m(\u001b[0m\u001b[0;34m\"using %s to estimate probabilities from sliding windows\"\u001b[0m\u001b[0;34m,\u001b[0m \u001b[0maccumulator\u001b[0m\u001b[0;34m)\u001b[0m\u001b[0;34m\u001b[0m\u001b[0m\n\u001b[0;32m--> 156\u001b[0;31m     \u001b[0;32mreturn\u001b[0m \u001b[0maccumulator\u001b[0m\u001b[0;34m.\u001b[0m\u001b[0maccumulate\u001b[0m\u001b[0;34m(\u001b[0m\u001b[0mtexts\u001b[0m\u001b[0;34m,\u001b[0m \u001b[0mwindow_size\u001b[0m\u001b[0;34m)\u001b[0m\u001b[0;34m\u001b[0m\u001b[0m\n\u001b[0m\u001b[1;32m    157\u001b[0m \u001b[0;34m\u001b[0m\u001b[0m\n\u001b[1;32m    158\u001b[0m \u001b[0;34m\u001b[0m\u001b[0m\n",
      "\u001b[0;32m/usr/local/lib/python3.5/dist-packages/gensim/topic_coherence/text_analysis.py\u001b[0m in \u001b[0;36maccumulate\u001b[0;34m(self, texts, window_size)\u001b[0m\n\u001b[1;32m    442\u001b[0m \u001b[0;34m\u001b[0m\u001b[0m\n\u001b[1;32m    443\u001b[0m     \u001b[0;32mdef\u001b[0m \u001b[0maccumulate\u001b[0m\u001b[0;34m(\u001b[0m\u001b[0mself\u001b[0m\u001b[0;34m,\u001b[0m \u001b[0mtexts\u001b[0m\u001b[0;34m,\u001b[0m \u001b[0mwindow_size\u001b[0m\u001b[0;34m)\u001b[0m\u001b[0;34m:\u001b[0m\u001b[0;34m\u001b[0m\u001b[0m\n\u001b[0;32m--> 444\u001b[0;31m         \u001b[0mworkers\u001b[0m\u001b[0;34m,\u001b[0m \u001b[0minput_q\u001b[0m\u001b[0;34m,\u001b[0m \u001b[0moutput_q\u001b[0m \u001b[0;34m=\u001b[0m \u001b[0mself\u001b[0m\u001b[0;34m.\u001b[0m\u001b[0mstart_workers\u001b[0m\u001b[0;34m(\u001b[0m\u001b[0mwindow_size\u001b[0m\u001b[0;34m)\u001b[0m\u001b[0;34m\u001b[0m\u001b[0m\n\u001b[0m\u001b[1;32m    445\u001b[0m         \u001b[0;32mtry\u001b[0m\u001b[0;34m:\u001b[0m\u001b[0;34m\u001b[0m\u001b[0m\n\u001b[1;32m    446\u001b[0m             \u001b[0mself\u001b[0m\u001b[0;34m.\u001b[0m\u001b[0mqueue_all_texts\u001b[0m\u001b[0;34m(\u001b[0m\u001b[0minput_q\u001b[0m\u001b[0;34m,\u001b[0m \u001b[0mtexts\u001b[0m\u001b[0;34m,\u001b[0m \u001b[0mwindow_size\u001b[0m\u001b[0;34m)\u001b[0m\u001b[0;34m\u001b[0m\u001b[0m\n",
      "\u001b[0;32m/usr/local/lib/python3.5/dist-packages/gensim/topic_coherence/text_analysis.py\u001b[0m in \u001b[0;36mstart_workers\u001b[0;34m(self, window_size)\u001b[0m\n\u001b[1;32m    476\u001b[0m             \u001b[0maccumulator\u001b[0m \u001b[0;34m=\u001b[0m \u001b[0mPatchedWordOccurrenceAccumulator\u001b[0m\u001b[0;34m(\u001b[0m\u001b[0mself\u001b[0m\u001b[0;34m.\u001b[0m\u001b[0mrelevant_ids\u001b[0m\u001b[0;34m,\u001b[0m \u001b[0mself\u001b[0m\u001b[0;34m.\u001b[0m\u001b[0mdictionary\u001b[0m\u001b[0;34m)\u001b[0m\u001b[0;34m\u001b[0m\u001b[0m\n\u001b[1;32m    477\u001b[0m             \u001b[0mworker\u001b[0m \u001b[0;34m=\u001b[0m \u001b[0mAccumulatingWorker\u001b[0m\u001b[0;34m(\u001b[0m\u001b[0minput_q\u001b[0m\u001b[0;34m,\u001b[0m \u001b[0moutput_q\u001b[0m\u001b[0;34m,\u001b[0m \u001b[0maccumulator\u001b[0m\u001b[0;34m,\u001b[0m \u001b[0mwindow_size\u001b[0m\u001b[0;34m)\u001b[0m\u001b[0;34m\u001b[0m\u001b[0m\n\u001b[0;32m--> 478\u001b[0;31m             \u001b[0mworker\u001b[0m\u001b[0;34m.\u001b[0m\u001b[0mstart\u001b[0m\u001b[0;34m(\u001b[0m\u001b[0;34m)\u001b[0m\u001b[0;34m\u001b[0m\u001b[0m\n\u001b[0m\u001b[1;32m    479\u001b[0m             \u001b[0mworkers\u001b[0m\u001b[0;34m.\u001b[0m\u001b[0mappend\u001b[0m\u001b[0;34m(\u001b[0m\u001b[0mworker\u001b[0m\u001b[0;34m)\u001b[0m\u001b[0;34m\u001b[0m\u001b[0m\n\u001b[1;32m    480\u001b[0m \u001b[0;34m\u001b[0m\u001b[0m\n",
      "\u001b[0;32m/usr/lib/python3.5/multiprocessing/process.py\u001b[0m in \u001b[0;36mstart\u001b[0;34m(self)\u001b[0m\n\u001b[1;32m    103\u001b[0m                \u001b[0;34m'daemonic processes are not allowed to have children'\u001b[0m\u001b[0;34m\u001b[0m\u001b[0m\n\u001b[1;32m    104\u001b[0m         \u001b[0m_cleanup\u001b[0m\u001b[0;34m(\u001b[0m\u001b[0;34m)\u001b[0m\u001b[0;34m\u001b[0m\u001b[0m\n\u001b[0;32m--> 105\u001b[0;31m         \u001b[0mself\u001b[0m\u001b[0;34m.\u001b[0m\u001b[0m_popen\u001b[0m \u001b[0;34m=\u001b[0m \u001b[0mself\u001b[0m\u001b[0;34m.\u001b[0m\u001b[0m_Popen\u001b[0m\u001b[0;34m(\u001b[0m\u001b[0mself\u001b[0m\u001b[0;34m)\u001b[0m\u001b[0;34m\u001b[0m\u001b[0m\n\u001b[0m\u001b[1;32m    106\u001b[0m         \u001b[0mself\u001b[0m\u001b[0;34m.\u001b[0m\u001b[0m_sentinel\u001b[0m \u001b[0;34m=\u001b[0m \u001b[0mself\u001b[0m\u001b[0;34m.\u001b[0m\u001b[0m_popen\u001b[0m\u001b[0;34m.\u001b[0m\u001b[0msentinel\u001b[0m\u001b[0;34m\u001b[0m\u001b[0m\n\u001b[1;32m    107\u001b[0m         \u001b[0m_children\u001b[0m\u001b[0;34m.\u001b[0m\u001b[0madd\u001b[0m\u001b[0;34m(\u001b[0m\u001b[0mself\u001b[0m\u001b[0;34m)\u001b[0m\u001b[0;34m\u001b[0m\u001b[0m\n",
      "\u001b[0;32m/usr/lib/python3.5/multiprocessing/context.py\u001b[0m in \u001b[0;36m_Popen\u001b[0;34m(process_obj)\u001b[0m\n\u001b[1;32m    210\u001b[0m     \u001b[0;34m@\u001b[0m\u001b[0mstaticmethod\u001b[0m\u001b[0;34m\u001b[0m\u001b[0m\n\u001b[1;32m    211\u001b[0m     \u001b[0;32mdef\u001b[0m \u001b[0m_Popen\u001b[0m\u001b[0;34m(\u001b[0m\u001b[0mprocess_obj\u001b[0m\u001b[0;34m)\u001b[0m\u001b[0;34m:\u001b[0m\u001b[0;34m\u001b[0m\u001b[0m\n\u001b[0;32m--> 212\u001b[0;31m         \u001b[0;32mreturn\u001b[0m \u001b[0m_default_context\u001b[0m\u001b[0;34m.\u001b[0m\u001b[0mget_context\u001b[0m\u001b[0;34m(\u001b[0m\u001b[0;34m)\u001b[0m\u001b[0;34m.\u001b[0m\u001b[0mProcess\u001b[0m\u001b[0;34m.\u001b[0m\u001b[0m_Popen\u001b[0m\u001b[0;34m(\u001b[0m\u001b[0mprocess_obj\u001b[0m\u001b[0;34m)\u001b[0m\u001b[0;34m\u001b[0m\u001b[0m\n\u001b[0m\u001b[1;32m    213\u001b[0m \u001b[0;34m\u001b[0m\u001b[0m\n\u001b[1;32m    214\u001b[0m \u001b[0;32mclass\u001b[0m \u001b[0mDefaultContext\u001b[0m\u001b[0;34m(\u001b[0m\u001b[0mBaseContext\u001b[0m\u001b[0;34m)\u001b[0m\u001b[0;34m:\u001b[0m\u001b[0;34m\u001b[0m\u001b[0m\n",
      "\u001b[0;32m/usr/lib/python3.5/multiprocessing/context.py\u001b[0m in \u001b[0;36m_Popen\u001b[0;34m(process_obj)\u001b[0m\n\u001b[1;32m    265\u001b[0m         \u001b[0;32mdef\u001b[0m \u001b[0m_Popen\u001b[0m\u001b[0;34m(\u001b[0m\u001b[0mprocess_obj\u001b[0m\u001b[0;34m)\u001b[0m\u001b[0;34m:\u001b[0m\u001b[0;34m\u001b[0m\u001b[0m\n\u001b[1;32m    266\u001b[0m             \u001b[0;32mfrom\u001b[0m \u001b[0;34m.\u001b[0m\u001b[0mpopen_fork\u001b[0m \u001b[0;32mimport\u001b[0m \u001b[0mPopen\u001b[0m\u001b[0;34m\u001b[0m\u001b[0m\n\u001b[0;32m--> 267\u001b[0;31m             \u001b[0;32mreturn\u001b[0m \u001b[0mPopen\u001b[0m\u001b[0;34m(\u001b[0m\u001b[0mprocess_obj\u001b[0m\u001b[0;34m)\u001b[0m\u001b[0;34m\u001b[0m\u001b[0m\n\u001b[0m\u001b[1;32m    268\u001b[0m \u001b[0;34m\u001b[0m\u001b[0m\n\u001b[1;32m    269\u001b[0m     \u001b[0;32mclass\u001b[0m \u001b[0mSpawnProcess\u001b[0m\u001b[0;34m(\u001b[0m\u001b[0mprocess\u001b[0m\u001b[0;34m.\u001b[0m\u001b[0mBaseProcess\u001b[0m\u001b[0;34m)\u001b[0m\u001b[0;34m:\u001b[0m\u001b[0;34m\u001b[0m\u001b[0m\n",
      "\u001b[0;32m/usr/lib/python3.5/multiprocessing/popen_fork.py\u001b[0m in \u001b[0;36m__init__\u001b[0;34m(self, process_obj)\u001b[0m\n\u001b[1;32m     18\u001b[0m         \u001b[0msys\u001b[0m\u001b[0;34m.\u001b[0m\u001b[0mstderr\u001b[0m\u001b[0;34m.\u001b[0m\u001b[0mflush\u001b[0m\u001b[0;34m(\u001b[0m\u001b[0;34m)\u001b[0m\u001b[0;34m\u001b[0m\u001b[0m\n\u001b[1;32m     19\u001b[0m         \u001b[0mself\u001b[0m\u001b[0;34m.\u001b[0m\u001b[0mreturncode\u001b[0m \u001b[0;34m=\u001b[0m \u001b[0;32mNone\u001b[0m\u001b[0;34m\u001b[0m\u001b[0m\n\u001b[0;32m---> 20\u001b[0;31m         \u001b[0mself\u001b[0m\u001b[0;34m.\u001b[0m\u001b[0m_launch\u001b[0m\u001b[0;34m(\u001b[0m\u001b[0mprocess_obj\u001b[0m\u001b[0;34m)\u001b[0m\u001b[0;34m\u001b[0m\u001b[0m\n\u001b[0m\u001b[1;32m     21\u001b[0m \u001b[0;34m\u001b[0m\u001b[0m\n\u001b[1;32m     22\u001b[0m     \u001b[0;32mdef\u001b[0m \u001b[0mduplicate_for_child\u001b[0m\u001b[0;34m(\u001b[0m\u001b[0mself\u001b[0m\u001b[0;34m,\u001b[0m \u001b[0mfd\u001b[0m\u001b[0;34m)\u001b[0m\u001b[0;34m:\u001b[0m\u001b[0;34m\u001b[0m\u001b[0m\n",
      "\u001b[0;32m/usr/lib/python3.5/multiprocessing/popen_fork.py\u001b[0m in \u001b[0;36m_launch\u001b[0;34m(self, process_obj)\u001b[0m\n\u001b[1;32m     65\u001b[0m         \u001b[0mcode\u001b[0m \u001b[0;34m=\u001b[0m \u001b[0;36m1\u001b[0m\u001b[0;34m\u001b[0m\u001b[0m\n\u001b[1;32m     66\u001b[0m         \u001b[0mparent_r\u001b[0m\u001b[0;34m,\u001b[0m \u001b[0mchild_w\u001b[0m \u001b[0;34m=\u001b[0m \u001b[0mos\u001b[0m\u001b[0;34m.\u001b[0m\u001b[0mpipe\u001b[0m\u001b[0;34m(\u001b[0m\u001b[0;34m)\u001b[0m\u001b[0;34m\u001b[0m\u001b[0m\n\u001b[0;32m---> 67\u001b[0;31m         \u001b[0mself\u001b[0m\u001b[0;34m.\u001b[0m\u001b[0mpid\u001b[0m \u001b[0;34m=\u001b[0m \u001b[0mos\u001b[0m\u001b[0;34m.\u001b[0m\u001b[0mfork\u001b[0m\u001b[0;34m(\u001b[0m\u001b[0;34m)\u001b[0m\u001b[0;34m\u001b[0m\u001b[0m\n\u001b[0m\u001b[1;32m     68\u001b[0m         \u001b[0;32mif\u001b[0m \u001b[0mself\u001b[0m\u001b[0;34m.\u001b[0m\u001b[0mpid\u001b[0m \u001b[0;34m==\u001b[0m \u001b[0;36m0\u001b[0m\u001b[0;34m:\u001b[0m\u001b[0;34m\u001b[0m\u001b[0m\n\u001b[1;32m     69\u001b[0m             \u001b[0;32mtry\u001b[0m\u001b[0;34m:\u001b[0m\u001b[0;34m\u001b[0m\u001b[0m\n",
      "\u001b[0;31mOSError\u001b[0m: [Errno 12] Cannot allocate memory"
     ]
    }
   ],
   "source": [
    "import tqdm\n",
    "\n",
    "grid = {} \n",
    "grid['Validation_Set'] = {}\n",
    "\n",
    "# Topics range\n",
    "min_topics = 2\n",
    "max_topics = 11\n",
    "step_size = 1\n",
    "topics_range = range(min_topics, max_topics, step_size)\n",
    "\n",
    "# Alpha parameter\n",
    "alpha = list(np.arange(0.01, 1, 0.3))\n",
    "# Beta parameter\n",
    "beta = list(np.arange(0.01, 1, 0.3))\n",
    "# Validation sets\n",
    "num_of_docs = len(bow_corpus)\n",
    "corpus_sets = [gensim.utils.ClippedCorpus(bow_corpus, num_of_docs*0.75), \n",
    "               bow_corpus]\n",
    "\n",
    "corpus_title = ['75% Corpus']\n",
    "model_results = {'Validation_Set': [],\n",
    "                 'Topics': [],\n",
    "                 'Alpha': [],\n",
    "                 'Beta': [],\n",
    "                 'Coherence': []\n",
    "                }\n",
    "# Can take a long time to run ~ 30mins\n",
    "if 1 == 1:\n",
    "    pbar = tqdm.tqdm(total=20)\n",
    "    # iterate through validation corpuses\n",
    "    for i in range(len(corpus_sets)):\n",
    "        # iterate through number of topics\n",
    "        for k in topics_range:\n",
    "            # iterate through alpha values\n",
    "            for a in alpha:\n",
    "                # iterare through beta values\n",
    "                for b in beta:\n",
    "                    # get the coherence score for the given parameters\n",
    "                    cv = compute_coherence_values(corpus=corpus_sets[i], dictionary=dictionary, \n",
    "                                                  k=k, a=a, b=b)\n",
    "                    # Save the model results\n",
    "                    model_results['Validation_Set'].append(corpus_title[i])\n",
    "                    model_results['Topics'].append(k)\n",
    "                    model_results['Alpha'].append(a)\n",
    "                    model_results['Beta'].append(b)\n",
    "                    model_results['Coherence'].append(cv)\n",
    "                    pbar.update(1)\n",
    "    pbar.close()"
   ]
  },
  {
   "cell_type": "code",
   "execution_count": 179,
   "metadata": {},
   "outputs": [],
   "source": [
    "test_results = pd.read_csv('lda_tests_results.csv')\n",
    "df = pd.DataFrame()\n",
    "\n",
    "null_ = test_results['Validation_Set'] != 'Validation_Set'\n",
    "null_alpha = test_results['Alpha'] != 'Alpha'\n",
    "null_beta = test_results['Beta'] != 'Beta'\n",
    "null_corpus = test_results['Topics'] != 'Topics'\n",
    "null_cv = test_results['Coherence'] != 'Coherence'\n",
    "\n",
    "df['Validation'] = test_results['Validation_Set'][null_] \n",
    "df['topics'] = test_results['Topics'][null_corpus]\n",
    "df['coherence'] = test_results['Coherence'][null_cv]\n",
    "df['alpha'] = test_results['Alpha'][null_alpha]\n",
    "df['beta'] = test_results['Beta'][null_beta]\n",
    "\n",
    "pd.DataFrame(df).to_csv('lda_tests_results2.csv', index=False)"
   ]
  },
  {
   "cell_type": "raw",
   "metadata": {},
   "source": [
    "np.max(df['coherence'])\n",
    "df.loc[714]['alpha'] = '0.31'\n",
    "df.loc[714]['Validation'] = '75% Corpus'\n",
    "df.loc[714]['topics'] = '10'"
   ]
  },
  {
   "cell_type": "code",
   "execution_count": 312,
   "metadata": {},
   "outputs": [
    {
     "data": {
      "text/plain": [
       "'0.5266114704724331'"
      ]
     },
     "execution_count": 312,
     "metadata": {},
     "output_type": "execute_result"
    }
   ],
   "source": [
    "np.max(df['coherence'])"
   ]
  },
  {
   "cell_type": "code",
   "execution_count": 313,
   "metadata": {},
   "outputs": [
    {
     "data": {
      "text/html": [
       "<div>\n",
       "<style scoped>\n",
       "    .dataframe tbody tr th:only-of-type {\n",
       "        vertical-align: middle;\n",
       "    }\n",
       "\n",
       "    .dataframe tbody tr th {\n",
       "        vertical-align: top;\n",
       "    }\n",
       "\n",
       "    .dataframe thead th {\n",
       "        text-align: right;\n",
       "    }\n",
       "</style>\n",
       "<table border=\"1\" class=\"dataframe\">\n",
       "  <thead>\n",
       "    <tr style=\"text-align: right;\">\n",
       "      <th></th>\n",
       "      <th>Validation</th>\n",
       "      <th>topics</th>\n",
       "      <th>coherence</th>\n",
       "      <th>alpha</th>\n",
       "      <th>beta</th>\n",
       "    </tr>\n",
       "  </thead>\n",
       "  <tbody>\n",
       "    <tr>\n",
       "      <th>714</th>\n",
       "      <td>75% Corpus</td>\n",
       "      <td>10</td>\n",
       "      <td>0.5266114704724331</td>\n",
       "      <td>0.31</td>\n",
       "      <td>0.61</td>\n",
       "    </tr>\n",
       "  </tbody>\n",
       "</table>\n",
       "</div>"
      ],
      "text/plain": [
       "     Validation topics           coherence alpha  beta\n",
       "714  75% Corpus     10  0.5266114704724331  0.31  0.61"
      ]
     },
     "execution_count": 313,
     "metadata": {},
     "output_type": "execute_result"
    }
   ],
   "source": [
    "df.loc[df['coherence'] == '0.5266114704724331']"
   ]
  },
  {
   "cell_type": "code",
   "execution_count": 177,
   "metadata": {},
   "outputs": [
    {
     "data": {
      "text/plain": [
       "([0, 1, 2, 3, 4, 5, 6, 7, 8, 9, 10, 11, 12, 13, 14, 15, 16, 17, 18, 19],\n",
       " <a list of 20 Text xticklabel objects>)"
      ]
     },
     "execution_count": 177,
     "metadata": {},
     "output_type": "execute_result"
    },
    {
     "data": {
      "image/png": "[encoded data removed]",
      "text/plain": [
       "<Figure size 1080x576 with 1 Axes>"
      ]
     },
     "metadata": {
      "needs_background": "light"
     },
     "output_type": "display_data"
    }
   ],
   "source": [
    "import matplotlib.pyplot as plt\n",
    "fig = plt.figure(figsize=(15,8))\n",
    "ax1 = fig.add_subplot(2,1,1)\n",
    "#ax2 = fig.add_subplot(2,1,2)\n",
    "\n",
    "ax1.plot(df['coherence'][0:20],df.alpha[0:20], c='red')\n",
    "#ax2.plot(df['coherence'][0:30],df.beta[0:30] !='symmetric', c='red')\n",
    "\n",
    "ax1.set_title('Coherence by parameter Alpha')\n",
    "#ax2.set_title('Coherence by parameter Beta')\n",
    "plt.xticks(rotation=45)"
   ]
  },
  {
   "cell_type": "code",
   "execution_count": 319,
   "metadata": {},
   "outputs": [],
   "source": [
    "lda_model = gensim.models.LdaMulticore(corpus=bow_corpus,\n",
    "                                           id2word=dictionary,\n",
    "                                           num_topics=10, \n",
    "                                           random_state=100,\n",
    "                                           chunksize=100,\n",
    "                                           passes=10,\n",
    "                                           alpha=0.31,\n",
    "                                           eta=0.9)"
   ]
  },
  {
   "cell_type": "code",
   "execution_count": 315,
   "metadata": {},
   "outputs": [
    {
     "name": "stdout",
     "output_type": "stream",
     "text": [
      "Topic: 0 \n",
      "Words: 0.033*\"seat\" + 0.024*\"americanair\" + 0.022*\"unite\" + 0.014*\"customers\" + 0.012*\"airline\" + 0.010*\"airlines\" + 0.010*\"worst\" + 0.009*\"upgrade\" + 0.009*\"class\" + 0.008*\"service\"\n",
      "\n",
      "\n",
      "Topic: 1 \n",
      "Words: 0.048*\"southwestair\" + 0.043*\"americanair\" + 0.031*\"thank\" + 0.023*\"usairways\" + 0.021*\"flight\" + 0.015*\"unite\" + 0.014*\"jetblue\" + 0.012*\"help\" + 0.008*\"book\" + 0.008*\"need\"\n",
      "\n",
      "\n",
      "Topic: 2 \n",
      "Words: 0.028*\"hang\" + 0.011*\"kid\" + 0.010*\"southwest\" + 0.007*\"list\" + 0.006*\"https\" + 0.005*\"storm\" + 0.005*\"bump\" + 0.005*\"easy\" + 0.005*\"husband\" + 0.004*\"choice\"\n",
      "\n",
      "\n",
      "Topic: 3 \n",
      "Words: 0.009*\"possible\" + 0.009*\"wifi\" + 0.006*\"plus\" + 0.005*\"meet\" + 0.004*\"absolutely\" + 0.004*\"expire\" + 0.004*\"baby\" + 0.004*\"page\" + 0.004*\"mind\" + 0.004*\"yall\"\n",
      "\n",
      "\n",
      "Topic: 4 \n",
      "Words: 0.013*\"wasn\" + 0.008*\"award\" + 0.007*\"fault\" + 0.006*\"reps\" + 0.005*\"hate\" + 0.003*\"deserve\" + 0.003*\"simply\" + 0.003*\"total\" + 0.002*\"step\" + 0.002*\"game\"\n",
      "\n",
      "\n",
      "Topic: 5 \n",
      "Words: 0.114*\"jetblue\" + 0.034*\"http\" + 0.021*\"service\" + 0.019*\"customer\" + 0.012*\"thank\" + 0.009*\"great\" + 0.008*\"fleek\" + 0.008*\"fleet\" + 0.006*\"airways\" + 0.006*\"unite\"\n",
      "\n",
      "\n",
      "Topic: 6 \n",
      "Words: 0.005*\"checkin\" + 0.004*\"even\" + 0.004*\"story\" + 0.003*\"domestic\" + 0.003*\"character\" + 0.002*\"avgeek\" + 0.002*\"video\" + 0.002*\"communicate\" + 0.002*\"interview\" + 0.002*\"spring\"\n",
      "\n",
      "\n",
      "Topic: 7 \n",
      "Words: 0.069*\"flight\" + 0.050*\"usairways\" + 0.047*\"americanair\" + 0.020*\"unite\" + 0.020*\"cancel\" + 0.016*\"delay\" + 0.012*\"hours\" + 0.012*\"wait\" + 0.012*\"hold\" + 0.011*\"time\"\n",
      "\n",
      "\n",
      "Topic: 8 \n",
      "Words: 0.008*\"idea\" + 0.005*\"http\" + 0.005*\"shit\" + 0.004*\"lounge\" + 0.004*\"atlanta\" + 0.004*\"funeral\" + 0.004*\"friendly\" + 0.004*\"conf\" + 0.002*\"solution\" + 0.002*\"club\"\n",
      "\n",
      "\n",
      "Topic: 9 \n",
      "Words: 0.013*\"american\" + 0.009*\"drop\" + 0.008*\"joke\" + 0.007*\"mess\" + 0.006*\"quick\" + 0.005*\"run\" + 0.005*\"inconvenience\" + 0.004*\"short\" + 0.004*\"americanair\" + 0.003*\"wall\"\n",
      "\n",
      "\n"
     ]
    }
   ],
   "source": [
    "'''\n",
    "For each topic, we will explore the words occuring in that topic and its relative weight\n",
    "'''\n",
    "for idx, topic in lda_model.print_topics(-1):\n",
    "    print(\"Topic: {} \\nWords: {}\".format(idx, topic ))\n",
    "    print(\"\\n\")"
   ]
  },
  {
   "cell_type": "code",
   "execution_count": 320,
   "metadata": {},
   "outputs": [
    {
     "name": "stdout",
     "output_type": "stream",
     "text": [
      "\n",
      "Coherence Score:  0.5423622593233143\n"
     ]
    }
   ],
   "source": [
    "from gensim.models import CoherenceModel\n",
    "# Compute Coherence Score\n",
    "coherence_model_lda = CoherenceModel(model=lda_model, texts=processed_docs, dictionary=dictionary, coherence='c_v')\n",
    "\n",
    "coherence_lda = coherence_model_lda.get_coherence()\n",
    "print('\\nCoherence Score: ', coherence_lda)"
   ]
  },
  {
   "cell_type": "markdown",
   "metadata": {},
   "source": [
    "## Step 6: create T_e_i an input to have $t_{ei}$ after apply Doc2Vec "
   ]
  },
  {
   "cell_type": "code",
   "execution_count": 297,
   "metadata": {},
   "outputs": [],
   "source": [
    "list_topics=lda_model.show_topics(formatted=False)\n",
    "list_topics \n",
    "\n",
    "topic = []\n",
    "T_e_i = []\n",
    "for tup in list_topics:\n",
    "    topic = []\n",
    "    for tup2 in tup[1]:\n",
    "        topic.append(tup2[0])\n",
    "    T_e_i.append(topic) "
   ]
  },
  {
   "cell_type": "markdown",
   "metadata": {},
   "source": [
    "## Step 7 : Train Doc2Vec on non-pre-processed data \"nan_processed_docs\"\n"
   ]
  },
  {
   "cell_type": "code",
   "execution_count": 298,
   "metadata": {},
   "outputs": [],
   "source": [
    "import smart_open\n",
    "from gensim.models.doc2vec import Doc2Vec, TaggedDocument\n",
    "def read(fname):\n",
    "    for i, line in enumerate(f):\n",
    "        tokens = fname[i]\n",
    "        yield gensim.models.doc2vec.TaggedDocument(tokens, [i])"
   ]
  },
  {
   "cell_type": "code",
   "execution_count": 299,
   "metadata": {},
   "outputs": [],
   "source": [
    "train_nan_processed_docs = [TaggedDocument(doc, [i]) for i, doc in enumerate(nan_processed_docs)]"
   ]
  },
  {
   "cell_type": "code",
   "execution_count": 300,
   "metadata": {},
   "outputs": [],
   "source": [
    "model = gensim.models.doc2vec.Doc2Vec(vector_size=50, min_count=2, epochs=40)\n",
    "model.build_vocab(train_nan_processed_docs)\n",
    "model.train(train_nan_processed_docs, total_examples=len(nan_processed_docs), epochs=model.epochs)"
   ]
  },
  {
   "cell_type": "markdown",
   "metadata": {},
   "source": [
    "## Step 8 : Apply Doc2Vec on each document in your data to form $d_{ei}$"
   ]
  },
  {
   "cell_type": "code",
   "execution_count": 302,
   "metadata": {},
   "outputs": [],
   "source": [
    "Liste_D_e_i = []\n",
    "Liste_of_n_docs = processed_docs\n",
    "for i in range(len(Liste_of_n_docs)):\n",
    "    vector = []\n",
    "    vector = model.infer_vector(Liste_of_n_docs[i])\n",
    "    Liste_D_e_i.append(vector) "
   ]
  },
  {
   "cell_type": "markdown",
   "metadata": {},
   "source": [
    "## Step 9 : Apply Doc2Vec on your topics to form $t_{ei}$"
   ]
  },
  {
   "cell_type": "code",
   "execution_count": 304,
   "metadata": {},
   "outputs": [],
   "source": [
    "Liste_T_e_i = []\n",
    "for i in range(len(T_e_i)):\n",
    "    vector = []\n",
    "    vector = model.infer_vector(T_e_i[i])\n",
    "    Liste_T_e_i.append(vector) "
   ]
  },
  {
   "cell_type": "markdown",
   "metadata": {},
   "source": [
    "## Step 9 : Calculate the similarity between every pair $d_{ei}$ and $t_{ei}$"
   ]
  },
  {
   "cell_type": "code",
   "execution_count": 322,
   "metadata": {
    "scrolled": true
   },
   "outputs": [],
   "source": [
    "from scipy import spatial\n",
    "similairty = []\n",
    "temp=[]\n",
    "for i in range(len(Liste_D_e_i)):\n",
    "    for j in range(len(Liste_T_e_i)):\n",
    "        temp.append(spatial.distance.cosine(Liste_D_e_i[i], Liste_T_e_i[j]))\n",
    "    similairty.append(temp.index(min(temp)))\n",
    "    temp.clear()"
   ]
  },
  {
   "cell_type": "code",
   "execution_count": 326,
   "metadata": {},
   "outputs": [
    {
     "name": "stdout",
     "output_type": "stream",
     "text": [
      "4.567144808743169\n"
     ]
    }
   ],
   "source": [
    "print(np.mean(similairty))"
   ]
  },
  {
   "cell_type": "markdown",
   "metadata": {},
   "source": [
    "## Step 10 : Graph"
   ]
  },
  {
   "cell_type": "code",
   "execution_count": 321,
   "metadata": {},
   "outputs": [
    {
     "name": "stderr",
     "output_type": "stream",
     "text": [
      "/home/lbenboudiaf/.local/lib/python3.5/site-packages/pyLDAvis/_prepare.py:257: FutureWarning: Sorting because non-concatenation axis is not aligned. A future version\n",
      "of pandas will change to not sort by default.\n",
      "\n",
      "To accept the future behavior, pass 'sort=False'.\n",
      "\n",
      "To retain the current behavior and silence the warning, pass 'sort=True'.\n",
      "\n",
      "  return pd.concat([default_term_info] + list(topic_dfs))\n"
     ]
    },
    {
     "data": {
      "text/html": [
       "\n",
       "<link rel=\"stylesheet\" type=\"text/css\" href=\"https://cdn.rawgit.com/bmabey/pyLDAvis/files/ldavis.v1.0.0.css\">\n",
       "\n",
       "\n",
       "<div id=\"ldavis_el100541398042362999841856479854\"></div>\n",
       "<script type=\"text/javascript\">\n",
       "\n",
       "var ldavis_el100541398042362999841856479854_data = {\"token.table\": {\"Topic\": [1, 2, 3, 4, 5, 8, 1, 2, 3, 4, 5, 6, 1, 2, 3, 4, 8, 1, 2, 3, 4, 1, 2, 3, 4, 6, 1, 2, 3, 4, 5, 1, 2, 6, 9, 10, 1, 2, 3, 4, 5, 1, 2, 3, 4, 5, 1, 2, 3, 4, 5, 1, 2, 3, 4, 5, 8, 1, 2, 10, 1, 2, 3, 4, 5, 1, 2, 3, 4, 5, 1, 2, 3, 4, 5, 6, 7, 8, 1, 2, 3, 4, 1, 2, 3, 4, 1, 2, 3, 4, 1, 2, 3, 4, 1, 2, 4, 5, 10, 1, 2, 4, 9, 1, 2, 3, 4, 10, 1, 2, 3, 4, 9, 1, 2, 3, 4, 7, 1, 2, 3, 4, 1, 2, 3, 4, 5, 1, 2, 3, 4, 1, 2, 4, 8, 1, 2, 3, 4, 5, 1, 2, 3, 4, 5, 1, 2, 3, 4, 9, 1, 2, 3, 4, 1, 2, 4, 6, 1, 2, 3, 4, 1, 2, 3, 4, 5, 8, 1, 2, 3, 4, 5, 1, 2, 4, 8, 1, 2, 3, 6, 7, 1, 2, 3, 4, 8, 1, 2, 3, 4, 5, 1, 2, 3, 4, 1, 2, 3, 4, 1, 2, 4, 10, 1, 2, 4, 8, 9, 1, 2, 3, 4, 6, 1, 2, 3, 4, 5, 6, 1, 2, 3, 4, 5, 1, 2, 3, 4, 1, 2, 4, 7, 1, 2, 3, 4, 5, 1, 2, 4, 7, 1, 2, 3, 4, 5, 10, 1, 2, 3, 4, 10, 1, 2, 3, 4, 5, 1, 2, 3, 5, 9, 1, 2, 3, 4, 5, 10, 1, 2, 3, 4, 5, 7, 1, 2, 3, 4, 1, 2, 3, 4, 8, 1, 2, 3, 4, 7, 1, 2, 3, 4, 5, 1, 2, 4, 10, 1, 2, 4, 5, 7, 9, 1, 2, 3, 6, 7, 1, 2, 3, 7, 1, 2, 3, 4, 7, 1, 2, 3, 4, 9, 1, 2, 3, 4, 6, 1, 2, 4, 6, 1, 2, 3, 4, 5, 1, 2, 3, 4, 5, 1, 2, 3, 4, 6, 1, 2, 3, 4, 1, 2, 3, 4, 1, 2, 3, 4, 5, 1, 2, 3, 4, 5, 1, 2, 3, 4, 5, 8, 1, 2, 4, 6, 1, 2, 3, 4, 10, 1, 2, 3, 4, 5, 10, 1, 2, 3, 4, 5, 7, 1, 2, 3, 4, 5, 6, 1, 2, 3, 4, 5, 1, 2, 3, 4, 5, 9, 1, 2, 3, 4, 5, 8, 1, 2, 3, 4, 5, 1, 2, 3, 4, 1, 2, 3, 4, 5, 1, 2, 3, 4, 9, 1, 2, 3, 4, 7, 1, 2, 3, 4, 5, 1, 2, 3, 7, 1, 2, 3, 4, 5, 6, 1, 2, 3, 8, 1, 2, 3, 4, 10, 1, 2, 3, 4, 5, 1, 2, 3, 4, 1, 2, 3, 4, 5, 9, 1, 2, 3, 4, 9, 1, 2, 4, 10, 1, 2, 3, 4, 8, 1, 2, 3, 4, 5, 7, 1, 2, 3, 4, 1, 2, 3, 4, 5, 7, 1, 2, 8, 1, 2, 3, 4, 5, 1, 2, 3, 4, 5, 7, 1, 2, 3, 4, 1, 2, 3, 4, 5, 1, 2, 3, 4, 5, 1, 2, 3, 4, 5, 1, 2, 3, 4, 5, 1, 2, 4, 1, 2, 3, 7, 1, 2, 4, 8, 1, 2, 3, 4, 5, 1, 2, 3, 5, 9, 1, 2, 3, 4, 1, 2, 3, 4, 1, 2, 3, 4, 5, 1, 2, 3, 4, 9, 1, 2, 3, 4, 1, 2, 3, 4, 1, 2, 3, 4, 5, 1, 2, 4, 5, 1, 2, 3, 4, 1, 2, 3, 4, 10, 1, 2, 3, 4, 5, 6, 1, 2, 3, 4, 5, 6, 1, 2, 3, 4, 5, 7, 1, 2, 3, 4, 7, 1, 2, 3, 4, 10, 1, 2, 3, 4, 1, 2, 3, 4, 5, 1, 2, 4, 6, 8, 1, 2, 3, 4, 5, 9, 1, 2, 3, 10, 1, 2, 3, 10, 1, 2, 3, 9, 1, 2, 3, 4, 1, 2, 3, 4, 5, 1, 2, 3, 4, 5, 1, 2, 9, 1, 2, 3, 7, 1, 2, 3, 4, 5, 1, 2, 3, 4, 6, 1, 2, 3, 4, 5, 1, 2, 3, 4, 6, 1, 2, 3, 4, 5, 6, 1, 2, 3, 4, 1, 2, 4, 5, 6, 7, 10, 1, 2, 3, 4, 1, 2, 3, 4, 5, 1, 2, 3, 4, 5, 1, 2, 3, 4, 5, 1, 2, 3, 4, 5, 1, 2, 3, 4, 1, 2, 3, 4, 5, 6, 1, 2, 3, 4, 1, 2, 3, 4, 1, 2, 3, 4, 1, 2, 3, 4, 5, 8, 1, 2, 3, 4, 1, 2, 4, 10, 1, 2, 3, 1, 2, 4, 8, 1, 2, 3, 4, 1, 2, 3, 4, 8, 1, 2, 4, 8, 1, 2, 3, 4, 8, 1, 2, 3, 4, 7, 1, 2, 3, 4, 9, 1, 2, 4, 6, 1, 2, 4, 5, 6, 1, 2, 4, 1, 2, 3, 4, 5, 1, 2, 3, 4, 5, 6, 1, 2, 3, 5, 8, 1, 2, 3, 4, 5, 1, 2, 3, 4, 5, 6, 1, 2, 3, 4, 6, 1, 2, 3, 4, 1, 2, 3, 4, 1, 2, 10, 1, 2, 3, 4, 8, 1, 2, 3, 4, 1, 2, 3, 4, 5, 6, 1, 2, 4, 10, 1, 2, 3, 4, 5, 6, 1, 2, 3, 4, 7, 1, 2, 4, 5, 9, 1, 2, 3, 4, 5, 1, 2, 4, 7, 1, 2, 3, 4, 5, 6, 1, 2, 6, 10, 1, 2, 3, 4, 5, 1, 2, 3, 4, 5, 7, 1, 2, 3, 4, 9, 1, 2, 3, 5, 8, 1, 2, 3, 4, 5, 1, 2, 3, 4, 5, 6, 1, 2, 3, 4, 5, 1, 2, 3, 4, 5, 6, 1, 2, 3, 4, 1, 2, 3, 4, 1, 2, 3, 4, 5, 1, 2, 3, 4, 1, 2, 3, 4, 1, 2, 3, 10, 1, 2, 3, 4, 5, 1, 2, 4, 8, 1, 2, 3, 4, 5, 1, 2, 4, 7, 1, 2, 3, 9, 1, 2, 3, 4, 5, 1, 2, 3, 4, 8, 1, 2, 3, 4, 1, 2, 5, 7, 1, 2, 3, 4, 1, 2, 3, 4, 1, 2, 3, 4, 5, 7, 8, 1, 2, 3, 4, 5, 8, 1, 2, 3, 4, 1, 2, 3, 4, 8, 1, 2, 4, 5, 1, 2, 3, 4, 7, 1, 2, 7, 10, 1, 2, 3, 4, 1, 2, 3, 5, 7, 8, 1, 2, 3, 4, 9, 1, 2, 3, 4, 5, 9, 1, 2, 8, 1, 2, 4, 6, 1, 2, 3, 4, 9, 1, 2, 3, 4, 5, 1, 2, 10, 1, 2, 3, 4, 1, 2, 3, 4, 1, 2, 3, 4, 8, 1, 2, 4, 7, 1, 2, 3, 4, 1, 2, 3, 4, 5, 1, 2, 3, 4, 5, 1, 2, 3, 4, 1, 2, 3, 4, 5, 1, 2, 3, 4, 1, 2, 3, 4, 6, 1, 2, 3, 4, 5, 6, 1, 2, 3, 4, 6, 1, 2, 3, 4, 5, 1, 2, 3, 4, 1, 2, 4, 5, 9, 1, 2, 3, 4, 5, 1, 2, 3, 4, 1, 2, 3, 8, 1, 2, 3, 4, 9, 1, 2, 3, 1, 2, 3, 4, 5, 7, 1, 2, 3, 4, 8, 1, 2, 3, 4, 1, 2, 3, 6, 1, 2, 3, 4, 5, 6, 1, 2, 3, 4, 5, 1, 2, 3, 4, 1, 2, 4, 5, 1, 2, 3, 4, 7, 1, 2, 3, 4, 6, 1, 2, 3, 4, 9, 1, 2, 3, 4, 5, 1, 2, 4, 1, 2, 3, 4, 5, 6, 1, 2, 3, 4, 6, 1, 2, 3, 4, 9, 1, 2, 3, 4, 5, 1, 2, 3, 4, 1, 2, 3, 4, 6, 8, 10, 1, 2, 3, 4, 5, 1, 2, 3, 4, 1, 2, 7, 1, 2, 3, 4, 5, 6, 1, 2, 5, 9, 1, 2, 3, 4, 7, 1, 2, 3, 4, 10, 1, 2, 3, 4, 1, 2, 3, 4, 1, 2, 3, 4, 7, 10, 1, 2, 3, 4, 5, 1, 2, 3, 4, 8, 1, 2, 3, 4, 6, 1, 2, 3, 4, 8, 1, 2, 3, 4, 5, 8, 1, 2, 3, 4, 8, 1, 2, 9, 1, 2, 3, 4, 5, 1, 2, 4, 10, 1, 2, 3, 4, 1, 2, 4, 6, 8, 10, 1, 2, 3, 4, 6, 1, 2, 3, 4, 5, 1, 2, 3, 4, 5, 9, 1, 2, 3, 4, 5, 1, 2, 3, 4, 1, 2, 3, 4, 8, 9, 1, 2, 7, 1, 2, 8, 1, 2, 3, 4, 5, 1, 2, 4, 5, 1, 2, 3, 4, 10, 1, 2, 3, 4, 5, 1, 2, 3, 4, 5, 1, 2, 3, 4, 6, 1, 2, 3, 4, 5, 1, 2, 3, 4, 5, 1, 2, 3, 4, 5, 1, 2, 3, 4, 5, 1, 2, 3, 4, 5, 1, 2, 3, 4, 5, 1, 2, 3, 4, 5, 1, 2, 9, 1, 2, 3, 4, 5, 1, 2, 3, 4, 5, 1, 2, 3, 4, 5, 1, 2, 3, 4, 10, 1, 2, 3, 4, 5, 1, 2, 3, 6, 1, 2, 3, 4, 1, 2, 3, 5, 1, 2, 3, 4, 5, 1, 2, 3, 4, 5, 1, 2, 3, 4, 6, 1, 2, 3, 4, 8, 1, 2, 3, 4, 5, 6, 7, 1, 2, 3, 4, 5, 7, 1, 2, 3, 4, 5, 6, 7, 10, 1, 2, 3, 4, 8, 1, 2, 3, 4, 5, 9, 1, 2, 3, 4, 1, 2, 3, 4, 5, 6, 8, 1, 2, 3, 4, 5, 6, 1, 2, 3, 4, 5, 1, 2, 3, 4, 9, 1, 2, 3, 4, 5, 1, 2, 3, 4, 5, 7, 1, 2, 3, 4, 5, 1, 2, 4, 10, 1, 2, 3, 4, 5, 6, 1, 2, 3, 4, 1, 2, 4, 7, 1, 2, 3, 4, 7, 1, 2, 3, 4, 8, 1, 2, 3, 4, 5, 1, 2, 3, 4, 8, 10, 1, 2, 3, 4, 1, 2, 3, 4, 5, 1, 2, 3, 4, 5, 1, 2, 3, 10, 1, 2, 3, 4, 5, 1, 2, 3, 4, 5, 1, 2, 3, 4, 7, 1, 2, 8, 1, 2, 3, 4, 5, 1, 2, 7], \"Freq\": [0.0636933371424675, 0.0636933371424675, 0.0636933371424675, 0.0636933371424675, 0.0636933371424675, 0.7006267309188843, 0.05092640593647957, 0.05092640593647957, 0.05092640593647957, 0.05092640593647957, 0.7129696607589722, 0.05092640593647957, 0.04619794711470604, 0.04619794711470604, 0.04619794711470604, 0.04619794711470604, 0.785365104675293, 0.02012036368250847, 0.9054163694381714, 0.02012036368250847, 0.02012036368250847, 0.06751356273889542, 0.06751356273889542, 0.06751356273889542, 0.06751356273889542, 0.6751356720924377, 0.7674089670181274, 0.015822865068912506, 0.18987439572811127, 0.007911432534456253, 0.007911432534456253, 0.13399472832679749, 0.13399472832679749, 0.13399472832679749, 0.26798945665359497, 0.13399472832679749, 0.062156762927770615, 0.031078381463885307, 0.0051797302439808846, 0.0051797302439808846, 0.8909136056900024, 0.0131663978099823, 0.0131663978099823, 0.0131663978099823, 0.0131663978099823, 0.9348142147064209, 0.7919549345970154, 0.16162344813346863, 0.0282841045409441, 0.004040586296468973, 0.004040586296468973, 0.030631057918071747, 0.30631059408187866, 0.015315528959035873, 0.6126211881637573, 0.015315528959035873, 0.015315528959035873, 0.14342965185642242, 0.14342965185642242, 0.4302889406681061, 0.018898485228419304, 0.018898485228419304, 0.907127320766449, 0.018898485228419304, 0.018898485228419304, 0.016191739588975906, 0.016191739588975906, 0.6800530552864075, 0.016191739588975906, 0.2590678334236145, 0.28105437755584717, 0.5891546607017517, 0.12853775918483734, 0.0002788237761706114, 0.0002788237761706114, 0.0002788237761706114, 0.0002788237761706114, 0.0002788237761706114, 0.013514197431504726, 0.9662651419639587, 0.006757098715752363, 0.006757098715752363, 0.0715852901339531, 0.0715852901339531, 0.7158528566360474, 0.0715852901339531, 0.008705462329089642, 0.9576008319854736, 0.008705462329089642, 0.008705462329089642, 0.9508046507835388, 0.010334833525121212, 0.010334833525121212, 0.010334833525121212, 0.11765716969966888, 0.11765716969966888, 0.11765716969966888, 0.11765716969966888, 0.47062867879867554, 0.049986012279987335, 0.049986012279987335, 0.5998321771621704, 0.1499580442905426, 0.1439664661884308, 0.1439664661884308, 0.1439664661884308, 0.1439664661884308, 0.43189939856529236, 0.09250181168317795, 0.09250181168317795, 0.09250181168317795, 0.09250181168317795, 0.5550108551979065, 0.10603819787502289, 0.10603819787502289, 0.10603819787502289, 0.10603819787502289, 0.5301910042762756, 0.026071462780237198, 0.9125012159347534, 0.013035731390118599, 0.013035731390118599, 0.3926788866519928, 0.026178592815995216, 0.4712146818637848, 0.026178592815995216, 0.026178592815995216, 0.050766054540872574, 0.050766054540872574, 0.050766054540872574, 0.7614908218383789, 0.1401686817407608, 0.1401686817407608, 0.1401686817407608, 0.2803373634815216, 0.9746914505958557, 0.005240276455879211, 0.005240276455879211, 0.005240276455879211, 0.005240276455879211, 0.9649642705917358, 0.006654926110059023, 0.006654926110059023, 0.006654926110059023, 0.006654926110059023, 0.11219453066587448, 0.11219453066587448, 0.11219453066587448, 0.11219453066587448, 0.4487781226634979, 0.07086717337369919, 0.07086717337369919, 0.7086717486381531, 0.07086717337369919, 0.10189152508974075, 0.10189152508974075, 0.10189152508974075, 0.5094576478004456, 0.08806435763835907, 0.08806435763835907, 0.08806435763835907, 0.6164505481719971, 0.012534931302070618, 0.012534931302070618, 0.012534931302070618, 0.012534931302070618, 0.012534931302070618, 0.9401198625564575, 0.011308606714010239, 0.011308606714010239, 0.011308606714010239, 0.011308606714010239, 0.9499229788780212, 0.15537944436073303, 0.15537944436073303, 0.15537944436073303, 0.31075888872146606, 0.12987875938415527, 0.12987875938415527, 0.12987875938415527, 0.12987875938415527, 0.3896362781524658, 0.12342464178800583, 0.12342464178800583, 0.12342464178800583, 0.12342464178800583, 0.4936985671520233, 0.0350307859480381, 0.0350307859480381, 0.0350307859480381, 0.8407388925552368, 0.0350307859480381, 0.8913606405258179, 0.09105296432971954, 0.004792261403053999, 0.004792261403053999, 0.42987480759620667, 0.5585448145866394, 0.0029243184253573418, 0.0029243184253573418, 0.11490264534950256, 0.11490264534950256, 0.22980529069900513, 0.3447079360485077, 0.12247180193662643, 0.12247180193662643, 0.12247180193662643, 0.12247180193662643, 0.3674153983592987, 0.09084232896566391, 0.045421164482831955, 0.045421164482831955, 0.045421164482831955, 0.7267386317253113, 0.07046351581811905, 0.07046351581811905, 0.035231757909059525, 0.7398669123649597, 0.035231757909059525, 0.035231757909059525, 0.07272762060165405, 0.9112343192100525, 0.004278095439076424, 0.004278095439076424, 0.004278095439076424, 0.9945353269577026, 0.0011867963476106524, 0.0011867963476106524, 0.0011867963476106524, 0.025416674092411995, 0.025416674092411995, 0.025416674092411995, 0.8895836472511292, 0.02198278158903122, 0.30775895714759827, 0.6375007033348083, 0.01099139079451561, 0.01099139079451561, 0.037785228341817856, 0.037785228341817856, 0.037785228341817856, 0.8312750458717346, 0.10640911012887955, 0.10640911012887955, 0.10640911012887955, 0.10640911012887955, 0.10640911012887955, 0.4256364405155182, 0.10403049737215042, 0.10403049737215042, 0.10403049737215042, 0.10403049737215042, 0.5201524496078491, 0.35821297764778137, 0.6292089223861694, 0.0031148954294621944, 0.0031148954294621944, 0.0031148954294621944, 0.07194589823484421, 0.07194589823484421, 0.07194589823484421, 0.07194589823484421, 0.6475130915641785, 0.09419959783554077, 0.09419959783554077, 0.18839919567108154, 0.09419959783554077, 0.09419959783554077, 0.47099795937538147, 0.47306230664253235, 0.5113247036933899, 0.003478399245068431, 0.003478399245068431, 0.003478399245068431, 0.003478399245068431, 0.047652170062065125, 0.047652170062065125, 0.047652170062065125, 0.7147825360298157, 0.10094161331653595, 0.10094161331653595, 0.10094161331653595, 0.10094161331653595, 0.5047080516815186, 0.02347014844417572, 0.02347014844417572, 0.02347014844417572, 0.02347014844417572, 0.891865611076355, 0.0594245083630085, 0.0594245083630085, 0.0594245083630085, 0.0594245083630085, 0.7130941152572632, 0.12779107689857483, 0.12779107689857483, 0.12779107689857483, 0.3833732604980469, 0.13138268887996674, 0.13138268887996674, 0.13138268887996674, 0.13138268887996674, 0.13138268887996674, 0.26276537775993347, 0.0390564426779747, 0.0390564426779747, 0.0390564426779747, 0.8201853036880493, 0.0390564426779747, 0.11538700759410858, 0.11538700759410858, 0.11538700759410858, 0.4615480303764343, 0.08615928143262863, 0.08615928143262863, 0.08615928143262863, 0.08615928143262863, 0.6031149625778198, 0.06254591047763824, 0.06254591047763824, 0.06254591047763824, 0.06254591047763824, 0.6880049705505371, 0.010145839303731918, 0.010145839303731918, 0.010145839303731918, 0.010145839303731918, 0.9435630440711975, 0.09720835834741592, 0.09720835834741592, 0.09720835834741592, 0.4860418140888214, 0.033569805324077606, 0.10070941597223282, 0.033569805324077606, 0.033569805324077606, 0.7385357022285461, 0.055478233844041824, 0.055478233844041824, 0.055478233844041824, 0.055478233844041824, 0.7212170362472534, 0.04254118725657463, 0.04254118725657463, 0.04254118725657463, 0.04254118725657463, 0.8082825541496277, 0.9492977261543274, 0.011301163583993912, 0.011301163583993912, 0.011301163583993912, 0.9597678184509277, 0.009318134747445583, 0.009318134747445583, 0.009318134747445583, 0.045299507677555084, 0.045299507677555084, 0.045299507677555084, 0.045299507677555084, 0.7700916528701782, 0.08406247198581696, 0.04203123599290848, 0.7565622329711914, 0.04203123599290848, 0.04203123599290848, 0.0895393118262291, 0.0895393118262291, 0.0895393118262291, 0.0895393118262291, 0.0895393118262291, 0.5372358560562134, 0.06962218880653381, 0.06962218880653381, 0.06962218880653381, 0.6962218880653381, 0.14373481273651123, 0.14373481273651123, 0.14373481273651123, 0.14373481273651123, 0.28746962547302246, 0.10026463866233826, 0.10026463866233826, 0.10026463866233826, 0.10026463866233826, 0.10026463866233826, 0.5013231635093689, 0.011511276476085186, 0.8518344759941101, 0.011511276476085186, 0.011511276476085186, 0.011511276476085186, 0.09209021180868149, 0.9726095199584961, 0.0056877750903368, 0.0056877750903368, 0.0056877750903368, 0.0056877750903368, 0.0056877750903368, 0.05144227668642998, 0.05144227668642998, 0.10288455337285995, 0.05144227668642998, 0.7201918363571167, 0.2269183099269867, 0.11345915496349335, 0.11345915496349335, 0.11345915496349335, 0.11345915496349335, 0.34037744998931885, 0.6795422434806824, 0.06795421987771988, 0.03397710993885994, 0.03397710993885994, 0.03397710993885994, 0.13590843975543976, 0.124666228890419, 0.21816590428352356, 0.5609980225563049, 0.03116655722260475, 0.03116655722260475, 0.0024518624413758516, 0.0024518624413758516, 0.9881005883216858, 0.0024518624413758516, 0.09790719300508499, 0.02670196257531643, 0.25811895728111267, 0.008900653570890427, 0.5963438153266907, 0.10125790536403656, 0.10125790536403656, 0.10125790536403656, 0.10125790536403656, 0.5062894821166992, 0.14746953547000885, 0.14746953547000885, 0.14746953547000885, 0.14746953547000885, 0.2949390709400177, 0.9933501482009888, 0.0015717565547674894, 0.0015717565547674894, 0.0015717565547674894, 0.0015717565547674894, 0.07878608256578445, 0.07878608256578445, 0.07878608256578445, 0.6302886605262756, 0.07876360416412354, 0.07876360416412354, 0.07876360416412354, 0.07876360416412354, 0.07876360416412354, 0.6301088333129883, 0.05134347081184387, 0.05134347081184387, 0.7188085913658142, 0.05134347081184387, 0.11965049058198929, 0.11965049058198929, 0.11965049058198929, 0.11965049058198929, 0.47860196232795715, 0.017534026876091957, 0.017534026876091957, 0.017534026876091957, 0.017534026876091957, 0.9117693305015564, 0.09851468354463577, 0.049257341772317886, 0.689602792263031, 0.049257341772317886, 0.06845300644636154, 0.06845300644636154, 0.06845300644636154, 0.06845300644636154, 0.06845300644636154, 0.6845300793647766, 0.0598483569920063, 0.0598483569920063, 0.0598483569920063, 0.0598483569920063, 0.7181802988052368, 0.15761977434158325, 0.15761977434158325, 0.15761977434158325, 0.3152395486831665, 0.03702739626169205, 0.03702739626169205, 0.03702739626169205, 0.03702739626169205, 0.8146026730537415, 0.0792531669139862, 0.0792531669139862, 0.0792531669139862, 0.0792531669139862, 0.0792531669139862, 0.5547721982002258, 0.005219988524913788, 0.9761378169059753, 0.005219988524913788, 0.005219988524913788, 0.07875194400548935, 0.07875194400548935, 0.07875194400548935, 0.07875194400548935, 0.07875194400548935, 0.6300155520439148, 0.17559967935085297, 0.17559967935085297, 0.35119935870170593, 0.13411737978458405, 0.019159624353051186, 0.8047042489051819, 0.019159624353051186, 0.019159624353051186, 0.05214788019657135, 0.05214788019657135, 0.05214788019657135, 0.05214788019657135, 0.7300702929496765, 0.05214788019657135, 0.055366214364767075, 0.055366214364767075, 0.7751269936561584, 0.055366214364767075, 0.043836262077093124, 0.043836262077093124, 0.7890527248382568, 0.043836262077093124, 0.043836262077093124, 0.020418187603354454, 0.020418187603354454, 0.020418187603354454, 0.020418187603354454, 0.8984002470970154, 0.04818207025527954, 0.008030344732105732, 0.9154593348503113, 0.008030344732105732, 0.008030344732105732, 0.9403059482574463, 0.020221633836627007, 0.010110816918313503, 0.010110816918313503, 0.010110816918313503, 0.03661992400884628, 0.03661992400884628, 0.805638313293457, 0.09884492307901382, 0.09884492307901382, 0.09884492307901382, 0.5930695533752441, 0.0993836373090744, 0.0993836373090744, 0.0993836373090744, 0.4969182014465332, 0.07279900461435318, 0.07279900461435318, 0.07279900461435318, 0.07279900461435318, 0.6551910638809204, 0.11211349815130234, 0.11211349815130234, 0.11211349815130234, 0.11211349815130234, 0.44845399260520935, 0.014348768629133701, 0.014348768629133701, 0.932669997215271, 0.014348768629133701, 0.01446782797574997, 0.01446782797574997, 0.9404088258743286, 0.01446782797574997, 0.9573612213134766, 0.04140579700469971, 0.00029575571534223855, 0.00029575571534223855, 0.00029575571534223855, 0.061026010662317276, 0.061026010662317276, 0.061026010662317276, 0.061026010662317276, 0.7323121428489685, 0.9905623197555542, 0.0024458328261971474, 0.0024458328261971474, 0.0024458328261971474, 0.9633267521858215, 0.007831924594938755, 0.007831924594938755, 0.007831924594938755, 0.2410939484834671, 0.7320489287376404, 0.004383526276797056, 0.004383526276797056, 0.004383526276797056, 0.09589198976755142, 0.09589198976755142, 0.575351893901825, 0.09589198976755142, 0.09512694180011749, 0.09512694180011749, 0.09512694180011749, 0.5707616209983826, 0.12246523797512054, 0.12246523797512054, 0.12246523797512054, 0.12246523797512054, 0.36739569902420044, 0.10828299075365067, 0.8579344153404236, 0.008329460397362709, 0.008329460397362709, 0.008329460397362709, 0.008329460397362709, 0.704058825969696, 0.01760147139430046, 0.07040588557720184, 0.01760147139430046, 0.01760147139430046, 0.15841323137283325, 0.6785882711410522, 0.03392941132187843, 0.03392941132187843, 0.03392941132187843, 0.03392941132187843, 0.16964706778526306, 0.10616648197174072, 0.10616648197174072, 0.10616648197174072, 0.10616648197174072, 0.5308324098587036, 0.053841814398765564, 0.053841814398765564, 0.053841814398765564, 0.053841814398765564, 0.6999436020851135, 0.05217752233147621, 0.10435504466295242, 0.05217752233147621, 0.678307831287384, 0.05176740884780884, 0.05176740884780884, 0.7247437238693237, 0.05176740884780884, 0.05176740884780884, 0.04564926028251648, 0.04564926028251648, 0.04564926028251648, 0.7760373950004578, 0.04564926028251648, 0.0451425239443779, 0.0451425239443779, 0.0451425239443779, 0.0451425239443779, 0.0451425239443779, 0.8125654458999634, 0.10074355453252792, 0.20148710906505585, 0.10074355453252792, 0.4029742181301117, 0.06163443997502327, 0.06163443997502327, 0.06163443997502327, 0.6779788136482239, 0.08702604472637177, 0.08702604472637177, 0.08702604472637177, 0.6091822981834412, 0.9876047968864441, 0.002743346616625786, 0.002743346616625786, 0.002743346616625786, 0.9477020502090454, 0.01620003581047058, 0.00810001790523529, 0.00810001790523529, 0.00810001790523529, 0.5487828850746155, 0.4363815486431122, 0.0033059208653867245, 0.0033059208653867245, 0.0033059208653867245, 0.1517549306154251, 0.1517549306154251, 0.3035098612308502, 0.11840458959341049, 0.11840458959341049, 0.11840458959341049, 0.47361835837364197, 0.23378886282444, 0.46238240599632263, 0.23378886282444, 0.057148389518260956, 0.00519530801102519, 0.1025494709610939, 0.1025494709610939, 0.1025494709610939, 0.1025494709610939, 0.5127473473548889, 0.0036521805450320244, 0.9824365973472595, 0.0036521805450320244, 0.0036521805450320244, 0.0036521805450320244, 0.047643374651670456, 0.38114699721336365, 0.047643374651670456, 0.4287903904914856, 0.047643374651670456, 0.042825743556022644, 0.042825743556022644, 0.042825743556022644, 0.042825743556022644, 0.77086341381073, 0.042825743556022644, 0.013733956962823868, 0.8858402371406555, 0.006866978481411934, 0.06866978853940964, 0.45487213134765625, 0.09097442775964737, 0.09097442775964737, 0.09097442775964737, 0.09097442775964737, 0.09097442775964737, 0.18194885551929474, 0.026678789407014847, 0.9204182624816895, 0.013339394703507423, 0.013339394703507423, 0.30414867401123047, 0.6896892786026001, 0.0014279281022027135, 0.0014279281022027135, 0.0014279281022027135, 0.3119046092033386, 0.0656641274690628, 0.5581451058387756, 0.0164160318672657, 0.0164160318672657, 0.05956762284040451, 0.05956762284040451, 0.05956762284040451, 0.05956762284040451, 0.7148114442825317, 0.6327558159828186, 0.360294371843338, 0.0017925093416124582, 0.0017925093416124582, 0.0017925093416124582, 0.09017982333898544, 0.09017982333898544, 0.09017982333898544, 0.6312587857246399, 0.09442637115716934, 0.01888527348637581, 0.8309520483016968, 0.01888527348637581, 0.01888527348637581, 0.01888527348637581, 0.959446370601654, 0.00969137717038393, 0.00969137717038393, 0.00969137717038393, 0.9846321940422058, 0.005774969235062599, 0.0028874846175312996, 0.0028874846175312996, 0.9633729457855225, 0.030951740220189095, 0.0019344837637618184, 0.0019344837637618184, 0.0018308606231585145, 0.0018308606231585145, 0.796424388885498, 0.1940712183713913, 0.0018308606231585145, 0.0018308606231585145, 0.03622535243630409, 0.03622535243630409, 0.03622535243630409, 0.8331831097602844, 0.15789365768432617, 0.15789365768432617, 0.15789365768432617, 0.31578731536865234, 0.032481834292411804, 0.09744549542665482, 0.7795639634132385, 0.1008821576833725, 0.05044107884168625, 0.05044107884168625, 0.7061750888824463, 0.059255942702293396, 0.059255942702293396, 0.7110713124275208, 0.059255942702293396, 0.043763019144535065, 0.700208306312561, 0.043763019144535065, 0.043763019144535065, 0.08752603828907013, 0.1548556089401245, 0.1548556089401245, 0.1548556089401245, 0.309711217880249, 0.05973850563168526, 0.05973850563168526, 0.05973850563168526, 0.7168620824813843, 0.05973850563168526, 0.023115331307053566, 0.023115331307053566, 0.023115331307053566, 0.023115331307053566, 0.8783826231956482, 0.08929122984409332, 0.02976374514400959, 0.02976374514400959, 0.8036211133003235, 0.02976374514400959, 0.07868555188179016, 0.07868555188179016, 0.07868555188179016, 0.6294844150543213, 0.04713226854801178, 0.14139680564403534, 0.04713226854801178, 0.04713226854801178, 0.6598517894744873, 0.08612686395645142, 0.08612686395645142, 0.6890149116516113, 0.0008376039913855493, 0.002512811915948987, 0.0008376039913855493, 0.9933983683586121, 0.0008376039913855493, 0.03519115597009659, 0.03519115597009659, 0.03519115597009659, 0.03519115597009659, 0.03519115597009659, 0.8093966245651245, 0.14120733737945557, 0.14120733737945557, 0.14120733737945557, 0.14120733737945557, 0.28241467475891113, 0.021005012094974518, 0.9662305116653442, 0.003500835271552205, 0.003500835271552205, 0.003500835271552205, 0.028441928327083588, 0.028441928327083588, 0.056883856654167175, 0.028441928327083588, 0.028441928327083588, 0.8248159289360046, 0.18638040125370026, 0.062126800417900085, 0.062126800417900085, 0.4970144033432007, 0.062126800417900085, 0.966106116771698, 0.00825731735676527, 0.00825731735676527, 0.00825731735676527, 0.9852952361106873, 0.0032734060660004616, 0.0032734060660004616, 0.0032734060660004616, 0.15091334283351898, 0.15091334283351898, 0.30182668566703796, 0.06003706902265549, 0.06003706902265549, 0.06003706902265549, 0.06003706902265549, 0.6604077816009521, 0.9709566235542297, 0.018672242760658264, 0.0037344484589993954, 0.0037344484589993954, 0.09605738520622253, 0.09605738520622253, 0.09605738520622253, 0.09605738520622253, 0.09605738520622253, 0.48028695583343506, 0.16049997508525848, 0.16049997508525848, 0.16049997508525848, 0.32099995017051697, 0.051667310297489166, 0.9334560632705688, 0.003444487228989601, 0.003444487228989601, 0.003444487228989601, 0.003444487228989601, 0.07442966848611832, 0.07442966848611832, 0.07442966848611832, 0.07442966848611832, 0.5954373478889465, 0.08872967958450317, 0.08872967958450317, 0.08872967958450317, 0.08872967958450317, 0.532378077507019, 0.027464253827929497, 0.9502632021903992, 0.005492850672453642, 0.005492850672453642, 0.005492850672453642, 0.057202454656362534, 0.057202454656362534, 0.057202454656362534, 0.743631899356842, 0.0063202292658388615, 0.8153095841407776, 0.0063202292658388615, 0.15168550610542297, 0.0063202292658388615, 0.0063202292658388615, 0.13908611238002777, 0.13908611238002777, 0.13908611238002777, 0.4172583520412445, 0.03152097389101982, 0.4412936270236969, 0.03152097389101982, 0.03152097389101982, 0.409772664308548, 0.8657004237174988, 0.11613054573535919, 0.005278661381453276, 0.005278661381453276, 0.005278661381453276, 0.005278661381453276, 0.09896209836006165, 0.09896209836006165, 0.09896209836006165, 0.09896209836006165, 0.4948104918003082, 0.14843100309371948, 0.14843100309371948, 0.14843100309371948, 0.14843100309371948, 0.29686200618743896, 0.07813248038291931, 0.07813248038291931, 0.07813248038291931, 0.6250598430633545, 0.07813248038291931, 0.01494621392339468, 0.9266652464866638, 0.01494621392339468, 0.01494621392339468, 0.01494621392339468, 0.01494621392339468, 0.03494800999760628, 0.03494800999760628, 0.03494800999760628, 0.03494800999760628, 0.838752269744873, 0.03611337020993233, 0.03611337020993233, 0.03611337020993233, 0.03611337020993233, 0.03611337020993233, 0.794494092464447, 0.016937891021370888, 0.9315840005874634, 0.016937891021370888, 0.016937891021370888, 0.01798727922141552, 0.9533258080482483, 0.00899363961070776, 0.00899363961070776, 0.9555049538612366, 0.009651564992964268, 0.009651564992964268, 0.009651564992964268, 0.009651564992964268, 0.07983052730560303, 0.07983052730560303, 0.07983052730560303, 0.6386442184448242, 0.9782830476760864, 0.004614542704075575, 0.004614542704075575, 0.004614542704075575, 0.16175012290477753, 0.16175012290477753, 0.16175012290477753, 0.32350024580955505, 0.9656478762626648, 0.021863725036382675, 0.003643954172730446, 0.003643954172730446, 0.003643954172730446, 0.11015243828296661, 0.11015243828296661, 0.11015243828296661, 0.44060975313186646, 0.013310672715306282, 0.9317470788955688, 0.013310672715306282, 0.013310672715306282, 0.013310672715306282, 0.09018688648939133, 0.09018688648939133, 0.09018688648939133, 0.5411213636398315, 0.13880689442157745, 0.13880689442157745, 0.13880689442157745, 0.41642066836357117, 0.40549105405807495, 0.5861554145812988, 0.0020073815248906612, 0.0020073815248906612, 0.0020073815248906612, 0.055500328540802, 0.055500328540802, 0.055500328540802, 0.055500328540802, 0.721504271030426, 0.05111517757177353, 0.05111517757177353, 0.05111517757177353, 0.7667276263237, 0.12867122888565063, 0.12867122888565063, 0.12867122888565063, 0.3860137164592743, 0.04825184494256973, 0.04825184494256973, 0.04825184494256973, 0.7237776517868042, 0.005530677270144224, 0.9733992218971252, 0.005530677270144224, 0.005530677270144224, 0.3602917194366455, 0.5066602230072021, 0.05629558116197586, 0.022518232464790344, 0.011259116232395172, 0.011259116232395172, 0.022518232464790344, 0.08285927772521973, 0.08285927772521973, 0.08285927772521973, 0.08285927772521973, 0.08285927772521973, 0.5800149440765381, 0.006376507226377726, 0.9692291021347046, 0.006376507226377726, 0.006376507226377726, 0.06152770668268204, 0.06152770668268204, 0.06152770668268204, 0.06152770668268204, 0.7383325099945068, 0.07012613862752914, 0.07012613862752914, 0.07012613862752914, 0.7012614011764526, 0.4439204931259155, 0.0634172186255455, 0.0634172186255455, 0.0634172186255455, 0.3170860707759857, 0.13714595139026642, 0.13714595139026642, 0.13714595139026642, 0.27429190278053284, 0.05297807604074478, 0.05297807604074478, 0.05297807604074478, 0.7416930794715881, 0.11907488107681274, 0.11907488107681274, 0.11907488107681274, 0.11907488107681274, 0.11907488107681274, 0.35722464323043823, 0.1120031550526619, 0.1120031550526619, 0.1120031550526619, 0.1120031550526619, 0.4480126202106476, 0.7243748307228088, 0.015920326113700867, 0.23084473609924316, 0.007960163056850433, 0.007960163056850433, 0.007960163056850433, 0.17559967935085297, 0.17559967935085297, 0.35119935870170593, 0.10442111641168594, 0.10442111641168594, 0.10442111641168594, 0.5221055746078491, 0.14960841834545135, 0.14960841834545135, 0.14960841834545135, 0.14960841834545135, 0.2992168366909027, 0.038961052894592285, 0.9090912938117981, 0.012987018562853336, 0.012987018562853336, 0.012987018562853336, 0.1607479602098465, 0.1607479602098465, 0.321495920419693, 0.05835365876555443, 0.9308798313140869, 0.002778745722025633, 0.002778745722025633, 0.019642449915409088, 0.039284899830818176, 0.8839101791381836, 0.019642449915409088, 0.0911443680524826, 0.0911443680524826, 0.0911443680524826, 0.0911443680524826, 0.5468661785125732, 0.1481752097606659, 0.1481752097606659, 0.1481752097606659, 0.2963504195213318, 0.9296551942825317, 0.01056426391005516, 0.02112852782011032, 0.01056426391005516, 0.9908576607704163, 0.0022936519235372543, 0.0022936519235372543, 0.0022936519235372543, 0.0022936519235372543, 0.011109793558716774, 0.944332480430603, 0.011109793558716774, 0.011109793558716774, 0.011109793558716774, 0.09529606252908707, 0.019059212878346443, 0.8386054039001465, 0.019059212878346443, 0.02451219968497753, 0.09804879873991013, 0.02451219968497753, 0.784390389919281, 0.02451219968497753, 0.03677486628293991, 0.18387432396411896, 0.03677486628293991, 0.6619475483894348, 0.10161929577589035, 0.10161929577589035, 0.10161929577589035, 0.10161929577589035, 0.5080965161323547, 0.06646224856376648, 0.06646224856376648, 0.06646224856376648, 0.5981602668762207, 0.06646224856376648, 0.06646224856376648, 0.03902513533830643, 0.03902513533830643, 0.03902513533830643, 0.03902513533830643, 0.7805027365684509, 0.04252692684531212, 0.04252692684531212, 0.8080116510391235, 0.04252692684531212, 0.04252692684531212, 0.07521451264619827, 0.037607256323099136, 0.037607256323099136, 0.7897524237632751, 0.1274382472038269, 0.1274382472038269, 0.1274382472038269, 0.1274382472038269, 0.3823147118091583, 0.9502710700035095, 0.02244734950363636, 0.007482449524104595, 0.007482449524104595, 0.007482449524104595, 0.012664195150136948, 0.9371504187583923, 0.012664195150136948, 0.012664195150136948, 0.1261095106601715, 0.1261095106601715, 0.1261095106601715, 0.3783285319805145, 0.07096666842699051, 0.07096666842699051, 0.07096666842699051, 0.07096666842699051, 0.7096666693687439, 0.03727242723107338, 0.03727242723107338, 0.8199933767318726, 0.037809815257787704, 0.037809815257787704, 0.11342944949865341, 0.037809815257787704, 0.037809815257787704, 0.7183865308761597, 0.10481423139572144, 0.10481423139572144, 0.10481423139572144, 0.10481423139572144, 0.5240711569786072, 0.00813248660415411, 0.9596334099769592, 0.00813248660415411, 0.00813248660415411, 0.08394528180360794, 0.08394528180360794, 0.08394528180360794, 0.5036717057228088, 0.006730787921696901, 0.962502658367157, 0.006730787921696901, 0.006730787921696901, 0.006730787921696901, 0.006730787921696901, 0.0576377734541893, 0.0576377734541893, 0.0576377734541893, 0.6916532516479492, 0.0576377734541893, 0.011694956570863724, 0.011694956570863724, 0.9472914934158325, 0.011694956570863724, 0.07213384658098221, 0.036066923290491104, 0.036066923290491104, 0.7934723496437073, 0.08355449140071869, 0.08355449140071869, 0.08355449140071869, 0.08355449140071869, 0.5848814249038696, 0.049276288598775864, 0.049276288598775864, 0.049276288598775864, 0.049276288598775864, 0.7391443252563477, 0.058114759624004364, 0.058114759624004364, 0.058114759624004364, 0.058114759624004364, 0.7554918527603149, 0.4183017313480377, 0.5663731694221497, 0.003701785346493125, 0.003701785346493125, 0.003701785346493125, 0.0824965164065361, 0.0824965164065361, 0.5774756073951721, 0.6105700731277466, 0.37412381172180176, 0.0029929906595498323, 0.0029929906595498323, 0.0029929906595498323, 0.0029929906595498323, 0.034116338938474655, 0.034116338938474655, 0.034116338938474655, 0.034116338938474655, 0.8187921643257141, 0.12879519164562225, 0.12879519164562225, 0.12879519164562225, 0.12879519164562225, 0.38638558983802795, 0.04489346966147423, 0.13468042016029358, 0.04489346966147423, 0.04489346966147423, 0.6734020709991455, 0.05228892341256142, 0.9307428598403931, 0.005228892434388399, 0.005228892434388399, 0.0575844906270504, 0.0575844906270504, 0.0575844906270504, 0.0575844906270504, 0.0575844906270504, 0.0575844906270504, 0.6910138726234436, 0.0018628601683303714, 0.0018628601683303714, 0.9910416007041931, 0.0018628601683303714, 0.0018628601683303714, 0.03024263121187687, 0.03024263121187687, 0.5746099948883057, 0.3024263083934784, 0.13673743605613708, 0.13673743605613708, 0.41021230816841125, 0.047445148229599, 0.047445148229599, 0.047445148229599, 0.047445148229599, 0.047445148229599, 0.759122371673584, 0.12869955599308014, 0.12869955599308014, 0.12869955599308014, 0.3860986530780792, 0.0952548161149025, 0.0952548161149025, 0.0952548161149025, 0.0952548161149025, 0.4762741029262543, 0.07890654355287552, 0.07890654355287552, 0.07890654355287552, 0.07890654355287552, 0.6312523484230042, 0.9733735918998718, 0.006759538780897856, 0.006759538780897856, 0.006759538780897856, 0.01732652820646763, 0.9183059334754944, 0.01732652820646763, 0.01732652820646763, 0.09250135719776154, 0.09250135719776154, 0.09250135719776154, 0.09250135719776154, 0.09250135719776154, 0.5550081729888916, 0.04490302503108978, 0.04490302503108978, 0.04490302503108978, 0.04490302503108978, 0.7633514404296875, 0.08667831867933273, 0.08667831867933273, 0.08667831867933273, 0.08667831867933273, 0.52006995677948, 0.019531715661287308, 0.019531715661287308, 0.019531715661287308, 0.019531715661287308, 0.8984588980674744, 0.029789764434099197, 0.029789764434099197, 0.029789764434099197, 0.029789764434099197, 0.8639031648635864, 0.001901107607409358, 0.9942792654037476, 0.000950553803704679, 0.000950553803704679, 0.000950553803704679, 0.000950553803704679, 0.07395721971988678, 0.07395721971988678, 0.07395721971988678, 0.07395721971988678, 0.6656150221824646, 0.11103566735982895, 0.11103566735982895, 0.5551783442497253, 0.6309574246406555, 0.008089197799563408, 0.3316571116447449, 0.008089197799563408, 0.008089197799563408, 0.11865699291229248, 0.11865699291229248, 0.11865699291229248, 0.4746279716491699, 0.027177846059203148, 0.9240467548370361, 0.013588923029601574, 0.013588923029601574, 0.09181486070156097, 0.09181486070156097, 0.09181486070156097, 0.5508891344070435, 0.09181486070156097, 0.09181486070156097, 0.018789932131767273, 0.037579864263534546, 0.018789932131767273, 0.018789932131767273, 0.8831267952919006, 0.04261627048254013, 0.04261627048254013, 0.04261627048254013, 0.04261627048254013, 0.7670928835868835, 0.06936337798833847, 0.06936337798833847, 0.06936337798833847, 0.06936337798833847, 0.06936337798833847, 0.6936337351799011, 0.9424163699150085, 0.013273470103740692, 0.013273470103740692, 0.013273470103740692, 0.013273470103740692, 0.06789940595626831, 0.06789940595626831, 0.7468935251235962, 0.06789940595626831, 0.1353061944246292, 0.1353061944246292, 0.1353061944246292, 0.1353061944246292, 0.1353061944246292, 0.2706123888492584, 0.10253878682851791, 0.10253878682851791, 0.6152327060699463, 0.16939982771873474, 0.16939982771873474, 0.3387996554374695, 0.9433392882347107, 0.011230230331420898, 0.011230230331420898, 0.011230230331420898, 0.011230230331420898, 0.05199253931641579, 0.05199253931641579, 0.05199253931641579, 0.7798880934715271, 0.14450643956661224, 0.14450643956661224, 0.14450643956661224, 0.14450643956661224, 0.43351930379867554, 0.01370113343000412, 0.01370113343000412, 0.9316770434379578, 0.01370113343000412, 0.01370113343000412, 0.6895363330841064, 0.29794779419898987, 0.002837598090991378, 0.002837598090991378, 0.002837598090991378, 0.035400375723838806, 0.035400375723838806, 0.035400375723838806, 0.035400375723838806, 0.8496090173721313, 0.03637515753507614, 0.01818757876753807, 0.8911913633346558, 0.01818757876753807, 0.01818757876753807, 0.05178176611661911, 0.943578839302063, 0.0009589215624146163, 0.0009589215624146163, 0.0009589215624146163, 0.04462553560733795, 0.940855085849762, 0.0037187947891652584, 0.0037187947891652584, 0.0037187947891652584, 0.556423544883728, 0.4367277920246124, 0.001617510337382555, 0.001617510337382555, 0.001617510337382555, 0.5636044144630432, 0.41672566533088684, 0.0068315682001411915, 0.0034157841000705957, 0.0034157841000705957, 0.7382001876831055, 0.2484673708677292, 0.0036009764298796654, 0.0036009764298796654, 0.0036009764298796654, 0.9417259693145752, 0.017122291028499603, 0.008561145514249802, 0.008561145514249802, 0.008561145514249802, 0.14597007632255554, 0.14597007632255554, 0.4379102289676666, 0.23842021822929382, 0.0681200623512268, 0.5790205001831055, 0.0340600311756134, 0.0340600311756134, 0.16470883786678314, 0.8138554692268372, 0.004844377748668194, 0.004844377748668194, 0.004844377748668194, 0.07850126177072525, 0.07850126177072525, 0.07850126177072525, 0.07850126177072525, 0.628010094165802, 0.15582013130187988, 0.15582013130187988, 0.15582013130187988, 0.15582013130187988, 0.31164026260375977, 0.020996728911995888, 0.020996728911995888, 0.020996728911995888, 0.020996728911995888, 0.9028593897819519, 0.10183411091566086, 0.10183411091566086, 0.10183411091566086, 0.5091705918312073, 0.0747058242559433, 0.0747058242559433, 0.0747058242559433, 0.6723523736000061, 0.057776015251874924, 0.057776015251874924, 0.057776015251874924, 0.7510882019996643, 0.27960461378097534, 0.7088965177536011, 0.0028242890257388353, 0.0028242890257388353, 0.0028242890257388353, 0.013872208073735237, 0.013872208073735237, 0.9294379353523254, 0.013872208073735237, 0.013872208073735237, 0.05494268611073494, 0.10988537222146988, 0.05494268611073494, 0.05494268611073494, 0.6593122482299805, 0.14308807253837585, 0.14308807253837585, 0.14308807253837585, 0.14308807253837585, 0.2861761450767517, 0.7065662145614624, 0.27932265400886536, 0.003754336852580309, 0.0007508674170821905, 0.008259541355073452, 0.0007508674170821905, 0.0007508674170821905, 0.03958527371287346, 0.03958527371287346, 0.03958527371287346, 0.03958527371287346, 0.03958527371287346, 0.7917054891586304, 0.6308296918869019, 0.3397097587585449, 0.02764592319726944, 0.0004188776365481317, 0.0004188776365481317, 0.0004188776365481317, 0.0004188776365481317, 0.0004188776365481317, 0.0279659703373909, 0.0279659703373909, 0.0279659703373909, 0.0279659703373909, 0.8669450879096985, 0.0850175991654396, 0.0850175991654396, 0.0850175991654396, 0.0850175991654396, 0.0850175991654396, 0.5951231718063354, 0.062283433973789215, 0.062283433973789215, 0.685117781162262, 0.062283433973789215, 0.0160698052495718, 0.6829667091369629, 0.0080349026247859, 0.10445373505353928, 0.0642792209982872, 0.0160698052495718, 0.10445373505353928, 0.07228302955627441, 0.07228302955627441, 0.07228302955627441, 0.6505472660064697, 0.07228302955627441, 0.07228302955627441, 0.9376003742218018, 0.0546174980700016, 0.001820583245716989, 0.001820583245716989, 0.001820583245716989, 0.0472986213862896, 0.0472986213862896, 0.7567779421806335, 0.0472986213862896, 0.0472986213862896, 0.2070641815662384, 0.7742400169372559, 0.004501395393162966, 0.004501395393162966, 0.004501395393162966, 0.019708050414919853, 0.019708050414919853, 0.019708050414919853, 0.019708050414919853, 0.019708050414919853, 0.8868622183799744, 0.03522586449980736, 0.03522586449980736, 0.03522586449980736, 0.03522586449980736, 0.845420777797699, 0.054180800914764404, 0.054180800914764404, 0.054180800914764404, 0.7585312128067017, 0.6420688033103943, 0.3385453522205353, 0.0038913260214030743, 0.0038913260214030743, 0.0038913260214030743, 0.0038913260214030743, 0.009720138274133205, 0.9525735378265381, 0.009720138274133205, 0.009720138274133205, 0.3127879202365875, 0.10426263511180878, 0.10426263511180878, 0.3127879202365875, 0.095620296895504, 0.095620296895504, 0.095620296895504, 0.095620296895504, 0.5737217664718628, 0.14419564604759216, 0.14419564604759216, 0.14419564604759216, 0.14419564604759216, 0.2883912920951843, 0.0627848207950592, 0.0627848207950592, 0.0627848207950592, 0.0627848207950592, 0.6906329989433289, 0.13349252939224243, 0.13349252939224243, 0.13349252939224243, 0.13349252939224243, 0.26698505878448486, 0.13349252939224243, 0.034006450325250626, 0.034006450325250626, 0.034006450325250626, 0.8501612544059753, 0.032349806278944016, 0.032349806278944016, 0.032349806278944016, 0.032349806278944016, 0.8410950303077698, 0.0070157237350940704, 0.978693425655365, 0.0035078618675470352, 0.0035078618675470352, 0.0035078618675470352, 0.15801380574703217, 0.15801380574703217, 0.15801380574703217, 0.31602761149406433, 0.033890705555677414, 0.033890705555677414, 0.033890705555677414, 0.033890705555677414, 0.8472675681114197, 0.016541650518774986, 0.008270825259387493, 0.008270825259387493, 0.008270825259387493, 0.9511448740959167, 0.06399056315422058, 0.06399056315422058, 0.06399056315422058, 0.06399056315422058, 0.703896164894104, 0.17559967935085297, 0.17559967935085297, 0.35119935870170593, 0.017814965918660164, 0.4988190531730652, 0.017814965918660164, 0.19596461951732635, 0.23159456253051758, 0.12180659919977188, 0.12180659919977188, 0.4872263967990875], \"Term\": [\"absolute\", \"absolute\", \"absolute\", \"absolute\", \"absolute\", \"absolute\", \"absolutely\", \"absolutely\", \"absolutely\", \"absolutely\", \"absolutely\", \"absolutely\", \"accept\", \"accept\", \"accept\", \"accept\", \"accept\", \"account\", \"account\", \"account\", \"account\", \"admirals\", \"admirals\", \"admirals\", \"admirals\", \"admirals\", \"agents\", \"agents\", \"agents\", \"agents\", \"agents\", \"ahhhh\", \"ahhhh\", \"ahhhh\", \"ahhhh\", \"ahhhh\", \"airline\", \"airline\", \"airline\", \"airline\", \"airline\", \"airlines\", \"airlines\", \"airlines\", \"airlines\", \"airlines\", \"airport\", \"airport\", \"airport\", \"airport\", \"airport\", \"airways\", \"airways\", \"airways\", \"airways\", \"airways\", \"airways\", \"alliance\", \"alliance\", \"alliance\", \"amaze\", \"amaze\", \"amaze\", \"amaze\", \"amaze\", \"american\", \"american\", \"american\", \"american\", \"american\", \"americanair\", \"americanair\", \"americanair\", \"americanair\", \"americanair\", \"americanair\", \"americanair\", \"americanair\", \"answer\", \"answer\", \"answer\", \"answer\", \"appease\", \"appease\", \"appease\", \"appease\", \"appreciate\", \"appreciate\", \"appreciate\", \"appreciate\", \"arrive\", \"arrive\", \"arrive\", \"arrive\", \"attend\", \"attend\", \"attend\", \"attend\", \"attend\", \"austin\", \"austin\", \"austin\", \"austin\", \"australia\", \"australia\", \"australia\", \"australia\", \"australia\", \"avgeek\", \"avgeek\", \"avgeek\", \"avgeek\", \"avgeek\", \"aware\", \"aware\", \"aware\", \"aware\", \"aware\", \"awesome\", \"awesome\", \"awesome\", \"awesome\", \"awful\", \"awful\", \"awful\", \"awful\", \"awful\", \"baby\", \"baby\", \"baby\", \"baby\", \"badge\", \"badge\", \"badge\", \"badge\", \"bag\", \"bag\", \"bag\", \"bag\", \"bag\", \"baggage\", \"baggage\", \"baggage\", \"baggage\", \"baggage\", \"balance\", \"balance\", \"balance\", \"balance\", \"balance\", \"battle\", \"battle\", \"battle\", \"battle\", \"bday\", \"bday\", \"bday\", \"bday\", \"beach\", \"beach\", \"beach\", \"beach\", \"best\", \"best\", \"best\", \"best\", \"best\", \"best\", \"better\", \"better\", \"better\", \"better\", \"better\", \"bind\", \"bind\", \"bind\", \"bind\", \"blah\", \"blah\", \"blah\", \"blah\", \"blah\", \"blow\", \"blow\", \"blow\", \"blow\", \"blow\", \"blue\", \"blue\", \"blue\", \"blue\", \"blue\", \"board\", \"board\", \"board\", \"board\", \"book\", \"book\", \"book\", \"book\", \"bottle\", \"bottle\", \"bottle\", \"bottle\", \"breakfast\", \"breakfast\", \"breakfast\", \"breakfast\", \"breakfast\", \"bump\", \"bump\", \"bump\", \"bump\", \"bump\", \"cabin\", \"cabin\", \"cabin\", \"cabin\", \"cabin\", \"cabin\", \"call\", \"call\", \"call\", \"call\", \"call\", \"cancel\", \"cancel\", \"cancel\", \"cancel\", \"card\", \"card\", \"card\", \"card\", \"care\", \"care\", \"care\", \"care\", \"care\", \"carry\", \"carry\", \"carry\", \"carry\", \"cell\", \"cell\", \"cell\", \"cell\", \"cell\", \"cell\", \"certainly\", \"certainly\", \"certainly\", \"certainly\", \"certainly\", \"change\", \"change\", \"change\", \"change\", \"change\", \"character\", \"character\", \"character\", \"character\", \"character\", \"cheap\", \"cheap\", \"cheap\", \"cheap\", \"cheap\", \"cheap\", \"check\", \"check\", \"check\", \"check\", \"check\", \"check\", \"checkin\", \"checkin\", \"checkin\", \"checkin\", \"cheer\", \"cheer\", \"cheer\", \"cheer\", \"cheer\", \"chicago\", \"chicago\", \"chicago\", \"chicago\", \"chicago\", \"child\", \"child\", \"child\", \"child\", \"child\", \"circle\", \"circle\", \"circle\", \"circle\", \"citizen\", \"citizen\", \"citizen\", \"citizen\", \"citizen\", \"citizen\", \"club\", \"club\", \"club\", \"club\", \"club\", \"coast\", \"coast\", \"coast\", \"coast\", \"coat\", \"coat\", \"coat\", \"coat\", \"coat\", \"columbus\", \"columbus\", \"columbus\", \"columbus\", \"columbus\", \"come\", \"come\", \"come\", \"come\", \"come\", \"comp\", \"comp\", \"comp\", \"comp\", \"complaint\", \"complaint\", \"complaint\", \"complaint\", \"complaint\", \"complaints\", \"complaints\", \"complaints\", \"complaints\", \"complaints\", \"concern\", \"concern\", \"concern\", \"concern\", \"concern\", \"connect\", \"connect\", \"connect\", \"connect\", \"connection\", \"connection\", \"connection\", \"connection\", \"control\", \"control\", \"control\", \"control\", \"control\", \"country\", \"country\", \"country\", \"country\", \"country\", \"couple\", \"couple\", \"couple\", \"couple\", \"couple\", \"couple\", \"course\", \"course\", \"course\", \"course\", \"crackers\", \"crackers\", \"crackers\", \"crackers\", \"crackers\", \"create\", \"create\", \"create\", \"create\", \"create\", \"create\", \"credit\", \"credit\", \"credit\", \"credit\", \"credit\", \"credit\", \"crew\", \"crew\", \"crew\", \"crew\", \"crew\", \"crew\", \"cross\", \"cross\", \"cross\", \"cross\", \"cross\", \"crowd\", \"crowd\", \"crowd\", \"crowd\", \"crowd\", \"crowd\", \"currently\", \"currently\", \"currently\", \"currently\", \"currently\", \"currently\", \"cust\", \"cust\", \"cust\", \"cust\", \"cust\", \"customer\", \"customer\", \"customer\", \"customer\", \"customers\", \"customers\", \"customers\", \"customers\", \"customers\", \"daily\", \"daily\", \"daily\", \"daily\", \"daily\", \"dang\", \"dang\", \"dang\", \"dang\", \"dang\", \"delay\", \"delay\", \"delay\", \"delay\", \"delay\", \"delivery\", \"delivery\", \"delivery\", \"delivery\", \"deserve\", \"deserve\", \"deserve\", \"deserve\", \"deserve\", \"deserve\", \"dfwairport\", \"dfwairport\", \"dfwairport\", \"dfwairport\", \"die\", \"die\", \"die\", \"die\", \"die\", \"disappoint\", \"disappoint\", \"disappoint\", \"disappoint\", \"disappoint\", \"disgust\", \"disgust\", \"disgust\", \"disgust\", \"domestic\", \"domestic\", \"domestic\", \"domestic\", \"domestic\", \"domestic\", \"door\", \"door\", \"door\", \"door\", \"door\", \"dragon\", \"dragon\", \"dragon\", \"dragon\", \"drink\", \"drink\", \"drink\", \"drink\", \"drink\", \"elite\", \"elite\", \"elite\", \"elite\", \"elite\", \"elite\", \"email\", \"email\", \"email\", \"email\", \"embarrass\", \"embarrass\", \"embarrass\", \"embarrass\", \"embarrass\", \"embarrass\", \"emboss\", \"emboss\", \"emboss\", \"employees\", \"employees\", \"employees\", \"employees\", \"employees\", \"enjoy\", \"enjoy\", \"enjoy\", \"enjoy\", \"enjoy\", \"enjoy\", \"excellent\", \"excellent\", \"excellent\", \"excellent\", \"excuse\", \"excuse\", \"excuse\", \"excuse\", \"excuse\", \"expect\", \"expect\", \"expect\", \"expect\", \"expect\", \"experience\", \"experience\", \"experience\", \"experience\", \"experience\", \"fail\", \"fail\", \"fail\", \"fail\", \"fail\", \"fare\", \"fare\", \"fare\", \"fast\", \"fast\", \"fast\", \"fast\", \"feet\", \"feet\", \"feet\", \"feet\", \"finger\", \"finger\", \"finger\", \"finger\", \"finger\", \"fire\", \"fire\", \"fire\", \"fire\", \"fire\", \"fleek\", \"fleek\", \"fleek\", \"fleek\", \"fleet\", \"fleet\", \"fleet\", \"fleet\", \"flight\", \"flight\", \"flight\", \"flight\", \"flight\", \"flightd\", \"flightd\", \"flightd\", \"flightd\", \"flightd\", \"flightled\", \"flightled\", \"flightled\", \"flightled\", \"flightr\", \"flightr\", \"flightr\", \"flightr\", \"fly\", \"fly\", \"fly\", \"fly\", \"fly\", \"flyfi\", \"flyfi\", \"flyfi\", \"flyfi\", \"flyingitforward\", \"flyingitforward\", \"flyingitforward\", \"flyingitforward\", \"flytpa\", \"flytpa\", \"flytpa\", \"flytpa\", \"flytpa\", \"follow\", \"follow\", \"follow\", \"follow\", \"follow\", \"follow\", \"food\", \"food\", \"food\", \"food\", \"food\", \"food\", \"force\", \"force\", \"force\", \"force\", \"force\", \"force\", \"fort\", \"fort\", \"fort\", \"fort\", \"fort\", \"freeze\", \"freeze\", \"freeze\", \"freeze\", \"freeze\", \"friday\", \"friday\", \"friday\", \"friday\", \"friendly\", \"friendly\", \"friendly\", \"friendly\", \"friendly\", \"friends\", \"friends\", \"friends\", \"friends\", \"friends\", \"fuck\", \"fuck\", \"fuck\", \"fuck\", \"fuck\", \"fuck\", \"fund\", \"fund\", \"fund\", \"fund\", \"funeral\", \"funeral\", \"funeral\", \"funeral\", \"funny\", \"funny\", \"funny\", \"funny\", \"gate\", \"gate\", \"gate\", \"gate\", \"give\", \"give\", \"give\", \"give\", \"give\", \"go\", \"go\", \"go\", \"go\", \"go\", \"golden\", \"golden\", \"golden\", \"golf\", \"golf\", \"golf\", \"golf\", \"great\", \"great\", \"great\", \"great\", \"great\", \"gross\", \"gross\", \"gross\", \"gross\", \"gross\", \"guy\", \"guy\", \"guy\", \"guy\", \"guy\", \"haha\", \"haha\", \"haha\", \"haha\", \"haha\", \"hand\", \"hand\", \"hand\", \"hand\", \"hand\", \"hand\", \"hang\", \"hang\", \"hang\", \"hang\", \"hat\", \"hat\", \"hat\", \"hat\", \"hat\", \"hat\", \"hat\", \"hear\", \"hear\", \"hear\", \"hear\", \"help\", \"help\", \"help\", \"help\", \"help\", \"helpful\", \"helpful\", \"helpful\", \"helpful\", \"helpful\", \"hire\", \"hire\", \"hire\", \"hire\", \"hire\", \"hold\", \"hold\", \"hold\", \"hold\", \"hold\", \"hook\", \"hook\", \"hook\", \"hook\", \"horrible\", \"horrible\", \"horrible\", \"horrible\", \"horrible\", \"horrible\", \"hotel\", \"hotel\", \"hotel\", \"hotel\", \"hour\", \"hour\", \"hour\", \"hour\", \"hours\", \"hours\", \"hours\", \"hours\", \"http\", \"http\", \"http\", \"http\", \"http\", \"http\", \"https\", \"https\", \"https\", \"https\", \"hubby\", \"hubby\", \"hubby\", \"hubby\", \"human\", \"human\", \"human\", \"husband\", \"husband\", \"husband\", \"husband\", \"ignore\", \"ignore\", \"ignore\", \"ignore\", \"imaginedragons\", \"imaginedragons\", \"imaginedragons\", \"imaginedragons\", \"imaginedragons\", \"incentive\", \"incentive\", \"incentive\", \"incentive\", \"include\", \"include\", \"include\", \"include\", \"include\", \"instead\", \"instead\", \"instead\", \"instead\", \"instead\", \"international\", \"international\", \"international\", \"international\", \"international\", \"internet\", \"internet\", \"internet\", \"internet\", \"itinerary\", \"itinerary\", \"itinerary\", \"itinerary\", \"itinerary\", \"jblu\", \"jblu\", \"jblu\", \"jetblue\", \"jetblue\", \"jetblue\", \"jetblue\", \"jetblue\", \"joke\", \"joke\", \"joke\", \"joke\", \"joke\", \"joke\", \"jokers\", \"jokers\", \"jokers\", \"jokers\", \"jokers\", \"know\", \"know\", \"know\", \"know\", \"know\", \"lack\", \"lack\", \"lack\", \"lack\", \"lack\", \"lack\", \"lady\", \"lady\", \"lady\", \"lady\", \"lady\", \"land\", \"land\", \"land\", \"land\", \"late\", \"late\", \"late\", \"late\", \"lauren\", \"lauren\", \"lauren\", \"layover\", \"layover\", \"layover\", \"layover\", \"layover\", \"leave\", \"leave\", \"leave\", \"leave\", \"legroom\", \"legroom\", \"legroom\", \"legroom\", \"legroom\", \"legroom\", \"letsgo\", \"letsgo\", \"letsgo\", \"letsgo\", \"like\", \"like\", \"like\", \"like\", \"like\", \"like\", \"likely\", \"likely\", \"likely\", \"likely\", \"likely\", \"limit\", \"limit\", \"limit\", \"limit\", \"limit\", \"look\", \"look\", \"look\", \"look\", \"look\", \"lounge\", \"lounge\", \"lounge\", \"lounge\", \"love\", \"love\", \"love\", \"love\", \"love\", \"love\", \"love_dragonss\", \"love_dragonss\", \"love_dragonss\", \"love_dragonss\", \"loyal\", \"loyal\", \"loyal\", \"loyal\", \"loyal\", \"luggage\", \"luggage\", \"luggage\", \"luggage\", \"luggage\", \"luggage\", \"manager\", \"manager\", \"manager\", \"manager\", \"manager\", \"marie\", \"marie\", \"marie\", \"marie\", \"marie\", \"market\", \"market\", \"market\", \"market\", \"market\", \"mean\", \"mean\", \"mean\", \"mean\", \"mean\", \"mean\", \"media\", \"media\", \"media\", \"media\", \"media\", \"mess\", \"mess\", \"mess\", \"mess\", \"mess\", \"mess\", \"message\", \"message\", \"message\", \"message\", \"miles\", \"miles\", \"miles\", \"miles\", \"mins\", \"mins\", \"mins\", \"mins\", \"mins\", \"mint\", \"mint\", \"mint\", \"mint\", \"minutes\", \"minutes\", \"minutes\", \"minutes\", \"miracle\", \"miracle\", \"miracle\", \"miracle\", \"miss\", \"miss\", \"miss\", \"miss\", \"miss\", \"moment\", \"moment\", \"moment\", \"moment\", \"money\", \"money\", \"money\", \"money\", \"money\", \"music\", \"music\", \"music\", \"music\", \"national\", \"national\", \"national\", \"national\", \"need\", \"need\", \"need\", \"need\", \"need\", \"neveragain\", \"neveragain\", \"neveragain\", \"neveragain\", \"neveragain\", \"news\", \"news\", \"news\", \"news\", \"nicest\", \"nicest\", \"nicest\", \"nicest\", \"note\", \"note\", \"note\", \"note\", \"number\", \"number\", \"number\", \"number\", \"offer\", \"offer\", \"offer\", \"offer\", \"offer\", \"offer\", \"offer\", \"ones\", \"ones\", \"ones\", \"ones\", \"ones\", \"ones\", \"online\", \"online\", \"online\", \"online\", \"order\", \"order\", \"order\", \"order\", \"order\", \"oscars\", \"oscars\", \"oscars\", \"oscars\", \"overhead\", \"overhead\", \"overhead\", \"overhead\", \"overhead\", \"pacific\", \"pacific\", \"pacific\", \"pacific\", \"page\", \"page\", \"page\", \"page\", \"pair\", \"pair\", \"pair\", \"pair\", \"pair\", \"pair\", \"palm\", \"palm\", \"palm\", \"palm\", \"palm\", \"passengers\", \"passengers\", \"passengers\", \"passengers\", \"passengers\", \"passengers\", \"patch\", \"patch\", \"patch\", \"perfect\", \"perfect\", \"perfect\", \"perfect\", \"performance\", \"performance\", \"performance\", \"performance\", \"performance\", \"person\", \"person\", \"person\", \"person\", \"person\", \"philippines\", \"philippines\", \"philippines\", \"phone\", \"phone\", \"phone\", \"phone\", \"pick\", \"pick\", \"pick\", \"pick\", \"picture\", \"picture\", \"picture\", \"picture\", \"picture\", \"pillow\", \"pillow\", \"pillow\", \"pillow\", \"pilot\", \"pilot\", \"pilot\", \"pilot\", \"plane\", \"plane\", \"plane\", \"plane\", \"plane\", \"point\", \"point\", \"point\", \"point\", \"point\", \"poor\", \"poor\", \"poor\", \"poor\", \"possible\", \"possible\", \"possible\", \"possible\", \"possible\", \"post\", \"post\", \"post\", \"post\", \"premium\", \"premium\", \"premium\", \"premium\", \"premium\", \"profit\", \"profit\", \"profit\", \"profit\", \"profit\", \"profit\", \"quick\", \"quick\", \"quick\", \"quick\", \"quick\", \"read\", \"read\", \"read\", \"read\", \"read\", \"ready\", \"ready\", \"ready\", \"ready\", \"reagan\", \"reagan\", \"reagan\", \"reagan\", \"reagan\", \"rebooked\", \"rebooked\", \"rebooked\", \"rebooked\", \"rebooked\", \"receive\", \"receive\", \"receive\", \"receive\", \"recommend\", \"recommend\", \"recommend\", \"recommend\", \"relate\", \"relate\", \"relate\", \"relate\", \"relate\", \"relations\", \"relations\", \"relations\", \"reps\", \"reps\", \"reps\", \"reps\", \"reps\", \"reps\", \"reroute\", \"reroute\", \"reroute\", \"reroute\", \"reroute\", \"reservation\", \"reservation\", \"reservation\", \"reservation\", \"reserve\", \"reserve\", \"reserve\", \"reserve\", \"response\", \"response\", \"response\", \"response\", \"response\", \"response\", \"route\", \"route\", \"route\", \"route\", \"route\", \"rude\", \"rude\", \"rude\", \"rude\", \"ruin\", \"ruin\", \"ruin\", \"ruin\", \"rule\", \"rule\", \"rule\", \"rule\", \"rule\", \"run\", \"run\", \"run\", \"run\", \"run\", \"safety\", \"safety\", \"safety\", \"safety\", \"safety\", \"say\", \"say\", \"say\", \"say\", \"say\", \"school\", \"school\", \"school\", \"seat\", \"seat\", \"seat\", \"seat\", \"seat\", \"seat\", \"see\", \"see\", \"see\", \"see\", \"see\", \"seek\", \"seek\", \"seek\", \"seek\", \"seek\", \"select\", \"select\", \"select\", \"select\", \"select\", \"send\", \"send\", \"send\", \"send\", \"serve\", \"serve\", \"serve\", \"serve\", \"serve\", \"serve\", \"serve\", \"service\", \"service\", \"service\", \"service\", \"service\", \"share\", \"share\", \"share\", \"share\", \"shirt\", \"shirt\", \"shirt\", \"shit\", \"shit\", \"shit\", \"shit\", \"shit\", \"shit\", \"silence\", \"silence\", \"silence\", \"silence\", \"simple\", \"simple\", \"simple\", \"simple\", \"simple\", \"sister\", \"sister\", \"sister\", \"sister\", \"sister\", \"sit\", \"sit\", \"sit\", \"sit\", \"site\", \"site\", \"site\", \"site\", \"size\", \"size\", \"size\", \"size\", \"size\", \"size\", \"social\", \"social\", \"social\", \"social\", \"social\", \"solution\", \"solution\", \"solution\", \"solution\", \"solution\", \"sorry\", \"sorry\", \"sorry\", \"sorry\", \"sorry\", \"southwest\", \"southwest\", \"southwest\", \"southwest\", \"southwest\", \"southwestair\", \"southwestair\", \"southwestair\", \"southwestair\", \"southwestair\", \"southwestair\", \"special\", \"special\", \"special\", \"special\", \"special\", \"spring\", \"spring\", \"spring\", \"staff\", \"staff\", \"staff\", \"staff\", \"staff\", \"star\", \"star\", \"star\", \"star\", \"status\", \"status\", \"status\", \"status\", \"stewardess\", \"stewardess\", \"stewardess\", \"stewardess\", \"stewardess\", \"stewardess\", \"stop\", \"stop\", \"stop\", \"stop\", \"stop\", \"storm\", \"storm\", \"storm\", \"storm\", \"storm\", \"story\", \"story\", \"story\", \"story\", \"story\", \"story\", \"strand\", \"strand\", \"strand\", \"strand\", \"strand\", \"street\", \"street\", \"street\", \"street\", \"student\", \"student\", \"student\", \"student\", \"student\", \"student\", \"suit\", \"suit\", \"suit\", \"superior\", \"superior\", \"superior\", \"suppose\", \"suppose\", \"suppose\", \"suppose\", \"suppose\", \"surprise\", \"surprise\", \"surprise\", \"surprise\", \"table\", \"table\", \"table\", \"table\", \"table\", \"team\", \"team\", \"team\", \"team\", \"team\", \"tell\", \"tell\", \"tell\", \"tell\", \"tell\", \"terminal\", \"terminal\", \"terminal\", \"terminal\", \"terminal\", \"terrible\", \"terrible\", \"terrible\", \"terrible\", \"terrible\", \"thank\", \"thank\", \"thank\", \"thank\", \"thank\", \"ticket\", \"ticket\", \"ticket\", \"ticket\", \"ticket\", \"time\", \"time\", \"time\", \"time\", \"time\", \"today\", \"today\", \"today\", \"today\", \"today\", \"tomorrow\", \"tomorrow\", \"tomorrow\", \"tomorrow\", \"tomorrow\", \"tonight\", \"tonight\", \"tonight\", \"tonight\", \"tonight\", \"top\", \"top\", \"top\", \"train\", \"train\", \"train\", \"train\", \"train\", \"travel\", \"travel\", \"travel\", \"travel\", \"travel\", \"travelers\", \"travelers\", \"travelers\", \"travelers\", \"travelers\", \"tray\", \"tray\", \"tray\", \"tray\", \"tray\", \"treat\", \"treat\", \"treat\", \"treat\", \"treat\", \"truck\", \"truck\", \"truck\", \"truck\", \"trueblue\", \"trueblue\", \"trueblue\", \"trueblue\", \"trust\", \"trust\", \"trust\", \"trust\", \"try\", \"try\", \"try\", \"try\", \"try\", \"tweet\", \"tweet\", \"tweet\", \"tweet\", \"tweet\", \"understaffing\", \"understaffing\", \"understaffing\", \"understaffing\", \"understaffing\", \"unexpected\", \"unexpected\", \"unexpected\", \"unexpected\", \"unexpected\", \"unite\", \"unite\", \"unite\", \"unite\", \"unite\", \"unite\", \"unite\", \"upset\", \"upset\", \"upset\", \"upset\", \"upset\", \"upset\", \"usairways\", \"usairways\", \"usairways\", \"usairways\", \"usairways\", \"usairways\", \"usairways\", \"usairways\", \"vegas\", \"vegas\", \"vegas\", \"vegas\", \"vegas\", \"video\", \"video\", \"video\", \"video\", \"video\", \"video\", \"view\", \"view\", \"view\", \"view\", \"virginamerica\", \"virginamerica\", \"virginamerica\", \"virginamerica\", \"virginamerica\", \"virginamerica\", \"virginamerica\", \"visit\", \"visit\", \"visit\", \"visit\", \"visit\", \"visit\", \"wait\", \"wait\", \"wait\", \"wait\", \"wait\", \"wall\", \"wall\", \"wall\", \"wall\", \"wall\", \"want\", \"want\", \"want\", \"want\", \"want\", \"wasn\", \"wasn\", \"wasn\", \"wasn\", \"wasn\", \"wasn\", \"watch\", \"watch\", \"watch\", \"watch\", \"watch\", \"water\", \"water\", \"water\", \"water\", \"weather\", \"weather\", \"weather\", \"weather\", \"weather\", \"weather\", \"website\", \"website\", \"website\", \"website\", \"weight\", \"weight\", \"weight\", \"weight\", \"wheel\", \"wheel\", \"wheel\", \"wheel\", \"wheel\", \"white\", \"white\", \"white\", \"white\", \"white\", \"window\", \"window\", \"window\", \"window\", \"window\", \"wine\", \"wine\", \"wine\", \"wine\", \"wine\", \"wine\", \"wish\", \"wish\", \"wish\", \"wish\", \"word\", \"word\", \"word\", \"word\", \"word\", \"work\", \"work\", \"work\", \"work\", \"work\", \"worker\", \"worker\", \"worker\", \"worker\", \"world\", \"world\", \"world\", \"world\", \"world\", \"worst\", \"worst\", \"worst\", \"worst\", \"worst\", \"worth\", \"worth\", \"worth\", \"worth\", \"worth\", \"xelbon\", \"xelbon\", \"xelbon\", \"year\", \"year\", \"year\", \"year\", \"year\", \"zone\", \"zone\", \"zone\"]}, \"R\": 30, \"tinfo\": {\"Freq\": [3381.0, 1193.0, 3586.0, 536.0, 1052.0, 1042.0, 546.0, 407.0, 842.0, 2387.0, 636.0, 1331.0, 193.0, 516.0, 549.0, 435.0, 408.0, 700.0, 364.0, 120.0, 359.0, 346.0, 98.0, 285.0, 273.0, 305.0, 285.0, 124.0, 79.0, 618.0, 838.3330078125, 631.83935546875, 404.6791687011719, 431.50616455078125, 360.01446533203125, 301.19903564453125, 340.7704772949219, 211.87347412109375, 185.77789306640625, 170.8514404296875, 143.7004852294922, 259.5224609375, 145.28909301757812, 123.37455749511719, 264.6515197753906, 497.63458251953125, 116.56655883789062, 103.20059967041016, 98.9169692993164, 3237.034912109375, 99.16915130615234, 92.47838592529297, 127.34605407714844, 117.34711456298828, 83.94206237792969, 110.47591400146484, 83.97916412353516, 92.92398834228516, 70.7071762084961, 514.9913940429688, 87.9029769897461, 186.08963012695312, 940.9332885742188, 1505.9405517578125, 163.9517059326172, 195.76988220214844, 352.9768371582031, 204.97264099121094, 243.42340087890625, 344.1591491699219, 1008.1775512695312, 204.36895751953125, 165.45872497558594, 202.05064392089844, 212.97531127929688, 165.29591369628906, 165.94189453125, 1045.891357421875, 268.5695495605469, 279.4010314941406, 187.1437225341797, 176.29061889648438, 152.07293701171875, 275.90435791015625, 143.4655303955078, 142.65237426757812, 118.1886978149414, 110.36973571777344, 98.3580093383789, 105.9819107055664, 173.3172607421875, 983.785400390625, 84.88811492919922, 74.27328491210938, 252.9292755126953, 271.0010070800781, 70.11288452148438, 334.65313720703125, 177.5673828125, 54.79083251953125, 61.659515380859375, 53.069557189941406, 67.57691192626953, 68.75346374511719, 45.49519348144531, 70.20100402832031, 213.06735229492188, 69.79622650146484, 129.3863983154297, 167.8861846923828, 2113.256103515625, 103.30087280273438, 483.3778381347656, 172.3649444580078, 128.96409606933594, 251.46502685546875, 167.47267150878906, 291.9808044433594, 810.9550170898438, 202.33810424804688, 270.0858459472656, 190.7509765625, 371.90289306640625, 201.094970703125, 153.4052734375, 146.9496612548828, 532.2750244140625, 403.43182373046875, 80.76390838623047, 64.60610961914062, 68.17833709716797, 64.8937759399414, 67.07061004638672, 113.62100982666016, 47.73164367675781, 49.411197662353516, 45.02127456665039, 43.837005615234375, 22.18489646911621, 43.747825622558594, 41.62428283691406, 435.2963562011719, 18.07008171081543, 18.610937118530273, 24.135570526123047, 16.096132278442383, 13.663493156433105, 17.772401809692383, 14.339557647705078, 12.39742660522461, 14.020407676696777, 10.601386070251465, 11.474178314208984, 10.05390453338623, 9.901566505432129, 13.93519401550293, 41.56139373779297, 58.2786750793457, 34.2972297668457, 17.45051383972168, 460.62042236328125, 18.724912643432617, 41.034061431884766, 18.386180877685547, 44.57742691040039, 29.2163028717041, 28.970247268676758, 66.40396118164062, 24.230363845825195, 18.406883239746094, 1185.827392578125, 23.418697357177734, 24.064109802246094, 24.598201751708984, 22.232168197631836, 21.232513427734375, 26.608699798583984, 32.243316650390625, 15.105342864990234, 14.888540267944336, 15.35539722442627, 13.968399047851562, 20.763683319091797, 15.204313278198242, 12.26123046875, 11.746522903442383, 9.104392051696777, 18.2661190032959, 12.872926712036133, 8.352666854858398, 7.614748001098633, 8.929115295410156, 8.084538459777832, 12.244909286499023, 6.429851531982422, 39.51352310180664, 6.285489559173584, 9.057711601257324, 7.238932132720947, 6.755307197570801, 6.571511745452881, 106.11073303222656, 8.496275901794434, 24.348186492919922, 8.813185691833496, 13.182332992553711, 9.707440376281738, 10.702239990234375, 11.35942268371582, 10.48037338256836, 114.783203125, 83.5881576538086, 71.1585922241211, 51.936214447021484, 43.13237380981445, 43.9525260925293, 171.52487182617188, 24.780317306518555, 25.92338752746582, 23.663780212402344, 23.611351013183594, 22.100648880004883, 18.267972946166992, 17.365127563476562, 18.0898494720459, 16.897689819335938, 14.671339988708496, 22.187095642089844, 14.162066459655762, 13.305886268615723, 12.231653213500977, 12.561379432678223, 14.187292098999023, 13.941813468933105, 11.98119831085205, 11.24746322631836, 10.0234956741333, 15.310290336608887, 9.4380464553833, 8.161048889160156, 67.37202453613281, 12.774621963500977, 15.681523323059082, 13.058831214904785, 93.36691284179688, 46.32249450683594, 47.16449737548828, 23.521663665771484, 29.2047176361084, 24.112335205078125, 23.273189544677734, 20.8666934967041, 22.34691619873047, 20.448509216308594, 18.59588050842285, 16.0733585357666, 15.422309875488281, 16.6336727142334, 15.818912506103516, 10.276592254638672, 9.768253326416016, 14.061141014099121, 8.227375984191895, 11.699583053588867, 8.111592292785645, 6.133249759674072, 6.459796905517578, 5.287746906280518, 5.201035499572754, 5.178918361663818, 4.938817024230957, 5.285751819610596, 5.323196887969971, 4.965591907501221, 9.462297439575195, 45.30554962158203, 37.662628173828125, 38.04838562011719, 34.51783752441406, 21.873870849609375, 20.20709228515625, 12.96827507019043, 18.701202392578125, 10.682687759399414, 7.913985729217529, 7.131389141082764, 7.252336502075195, 8.074024200439453, 7.557178497314453, 7.389503479003906, 5.995408058166504, 5.535904407501221, 5.507559299468994, 5.0023722648620605, 5.838668346405029, 4.777955532073975, 5.155947208404541, 4.2427449226379395, 3.730147123336792, 3.790595293045044, 3.073765754699707, 3.113640069961548, 2.907910108566284, 2.416656970977783, 2.409029245376587, 5.075444221496582, 2.9535369873046875, 8.49365520477295, 4.682002544403076, 75.07575225830078, 31.206005096435547, 28.844104766845703, 22.292211532592773, 16.558122634887695, 11.551684379577637, 12.725442886352539, 11.498003005981445, 13.676429748535156, 10.631866455078125, 8.98738956451416, 7.192544937133789, 5.441945552825928, 5.885108470916748, 5.308355331420898, 5.778627395629883, 5.9244513511657715, 4.4605207443237305, 4.569303512573242, 3.5975165367126465, 3.201732635498047, 2.469038724899292, 2.4428558349609375, 2.366018772125244, 2.689127206802368, 2.1024527549743652, 2.333341121673584, 1.965572476387024, 1.7231855392456055, 1.6122605800628662, 1.6122605800628662, 1.6122605800628662, 1.78542160987854, 1.9285763502120972, 13.28885269165039, 3.892430067062378, 2.479156732559204, 2.1396148204803467, 17.53852081298828, 12.676885604858398, 11.872678756713867, 11.10647964477539, 11.520194053649902, 9.531368255615234, 9.694180488586426, 9.596924781799316, 8.91774845123291, 6.973360538482666, 6.461067199707031, 6.999271869659424, 6.324071407318115, 4.566580772399902, 4.49275541305542, 4.7442626953125, 4.23868989944458, 4.699015140533447, 3.3936524391174316, 3.4972410202026367, 3.2730085849761963, 3.699706554412842, 2.9459478855133057, 2.6915664672851562, 2.3861212730407715, 3.000915288925171, 2.6205739974975586, 2.4841091632843018, 2.1615164279937744, 2.393529176712036, 2.237999200820923, 3.050117015838623, 13.91585636138916, 13.365811347961426, 12.356038093566895, 11.253631591796875, 7.634926795959473, 5.1554131507873535, 4.933499813079834, 5.5376667976379395, 4.018714427947998, 4.352331161499023, 3.8428547382354736, 4.379903316497803, 4.525511264801025, 3.536830186843872, 3.2034554481506348, 3.2924609184265137, 2.6771748065948486, 2.7128567695617676, 2.5888426303863525, 2.5664544105529785, 2.381396770477295, 2.4236059188842773, 2.194683313369751, 2.1679022312164307, 1.9473145008087158, 1.9593819379806519, 1.8855137825012207, 2.5035905838012695, 1.7687814235687256, 1.6179965734481812, 1.6865801811218262, 1.6897425651550293], \"Term\": [\"flight\", \"jetblue\", \"americanair\", \"service\", \"southwestair\", \"thank\", \"http\", \"customer\", \"cancel\", \"usairways\", \"delay\", \"unite\", \"airline\", \"hours\", \"wait\", \"plane\", \"flightled\", \"help\", \"gate\", \"worst\", \"phone\", \"hour\", \"come\", \"work\", \"guy\", \"late\", \"know\", \"experience\", \"best\", \"time\", \"cancel\", \"delay\", \"flightled\", \"plane\", \"gate\", \"late\", \"hour\", \"minutes\", \"bag\", \"crew\", \"sit\", \"leave\", \"baggage\", \"flightr\", \"miss\", \"hours\", \"land\", \"connection\", \"hotel\", \"flight\", \"mins\", \"arrive\", \"rebooked\", \"give\", \"connect\", \"tonight\", \"suppose\", \"fail\", \"strand\", \"wait\", \"pilot\", \"board\", \"unite\", \"usairways\", \"luggage\", \"airport\", \"hold\", \"tomorrow\", \"tell\", \"time\", \"americanair\", \"seat\", \"weather\", \"need\", \"help\", \"today\", \"go\", \"southwestair\", \"guy\", \"work\", \"email\", \"number\", \"online\", \"know\", \"response\", \"answer\", \"reservation\", \"appreciate\", \"website\", \"miles\", \"look\", \"thank\", \"point\", \"receive\", \"ticket\", \"like\", \"money\", \"phone\", \"send\", \"message\", \"mean\", \"site\", \"status\", \"hear\", \"account\", \"awesome\", \"call\", \"person\", \"hang\", \"travel\", \"americanair\", \"follow\", \"help\", \"want\", \"love\", \"try\", \"fly\", \"need\", \"usairways\", \"change\", \"time\", \"book\", \"unite\", \"hold\", \"say\", \"check\", \"service\", \"customer\", \"rude\", \"fleet\", \"team\", \"fleek\", \"tweet\", \"experience\", \"amaze\", \"terrible\", \"pick\", \"poor\", \"relations\", \"horrible\", \"employees\", \"http\", \"excuse\", \"read\", \"human\", \"wall\", \"excellent\", \"country\", \"dfwairport\", \"ignore\", \"friendly\", \"street\", \"view\", \"battle\", \"appease\", \"disgust\", \"american\", \"care\", \"helpful\", \"train\", \"americanair\", \"share\", \"staff\", \"cust\", \"great\", \"customers\", \"passengers\", \"usairways\", \"agents\", \"awful\", \"jetblue\", \"https\", \"blue\", \"wish\", \"fare\", \"ready\", \"international\", \"possible\", \"news\", \"baby\", \"note\", \"page\", \"cabin\", \"checkin\", \"route\", \"include\", \"trueblue\", \"post\", \"friday\", \"mint\", \"jblu\", \"visit\", \"market\", \"austin\", \"flyingitforward\", \"airways\", \"flyfi\", \"profit\", \"school\", \"beach\", \"hook\", \"http\", \"lady\", \"love\", \"haha\", \"virginamerica\", \"share\", \"year\", \"great\", \"hang\", \"worst\", \"better\", \"airlines\", \"disappoint\", \"treat\", \"expect\", \"airline\", \"world\", \"word\", \"watch\", \"media\", \"ruin\", \"hand\", \"social\", \"storm\", \"control\", \"surprise\", \"complaint\", \"enjoy\", \"complaints\", \"child\", \"trust\", \"absolutely\", \"cross\", \"hire\", \"window\", \"oscars\", \"select\", \"finger\", \"travelers\", \"customers\", \"loyal\", \"american\", \"year\", \"come\", \"sorry\", \"stop\", \"terminal\", \"lack\", \"see\", \"joke\", \"club\", \"mess\", \"quick\", \"concern\", \"shit\", \"run\", \"friends\", \"bump\", \"admirals\", \"course\", \"itinerary\", \"deserve\", \"understaffing\", \"internet\", \"stewardess\", \"reserve\", \"bday\", \"gross\", \"truck\", \"perfect\", \"comp\", \"legroom\", \"premium\", \"food\", \"wasn\", \"chicago\", \"instead\", \"card\", \"carry\", \"upset\", \"lounge\", \"reps\", \"worth\", \"embarrass\", \"coat\", \"rule\", \"likely\", \"delivery\", \"elite\", \"wheel\", \"suit\", \"fast\", \"aware\", \"music\", \"fort\", \"simple\", \"coast\", \"zone\", \"golf\", \"shirt\", \"nicest\", \"blah\", \"pillow\", \"dang\", \"overhead\", \"weight\", \"credit\", \"force\", \"best\", \"vegas\", \"southwest\", \"drink\", \"accept\", \"order\", \"neveragain\", \"layover\", \"husband\", \"absolute\", \"special\", \"ones\", \"feet\", \"picture\", \"cheer\", \"couple\", \"solution\", \"moment\", \"reroute\", \"blow\", \"recommend\", \"white\", \"badge\", \"unexpected\", \"pair\", \"marie\", \"wine\", \"incentive\", \"superior\", \"patch\", \"xelbon\", \"emboss\", \"bind\", \"jokers\", \"virginamerica\", \"currently\", \"imaginedragons\", \"offer\", \"fuck\", \"safety\", \"flightd\", \"columbus\", \"door\", \"relate\", \"story\", \"domestic\", \"character\", \"funny\", \"avgeek\", \"video\", \"limit\", \"spring\", \"balance\", \"daily\", \"palm\", \"manager\", \"seek\", \"breakfast\", \"reagan\", \"fire\", \"national\", \"top\", \"golden\", \"crowd\", \"silence\", \"citizen\", \"performance\", \"ahhhh\", \"student\", \"austin\", \"water\", \"freeze\", \"serve\", \"funeral\", \"sister\", \"create\", \"certainly\", \"size\", \"star\", \"cell\", \"die\", \"fund\", \"cheap\", \"attend\", \"circle\", \"flytpa\", \"alliance\", \"love_dragonss\", \"table\", \"australia\", \"lauren\", \"crackers\", \"dragon\", \"tray\", \"philippines\", \"worker\", \"miracle\", \"bottle\", \"letsgo\", \"hubby\", \"pacific\", \"hat\"], \"Category\": [\"Default\", \"Default\", \"Default\", \"Default\", \"Default\", \"Default\", \"Default\", \"Default\", \"Default\", \"Default\", \"Default\", \"Default\", \"Default\", \"Default\", \"Default\", \"Default\", \"Default\", \"Default\", \"Default\", \"Default\", \"Default\", \"Default\", \"Default\", \"Default\", \"Default\", \"Default\", \"Default\", \"Default\", \"Default\", \"Default\", \"Topic1\", \"Topic1\", \"Topic1\", \"Topic1\", \"Topic1\", \"Topic1\", \"Topic1\", \"Topic1\", \"Topic1\", \"Topic1\", \"Topic1\", \"Topic1\", \"Topic1\", \"Topic1\", \"Topic1\", \"Topic1\", \"Topic1\", \"Topic1\", \"Topic1\", \"Topic1\", \"Topic1\", \"Topic1\", \"Topic1\", \"Topic1\", \"Topic1\", \"Topic1\", \"Topic1\", \"Topic1\", \"Topic1\", \"Topic1\", \"Topic1\", \"Topic1\", \"Topic1\", \"Topic1\", \"Topic1\", \"Topic1\", \"Topic1\", \"Topic1\", \"Topic1\", \"Topic1\", \"Topic1\", \"Topic1\", \"Topic1\", \"Topic1\", \"Topic1\", \"Topic1\", \"Topic1\", \"Topic2\", \"Topic2\", \"Topic2\", \"Topic2\", \"Topic2\", \"Topic2\", \"Topic2\", \"Topic2\", \"Topic2\", \"Topic2\", \"Topic2\", \"Topic2\", \"Topic2\", \"Topic2\", \"Topic2\", \"Topic2\", \"Topic2\", \"Topic2\", \"Topic2\", \"Topic2\", \"Topic2\", \"Topic2\", \"Topic2\", \"Topic2\", \"Topic2\", \"Topic2\", \"Topic2\", \"Topic2\", \"Topic2\", \"Topic2\", \"Topic2\", \"Topic2\", \"Topic2\", \"Topic2\", \"Topic2\", \"Topic2\", \"Topic2\", \"Topic2\", \"Topic2\", \"Topic2\", \"Topic2\", \"Topic2\", \"Topic2\", \"Topic2\", \"Topic2\", \"Topic2\", \"Topic2\", \"Topic2\", \"Topic2\", \"Topic3\", \"Topic3\", \"Topic3\", \"Topic3\", \"Topic3\", \"Topic3\", \"Topic3\", \"Topic3\", \"Topic3\", \"Topic3\", \"Topic3\", \"Topic3\", \"Topic3\", \"Topic3\", \"Topic3\", \"Topic3\", \"Topic3\", \"Topic3\", \"Topic3\", \"Topic3\", \"Topic3\", \"Topic3\", \"Topic3\", \"Topic3\", \"Topic3\", \"Topic3\", \"Topic3\", \"Topic3\", \"Topic3\", \"Topic3\", \"Topic3\", \"Topic3\", \"Topic3\", \"Topic3\", \"Topic3\", \"Topic3\", \"Topic3\", \"Topic3\", \"Topic3\", \"Topic3\", \"Topic3\", \"Topic3\", \"Topic3\", \"Topic3\", \"Topic4\", \"Topic4\", \"Topic4\", \"Topic4\", \"Topic4\", \"Topic4\", \"Topic4\", \"Topic4\", \"Topic4\", \"Topic4\", \"Topic4\", \"Topic4\", \"Topic4\", \"Topic4\", \"Topic4\", \"Topic4\", \"Topic4\", \"Topic4\", \"Topic4\", \"Topic4\", \"Topic4\", \"Topic4\", \"Topic4\", \"Topic4\", \"Topic4\", \"Topic4\", \"Topic4\", \"Topic4\", \"Topic4\", \"Topic4\", \"Topic4\", \"Topic4\", \"Topic4\", \"Topic4\", \"Topic4\", \"Topic4\", \"Topic4\", \"Topic4\", \"Topic4\", \"Topic4\", \"Topic5\", \"Topic5\", \"Topic5\", \"Topic5\", \"Topic5\", \"Topic5\", \"Topic5\", \"Topic5\", \"Topic5\", \"Topic5\", \"Topic5\", \"Topic5\", \"Topic5\", \"Topic5\", \"Topic5\", \"Topic5\", \"Topic5\", \"Topic5\", \"Topic5\", \"Topic5\", \"Topic5\", \"Topic5\", \"Topic5\", \"Topic5\", \"Topic5\", \"Topic5\", \"Topic5\", \"Topic5\", \"Topic5\", \"Topic5\", \"Topic5\", \"Topic5\", \"Topic5\", \"Topic5\", \"Topic6\", \"Topic6\", \"Topic6\", \"Topic6\", \"Topic6\", \"Topic6\", \"Topic6\", \"Topic6\", \"Topic6\", \"Topic6\", \"Topic6\", \"Topic6\", \"Topic6\", \"Topic6\", \"Topic6\", \"Topic6\", \"Topic6\", \"Topic6\", \"Topic6\", \"Topic6\", \"Topic6\", \"Topic6\", \"Topic6\", \"Topic6\", \"Topic6\", \"Topic6\", \"Topic6\", \"Topic6\", \"Topic6\", \"Topic6\", \"Topic6\", \"Topic7\", \"Topic7\", \"Topic7\", \"Topic7\", \"Topic7\", \"Topic7\", \"Topic7\", \"Topic7\", \"Topic7\", \"Topic7\", \"Topic7\", \"Topic7\", \"Topic7\", \"Topic7\", \"Topic7\", \"Topic7\", \"Topic7\", \"Topic7\", \"Topic7\", \"Topic7\", \"Topic7\", \"Topic7\", \"Topic7\", \"Topic7\", \"Topic7\", \"Topic7\", \"Topic7\", \"Topic7\", \"Topic7\", \"Topic7\", \"Topic7\", \"Topic7\", \"Topic7\", \"Topic7\", \"Topic8\", \"Topic8\", \"Topic8\", \"Topic8\", \"Topic8\", \"Topic8\", \"Topic8\", \"Topic8\", \"Topic8\", \"Topic8\", \"Topic8\", \"Topic8\", \"Topic8\", \"Topic8\", \"Topic8\", \"Topic8\", \"Topic8\", \"Topic8\", \"Topic8\", \"Topic8\", \"Topic8\", \"Topic8\", \"Topic8\", \"Topic8\", \"Topic8\", \"Topic8\", \"Topic8\", \"Topic8\", \"Topic8\", \"Topic8\", \"Topic8\", \"Topic8\", \"Topic8\", \"Topic8\", \"Topic8\", \"Topic8\", \"Topic8\", \"Topic8\", \"Topic9\", \"Topic9\", \"Topic9\", \"Topic9\", \"Topic9\", \"Topic9\", \"Topic9\", \"Topic9\", \"Topic9\", \"Topic9\", \"Topic9\", \"Topic9\", \"Topic9\", \"Topic9\", \"Topic9\", \"Topic9\", \"Topic9\", \"Topic9\", \"Topic9\", \"Topic9\", \"Topic9\", \"Topic9\", \"Topic9\", \"Topic9\", \"Topic9\", \"Topic9\", \"Topic9\", \"Topic9\", \"Topic9\", \"Topic9\", \"Topic9\", \"Topic9\", \"Topic10\", \"Topic10\", \"Topic10\", \"Topic10\", \"Topic10\", \"Topic10\", \"Topic10\", \"Topic10\", \"Topic10\", \"Topic10\", \"Topic10\", \"Topic10\", \"Topic10\", \"Topic10\", \"Topic10\", \"Topic10\", \"Topic10\", \"Topic10\", \"Topic10\", \"Topic10\", \"Topic10\", \"Topic10\", \"Topic10\", \"Topic10\", \"Topic10\", \"Topic10\", \"Topic10\", \"Topic10\", \"Topic10\", \"Topic10\", \"Topic10\", \"Topic10\"], \"logprob\": [30.0, 29.0, 28.0, 27.0, 26.0, 25.0, 24.0, 23.0, 22.0, 21.0, 20.0, 19.0, 18.0, 17.0, 16.0, 15.0, 14.0, 13.0, 12.0, 11.0, 10.0, 9.0, 8.0, 7.0, 6.0, 5.0, 4.0, 3.0, 2.0, 1.0, -3.750200033187866, -4.032899856567383, -4.478499889373779, -4.414299964904785, -4.595399856567383, -4.773799896240234, -4.650400161743164, -5.1255998611450195, -5.256999969482422, -5.340799808502197, -5.513800144195557, -4.922699928283691, -5.502799987792969, -5.666299819946289, -4.903200149536133, -4.271699905395508, -5.723100185394287, -5.844900131225586, -5.88730001449585, -2.399199962615967, -5.884699821472168, -5.954599857330322, -5.634699821472168, -5.716400146484375, -6.051400184631348, -5.776800155639648, -6.051000118255615, -5.94980001449585, -6.2230000495910645, -4.237400054931641, -6.005300045013428, -5.255300045013428, -3.634700059890747, -3.164400100708008, -5.381999969482422, -5.204599857330322, -4.615200042724609, -5.158699989318848, -4.986800193786621, -4.640500068664551, -3.565700054168701, -5.161600112915039, -5.372799873352051, -5.173099994659424, -5.1203999519348145, -5.373799800872803, -5.369900226593018, -3.384399890899658, -4.74399995803833, -4.704400062561035, -5.105199813842773, -5.164899826049805, -5.312699794769287, -4.7170000076293945, -5.370999813079834, -5.376699924468994, -5.564799785614014, -5.633200168609619, -5.7484002113342285, -5.673799991607666, -5.1819000244140625, -3.44569993019104, -5.895699977874756, -6.029300212860107, -4.803999900817871, -4.734899997711182, -6.086999893188477, -4.52400016784668, -5.157700061798096, -6.333499908447266, -6.215400218963623, -6.365499973297119, -6.123799800872803, -6.106500148773193, -6.519499778747559, -6.085700035095215, -4.975500106811523, -6.0914998054504395, -5.474299907684326, -5.213799953460693, -2.6810998916625977, -5.699399948120117, -4.156300067901611, -5.187399864196777, -5.477499961853027, -4.809800148010254, -5.21619987487793, -4.660399913787842, -3.6387999057769775, -5.027100086212158, -4.73829984664917, -5.086100101470947, -4.418399810791016, -5.033299922943115, -5.303999900817871, -5.3470001220703125, -2.9414000511169434, -3.218600034713745, -4.827099800109863, -5.050300121307373, -4.996500015258789, -5.04580020904541, -5.012800216674805, -4.4857001304626465, -5.353000164031982, -5.318399906158447, -5.411399841308594, -5.4380998611450195, -6.119200229644775, -5.440100193023682, -5.4899001121521, -3.1426000595092773, -6.3242998123168945, -6.2947998046875, -6.034900188446045, -6.440000057220459, -6.603899955749512, -6.34089994430542, -6.555600166320801, -6.701099872589111, -6.578100204467773, -6.857600212097168, -6.778500080108643, -6.910600185394287, -6.925899982452393, -6.584199905395508, -5.491399765014648, -5.153299808502197, -5.683499813079834, -6.3592000007629395, -3.0859999656677246, -6.288700103759766, -5.504199981689453, -6.307000160217285, -5.42140007019043, -5.843900203704834, -5.85230016708374, -5.022799968719482, -6.031000137329102, -6.3059000968933105, -1.9187999963760376, -5.843500137329102, -5.816299915313721, -5.794400215148926, -5.895500183105469, -5.941500186920166, -5.715799808502197, -5.52370023727417, -6.2820000648498535, -6.29640007019043, -6.265600204467773, -6.360199928283691, -5.963799953460693, -6.2754998207092285, -6.490600109100342, -6.5335001945495605, -6.788300037384033, -6.0920000076293945, -6.44189977645874, -6.874499797821045, -6.966899871826172, -6.807700157165527, -6.907100200653076, -6.4918999671936035, -7.136099815368652, -5.320400238037109, -7.15880012512207, -6.793399810791016, -7.017600059509277, -7.086699962615967, -7.114299774169922, -4.332499980926514, -6.857399940490723, -5.804599761962891, -6.820799827575684, -6.4182000160217285, -6.724100112915039, -6.6265997886657715, -6.566999912261963, -6.647500038146973, -4.009099960327148, -4.326200008392334, -4.487199783325195, -4.80210018157959, -4.987800121307373, -4.968999862670898, -3.6073999404907227, -5.542099952697754, -5.497000217437744, -5.588200092315674, -5.590400218963623, -5.656499862670898, -5.8470001220703125, -5.89769983291626, -5.856800079345703, -5.924900054931641, -6.066199779510498, -5.652599811553955, -6.101500034332275, -6.163899898529053, -6.2480998039245605, -6.221499919891357, -6.099800109863281, -6.117199897766113, -6.268799781799316, -6.331999778747559, -6.447199821472168, -6.023600101470947, -6.507400035858154, -6.652699947357178, -4.541900157928467, -6.204699993133545, -5.999599933624268, -6.182700157165527, -3.95169997215271, -4.652599811553955, -4.6346001625061035, -5.3302998542785645, -5.113900184631348, -5.305500030517578, -5.34089994430542, -5.450099945068359, -5.3815999031066895, -5.470300197601318, -5.565299987792969, -5.711100101470947, -5.752399921417236, -5.676799774169922, -5.7270002365112305, -6.158400058746338, -6.209099769592285, -5.844799995422363, -6.380799770355225, -6.02869987487793, -6.394999980926514, -6.674499988555908, -6.622600078582764, -6.82289981842041, -6.839399814605713, -6.843699932098389, -6.89109992980957, -6.823200225830078, -6.816199779510498, -6.885700225830078, -6.240900039672852, -4.595699787139893, -4.7804999351501465, -4.770299911499023, -4.867700099945068, -5.323800086975098, -5.40310001373291, -5.84660005569458, -5.480599880218506, -6.040500164031982, -6.3404998779296875, -6.4446001052856445, -6.427800178527832, -6.320499897003174, -6.386600017547607, -6.40910005569458, -6.618100166320801, -6.69789981842041, -6.703000068664551, -6.799200057983398, -6.644599914550781, -6.845099925994873, -6.769000053405762, -6.963900089263916, -7.092700004577637, -7.076600074768066, -7.286200046539307, -7.2733001708984375, -7.341700077056885, -7.526800155639648, -7.529900074005127, -6.7846999168396, -7.326099872589111, -6.269800186157227, -6.8653998374938965, -4.065299987792969, -4.94320011138916, -5.021900177001953, -5.279600143432617, -5.577000141143799, -5.936999797821045, -5.840199947357178, -5.941699981689453, -5.768199920654297, -6.019999980926514, -6.188000202178955, -6.410799980163574, -6.689700126647949, -6.611400127410889, -6.7144999504089355, -6.629700183868408, -6.604700088500977, -6.888599872589111, -6.864500045776367, -7.103600025177002, -7.220099925994873, -7.480000019073486, -7.490699768066406, -7.522600173950195, -7.394599914550781, -7.640699863433838, -7.536499977111816, -7.708000183105469, -7.839700222015381, -7.906199932098389, -7.906199932098389, -7.906199932098389, -7.804200172424316, -7.7270002365112305, -5.796899795532227, -7.024799823760986, -7.475900173187256, -7.623199939727783, -5.413099765777588, -5.73769998550415, -5.803299903869629, -5.869999885559082, -5.833399772644043, -6.022900104522705, -6.00600004196167, -6.01609992980957, -6.0894999504089355, -6.335400104522705, -6.4116997718811035, -6.331699848175049, -6.43310022354126, -6.758699893951416, -6.775000095367432, -6.720600128173828, -6.8333001136779785, -6.730199813842773, -7.055600166320801, -7.0254998207092285, -7.091800212860107, -6.969299793243408, -7.1971001625061035, -7.287399768829346, -7.407800197601318, -7.178599834442139, -7.3140997886657715, -7.367599964141846, -7.506700038909912, -7.404699802398682, -7.47189998626709, -7.162300109863281, -5.627200126647949, -5.667600154876709, -5.746099948883057, -5.839600086212158, -6.227499961853027, -6.620200157165527, -6.6641998291015625, -6.548699855804443, -6.86929988861084, -6.7895002365112305, -6.914000034332275, -6.783199787139893, -6.750500202178955, -6.997000217437744, -7.0960001945495605, -7.068600177764893, -7.2754998207092285, -7.26230001449585, -7.309000015258789, -7.317699909210205, -7.392600059509277, -7.375, -7.4741997718811035, -7.486499786376953, -7.593800067901611, -7.587600231170654, -7.626100063323975, -7.34250020980835, -7.690000057220459, -7.779099941253662, -7.737599849700928, -7.7357001304626465], \"Total\": [3381.0, 1193.0, 3586.0, 536.0, 1052.0, 1042.0, 546.0, 407.0, 842.0, 2387.0, 636.0, 1331.0, 193.0, 516.0, 549.0, 435.0, 408.0, 700.0, 364.0, 120.0, 359.0, 346.0, 98.0, 285.0, 273.0, 305.0, 285.0, 124.0, 79.0, 618.0, 842.6045532226562, 636.2308349609375, 408.8586730957031, 435.9859313964844, 364.5182800292969, 305.4921875, 346.32220458984375, 216.70619201660156, 190.82962036132812, 175.815673828125, 147.9390869140625, 267.77716064453125, 150.26463317871094, 127.68253326416016, 274.4271545410156, 516.9337768554688, 121.10470581054688, 107.31761932373047, 103.18450927734375, 3381.1689453125, 103.61013793945312, 96.76014709472656, 133.6460723876953, 123.4565200805664, 88.48646545410156, 116.80680084228516, 89.04537200927734, 98.90397644042969, 75.33824920654297, 549.2745361328125, 94.65875244140625, 208.6697540283203, 1331.7930908203125, 2387.33203125, 189.4419708251953, 247.48883056640625, 557.8771362304688, 277.70245361328125, 352.4107360839844, 618.2340698242188, 3586.49462890625, 334.1139831542969, 256.9818115234375, 498.1614074707031, 700.3153686523438, 292.758544921875, 302.4875793457031, 1052.018310546875, 273.80902099609375, 285.0739440917969, 191.57130432128906, 180.80967712402344, 156.82566833496094, 285.6461181640625, 148.57101440429688, 147.9925079345703, 122.963623046875, 114.87040710449219, 102.87919616699219, 111.18968963623047, 182.05482482910156, 1042.838134765625, 90.01067352294922, 78.96277618408203, 268.9043273925781, 290.3189697265625, 75.127685546875, 359.8746032714844, 191.24508666992188, 59.03922653198242, 66.90657806396484, 57.714969635009766, 73.58934783935547, 74.9659194946289, 49.700889587402344, 76.71222686767578, 233.74887084960938, 76.99996948242188, 145.62445068359375, 206.42486572265625, 3586.49462890625, 120.05579376220703, 700.3153686523438, 222.15333557128906, 158.22210693359375, 354.0714111328125, 228.1268310546875, 498.1614074707031, 2387.33203125, 321.0380554199219, 618.2340698242188, 341.96002197265625, 1331.7930908203125, 557.8771362304688, 270.1399230957031, 287.4885559082031, 536.8089599609375, 407.85321044921875, 85.50694274902344, 69.1188735961914, 72.98666381835938, 69.69239044189453, 72.08657836914062, 124.52764892578125, 52.91429138183594, 54.98257827758789, 50.91014862060547, 52.46806335449219, 26.829484939575195, 52.95130920410156, 52.19308853149414, 546.1912231445312, 22.812164306640625, 23.51451301574707, 30.786439895629883, 21.14226531982422, 18.061555862426758, 23.79183006286621, 19.476673126220703, 16.875944137573242, 19.31717300415039, 14.727668762207031, 16.055633544921875, 14.110905647277832, 13.969350814819336, 20.301542282104492, 61.7598876953125, 90.98029327392578, 60.91606140136719, 29.359926223754883, 3586.49462890625, 33.0659065246582, 123.62165069580078, 32.08567428588867, 192.4813690185547, 112.3512954711914, 125.62556457519531, 2387.33203125, 126.39935302734375, 38.19915008544922, 1193.881591796875, 27.604976654052734, 28.54631805419922, 29.406185150146484, 27.307538986206055, 26.590612411499023, 33.597923278808594, 40.79601287841797, 19.563661575317383, 19.69820213317871, 20.72459602355957, 18.875732421875, 28.38348388671875, 20.985403060913086, 17.349733352661133, 16.739622116088867, 13.38583755493164, 27.192485809326172, 19.165340423583984, 12.526535987854004, 11.61077880859375, 13.834506034851074, 12.798774719238281, 20.005596160888672, 10.512269020080566, 65.29320526123047, 10.428400039672852, 15.046134948730469, 12.121724128723145, 11.355331420898438, 11.08895492553711, 546.1912231445312, 16.096113204956055, 158.22210693359375, 20.989276885986328, 124.45701599121094, 33.0659065246582, 56.1325798034668, 192.4813690185547, 145.62445068359375, 120.90692138671875, 88.42822265625, 75.95092010498047, 57.03196716308594, 47.62646484375, 48.97594451904297, 193.06024169921875, 29.506616592407227, 30.912084579467773, 28.38823127746582, 28.61393165588379, 27.726234436035156, 23.350440979003906, 22.270214080810547, 23.4652156829834, 22.075294494628906, 19.23352813720703, 29.78867530822754, 19.17623519897461, 18.025087356567383, 16.828073501586914, 17.30821990966797, 19.636178970336914, 19.43926429748535, 16.787643432617188, 15.927416801452637, 14.260017395019531, 22.274953842163086, 13.736451148986816, 12.738648414611816, 112.3512954711914, 31.72490882873535, 61.7598876953125, 56.1325798034668, 98.56256866455078, 51.19878005981445, 53.21998977661133, 28.248287200927734, 35.159358978271484, 29.31146812438965, 28.416229248046875, 25.60396957397461, 27.690576553344727, 25.624509811401367, 23.50663185119629, 21.07697105407715, 20.29373550415039, 21.906160354614258, 22.01616859436035, 14.811838150024414, 14.363236427307129, 21.216886520385742, 12.696219444274902, 18.20078468322754, 12.708813667297363, 10.891483306884766, 11.912521362304688, 9.814358711242676, 9.751391410827637, 9.819891929626465, 9.576606750488281, 10.28718090057373, 10.410443305969238, 9.84065055847168, 56.81343460083008, 50.74068832397461, 42.60731506347656, 43.261329650878906, 39.3442497253418, 26.465368270874023, 25.261919021606445, 17.481767654418945, 26.448158264160156, 15.627305030822754, 12.698099136352539, 11.60641098022461, 11.96823787689209, 13.435502052307129, 12.692597389221191, 12.617792129516602, 10.458030700683594, 9.75240707397461, 10.116857528686523, 9.430563926696777, 11.088086128234863, 9.419168472290039, 10.498156547546387, 8.666486740112305, 8.209735870361328, 8.445618629455566, 7.313286304473877, 7.771744728088379, 7.699488639831543, 6.748767375946045, 6.78106164932251, 15.76858901977539, 9.591163635253906, 86.871337890625, 29.47295379638672, 79.77706146240234, 35.75774383544922, 33.56857681274414, 27.007030487060547, 21.64598274230957, 16.252840042114258, 18.017911911010742, 16.656375885009766, 19.825111389160156, 15.700228691101074, 13.521329879760742, 12.06865406036377, 10.062018394470215, 10.97160530090332, 9.906717300415039, 11.168278694152832, 11.536910057067871, 9.078328132629395, 9.540689468383789, 8.102109909057617, 7.9296159744262695, 6.935021877288818, 7.134261608123779, 6.988702774047852, 8.398077011108398, 6.7371368408203125, 7.491055965423584, 6.45762825012207, 5.903193473815918, 5.6947712898254395, 5.6947712898254395, 5.6947712898254395, 6.435857772827148, 7.081785202026367, 124.45701599121094, 29.431577682495117, 22.850343704223633, 88.8169174194336, 22.152061462402344, 17.207332611083984, 16.386455535888672, 15.988256454467773, 16.70889663696289, 14.0911226272583, 14.416830062866211, 14.608562469482422, 13.899333000183105, 11.490813255310059, 10.810599327087402, 11.7622709274292, 11.270186424255371, 9.006114959716797, 8.913090705871582, 9.875772476196289, 8.928319931030273, 10.104878425598145, 7.7642645835876465, 8.165144920349121, 7.846938133239746, 8.919532775878906, 7.204253196716309, 6.850718975067139, 6.589571475982666, 8.81374454498291, 7.7700347900390625, 7.611352443695068, 6.684115886688232, 7.462979793548584, 7.390644550323486, 20.005596160888672, 18.456722259521484, 18.572925567626953, 17.365787506103516, 16.224695205688477, 12.67322063446045, 9.97360610961914, 9.612565994262695, 10.810651779174805, 8.427653312683105, 9.39769172668457, 8.357675552368164, 9.926193237304688, 10.61575698852539, 8.499269485473633, 7.825272083282471, 8.165582656860352, 6.97205924987793, 7.18979024887085, 6.920106887817383, 6.946062088012695, 6.626319408416748, 6.95725679397583, 6.344381332397461, 6.417655944824219, 6.220918655395508, 6.328560829162598, 6.182375431060791, 8.703020095825195, 6.230530738830566, 6.333376884460449, 7.291501998901367, 10.99209976196289], \"loglift\": [30.0, 29.0, 28.0, 27.0, 26.0, 25.0, 24.0, 23.0, 22.0, 21.0, 20.0, 19.0, 18.0, 17.0, 16.0, 15.0, 14.0, 13.0, 12.0, 11.0, 10.0, 9.0, 8.0, 7.0, 6.0, 5.0, 4.0, 3.0, 2.0, 1.0, 1.1441999673843384, 1.1424000263214111, 1.1390000581741333, 1.1390000581741333, 1.1368000507354736, 1.13510000705719, 1.1331000328063965, 1.1267000436782837, 1.122499942779541, 1.1205999851226807, 1.1202000379562378, 1.1180000305175781, 1.1155999898910522, 1.1150000095367432, 1.1130000352859497, 1.111199975013733, 1.1110999584197998, 1.110200047492981, 1.1069999933242798, 1.1057000160217285, 1.1054999828338623, 1.1039999723434448, 1.1009999513626099, 1.0985000133514404, 1.09660005569458, 1.0936000347137451, 1.0907000303268433, 1.086899995803833, 1.085800051689148, 1.0848000049591064, 1.0751999616622925, 1.0348000526428223, 0.8019000291824341, 0.6884999871253967, 1.0047999620437622, 0.914900004863739, 0.6915000081062317, 0.8456000089645386, 0.7792999744415283, 0.5634999871253967, -0.11980000138282776, 0.6577000021934509, 0.7089999914169312, 0.24690000712871552, -0.041099999099969864, 0.5777000188827515, 0.5489000082015991, 1.2878999710083008, 1.2745000123977661, 1.2736999988555908, 1.270400047302246, 1.2684999704360962, 1.2630000114440918, 1.2590999603271484, 1.2588000297546387, 1.2569999694824219, 1.2541999816894531, 1.2538000345230103, 1.2488000392913818, 1.2458000183105469, 1.2446000576019287, 1.2354999780654907, 1.235200047492981, 1.2325999736785889, 1.2324999570846558, 1.2249000072479248, 1.2246999740600586, 1.2210999727249146, 1.219599962234497, 1.219099998474121, 1.2121000289916992, 1.2099000215530396, 1.2086000442504883, 1.2072999477386475, 1.205399990081787, 1.2051000595092773, 1.2010999917984009, 1.1956000328063965, 1.1756000518798828, 1.0871000289916992, 0.7648000121116638, 1.1434999704360962, 0.9230999946594238, 1.0399999618530273, 1.0893000364303589, 0.9516000151634216, 0.9847000241279602, 0.7595999836921692, 0.21410000324249268, 0.8321999907493591, 0.4657000005245209, 0.710099995136261, 0.01810000091791153, 0.2734000086784363, 0.7279000282287598, 0.6226999759674072, 2.4038000106811523, 2.401400089263916, 2.3552000522613525, 2.3447000980377197, 2.344099998474121, 2.34089994430542, 2.340100049972534, 2.3206000328063965, 2.3092000484466553, 2.3053998947143555, 2.289299964904785, 2.2325000762939453, 2.2221999168395996, 2.221299886703491, 2.186000108718872, 2.18530011177063, 2.1791999340057373, 2.1784000396728516, 2.1689000129699707, 2.1396000385284424, 2.13319993019104, 2.1205999851226807, 2.106100082397461, 2.1038999557495117, 2.0917999744415283, 2.0834999084472656, 2.0762999057769775, 2.0732998847961426, 2.0680999755859375, 2.0360000133514404, 2.016200065612793, 1.9668999910354614, 1.8378000259399414, 1.8919999599456787, 0.35989999771118164, 1.8436000347137451, 1.309399962425232, 1.8554999828338623, 0.9495000243186951, 1.0654000043869019, 0.9452000260353088, -1.1698999404907227, 0.7603999972343445, 1.6821999549865723, 2.627000093460083, 2.469399929046631, 2.4630000591278076, 2.4553000926971436, 2.4282000064849854, 2.408799886703491, 2.400599956512451, 2.3984999656677246, 2.375200033187866, 2.3538999557495117, 2.3340001106262207, 2.33270001411438, 2.321199893951416, 2.3115999698638916, 2.2867000102996826, 2.279599905014038, 2.2483999729156494, 2.2358999252319336, 2.23580002784729, 2.2284998893737793, 2.2119998931884766, 2.196000099182129, 2.1744000911712646, 2.142899990081787, 2.142199993133545, 2.1315999031066895, 2.127500057220459, 2.126300096511841, 2.118299961090088, 2.114500045776367, 2.110599994659424, 0.9952999949455261, 1.9948999881744385, 0.7623000144958496, 1.7661000490188599, 0.388700008392334, 1.4082000255584717, 0.9765999913215637, -0.19609999656677246, 0.002300000051036477, 2.8268001079559326, 2.8224000930786133, 2.8136000633239746, 2.785099983215332, 2.779599905014038, 2.7704999446868896, 2.760499954223633, 2.704200029373169, 2.702699899673462, 2.696700096130371, 2.6865999698638916, 2.6519999504089355, 2.6333000659942627, 2.6298999786376953, 2.6185998916625977, 2.6115000247955322, 2.6080000400543213, 2.5841000080108643, 2.5755999088287354, 2.575200080871582, 2.5597000122070312, 2.558199882507324, 2.5536999702453613, 2.546299934387207, 2.5413999557495117, 2.5308001041412354, 2.52620005607605, 2.5037999153137207, 2.5034000873565674, 2.433500051498413, 2.367300033569336, 1.969099998474121, 1.5080000162124634, 1.4205000400543213, 3.088399887084961, 3.0425000190734863, 3.0218000411987305, 2.9595000743865967, 2.9570000171661377, 2.9472999572753906, 2.9428999423980713, 2.937999963760376, 2.9282000064849854, 2.9170000553131104, 2.9082999229431152, 2.8715999126434326, 2.8680999279022217, 2.867300033569336, 2.812000036239624, 2.7769999504089355, 2.7571001052856445, 2.7311999797821045, 2.7088000774383545, 2.700700044631958, 2.6935999393463135, 2.5683000087738037, 2.530600070953369, 2.5241000652313232, 2.5139999389648438, 2.5027999877929688, 2.4804000854492188, 2.4767000675201416, 2.47189998626709, 2.4586000442504883, 1.350100040435791, 3.1084001064300537, 3.098400115966797, 3.0933001041412354, 3.0908000469207764, 3.0311999320983887, 2.9983999729156494, 2.923099994659424, 2.8750998973846436, 2.8413000106811523, 2.7488999366760254, 2.7346999645233154, 2.7207999229431152, 2.7125000953674316, 2.703200101852417, 2.6867001056671143, 2.665299892425537, 2.655400037765503, 2.613600015640259, 2.5876998901367188, 2.5803000926971436, 2.5429999828338623, 2.510699987411499, 2.507499933242798, 2.432800054550171, 2.420599937438965, 2.3548998832702637, 2.306999921798706, 2.247999906539917, 2.194700002670288, 2.186800003051758, 2.088099956512451, 2.0439000129699707, 0.8966000080108643, 1.3819999694824219, 3.186300039291382, 3.1108999252319336, 3.0952999591827393, 3.0552000999450684, 2.979099988937378, 2.905600070953369, 2.8993000984191895, 2.8763999938964844, 2.875699996948242, 2.8571999073028564, 2.838599920272827, 2.7295000553131104, 2.6324000358581543, 2.6240999698638916, 2.6231000423431396, 2.588099956512451, 2.5806000232696533, 2.536400079727173, 2.5107998847961426, 2.4351000785827637, 2.340100049972534, 2.2142999172210693, 2.175299882888794, 2.1638998985290527, 2.1082000732421875, 2.0824999809265137, 2.0806000232696533, 2.057499885559082, 2.015700101852417, 1.9851000308990479, 1.9851000308990479, 1.9851000308990479, 1.9648000001907349, 1.9463000297546387, 1.0099999904632568, 1.2239999771118164, 1.0260000228881836, -0.4788999855518341, 3.119800090789795, 3.047800064086914, 3.031100034713745, 2.989000082015991, 2.9814999103546143, 2.962399959564209, 2.9565000534057617, 2.933199882507324, 2.9094998836517334, 2.8538999557495117, 2.838599920272827, 2.8343000411987305, 2.7755000591278076, 2.6742000579833984, 2.668299913406372, 2.6201999187469482, 2.6084001064300537, 2.5876998901367188, 2.525700092315674, 2.5053999423980713, 2.4788999557495117, 2.473400115966797, 2.4591000080108643, 2.419100046157837, 2.3375000953674316, 2.275899887084961, 2.2664999961853027, 2.233599901199341, 2.224400043487549, 2.216200113296509, 2.1586999893188477, 1.472499966621399, 3.088200092315674, 3.041599988937378, 3.0302000045776367, 3.0048000812530518, 2.863800048828125, 2.710700035095215, 2.7035999298095703, 2.7016000747680664, 2.630000114440918, 2.600800037384033, 2.593600034713745, 2.5524001121520996, 2.5179998874664307, 2.493799924850464, 2.4774999618530273, 2.4623000621795654, 2.4133999347686768, 2.395900011062622, 2.387399911880493, 2.3749001026153564, 2.3471999168395996, 2.3160998821258545, 2.3090999126434326, 2.2853000164031982, 2.2091000080108643, 2.198199987411499, 2.1830999851226807, 2.1247000694274902, 2.1113998889923096, 2.00600004196167, 1.906599998474121, 1.4980000257492065]}, \"lambda.step\": 0.01, \"topic.order\": [8, 2, 6, 4, 1, 10, 5, 3, 7, 9], \"plot.opts\": {\"xlab\": \"PC1\", \"ylab\": \"PC2\"}, \"mdsDat\": {\"x\": [0.25968520547699103, 0.2289981387279992, -0.016730981270094966, -0.07425139506856308, -0.06893883904297392, -0.07040657909330175, -0.06579532467060108, -0.06581118243090942, -0.0635820080206534, -0.06316703460789291], \"topics\": [1, 2, 3, 4, 5, 6, 7, 8, 9, 10], \"Freq\": [31.686458587646484, 27.423011779785156, 8.96120834350586, 7.180383682250977, 5.620593547821045, 4.3170318603515625, 3.9886879920959473, 3.888993263244629, 3.496722459793091, 3.4369122982025146], \"cluster\": [1, 1, 1, 1, 1, 1, 1, 1, 1, 1], \"y\": [0.12243920824068609, -0.1330493353937395, -0.01408344840049296, -0.012478584979379363, 0.007642615345165573, 0.009784988632706038, 0.005802842907988589, 0.0035291270404287267, 0.005287713365402479, 0.005124873241234158]}};\n",
       "\n",
       "function LDAvis_load_lib(url, callback){\n",
       "  var s = document.createElement('script');\n",
       "  s.src = url;\n",
       "  s.async = true;\n",
       "  s.onreadystatechange = s.onload = callback;\n",
       "  s.onerror = function(){console.warn(\"failed to load library \" + url);};\n",
       "  document.getElementsByTagName(\"head\")[0].appendChild(s);\n",
       "}\n",
       "\n",
       "if(typeof(LDAvis) !== \"undefined\"){\n",
       "   // already loaded: just create the visualization\n",
       "   !function(LDAvis){\n",
       "       new LDAvis(\"#\" + \"ldavis_el100541398042362999841856479854\", ldavis_el100541398042362999841856479854_data);\n",
       "   }(LDAvis);\n",
       "}else if(typeof define === \"function\" && define.amd){\n",
       "   // require.js is available: use it to load d3/LDAvis\n",
       "   require.config({paths: {d3: \"https://cdnjs.cloudflare.com/ajax/libs/d3/3.5.5/d3.min\"}});\n",
       "   require([\"d3\"], function(d3){\n",
       "      window.d3 = d3;\n",
       "      LDAvis_load_lib(\"https://cdn.rawgit.com/bmabey/pyLDAvis/files/ldavis.v1.0.0.js\", function(){\n",
       "        new LDAvis(\"#\" + \"ldavis_el100541398042362999841856479854\", ldavis_el100541398042362999841856479854_data);\n",
       "      });\n",
       "    });\n",
       "}else{\n",
       "    // require.js not available: dynamically load d3 & LDAvis\n",
       "    LDAvis_load_lib(\"https://cdnjs.cloudflare.com/ajax/libs/d3/3.5.5/d3.min.js\", function(){\n",
       "         LDAvis_load_lib(\"https://cdn.rawgit.com/bmabey/pyLDAvis/files/ldavis.v1.0.0.js\", function(){\n",
       "                 new LDAvis(\"#\" + \"ldavis_el100541398042362999841856479854\", ldavis_el100541398042362999841856479854_data);\n",
       "            })\n",
       "         });\n",
       "}\n",
       "</script>"
      ],
      "text/plain": [
       "PreparedData(topic_coordinates=            Freq  cluster  topics         x         y\n",
       "topic                                                \n",
       "7      31.686459        1       1  0.259685  0.122439\n",
       "1      27.423012        1       2  0.228998 -0.133049\n",
       "5       8.961208        1       3 -0.016731 -0.014083\n",
       "3       7.180384        1       4 -0.074251 -0.012479\n",
       "0       5.620594        1       5 -0.068939  0.007643\n",
       "9       4.317032        1       6 -0.070407  0.009785\n",
       "4       3.988688        1       7 -0.065795  0.005803\n",
       "2       3.888993        1       8 -0.065811  0.003529\n",
       "6       3.496722        1       9 -0.063582  0.005288\n",
       "8       3.436912        1      10 -0.063167  0.005125, topic_info=     Category         Freq           Term        Total  loglift  logprob\n",
       "2887  Default  3381.000000         flight  3381.000000  30.0000  30.0000\n",
       "6284  Default  1193.000000        jetblue  1193.000000  29.0000  29.0000\n",
       "3956  Default  3586.000000    americanair  3586.000000  28.0000  28.0000\n",
       "1811  Default   536.000000        service   536.000000  27.0000  27.0000\n",
       "9224  Default  1052.000000   southwestair  1052.000000  26.0000  26.0000\n",
       "9442  Default  1042.000000          thank  1042.000000  25.0000  25.0000\n",
       "4396  Default   546.000000           http   546.000000  24.0000  24.0000\n",
       "1025  Default   407.000000       customer   407.000000  23.0000  23.0000\n",
       "7345  Default   842.000000         cancel   842.000000  22.0000  22.0000\n",
       "8001  Default  2387.000000      usairways  2387.000000  21.0000  21.0000\n",
       "5839  Default   636.000000          delay   636.000000  20.0000  20.0000\n",
       "3461  Default  1331.000000          unite  1331.000000  19.0000  19.0000\n",
       "4871  Default   193.000000        airline   193.000000  18.0000  18.0000\n",
       "8474  Default   516.000000          hours   516.000000  17.0000  17.0000\n",
       "6485  Default   549.000000           wait   549.000000  16.0000  16.0000\n",
       "3286  Default   435.000000          plane   435.000000  15.0000  15.0000\n",
       "6025  Default   408.000000      flightled   408.000000  14.0000  14.0000\n",
       "6074  Default   700.000000           help   700.000000  13.0000  13.0000\n",
       "8600  Default   364.000000           gate   364.000000  12.0000  12.0000\n",
       "3556  Default   120.000000          worst   120.000000  11.0000  11.0000\n",
       "318   Default   359.000000          phone   359.000000  10.0000  10.0000\n",
       "7485  Default   346.000000           hour   346.000000   9.0000   9.0000\n",
       "1307  Default    98.000000           come    98.000000   8.0000   8.0000\n",
       "873   Default   285.000000           work   285.000000   7.0000   7.0000\n",
       "6186  Default   273.000000            guy   273.000000   6.0000   6.0000\n",
       "5508  Default   305.000000           late   305.000000   5.0000   5.0000\n",
       "7667  Default   285.000000           know   285.000000   4.0000   4.0000\n",
       "2076  Default   124.000000     experience   124.000000   3.0000   3.0000\n",
       "2064  Default    79.000000           best    79.000000   2.0000   2.0000\n",
       "1411  Default   618.000000           time   618.000000   1.0000   1.0000\n",
       "...       ...          ...            ...          ...      ...      ...\n",
       "5642  Topic10    12.356038          serve    17.365788   3.0302  -5.7461\n",
       "2725  Topic10    11.253632        funeral    16.224695   3.0048  -5.8396\n",
       "2623  Topic10     7.634927         sister    12.673221   2.8638  -6.2275\n",
       "7481  Topic10     5.155413         create     9.973606   2.7107  -6.6202\n",
       "2679  Topic10     4.933500      certainly     9.612566   2.7036  -6.6642\n",
       "8204  Topic10     5.537667           size    10.810652   2.7016  -6.5487\n",
       "3332  Topic10     4.018714           star     8.427653   2.6300  -6.8693\n",
       "7759  Topic10     4.352331           cell     9.397692   2.6008  -6.7895\n",
       "5565  Topic10     3.842855            die     8.357676   2.5936  -6.9140\n",
       "3623  Topic10     4.379903           fund     9.926193   2.5524  -6.7832\n",
       "4969  Topic10     4.525511          cheap    10.615757   2.5180  -6.7505\n",
       "9398  Topic10     3.536830         attend     8.499269   2.4938  -6.9970\n",
       "7313  Topic10     3.203455         circle     7.825272   2.4775  -7.0960\n",
       "3952  Topic10     3.292461         flytpa     8.165583   2.4623  -7.0686\n",
       "2356  Topic10     2.677175       alliance     6.972059   2.4134  -7.2755\n",
       "8977  Topic10     2.712857  love_dragonss     7.189790   2.3959  -7.2623\n",
       "1727  Topic10     2.588843          table     6.920107   2.3874  -7.3090\n",
       "6794  Topic10     2.566454      australia     6.946062   2.3749  -7.3177\n",
       "1268  Topic10     2.381397         lauren     6.626319   2.3472  -7.3926\n",
       "7533  Topic10     2.423606       crackers     6.957257   2.3161  -7.3750\n",
       "5895  Topic10     2.194683         dragon     6.344381   2.3091  -7.4742\n",
       "7145  Topic10     2.167902           tray     6.417656   2.2853  -7.4865\n",
       "3632  Topic10     1.947315    philippines     6.220919   2.2091  -7.5938\n",
       "7833  Topic10     1.959382         worker     6.328561   2.1982  -7.5876\n",
       "8524  Topic10     1.885514        miracle     6.182375   2.1831  -7.6261\n",
       "3227  Topic10     2.503591         bottle     8.703020   2.1247  -7.3425\n",
       "8280  Topic10     1.768781         letsgo     6.230531   2.1114  -7.6900\n",
       "993   Topic10     1.617997          hubby     6.333377   2.0060  -7.7791\n",
       "3369  Topic10     1.686580        pacific     7.291502   1.9066  -7.7376\n",
       "7765  Topic10     1.689743            hat    10.992100   1.4980  -7.7357\n",
       "\n",
       "[411 rows x 6 columns], token_table=      Topic      Freq        Term\n",
       "term                             \n",
       "7390      1  0.063693    absolute\n",
       "7390      2  0.063693    absolute\n",
       "7390      3  0.063693    absolute\n",
       "7390      4  0.063693    absolute\n",
       "7390      5  0.063693    absolute\n",
       "7390      8  0.700627    absolute\n",
       "9445      1  0.050926  absolutely\n",
       "9445      2  0.050926  absolutely\n",
       "9445      3  0.050926  absolutely\n",
       "9445      4  0.050926  absolutely\n",
       "9445      5  0.712970  absolutely\n",
       "9445      6  0.050926  absolutely\n",
       "7879      1  0.046198      accept\n",
       "7879      2  0.046198      accept\n",
       "7879      3  0.046198      accept\n",
       "7879      4  0.046198      accept\n",
       "7879      8  0.785365      accept\n",
       "7099      1  0.020120     account\n",
       "7099      2  0.905416     account\n",
       "7099      3  0.020120     account\n",
       "7099      4  0.020120     account\n",
       "8681      1  0.067514    admirals\n",
       "8681      2  0.067514    admirals\n",
       "8681      3  0.067514    admirals\n",
       "8681      4  0.067514    admirals\n",
       "8681      6  0.675136    admirals\n",
       "3900      1  0.767409      agents\n",
       "3900      2  0.015823      agents\n",
       "3900      3  0.189874      agents\n",
       "3900      4  0.007911      agents\n",
       "...     ...       ...         ...\n",
       "7833      1  0.158014      worker\n",
       "7833      2  0.158014      worker\n",
       "7833      3  0.158014      worker\n",
       "7833     10  0.316028      worker\n",
       "672       1  0.033891       world\n",
       "672       2  0.033891       world\n",
       "672       3  0.033891       world\n",
       "672       4  0.033891       world\n",
       "672       5  0.847268       world\n",
       "3556      1  0.016542       worst\n",
       "3556      2  0.008271       worst\n",
       "3556      3  0.008271       worst\n",
       "3556      4  0.008271       worst\n",
       "3556      5  0.951145       worst\n",
       "4298      1  0.063991       worth\n",
       "4298      2  0.063991       worth\n",
       "4298      3  0.063991       worth\n",
       "4298      4  0.063991       worth\n",
       "4298      7  0.703896       worth\n",
       "3345      1  0.175600      xelbon\n",
       "3345      2  0.175600      xelbon\n",
       "3345      8  0.351199      xelbon\n",
       "1536      1  0.017815        year\n",
       "1536      2  0.498819        year\n",
       "1536      3  0.017815        year\n",
       "1536      4  0.195965        year\n",
       "1536      5  0.231595        year\n",
       "8495      1  0.121807        zone\n",
       "8495      2  0.121807        zone\n",
       "8495      7  0.487226        zone\n",
       "\n",
       "[1731 rows x 3 columns], R=30, lambda_step=0.01, plot_opts={'xlab': 'PC1', 'ylab': 'PC2'}, topic_order=[8, 2, 6, 4, 1, 10, 5, 3, 7, 9])"
      ]
     },
     "execution_count": 321,
     "metadata": {},
     "output_type": "execute_result"
    }
   ],
   "source": [
    "import pyLDAvis.gensim\n",
    "import pickle \n",
    "import pyLDAvis\n",
    "\n",
    "# Visualize the topics\n",
    "pyLDAvis.enable_notebook()\n",
    "LDAvis_prepared = pyLDAvis.gensim.prepare(lda_model, bow_corpus, dictionary)\n",
    "LDAvis_prepared"
   ]
  }
 ],
 "metadata": {
  "kernelspec": {
   "display_name": "Python 3",
   "language": "python",
   "name": "python3"
  },
  "language_info": {
   "codemirror_mode": {
    "name": "ipython",
    "version": 3
   },
   "file_extension": ".py",
   "mimetype": "text/x-python",
   "name": "python",
   "nbconvert_exporter": "python",
   "pygments_lexer": "ipython3",
   "version": "3.5.2"
  }
 },
 "nbformat": 4,
 "nbformat_minor": 4
}
